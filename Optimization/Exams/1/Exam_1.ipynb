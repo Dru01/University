{
 "cells": [
  {
   "cell_type": "markdown",
   "metadata": {},
   "source": [
    "# Curso de Optimización (DEMAT)\n",
    "## Parcial 1\n",
    "\n",
    "| Descripción:                         | Fechas               |\n",
    "|--------------------------------------|----------------------|\n",
    "| Fecha de publicación del documento:  | **Abril 6, 2022**    |\n",
    "| Hora de inicio:                      | **15:00**            |\n",
    "| Hora límite de entrega:              | **18:00**            |\n",
    "\n",
    "\n",
    "### Indicaciones\n",
    "\n",
    "Lea con cuidado los ejercicios.\n",
    "\n",
    "Puede usar las notas de clase y las tareas hechas para resolver el examen.\n",
    "\n",
    "Al final, entregue el notebook con sus respuestas, junto con los códigos que hagan falta para reproducir los resultados. Si es más de un archivo, genere un archivo ZIP que contenga el notebook y los scripts adicionales.\n",
    "\n",
    "A partir del notebook genere un archivo PDF con las respuestas y envíelo por separado \n",
    "antes de la hora límite.\n"
   ]
  },
  {
   "cell_type": "markdown",
   "metadata": {},
   "source": [
    "## Ejercicio 1. (3 puntos)\n",
    "\n",
    "Considere la función $f: \\mathbb{R}^2 \\rightarrow \\mathbb{R}$ \n",
    "definida como\n",
    "\n",
    "$$ f(\\mathbf{x}) = \\sum_{i=1}^n x_i^2  \n",
    "+ \\left(0.5 \\sum_{i=1}^n i x_i  \\right)^2\n",
    "+ \\left(0.5 \\sum_{i=1}^n i x_i  \\right)^4\n",
    "$$\n",
    "\n",
    "1. Para $n=2, 4, 8, 16, 32$, aplique el método de descenso máximo encontrar\n",
    "   un mínimo de la función $f$, usando como punto inicial \n",
    "   $$ \\mathbf{x}_0 = (5, -5, 5, -5, ..., 5, -5), $$\n",
    "   y una tolerancia $\\tau = \\epsilon_m^{1/3}$ para terminar el algoritmo\n",
    "   cuando $\\|\\nabla f(\\mathbf{x}_k)\\|<\\tau$.\n",
    "   \n",
    "- Para calcular el tamaño de paso $\\alpha_k$ use el algoritmo de backtracking.\n",
    "- Reporte el valor $n$, el punto $\\mathbf{x}_k$ que devuelve el algoritmo,\n",
    "  el valor de $k$, la magnitud $\\|\\nabla f(\\mathbf{x}_k)\\|$ y un mensaje\n",
    "  que indique si cumplió el criterio de convergencia del algoritmo.\n",
    "  \n",
    "2. Repita el paso ejercicio anterior usando el método de Newton,\n",
    "   con tamaño de paso $\\alpha_k=1$. \n",
    "   \n",
    "3. Escriba un comentario sobre el desempeño de estos métodos de optimización\n",
    "   cuando la dimensión $n$ aumenta.\n",
    "   \n",
    "> **Nota:** Puede calcular el gradiente y Hessiana de la función de \n",
    "> manera analítica o usar aproximaciones numéricas.\n",
    "   \n",
    "### Respuesta"
   ]
  },
  {
   "cell_type": "code",
   "execution_count": 2,
   "metadata": {},
   "outputs": [
    {
     "name": "stdout",
     "output_type": "stream",
     "text": [
      "Descenso Maximo\n",
      "El algoritmo  convergió en:\n",
      "k = 96, f_k = [3.51311074e-12], ||g_k|| = 5.622988232464398e-06, x_k = [-5.58817063e-07 -1.11763413e-06]\n",
      "Metodo de Newton\n",
      "El algoritmo convergió en:\n",
      "k = 6, ||g_k|| = 1.2340821762161328e-06, x_k = [-1.22644073e-07 -2.45288145e-07]\n",
      "Descenso Maximo\n",
      "El algoritmo  convergió en:\n",
      "k = 109, f_k = [8.22399289e-13], ||g_k|| = 5.287547023918995e-06, x_k = [6.25797109e-08 1.08864563e-07 1.76875893e-07]\n",
      "Metodo de Newton\n",
      "El algoritmo convergió en:\n",
      "k = 9, ||g_k|| = 2.192671097016217e-15, x_k = [-2.35487335e-17 -4.70970436e-17 -7.06459359e-17]\n",
      "Descenso Maximo\n",
      "El algoritmo  convergió en:\n",
      "k = 516, f_k = [1.55188892e-12], ||g_k|| = 5.969062690919521e-06, x_k = [ 4.26123078e-07 -4.12388148e-07  4.35279698e-07]\n",
      "Metodo de Newton\n",
      "El algoritmo convergió en:\n",
      "k = 10, ||g_k|| = 5.724916723983095e-06, x_k = [-3.85408023e-09 -7.70816045e-09 -1.15622407e-08]\n",
      "Descenso Maximo\n",
      "El algoritmo  convergió en:\n",
      "k = 3425, f_k = [1.5003685e-12], ||g_k|| = 5.956208100523528e-06, x_k = [ 3.06430417e-07 -3.00981347e-07  3.10063129e-07]\n",
      "Metodo de Newton\n",
      "El algoritmo convergió en:\n",
      "k = 12, ||g_k|| = 1.1183797212625905e-07, x_k = [-3.85533591e-12 -7.71067188e-12 -1.15660076e-11]\n",
      "Descenso Maximo\n",
      "El algoritmo  convergió en:\n",
      "k = 25221, f_k = [1.59010962e-12], ||g_k|| = 5.9646555207111725e-06, x_k = [ 2.23133911e-07 -2.22172529e-07  2.23774832e-07]\n",
      "Metodo de Newton\n",
      "El algoritmo convergió en:\n",
      "k = 14, ||g_k|| = 2.629880878761616e-10, x_k = [-4.29703431e-16 -8.59441070e-16 -1.28914395e-15]\n"
     ]
    }
   ],
   "source": [
    "import numpy as np\n",
    "from scipy.linalg import cho_solve, cho_factor\n",
    "\n",
    "def f(x):\n",
    "    return np.sum(x*x)+(0.5*(np.arange(1,x.shape[1]+1,1)@x.T))**2+(0.5*(np.arange(1,x.shape[1]+1,1)@x.T))**4\n",
    "\n",
    "def gf(x):\n",
    "    sum_ix_i = np.arange(1,x.shape[1]+1,1)@x.T\n",
    "    return np.array( 2*x+0.5*sum_ix_i*np.arange(1,x.shape[1]+1,1)+0.25*(sum_ix_i**3)*np.arange(1,x.shape[1]+1,1))\n",
    "\n",
    "def hes(x):\n",
    "    sum_ix_i = np.arange(1,x.shape[1]+1,1)@x.T\n",
    "    mat_i_j = np.repeat(np.array([np.arange(1,x.shape[1]+1,1)]),x.shape[1],axis=0)\n",
    "    return np.identity(x.shape[1])*2+(0.5+0.75*sum_ix_i**2)*mat_i_j*mat_i_j.T\n",
    "\n",
    "def backtracking(f, f_k, gf_k, x_k, p_k, alpha, ro, c):\n",
    "    while (f(x_k + alpha*p_k) > (f_k + c*alpha*gf_k@p_k.T)):\n",
    "        alpha = ro*alpha\n",
    "    return alpha \n",
    "\n",
    "def gradient_descent_backtracking(f, gf, x_0, alpha, ro, c, N, T):\n",
    "\n",
    "    x_k = x_0\n",
    "    k = 0\n",
    "    res = 0\n",
    "    while (k < N):\n",
    "        gf_k = gf(x_k)\n",
    "        if np.linalg.norm(gf_k) < T:\n",
    "            res = 1\n",
    "            break\n",
    "        p_k = -gf_k\n",
    "        a_k = backtracking(f, f(x_k), gf_k, x_k, p_k, alpha, ro, c)\n",
    "        x_k = x_k + a_k*p_k\n",
    "        k = k + 1\n",
    "\n",
    "    return x_k, f(x_k), gf(x_k), k, res\n",
    "\n",
    "def newthon_method(gf, Hf, x_0, N, T):\n",
    "\n",
    "    x_k = x_0\n",
    "    k = 0\n",
    "    res = 0\n",
    "    points = [x_0]\n",
    "    while (k < N):\n",
    "        gf_k = gf(x_k)\n",
    "        if np.linalg.norm(gf_k) < T:\n",
    "            res = 1\n",
    "            break\n",
    "        Hf_k = Hf(x_k)\n",
    "        try:\n",
    "            p_k = cho_solve(cho_factor(Hf_k), -gf_k.squeeze())\n",
    "        except:\n",
    "            break\n",
    "        x_k = x_k + p_k\n",
    "        points.append(x_k)\n",
    "        k = k + 1\n",
    "\n",
    "    points = np.array(points)\n",
    "    return points, gf(x_k), k, res\n",
    "\n",
    "def exercise(f, gf, x_0, N, T, ro):\n",
    "    print(\"Descenso Maximo\")\n",
    "    x_k, f_k, g_k, k, res = gradient_descent_backtracking(f, gf, x_0, 1, ro, 0.0001, N, T)\n",
    "    print(f\"El algoritmo \" + (\"no\" if res == 0 else \"\") + \" convergió en:\")\n",
    "    x_output = np.concatenate((x_k[0,:3], x_k[0,-min(3, len(x_k)-3):]if len(x_k) > 3 else []))\n",
    "    print(f\"k = {k}, f_k = {f_k}, ||g_k|| = {np.linalg.norm(g_k)}, x_k = {x_output}\")\n",
    "    return x_k\n",
    "\n",
    "def test(gf, Hf, x_0, N, T):\n",
    "    print(\"Metodo de Newton\")\n",
    "    points, g_k, k, res = newthon_method(gf, Hf, x_0, N, T)\n",
    "    print(f\"El algoritmo \" + (\"no \" if res == 0 else \"\") + \"convergió en:\")\n",
    "    x_k = points[-1]\n",
    "    x_output = np.concatenate((x_k[0,:3], x_k[0,-min(3, len(x_k)-3):]if len(x_k) > 3 else []))\n",
    "    print(f\"k = {k}, ||g_k|| = {np.linalg.norm(g_k)}, x_k = {x_output}\")\n",
    "\n",
    "n = [2,4,8,16,32]\n",
    "for n_i in n:\n",
    "    exercise(f, gf, np.array([np.repeat(-5,n_i)*np.power(np.repeat(-1,n_i),np.arange(1,n_i+1,1))]), 100000, np.finfo(float).eps**(1/3), 0.8)\n",
    "    test(gf, hes, np.array([np.repeat(-5,n_i)*np.power(np.repeat(-1,n_i),np.arange(1,n_i+1,1))]), 100000, np.finfo(float).eps**(1/3))"
   ]
  },
  {
   "cell_type": "markdown",
   "metadata": {},
   "source": [
    "## Ejercicio 2. (4 puntos)\n",
    "\n",
    "Ajustar el modelo \n",
    "\n",
    "$$ g(x; z_1, z_2, z_3, z_4)\n",
    "= z_1 - z_2\\exp(-\\exp(z_3+z_4\\log(x)))\n",
    "$$\n",
    "\n",
    "al conjunto de puntos $\\{(x_i, y_i)\\}$ que se muestran a continuación:"
   ]
  },
  {
   "cell_type": "code",
   "execution_count": 3,
   "metadata": {},
   "outputs": [
    {
     "data": {
      "text/plain": [
       "Text(0, 0.5, 'y')"
      ]
     },
     "execution_count": 3,
     "metadata": {},
     "output_type": "execute_result"
    },
    {
     "data": {
      "image/png": "[encoded data removed]",
      "text/plain": [
       "<Figure size 432x288 with 1 Axes>"
      ]
     },
     "metadata": {
      "needs_background": "light"
     },
     "output_type": "display_data"
    }
   ],
   "source": [
    "import matplotlib.pyplot as plt\n",
    "import numpy as np\n",
    "\n",
    "puntos = np.array([[ 9.0,  8.93],\n",
    "                   [14.0, 10.80],\n",
    "                   [21.0, 18.59],\n",
    "                   [28.0, 22.33],\n",
    "                   [42.0, 39.35],\n",
    "                   [57.0, 56.11],\n",
    "                   [63.0, 61.73],\n",
    "                   [70.0, 64.62],\n",
    "                   [79.0, 67.08]])\n",
    "\n",
    "plt.plot(puntos[:,0], puntos[:,1], 'r*')\n",
    "plt.xlabel('x')\n",
    "plt.ylabel('y')"
   ]
  },
  {
   "cell_type": "markdown",
   "metadata": {},
   "source": [
    "Considere los residuales \n",
    "\n",
    "$$ r_i(\\mathbf{z}) = r_i(z_1, z_2, z_3, z_4) = g(x_1; z_1, z_2, z_3, z_4) - y_i $$\n",
    "\n",
    "Calcule los parámetros $\\mathbf{z} = (z_1, z_2, z_3, z_4)$ resolviendo el problema\n",
    "de mínimos cuadrados \n",
    "\n",
    "$$ \\min_{z} \\; f(\\mathbf{z}) = \\frac{1}{2}\\sum_{i=1}^9 r_i^2(\\mathbf{z}). $$\n",
    "\n",
    "1. Aplique el método de Levenberg-Marquart partiendo del punto inicial\n",
    "   $\\mathbf{z}_0 = (75, 50.0, -5, 1.1)$, una tolerancia $\\tau=\\sqrt{\\epsilon_m}$ y $\\mu_{ref}=0.001$\n",
    "   (ver Tarea 7).\n",
    "   Reporte el punto $\\mathbf{z}_k$ que devuelve el algoritmo, el valor \n",
    "   $f(\\mathbf{z}_k)$, el número de iteraciones $k$ y la variable $res$ que indica\n",
    "   si el algoritmo terminó porque se cumplió la tolerancia dada.\n",
    "2. Grafique los datos y la curva del modelo usando los valores del punto inicial\n",
    "   $\\mathbf{z}_0$ y del punto $\\mathbf{z}_k$ que devuelve el algoritmo.\n",
    "3. En algunos casos puede ser complicado encontrar un buen punto inicial\n",
    "   para el algoritmo. Pruebe con  diferentes puntos iniciales generados \n",
    "   de manera aleatoria y conserve la mejor solución encontrada:\n",
    "   \n",
    "- Para $i=1, 2, ..., 25$, genere el punto inicial \n",
    "  $\\mathbf{z}_0 = (z_{0,1}, z_{0,2}, z_{0,3}, z_{0,4})$ \n",
    "  aleatoriamente, de modo que\n",
    "  \n",
    "$$ z_{0,1} \\in [50, 80], \\quad z_{0,2} \\in [50, 80], \n",
    "\\quad z_{0,3} \\in [-5, -10], \\quad  z_{0,4} \\in [1, 2] $$\n",
    "- Para cada punto inicial, ejecute el método de Levenberg-Marquart.\n",
    "- En cada iteración, imprima los valores\n",
    "\n",
    "$$i, \\quad \\mathbf{z}_{k_i}, \\quad  k_i,  \\quad  f(\\mathbf{z}_{k_i}), \\quad res$$\n",
    "\n",
    "- Defina $\\mathbf{z}_{min}$ como el punto $\\mathbf{z}_{k_i}$\n",
    "  en el que se obtuvo el menor valor de $f(\\mathbf{z})$ para $i=1,2,...25$,\n",
    "  y defina  $\\mathbf{z}_{ini}$ como el punto inicial $\\mathbf{z}_0$ con el cual \n",
    "  se obtuvo $\\mathbf{z}_{min}$.\n",
    "- Grafique los datos y la curva del modelo usando los valores del punto\n",
    "  $\\mathbf{z}_{ini}$ y los valores del mejor punto $\\mathbf{z}_{min}$.\n",
    "- Revisando los valores de $f(\\mathbf{z}_{k_i})$, escriba un comentario sobre \n",
    "  sobre si es fácil o no alcanzar el mejor valor $f(\\mathbf{z}_{min})$ o\n",
    "  que se mantengan los valores de los parámetros $z_1, z_2, z_3, z_4$\n",
    "  en los intervalos que se consideraron para dar los valores iniciales.\n",
    "  \n",
    "  \n",
    "> **Nota 1:** Debido a las exponenciales que aparecen en el modelo $g(x; \\mathbf{z})$\n",
    "> puede ocurrir un desbordamiento de los valores o en la solución del\n",
    "> sistema de ecuaciones, etc. Puede agregar el manejo de excepciones para\n",
    "> que no se interrumpa el ciclo que genera a los puntos $\\mathbf{z}_{k_i}$.\n",
    "> Como el objetivo es quedarse con el mejor punto, no importa si en  \n",
    "> algunos casos el algoritmo falla o se interrumpe por generarse una excepción.\n",
    "\n",
    "> **Nota 2:** Para generar un número aleatorio con distribución uniforme\n",
    "> en el intervalo $[a,b]$ puede usar $a + np.random.rand(1)*(b-a)$."
   ]
  },
  {
   "cell_type": "markdown",
   "metadata": {},
   "source": [
    "   \n",
    "\n",
    "### Respuesta"
   ]
  },
  {
   "cell_type": "code",
   "execution_count": 18,
   "metadata": {},
   "outputs": [
    {
     "name": "stdout",
     "output_type": "stream",
     "text": [
      "LevenbergMarquart\n",
      "El algoritmo  convergió en:\n",
      "k = 13, f_k = 1820.88939375, x_k = [  42.57625      33.64660572 -133.71595421]\n"
     ]
    },
    {
     "data": {
      "application/vnd.plotly.v1+json": {
       "config": {
        "plotlyServerURL": "https://plot.ly"
       },
       "data": [
        {
         "type": "scatter",
         "x": [
          2,
          2.8484848484848486,
          3.6969696969696972,
          4.545454545454545,
          5.3939393939393945,
          6.242424242424242,
          7.090909090909091,
          7.9393939393939394,
          8.787878787878789,
          9.636363636363637,
          10.484848484848484,
          11.333333333333334,
          12.181818181818182,
          13.030303030303031,
          13.878787878787879,
          14.727272727272728,
          15.575757575757576,
          16.424242424242422,
          17.272727272727273,
          18.12121212121212,
          18.96969696969697,
          19.81818181818182,
          20.666666666666668,
          21.515151515151516,
          22.363636363636363,
          23.21212121212121,
          24.060606060606062,
          24.90909090909091,
          25.757575757575758,
          26.606060606060606,
          27.454545454545457,
          28.303030303030305,
          29.151515151515152,
          30,
          30.848484848484848,
          31.6969696969697,
          32.54545454545455,
          33.39393939393939,
          34.24242424242424,
          35.09090909090909,
          35.93939393939394,
          36.78787878787879,
          37.63636363636364,
          38.484848484848484,
          39.333333333333336,
          40.18181818181818,
          41.03030303030303,
          41.87878787878788,
          42.72727272727273,
          43.57575757575758,
          44.42424242424242,
          45.27272727272727,
          46.121212121212125,
          46.96969696969697,
          47.81818181818182,
          48.66666666666667,
          49.515151515151516,
          50.36363636363637,
          51.21212121212121,
          52.06060606060606,
          52.909090909090914,
          53.75757575757576,
          54.60606060606061,
          55.45454545454545,
          56.303030303030305,
          57.151515151515156,
          58,
          58.84848484848485,
          59.696969696969695,
          60.54545454545455,
          61.3939393939394,
          62.24242424242424,
          63.09090909090909,
          63.93939393939394,
          64.78787878787878,
          65.63636363636364,
          66.48484848484848,
          67.33333333333333,
          68.18181818181819,
          69.03030303030303,
          69.87878787878788,
          70.72727272727273,
          71.57575757575758,
          72.42424242424242,
          73.27272727272728,
          74.12121212121212,
          74.96969696969697,
          75.81818181818183,
          76.66666666666667,
          77.51515151515152,
          78.36363636363636,
          79.21212121212122,
          80.06060606060606,
          80.9090909090909,
          81.75757575757576,
          82.60606060606061,
          83.45454545454545,
          84.30303030303031,
          85.15151515151516,
          86
         ],
         "y": [
          8.929644285543894,
          8.929644285543894,
          8.929644285543894,
          8.929644285543894,
          8.929644285543894,
          8.929644285544406,
          8.929644286160283,
          8.929644617502518,
          8.92973863204935,
          8.945564039531831,
          10.628173860151794,
          41.91768903510438,
          42.57625000106399,
          42.57625000106399,
          42.57625000106399,
          42.57625000106399,
          42.57625000106399,
          42.57625000106399,
          42.57625000106399,
          42.57625000106399,
          42.57625000106399,
          42.57625000106399,
          42.57625000106399,
          42.57625000106399,
          42.57625000106399,
          42.57625000106399,
          42.57625000106399,
          42.57625000106399,
          42.57625000106399,
          42.57625000106399,
          42.57625000106399,
          42.57625000106399,
          42.57625000106399,
          42.57625000106399,
          42.57625000106399,
          42.57625000106399,
          42.57625000106399,
          42.57625000106399,
          42.57625000106399,
          42.57625000106399,
          42.57625000106399,
          42.57625000106399,
          42.57625000106399,
          42.57625000106399,
          42.57625000106399,
          42.57625000106399,
          42.57625000106399,
          42.57625000106399,
          42.57625000106399,
          42.57625000106399,
          42.57625000106399,
          42.57625000106399,
          42.57625000106399,
          42.57625000106399,
          42.57625000106399,
          42.57625000106399,
          42.57625000106399,
          42.57625000106399,
          42.57625000106399,
          42.57625000106399,
          42.57625000106399,
          42.57625000106399,
          42.57625000106399,
          42.57625000106399,
          42.57625000106399,
          42.57625000106399,
          42.57625000106399,
          42.57625000106399,
          42.57625000106399,
          42.57625000106399,
          42.57625000106399,
          42.57625000106399,
          42.57625000106399,
          42.57625000106399,
          42.57625000106399,
          42.57625000106399,
          42.57625000106399,
          42.57625000106399,
          42.57625000106399,
          42.57625000106399,
          42.57625000106399,
          42.57625000106399,
          42.57625000106399,
          42.57625000106399,
          42.57625000106399,
          42.57625000106399,
          42.57625000106399,
          42.57625000106399,
          42.57625000106399,
          42.57625000106399,
          42.57625000106399,
          42.57625000106399,
          42.57625000106399,
          42.57625000106399,
          42.57625000106399,
          42.57625000106399,
          42.57625000106399,
          42.57625000106399,
          42.57625000106399,
          42.57625000106399
         ]
        },
        {
         "mode": "markers",
         "type": "scatter",
         "x": [
          9,
          14,
          21,
          28,
          42,
          57,
          63,
          70,
          79
         ],
         "y": [
          8.93,
          10.8,
          18.59,
          22.33,
          39.35,
          56.11,
          61.73,
          64.62,
          67.08
         ]
        }
       ],
       "layout": {
        "height": 500,
        "template": {
         "data": {
          "bar": [
           {
            "error_x": {
             "color": "rgb(36,36,36)"
            },
            "error_y": {
             "color": "rgb(36,36,36)"
            },
            "marker": {
             "line": {
              "color": "white",
              "width": 0.5
             },
             "pattern": {
              "fillmode": "overlay",
              "size": 10,
              "solidity": 0.2
             }
            },
            "type": "bar"
           }
          ],
          "barpolar": [
           {
            "marker": {
             "line": {
              "color": "white",
              "width": 0.5
             },
             "pattern": {
              "fillmode": "overlay",
              "size": 10,
              "solidity": 0.2
             }
            },
            "type": "barpolar"
           }
          ],
          "carpet": [
           {
            "aaxis": {
             "endlinecolor": "rgb(36,36,36)",
             "gridcolor": "white",
             "linecolor": "white",
             "minorgridcolor": "white",
             "startlinecolor": "rgb(36,36,36)"
            },
            "baxis": {
             "endlinecolor": "rgb(36,36,36)",
             "gridcolor": "white",
             "linecolor": "white",
             "minorgridcolor": "white",
             "startlinecolor": "rgb(36,36,36)"
            },
            "type": "carpet"
           }
          ],
          "choropleth": [
           {
            "colorbar": {
             "outlinewidth": 1,
             "tickcolor": "rgb(36,36,36)",
             "ticks": "outside"
            },
            "type": "choropleth"
           }
          ],
          "contour": [
           {
            "colorbar": {
             "outlinewidth": 1,
             "tickcolor": "rgb(36,36,36)",
             "ticks": "outside"
            },
            "colorscale": [
             [
              0,
              "#440154"
             ],
             [
              0.1111111111111111,
              "#482878"
             ],
             [
              0.2222222222222222,
              "#3e4989"
             ],
             [
              0.3333333333333333,
              "#31688e"
             ],
             [
              0.4444444444444444,
              "#26828e"
             ],
             [
              0.5555555555555556,
              "#1f9e89"
             ],
             [
              0.6666666666666666,
              "#35b779"
             ],
             [
              0.7777777777777778,
              "#6ece58"
             ],
             [
              0.8888888888888888,
              "#b5de2b"
             ],
             [
              1,
              "#fde725"
             ]
            ],
            "type": "contour"
           }
          ],
          "contourcarpet": [
           {
            "colorbar": {
             "outlinewidth": 1,
             "tickcolor": "rgb(36,36,36)",
             "ticks": "outside"
            },
            "type": "contourcarpet"
           }
          ],
          "heatmap": [
           {
            "colorbar": {
             "outlinewidth": 1,
             "tickcolor": "rgb(36,36,36)",
             "ticks": "outside"
            },
            "colorscale": [
             [
              0,
              "#440154"
             ],
             [
              0.1111111111111111,
              "#482878"
             ],
             [
              0.2222222222222222,
              "#3e4989"
             ],
             [
              0.3333333333333333,
              "#31688e"
             ],
             [
              0.4444444444444444,
              "#26828e"
             ],
             [
              0.5555555555555556,
              "#1f9e89"
             ],
             [
              0.6666666666666666,
              "#35b779"
             ],
             [
              0.7777777777777778,
              "#6ece58"
             ],
             [
              0.8888888888888888,
              "#b5de2b"
             ],
             [
              1,
              "#fde725"
             ]
            ],
            "type": "heatmap"
           }
          ],
          "heatmapgl": [
           {
            "colorbar": {
             "outlinewidth": 1,
             "tickcolor": "rgb(36,36,36)",
             "ticks": "outside"
            },
            "colorscale": [
             [
              0,
              "#440154"
             ],
             [
              0.1111111111111111,
              "#482878"
             ],
             [
              0.2222222222222222,
              "#3e4989"
             ],
             [
              0.3333333333333333,
              "#31688e"
             ],
             [
              0.4444444444444444,
              "#26828e"
             ],
             [
              0.5555555555555556,
              "#1f9e89"
             ],
             [
              0.6666666666666666,
              "#35b779"
             ],
             [
              0.7777777777777778,
              "#6ece58"
             ],
             [
              0.8888888888888888,
              "#b5de2b"
             ],
             [
              1,
              "#fde725"
             ]
            ],
            "type": "heatmapgl"
           }
          ],
          "histogram": [
           {
            "marker": {
             "line": {
              "color": "white",
              "width": 0.6
             }
            },
            "type": "histogram"
           }
          ],
          "histogram2d": [
           {
            "colorbar": {
             "outlinewidth": 1,
             "tickcolor": "rgb(36,36,36)",
             "ticks": "outside"
            },
            "colorscale": [
             [
              0,
              "#440154"
             ],
             [
              0.1111111111111111,
              "#482878"
             ],
             [
              0.2222222222222222,
              "#3e4989"
             ],
             [
              0.3333333333333333,
              "#31688e"
             ],
             [
              0.4444444444444444,
              "#26828e"
             ],
             [
              0.5555555555555556,
              "#1f9e89"
             ],
             [
              0.6666666666666666,
              "#35b779"
             ],
             [
              0.7777777777777778,
              "#6ece58"
             ],
             [
              0.8888888888888888,
              "#b5de2b"
             ],
             [
              1,
              "#fde725"
             ]
            ],
            "type": "histogram2d"
           }
          ],
          "histogram2dcontour": [
           {
            "colorbar": {
             "outlinewidth": 1,
             "tickcolor": "rgb(36,36,36)",
             "ticks": "outside"
            },
            "colorscale": [
             [
              0,
              "#440154"
             ],
             [
              0.1111111111111111,
              "#482878"
             ],
             [
              0.2222222222222222,
              "#3e4989"
             ],
             [
              0.3333333333333333,
              "#31688e"
             ],
             [
              0.4444444444444444,
              "#26828e"
             ],
             [
              0.5555555555555556,
              "#1f9e89"
             ],
             [
              0.6666666666666666,
              "#35b779"
             ],
             [
              0.7777777777777778,
              "#6ece58"
             ],
             [
              0.8888888888888888,
              "#b5de2b"
             ],
             [
              1,
              "#fde725"
             ]
            ],
            "type": "histogram2dcontour"
           }
          ],
          "mesh3d": [
           {
            "colorbar": {
             "outlinewidth": 1,
             "tickcolor": "rgb(36,36,36)",
             "ticks": "outside"
            },
            "type": "mesh3d"
           }
          ],
          "parcoords": [
           {
            "line": {
             "colorbar": {
              "outlinewidth": 1,
              "tickcolor": "rgb(36,36,36)",
              "ticks": "outside"
             }
            },
            "type": "parcoords"
           }
          ],
          "pie": [
           {
            "automargin": true,
            "type": "pie"
           }
          ],
          "scatter": [
           {
            "marker": {
             "colorbar": {
              "outlinewidth": 1,
              "tickcolor": "rgb(36,36,36)",
              "ticks": "outside"
             }
            },
            "type": "scatter"
           }
          ],
          "scatter3d": [
           {
            "line": {
             "colorbar": {
              "outlinewidth": 1,
              "tickcolor": "rgb(36,36,36)",
              "ticks": "outside"
             }
            },
            "marker": {
             "colorbar": {
              "outlinewidth": 1,
              "tickcolor": "rgb(36,36,36)",
              "ticks": "outside"
             }
            },
            "type": "scatter3d"
           }
          ],
          "scattercarpet": [
           {
            "marker": {
             "colorbar": {
              "outlinewidth": 1,
              "tickcolor": "rgb(36,36,36)",
              "ticks": "outside"
             }
            },
            "type": "scattercarpet"
           }
          ],
          "scattergeo": [
           {
            "marker": {
             "colorbar": {
              "outlinewidth": 1,
              "tickcolor": "rgb(36,36,36)",
              "ticks": "outside"
             }
            },
            "type": "scattergeo"
           }
          ],
          "scattergl": [
           {
            "marker": {
             "colorbar": {
              "outlinewidth": 1,
              "tickcolor": "rgb(36,36,36)",
              "ticks": "outside"
             }
            },
            "type": "scattergl"
           }
          ],
          "scattermapbox": [
           {
            "marker": {
             "colorbar": {
              "outlinewidth": 1,
              "tickcolor": "rgb(36,36,36)",
              "ticks": "outside"
             }
            },
            "type": "scattermapbox"
           }
          ],
          "scatterpolar": [
           {
            "marker": {
             "colorbar": {
              "outlinewidth": 1,
              "tickcolor": "rgb(36,36,36)",
              "ticks": "outside"
             }
            },
            "type": "scatterpolar"
           }
          ],
          "scatterpolargl": [
           {
            "marker": {
             "colorbar": {
              "outlinewidth": 1,
              "tickcolor": "rgb(36,36,36)",
              "ticks": "outside"
             }
            },
            "type": "scatterpolargl"
           }
          ],
          "scatterternary": [
           {
            "marker": {
             "colorbar": {
              "outlinewidth": 1,
              "tickcolor": "rgb(36,36,36)",
              "ticks": "outside"
             }
            },
            "type": "scatterternary"
           }
          ],
          "surface": [
           {
            "colorbar": {
             "outlinewidth": 1,
             "tickcolor": "rgb(36,36,36)",
             "ticks": "outside"
            },
            "colorscale": [
             [
              0,
              "#440154"
             ],
             [
              0.1111111111111111,
              "#482878"
             ],
             [
              0.2222222222222222,
              "#3e4989"
             ],
             [
              0.3333333333333333,
              "#31688e"
             ],
             [
              0.4444444444444444,
              "#26828e"
             ],
             [
              0.5555555555555556,
              "#1f9e89"
             ],
             [
              0.6666666666666666,
              "#35b779"
             ],
             [
              0.7777777777777778,
              "#6ece58"
             ],
             [
              0.8888888888888888,
              "#b5de2b"
             ],
             [
              1,
              "#fde725"
             ]
            ],
            "type": "surface"
           }
          ],
          "table": [
           {
            "cells": {
             "fill": {
              "color": "rgb(237,237,237)"
             },
             "line": {
              "color": "white"
             }
            },
            "header": {
             "fill": {
              "color": "rgb(217,217,217)"
             },
             "line": {
              "color": "white"
             }
            },
            "type": "table"
           }
          ]
         },
         "layout": {
          "annotationdefaults": {
           "arrowhead": 0,
           "arrowwidth": 1
          },
          "autotypenumbers": "strict",
          "coloraxis": {
           "colorbar": {
            "outlinewidth": 1,
            "tickcolor": "rgb(36,36,36)",
            "ticks": "outside"
           }
          },
          "colorscale": {
           "diverging": [
            [
             0,
             "rgb(103,0,31)"
            ],
            [
             0.1,
             "rgb(178,24,43)"
            ],
            [
             0.2,
             "rgb(214,96,77)"
            ],
            [
             0.3,
             "rgb(244,165,130)"
            ],
            [
             0.4,
             "rgb(253,219,199)"
            ],
            [
             0.5,
             "rgb(247,247,247)"
            ],
            [
             0.6,
             "rgb(209,229,240)"
            ],
            [
             0.7,
             "rgb(146,197,222)"
            ],
            [
             0.8,
             "rgb(67,147,195)"
            ],
            [
             0.9,
             "rgb(33,102,172)"
            ],
            [
             1,
             "rgb(5,48,97)"
            ]
           ],
           "sequential": [
            [
             0,
             "#440154"
            ],
            [
             0.1111111111111111,
             "#482878"
            ],
            [
             0.2222222222222222,
             "#3e4989"
            ],
            [
             0.3333333333333333,
             "#31688e"
            ],
            [
             0.4444444444444444,
             "#26828e"
            ],
            [
             0.5555555555555556,
             "#1f9e89"
            ],
            [
             0.6666666666666666,
             "#35b779"
            ],
            [
             0.7777777777777778,
             "#6ece58"
            ],
            [
             0.8888888888888888,
             "#b5de2b"
            ],
            [
             1,
             "#fde725"
            ]
           ],
           "sequentialminus": [
            [
             0,
             "#440154"
            ],
            [
             0.1111111111111111,
             "#482878"
            ],
            [
             0.2222222222222222,
             "#3e4989"
            ],
            [
             0.3333333333333333,
             "#31688e"
            ],
            [
             0.4444444444444444,
             "#26828e"
            ],
            [
             0.5555555555555556,
             "#1f9e89"
            ],
            [
             0.6666666666666666,
             "#35b779"
            ],
            [
             0.7777777777777778,
             "#6ece58"
            ],
            [
             0.8888888888888888,
             "#b5de2b"
            ],
            [
             1,
             "#fde725"
            ]
           ]
          },
          "colorway": [
           "#1F77B4",
           "#FF7F0E",
           "#2CA02C",
           "#D62728",
           "#9467BD",
           "#8C564B",
           "#E377C2",
           "#7F7F7F",
           "#BCBD22",
           "#17BECF"
          ],
          "font": {
           "color": "rgb(36,36,36)"
          },
          "geo": {
           "bgcolor": "white",
           "lakecolor": "white",
           "landcolor": "white",
           "showlakes": true,
           "showland": true,
           "subunitcolor": "white"
          },
          "hoverlabel": {
           "align": "left"
          },
          "hovermode": "closest",
          "mapbox": {
           "style": "light"
          },
          "paper_bgcolor": "white",
          "plot_bgcolor": "white",
          "polar": {
           "angularaxis": {
            "gridcolor": "rgb(232,232,232)",
            "linecolor": "rgb(36,36,36)",
            "showgrid": false,
            "showline": true,
            "ticks": "outside"
           },
           "bgcolor": "white",
           "radialaxis": {
            "gridcolor": "rgb(232,232,232)",
            "linecolor": "rgb(36,36,36)",
            "showgrid": false,
            "showline": true,
            "ticks": "outside"
           }
          },
          "scene": {
           "xaxis": {
            "backgroundcolor": "white",
            "gridcolor": "rgb(232,232,232)",
            "gridwidth": 2,
            "linecolor": "rgb(36,36,36)",
            "showbackground": true,
            "showgrid": false,
            "showline": true,
            "ticks": "outside",
            "zeroline": false,
            "zerolinecolor": "rgb(36,36,36)"
           },
           "yaxis": {
            "backgroundcolor": "white",
            "gridcolor": "rgb(232,232,232)",
            "gridwidth": 2,
            "linecolor": "rgb(36,36,36)",
            "showbackground": true,
            "showgrid": false,
            "showline": true,
            "ticks": "outside",
            "zeroline": false,
            "zerolinecolor": "rgb(36,36,36)"
           },
           "zaxis": {
            "backgroundcolor": "white",
            "gridcolor": "rgb(232,232,232)",
            "gridwidth": 2,
            "linecolor": "rgb(36,36,36)",
            "showbackground": true,
            "showgrid": false,
            "showline": true,
            "ticks": "outside",
            "zeroline": false,
            "zerolinecolor": "rgb(36,36,36)"
           }
          },
          "shapedefaults": {
           "fillcolor": "black",
           "line": {
            "width": 0
           },
           "opacity": 0.3
          },
          "ternary": {
           "aaxis": {
            "gridcolor": "rgb(232,232,232)",
            "linecolor": "rgb(36,36,36)",
            "showgrid": false,
            "showline": true,
            "ticks": "outside"
           },
           "baxis": {
            "gridcolor": "rgb(232,232,232)",
            "linecolor": "rgb(36,36,36)",
            "showgrid": false,
            "showline": true,
            "ticks": "outside"
           },
           "bgcolor": "white",
           "caxis": {
            "gridcolor": "rgb(232,232,232)",
            "linecolor": "rgb(36,36,36)",
            "showgrid": false,
            "showline": true,
            "ticks": "outside"
           }
          },
          "title": {
           "x": 0.05
          },
          "xaxis": {
           "automargin": true,
           "gridcolor": "rgb(232,232,232)",
           "linecolor": "rgb(36,36,36)",
           "showgrid": false,
           "showline": true,
           "ticks": "outside",
           "title": {
            "standoff": 15
           },
           "zeroline": false,
           "zerolinecolor": "rgb(36,36,36)"
          },
          "yaxis": {
           "automargin": true,
           "gridcolor": "rgb(232,232,232)",
           "linecolor": "rgb(36,36,36)",
           "showgrid": false,
           "showline": true,
           "ticks": "outside",
           "title": {
            "standoff": 15
           },
           "zeroline": false,
           "zerolinecolor": "rgb(36,36,36)"
          }
         }
        },
        "width": 500
       }
      }
     },
     "metadata": {},
     "output_type": "display_data"
    }
   ],
   "source": [
    "import plotly.graph_objects as go\n",
    "import itertools\n",
    "\n",
    "def R(z, pts):\n",
    "    return z[0,0] - z[0,1] * np.exp(- np.exp(z[0,2] + z[0,3] * np.log(pts[:, 0]))) - pts[:,1]\n",
    "\n",
    "def J(z, pts):\n",
    "    x = pts[:, 0]\n",
    "    lx = np.log(x)\n",
    "    n = pts.shape[0]\n",
    "    return np.array(\n",
    "        [\n",
    "            np.ones(n),\n",
    "            -np.exp( - np.exp(z[0,2] + z[0,3] * lx)),\n",
    "            z[0,1]* np.exp( - np.exp(z[0,2] + z[0,3] * lx) + z[0,2] + z[0,3]*lx),\n",
    "            z[0,1] * lx * np.exp( - np.exp(z[0,2] + z[0,3] * lx) + z[0,2] + z[0,3]*lx)\n",
    "        ]\n",
    "    ).T\n",
    "\n",
    "def LevenbergMarquart(R, J, zk, mu_0, N, T):\n",
    "    res = 0\n",
    "    Rk = R(zk)\n",
    "    Jk = J(zk)\n",
    "    fk = Rk.T @ Rk / 2\n",
    "    A = Jk.T @ Jk\n",
    "    g = Jk.T @ Rk\n",
    "    mu = min(mu_0, np.amax(np.diag(A)))\n",
    "    k = 0\n",
    "\n",
    "    while (k < N):\n",
    "        pk = np.linalg.solve( A + mu * np.identity(A.shape[0]), -g )\n",
    "        if np.linalg.norm(pk) < T:\n",
    "            res = 1\n",
    "            break\n",
    "            \n",
    "        zk = zk + pk\n",
    "        Rk = R(zk)\n",
    "        f_an = fk\n",
    "        fk = Rk.T @ Rk / 2\n",
    "        \n",
    "        rho = (f_an - fk) / (-pk.T@g + 0.5*mu * pk.T @ pk)\n",
    "        \n",
    "        if rho < 0.25:\n",
    "            mu = 2 * mu\n",
    "        elif rho > 0.75:\n",
    "            mu = mu/3\n",
    "        \n",
    "        Jk = J(zk)\n",
    "        A = Jk.T @ Jk\n",
    "        g = Jk.T @ Rk\n",
    "        k = k + 1\n",
    "    return zk, fk, k, res\n",
    "\n",
    "def test(R, J, z_0, pts, mu_0, N, T):\n",
    "    print(\"LevenbergMarquart\")\n",
    "    z_k, f_k, k, res = LevenbergMarquart(lambda x : R(x,puntos), lambda x : J(x,puntos), z_0, mu_0, N, T)\n",
    "    print(f\"El algoritmo \" + (\"no\" if res == 0 else \"\") + \" convergió en:\")\n",
    "    z_output = np.concatenate((z_k[0,:3], z_k[0,-min(3, len(z_k)-3):]if len(z_k) > 3 else []))\n",
    "    print(f\"k = {k}, f_k = {f_k}, x_k = {z_output}\")\n",
    "    \n",
    "    p = 100\n",
    "    xtl = np.min(pts[:,0])\n",
    "    xtr = np.max(pts[:,0])\n",
    "    x = np.linspace(xtl, xtr, 100).T\n",
    "    y = np.zeros((100,1))\n",
    "    fig = go.Figure()\n",
    "    xtl, xtr = xtl - (xtr - xtl)/10, xtr + (xtr - xtl)/10\n",
    "    x = np.linspace(xtl,xtr,p)\n",
    "    fig.add_trace(\n",
    "        go.Scatter(\n",
    "            x=x,\n",
    "            y=R(z_k, np.column_stack((x, y))),\n",
    "        )\n",
    "    )\n",
    "    fig.add_trace(\n",
    "        go.Scatter(\n",
    "            x=pts[:,0],\n",
    "            y=pts[:,1],\n",
    "            mode=\"markers\"\n",
    "        )\n",
    "    )\n",
    "    fig.update_layout(\n",
    "        template=\"simple_white\",\n",
    "        width=500,\n",
    "        height=500\n",
    "    )\n",
    "    fig.show()\n",
    "\n",
    "# Test 1\n",
    "z_0 = np.array([[75, 50, -5, 1.1]])\n",
    "mu_0 = 0.001\n",
    "N = 1000 \n",
    "T = np.finfo(float).eps**(1/2)\n",
    "test(R, J, z_0, puntos, mu_0, N, T)"
   ]
  },
  {
   "cell_type": "markdown",
   "metadata": {},
   "source": [
    "_\n",
    "\n",
    "```\n",
    "\n",
    "\n",
    "\n",
    "\n",
    "\n",
    "\n",
    "\n",
    "```\n",
    "\n",
    "---"
   ]
  },
  {
   "cell_type": "markdown",
   "metadata": {},
   "source": [
    "## Ejercicio 3 (3 puntos)\n",
    "\n",
    "Queremos encontrar una solución del problema de optimización con\n",
    "restricciones \n",
    "\n",
    "$$ \\min_{x_1,x_2} f(x_1,x_2) = 2(x_1^2 + x_2^2 - 1) - x_1 $$\n",
    "\n",
    "sujeto a que el punto $(x_1,x_2)$ esté sobre el círculo unitario, es decir,\n",
    "\n",
    "$$ x_1^2 + x_2^2 - 1 = 0.$$\n",
    "\n",
    "Una manera de hallar una aproximación  es convertir este problema\n",
    "de optimización sin restricciones. Un enfoque es el de penalización cuadrática\n",
    "en el cual se construye la función \n",
    "\n",
    "$$ Q(x_1, x_2; \\mu) = f(x_1,x_2) + \\frac{\\mu}{2} g(x_1, x_2),$$\n",
    "\n",
    "donde $g(x_1, x_2) = (x_1^2 + x_2^2 - 1)^2$ es el cuadrado de la restricción\n",
    "que queremos que se cumpla.\n",
    "\n",
    "La idea es:\n",
    "\n",
    "1. Dar un punto inicial $\\mathbf{x}_0 =(10, 8)$ y un valor \n",
    "   del parámetro $\\mu_0= 1$.\n",
    "2. Para $r=0, 1, 2, 3$:\n",
    "\n",
    "- Calcular el mínimo de la función $Q(\\mathbf{x}; \\mu_r)$ \n",
    "  usando el punto inicial $\\mathbf{x}_0$\n",
    "- Imprimir $\\mu_r$, el óptimo $\\mathbf{x}_k$ que devuelve el algoritmo,\n",
    "  los valores $Q(\\mathbf{x}_k; \\mu_k)$,  $f(\\mathbf{x}_k)$ y\n",
    "  $g(\\mathbf{x}_k)$\n",
    "- Hacer $\\mu_{r+1} = 10\\mu_r$ y $\\mathbf{x}_0=\\mathbf{x}_k$.  \n",
    "\n",
    "El último punto $\\mathbf{x}_k$ generado debería ser una aproximación\n",
    "de la solución del problema original porque  $Q(\\mathbf{x}; \\mu_r)= f(\\mathbf{x})$\n",
    "si $\\mathbf{x}$ cumple la restricción. Si no, \n",
    "$Q(\\mathbf{x}; \\mu_r)> f(\\mathbf{x})$ y el valor de $Q$ aumenta conforme\n",
    "aumenta el valor de $\\mu_r$. De este modo, al ir incrementando \n",
    "gradualmente el valor $\\mu$, se penaliza cada vez más a los puntos que \n",
    "no satisfacen la restricción y eso hace que en cada iteración $r$\n",
    "se obtenga un punto que está más cerca de cumplir la restricción. \n",
    "\n",
    "Note que en cada iteración $r$, se usa como punto inicial para el\n",
    "algoritmo de optimización el punto que se obtuvo en la iteración\n",
    "anterior. Esto ayuda a que los óptimos que se obtienen en cada iteración\n",
    "gradualmente se vayan cumpliendo la restricción.\n",
    "\n",
    "### Respuesta"
   ]
  },
  {
   "cell_type": "code",
   "execution_count": 5,
   "metadata": {},
   "outputs": [
    {
     "name": "stdout",
     "output_type": "stream",
     "text": [
      "Descenso Maximo\n",
      "El algoritmo  convergió en:\n",
      "k = 336, f_k = -1.7280643278037209, ||g_k|| = 5.909128043102285e-06, x_k = [4.23855719e-01 1.64574741e-96]\n",
      "Valores:  mu_k = 1 x_k = [[4.23855719e-01 1.64574741e-96]] Q(x_k, mu_k) = -1.7280643278037209 f(x_k) = -2.0645483780002962 g(x_k) = 0.6729681003931507\n",
      "Descenso Maximo\n",
      "El algoritmo  convergió en:\n",
      "k = 193, f_k = -1.1095412580698891, ||g_k|| = 5.78859576982893e-06, x_k = [9.24176673e-001 2.56151489e-101]\n",
      "Valores:  mu_k = 10 x_k = [[9.24176673e-001 2.56151489e-101]] Q(x_k, mu_k) = -1.1095412580698891 f(x_k) = -1.215971627472681 g(x_k) = 0.021286073880558365\n",
      "Descenso Maximo\n",
      "El algoritmo  convergió en:\n",
      "k = 105, f_k = -1.0112217338041594, ||g_k|| = 5.413375138374477e-06, x_k = [9.92490734e-001 1.66717127e-101]\n",
      "Valores:  mu_k = 100 x_k = [[9.92490734e-001 1.66717127e-101]] Q(x_k, mu_k) = -1.0112217338041594 f(x_k) = -1.0224150189462633 g(x_k) = 0.000223865702842079\n",
      "Descenso Maximo\n",
      "El algoritmo  convergió en:\n",
      "k = 33, f_k = -1.001124718609316, ||g_k|| = 3.853997801783748e-06, x_k = [9.99249907e-001 1.65618606e-101]\n",
      "Valores:  mu_k = 1000 x_k = [[9.99249907e-001 1.65618606e-101]] Q(x_k, mu_k) = -1.001124718609316 f(x_k) = -1.0022491527959945 g(x_k) = 2.2488683733569576e-06\n"
     ]
    }
   ],
   "source": [
    "def Q(x, mu):\n",
    "    return (2*(x[0,0]**2+x[0,1]**2-1)-x[0,0]) + (mu/2)*(x[0,0]**2+x[0,1]**2-1)**2\n",
    "\n",
    "def dQ(x, mu):\n",
    "    return np.array(\n",
    "        [\n",
    "            (4*(x[0,0])-1) + 2*(mu)*(x[0,0]**2+x[0,1]**2-1)*(x[0,0]),\n",
    "            (4*(x[0,1])) + 2*(mu)*(x[0,0]**2+x[0,1]**2-1)*(x[0,1])\n",
    "        ]\n",
    "    )\n",
    "\n",
    "def solve(x_0, mu_0, r):\n",
    "    mu_k = mu_0\n",
    "    x_k = x_0\n",
    "    for r_i in r:\n",
    "        x_k = exercise(lambda x : Q(x, mu_k), lambda x : dQ(x, mu_k), x_k, 100000, np.finfo(float).eps**(1/3), 0.8)\n",
    "        print(\"Valores: \", f\"mu_k = {mu_k}\", f\"x_k = {x_k}\", f\"Q(x_k, mu_k) = {Q(x_k, mu_k)}\", f\"f(x_k) = {(2*(x_k[0,0]**2+x_k[0,1]**2-1)-x_k[0,0])}\", f\"g(x_k) = {(x_k[0,0]**2+x_k[0,1]**2-1)**2}\")\n",
    "        mu_k = 10*mu_k\n",
    "\n",
    "r = [0,1,2,3]\n",
    "x_0 = np.array([[10,8]])\n",
    "solve(x_0, 1, r)\n"
   ]
  },
  {
   "cell_type": "code",
   "execution_count": null,
   "metadata": {},
   "outputs": [],
   "source": []
  }
 ],
 "metadata": {
  "kernelspec": {
   "display_name": "Python 3",
   "language": "python",
   "name": "python3"
  },
  "language_info": {
   "codemirror_mode": {
    "name": "ipython",
    "version": 3
   },
   "file_extension": ".py",
   "mimetype": "text/x-python",
   "name": "python",
   "nbconvert_exporter": "python",
   "pygments_lexer": "ipython3",
   "version": "3.10.2"
  }
 },
 "nbformat": 4,
 "nbformat_minor": 4
}
