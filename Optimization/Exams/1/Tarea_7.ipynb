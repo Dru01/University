{
  "cells": [
    {
      "cell_type": "markdown",
      "metadata": {
        "id": "f1UD6FcK12Ur"
      },
      "source": [
        "# Curso de Optimización (DEMAT)\n",
        "## Tarea 7\n",
        "\n",
        "| Descripción:                         | Fechas               |\n",
        "|--------------------------------------|----------------------|\n",
        "| Fecha de publicación del documento:  | **Marzo 19, 2022**   |\n",
        "| Fecha límite de entrega de la tarea: | **Marzo 27, 2022**   |\n",
        "\n",
        "\n",
        "### Indicaciones\n",
        "\n",
        "- Envie el notebook que contenga los códigos y las pruebas realizadas de cada ejercicio.\n",
        "- Si se requiren algunos scripts adicionales para poder reproducir las pruebas,\n",
        "  agreguelos en un ZIP junto con el notebook.\n",
        "- Genere un PDF del notebook y envielo por separado.\n"
      ]
    },
    {
      "cell_type": "markdown",
      "metadata": {
        "id": "fFUEbGO812Uw"
      },
      "source": [
        "---\n",
        "\n",
        "## Ejercicio 1 (5 puntos)\n",
        "\n",
        "Programar el método de Gauss-Newton para resolver el problema de mínimos cuadrados no lineales\n",
        "\n",
        "$$ \\min_x  f(z) = \\frac{1}{2} \\sum_{j=1}^m r_j^2(z), $$\n",
        "       \n",
        "donde $r_j: \\mathbb{R}^n \\rightarrow \\mathbb{R}$ para $j=1,...,m$.\n",
        "Si definimos la función $R: \\mathbb{R}^n \\rightarrow \\mathbb{R}^m$ como\n",
        "\n",
        "$$ R(z) = \\left( \\begin{array}{c}\n",
        "            r_{1}(z) \\\\\n",
        "            \\vdots \\\\\n",
        "            r_{m}(z) \\\\\n",
        "        \\end{array} \\right),\n",
        "$$\n",
        "\n",
        "entonces\n",
        "\n",
        "$$ min_z  f(z) = \\frac{1}{2} R(z)^\\top R(z). $$\n",
        "\n",
        "---\n",
        "\n",
        "Dar la función de residuales $R(z)$,\n",
        "la función Jacobiana $J(z)$, un  punto inicial $z_0$, un número máximo de \n",
        "iteraciones $N$, y una tolerancia $\\tau>0$.\n",
        "\n",
        "1. Hacer $res=0$.\n",
        "\n",
        "2. Para $k = 0, 1, ..., N$:\n",
        "\n",
        "- Calcular $R_k = R(z_k)$\n",
        "- Calcular $J_{k} = J(z_k)$\n",
        "- Calcular la dirección de descenso $p_k$ resolviendo el sistema\n",
        "\n",
        "$$  J_{k}^\\top J_{k} p_k = -J_{k}^\\top R_{k} $$\n",
        "\n",
        "- Si $\\|p_k\\|<\\tau$, hacer $res=1$ y terminar el ciclo\n",
        "- Hacer $z_{k+1} = z_k +  p_k$.\n",
        "\n",
        "3. Devolver $z_k, R_k,  k, \\|p_k\\|$ y $res$.\n",
        "\n",
        "---\n",
        "\n",
        "1. Escriba una función que implementa el algoritmo anterior \n",
        "   usando arreglos de Numpy. \n",
        "   \n",
        "2. Leer el archivo **puntos2D_1.npy**\n",
        "   que contiene una matriz con dos columnas. \n",
        "   La primer columna tiene los valores $x_1, x_2, ..., x_m$ y en la segunda\n",
        "   columna los valores $y_1, y_2, ..., y_m$, de modo que cada par \n",
        "   $(x_i, y_i)$ es un dato. \n",
        "   Queremos ajustar al conjunto de puntos $(x_i, y_i)$ el modelo \n",
        "   \n",
        "   $$  A \\sin(w x + \\phi)$$\n",
        "   \n",
        "   por lo que la función $R(\\mathbf{z})=R(A, w, \\phi)$ \n",
        "   está formada por los residuales \n",
        "   \n",
        "   $$ r_i(z) = r_i(A, w, \\phi) = A \\sin(w x_i + \\phi) - y_i $$\n",
        "   \n",
        "   para $i=1,2,...,m$.\n",
        "   \n",
        "   Programe la función $R(\\mathbf{z})$ con $\\mathbf{z} = (A, w, \\phi)$ \n",
        "   y su Jacobiana $J(\\mathbf{z})$.\n",
        "   \n",
        "   **Nota:** Puede programar estas funciones de la forma ``funcion(z, paramf)``,\n",
        "   donde ``paramf`` corresponda a la matriz que tiene los puntos $(x_i,y_i)$.\n",
        "   También puede pasar el arreglo ``paramf`` como arumento del algoritmo para\n",
        "   que pueda evaluar las funciones.\n",
        "   \n",
        "3. Use el algoritmo con estas funciones $R(\\mathbf{z})$ y $J(\\mathbf{z})$, el punto inicial \n",
        "   $\\mathbf{z}_0  = (15, 0.6, 0)$ (esto es $A_0=15$, $w_0=0.6$ y $\\phi_0=0$), un número\n",
        "   máximo de iteraciones $N=5000$ y una tolerancia $\\tau =\\sqrt{\\epsilon_m}$\n",
        "   donde $\\epsilon_m$ es el épsilon máquina.\n",
        "\n",
        "* Imprima el valor inicial $f(\\mathbf{z}_0) =  \\frac{1}{2} R(\\mathbf{z}_0)^\\top R(\\mathbf{z}_0)$.\n",
        "* Ejecute el algoritmo e imprima un mensaje que indique si el algoritmo \n",
        "  converge dependiendo de la variable $res$.\n",
        "* Imprima $\\mathbf{z}_k$, $f(\\mathbf{z}_k) =  \\frac{1}{2} R(\\mathbf{z}_k)^\\top R(\\mathbf{z}_k)$,\n",
        "  la norma $\\|p_k\\|$, y el número de iteraciones $k$ realizadas.\n",
        "\n",
        "4. Genere una gráfica que muestre a los puntos $(x_i, y_i)$ y la\n",
        "   gráfica del modelo  $z_k[0] \\sin(z_k[1] x + z_k[2])$, evaluando\n",
        "   esta función en el intervalo\n",
        "   \n",
        "$$x \\in [\\min x_i, \\max x_i]$$\n",
        "\n",
        "5. De la gr\\'afica de los datos, e interpretando el parámetro $A$ como la amplitud\n",
        "   de la onda, se ve que  $A_0=15$ es una buena inicialización para este paramétro.\n",
        "   Para los otros parámetros también debe se debería usar su interpretación para dar \n",
        "   buenos valores iniciales. Repita las pruebas con los puntos iniciales\n",
        "   $\\mathbf{z}_0  = (15, 1, 0)$  y $\\mathbf{z}_0  = (15, 0.6, 1.6)$.\n",
        "\n",
        "### Solución:"
      ]
    },
    {
      "cell_type": "code",
      "execution_count": 35,
      "metadata": {
        "id": "wOB4jKJV12Uz"
      },
      "outputs": [],
      "source": [
        "# En esta celda puede poner el código de las funciones\n",
        "# o poner la instrucción para importarlas de un archivo .py\n",
        "import numpy as np\n",
        "import itertools\n",
        "import plotly.graph_objects as go\n",
        "\n",
        "def Gauss_Newton(R, J, z_0, N, T):\n",
        "  res = 0\n",
        "  k = 0\n",
        "  z_k = z_0\n",
        "  while k < N:\n",
        "    R_k = R(z_k)\n",
        "    J_k = J(z_k)\n",
        "    print(z_k, J_k.shape, R_k.shape)\n",
        "    p_k = np.linalg.solve(J_k@J_k.T,-J_k@R_k)\n",
        "    if np.linalg.norm(p_k) < T:\n",
        "      res = 1\n",
        "      break\n",
        "    z_k = z_k + p_k\n",
        "    k = k + 1\n",
        "  return z_k, R_k, k, np.linalg.norm(p_k), res\n",
        "  \n",
        "def solve(file_name, z_0, N, T, p):\n",
        "  points = np.load(file_name)\n",
        "  R = lambda z : np.array([z[0]*np.sin(z[1]*points[:,0]+z[2])-points[:,1]])\n",
        "  J = lambda z : np.array(list(zip(np.sin(z[1]*points[:,0]+z[2]), z[0]*z[1]*np.sin(z[1]*points[:,0]+z[2]), z[0]*np.sin(z[1]*points[:,0]+z[2]))))\n",
        "  f = lambda z : 1/2*(R(z)@R(z).T)\n",
        "  print(f(z_0))\n",
        "  z_k, R_k, p_k_norm, k, res = Gauss_Newton(R, J, z_0, N, T)\n",
        "  print(f\"El algoritmo \" + (\"no \" if res == 0 else \"\") + \"convergió en:\")\n",
        "  print(z_k, f(z_k), p_k_norm, k)\n",
        "  fig = go.Figure()\n",
        "  xtl = min(points[:,0])\n",
        "  xtr = max(points[:,0])\n",
        "  ytl = min(points[:,1])\n",
        "  ytr = max(points[:,1])\n",
        "  xtl, xtr = xtl - (xtr - xtl)/10, xtr + (xtr - xtl)/10\n",
        "  ytl, ytr = ytl - (ytr - ytl)/10, ytr + (ytr - ytl)/10\n",
        "  x = np.linspace(xtl,xtr,p)\n",
        "  y = np.linspace(ytl,ytr,p)\n",
        "  fig.add_contour(\n",
        "      x=x,\n",
        "      y=y,\n",
        "      z=np.array([f(np.array([[x_i,y_i]])) for y_i, x_i in itertools.product(y,x)]).reshape(p,p),\n",
        "      name='Rosenbrock'\n",
        "  )\n",
        "  fig.add_trace(\n",
        "      go.Scatter(\n",
        "          x = points[:,0],\n",
        "          y = points[:,1],\n",
        "          name='Newton'\n",
        "      )\n",
        "  )\n",
        "  fig.update_layout(\n",
        "      template=\"simple_white\",\n",
        "      title=\"Rosenbrock\",\n",
        "      width=500,\n",
        "      height=500\n",
        "  )\n",
        "  fig.show()\n"
      ]
    },
    {
      "cell_type": "code",
      "execution_count": 36,
      "metadata": {
        "id": "-XxUFYvm12U1"
      },
      "outputs": [
        {
          "name": "stdout",
          "output_type": "stream",
          "text": [
            "[[45454.05280979]]\n",
            "(15, 0.6, 0) (400, 3) (1, 400)\n"
          ]
        },
        {
          "ename": "ValueError",
          "evalue": "matmul: Input operand 1 has a mismatch in its core dimension 0, with gufunc signature (n?,k),(k,m?)->(n?,m?) (size 1 is different from 3)",
          "output_type": "error",
          "traceback": [
            "\u001b[1;31m---------------------------------------------------------------------------\u001b[0m",
            "\u001b[1;31mValueError\u001b[0m                                Traceback (most recent call last)",
            "\u001b[1;32mc:\\Users\\batma\\OneDrive\\Documents\\Academic\\School\\University\\Optimization\\Homework\\7\\Tarea 7.ipynb Cell 4'\u001b[0m in \u001b[0;36m<module>\u001b[1;34m\u001b[0m\n\u001b[0;32m      <a href='vscode-notebook-cell:/c%3A/Users/batma/OneDrive/Documents/Academic/School/University/Optimization/Homework/7/Tarea%207.ipynb#ch0000003?line=0'>1</a>\u001b[0m \u001b[39m# Pruebas del algoritmo\u001b[39;00m\n\u001b[1;32m----> <a href='vscode-notebook-cell:/c%3A/Users/batma/OneDrive/Documents/Academic/School/University/Optimization/Homework/7/Tarea%207.ipynb#ch0000003?line=2'>3</a>\u001b[0m solve(\u001b[39m\"\u001b[39;49m\u001b[39mpuntos2D_1.npy\u001b[39;49m\u001b[39m\"\u001b[39;49m, (\u001b[39m15\u001b[39;49m,\u001b[39m0.6\u001b[39;49m,\u001b[39m0\u001b[39;49m), \u001b[39m5000\u001b[39;49m, np\u001b[39m.\u001b[39;49mfinfo(\u001b[39mfloat\u001b[39;49m)\u001b[39m.\u001b[39;49meps\u001b[39m*\u001b[39;49m\u001b[39m*\u001b[39;49m(\u001b[39m1\u001b[39;49m\u001b[39m/\u001b[39;49m\u001b[39m2\u001b[39;49m), \u001b[39m100\u001b[39;49m)\n",
            "\u001b[1;32mc:\\Users\\batma\\OneDrive\\Documents\\Academic\\School\\University\\Optimization\\Homework\\7\\Tarea 7.ipynb Cell 3'\u001b[0m in \u001b[0;36msolve\u001b[1;34m(file_name, z_0, N, T, p)\u001b[0m\n\u001b[0;32m     <a href='vscode-notebook-cell:/c%3A/Users/batma/OneDrive/Documents/Academic/School/University/Optimization/Homework/7/Tarea%207.ipynb#ch0000002?line=26'>27</a>\u001b[0m f \u001b[39m=\u001b[39m \u001b[39mlambda\u001b[39;00m z : \u001b[39m1\u001b[39m\u001b[39m/\u001b[39m\u001b[39m2\u001b[39m\u001b[39m*\u001b[39m(R(z)\u001b[39m@R\u001b[39m(z)\u001b[39m.\u001b[39mT)\n\u001b[0;32m     <a href='vscode-notebook-cell:/c%3A/Users/batma/OneDrive/Documents/Academic/School/University/Optimization/Homework/7/Tarea%207.ipynb#ch0000002?line=27'>28</a>\u001b[0m \u001b[39mprint\u001b[39m(f(z_0))\n\u001b[1;32m---> <a href='vscode-notebook-cell:/c%3A/Users/batma/OneDrive/Documents/Academic/School/University/Optimization/Homework/7/Tarea%207.ipynb#ch0000002?line=28'>29</a>\u001b[0m z_k, R_k, p_k_norm, k, res \u001b[39m=\u001b[39m Gauss_Newton(R, J, z_0, N, T)\n\u001b[0;32m     <a href='vscode-notebook-cell:/c%3A/Users/batma/OneDrive/Documents/Academic/School/University/Optimization/Homework/7/Tarea%207.ipynb#ch0000002?line=29'>30</a>\u001b[0m \u001b[39mprint\u001b[39m(\u001b[39mf\u001b[39m\u001b[39m\"\u001b[39m\u001b[39mEl algoritmo \u001b[39m\u001b[39m\"\u001b[39m \u001b[39m+\u001b[39m (\u001b[39m\"\u001b[39m\u001b[39mno \u001b[39m\u001b[39m\"\u001b[39m \u001b[39mif\u001b[39;00m res \u001b[39m==\u001b[39m \u001b[39m0\u001b[39m \u001b[39melse\u001b[39;00m \u001b[39m\"\u001b[39m\u001b[39m\"\u001b[39m) \u001b[39m+\u001b[39m \u001b[39m\"\u001b[39m\u001b[39mconvergió en:\u001b[39m\u001b[39m\"\u001b[39m)\n\u001b[0;32m     <a href='vscode-notebook-cell:/c%3A/Users/batma/OneDrive/Documents/Academic/School/University/Optimization/Homework/7/Tarea%207.ipynb#ch0000002?line=30'>31</a>\u001b[0m \u001b[39mprint\u001b[39m(z_k, f(z_k), p_k_norm, k)\n",
            "\u001b[1;32mc:\\Users\\batma\\OneDrive\\Documents\\Academic\\School\\University\\Optimization\\Homework\\7\\Tarea 7.ipynb Cell 3'\u001b[0m in \u001b[0;36mGauss_Newton\u001b[1;34m(R, J, z_0, N, T)\u001b[0m\n\u001b[0;32m     <a href='vscode-notebook-cell:/c%3A/Users/batma/OneDrive/Documents/Academic/School/University/Optimization/Homework/7/Tarea%207.ipynb#ch0000002?line=12'>13</a>\u001b[0m J_k \u001b[39m=\u001b[39m J(z_k)\n\u001b[0;32m     <a href='vscode-notebook-cell:/c%3A/Users/batma/OneDrive/Documents/Academic/School/University/Optimization/Homework/7/Tarea%207.ipynb#ch0000002?line=13'>14</a>\u001b[0m \u001b[39mprint\u001b[39m(z_k, J_k\u001b[39m.\u001b[39mshape, R_k\u001b[39m.\u001b[39mshape)\n\u001b[1;32m---> <a href='vscode-notebook-cell:/c%3A/Users/batma/OneDrive/Documents/Academic/School/University/Optimization/Homework/7/Tarea%207.ipynb#ch0000002?line=14'>15</a>\u001b[0m p_k \u001b[39m=\u001b[39m np\u001b[39m.\u001b[39mlinalg\u001b[39m.\u001b[39msolve(J_k\u001b[39m@J_k\u001b[39m\u001b[39m.\u001b[39mT,\u001b[39m-\u001b[39;49mJ_k\u001b[39m@R_k\u001b[39;49m)\n\u001b[0;32m     <a href='vscode-notebook-cell:/c%3A/Users/batma/OneDrive/Documents/Academic/School/University/Optimization/Homework/7/Tarea%207.ipynb#ch0000002?line=15'>16</a>\u001b[0m \u001b[39mif\u001b[39;00m np\u001b[39m.\u001b[39mlinalg\u001b[39m.\u001b[39mnorm(p_k) \u001b[39m<\u001b[39m T:\n\u001b[0;32m     <a href='vscode-notebook-cell:/c%3A/Users/batma/OneDrive/Documents/Academic/School/University/Optimization/Homework/7/Tarea%207.ipynb#ch0000002?line=16'>17</a>\u001b[0m   res \u001b[39m=\u001b[39m \u001b[39m1\u001b[39m\n",
            "\u001b[1;31mValueError\u001b[0m: matmul: Input operand 1 has a mismatch in its core dimension 0, with gufunc signature (n?,k),(k,m?)->(n?,m?) (size 1 is different from 3)"
          ]
        }
      ],
      "source": [
        "# Pruebas del algoritmo\n",
        "\n",
        "solve(\"puntos2D_1.npy\", (15,0.6,0), 5000, np.finfo(float).eps**(1/2), 100)"
      ]
    },
    {
      "cell_type": "markdown",
      "metadata": {
        "id": "4cvZVtpz12U2"
      },
      "source": [
        "_\n",
        "\n",
        "```\n",
        "\n",
        "\n",
        "\n",
        "\n",
        "\n",
        "\n",
        "\n",
        "```\n",
        "\n",
        "---"
      ]
    },
    {
      "cell_type": "markdown",
      "metadata": {
        "id": "Z_NB04Bu12U2"
      },
      "source": [
        "## Ejercicio 2 (5 puntos)\n",
        "\n",
        "Programar el método de Levenberg-Marquart para mínimos cuadrados.\n",
        "\n",
        "Dar la función de residuales $R(z)$,\n",
        "la función Jacobiana $J(z)$, un  punto inicial $z_0$, un número máximo de \n",
        "iteraciones $N$, $\\mu_{ref}>0$ y la tolerancia $\\tau>0$.\n",
        "\n",
        "1. Hacer $res=0$ y construir la matriz identidad $I$ de tamaño igual a la dimensión de $z_0$.\n",
        "2. Calcular $R_0 = R(z_0)$\n",
        "3. Calcular $J_{0} = J(z_0)$\n",
        "4. Calcular $f_0  = 0.5R_0^\\top R_0$\n",
        "5. Calcular $\\mathbf{A}  = J_0^\\top J_0$ y $\\mathbf{g} = J_0^\\top R_0$\n",
        "6. Calcular $\\mu = \\min\\{ \\mu_{ref}, \\max a_{ii} \\}$, donde $a_{ii}$ son los \n",
        "   elementos de la diagonal de la matriz $\\mathbf{A}$.\n",
        "7. Para $k = 0, 1, ..., N$:\n",
        "\n",
        "- Calcular $\\mathbf{p}_k$ resolviendo el sistema\n",
        "\n",
        "$$  (\\mathbf{A}  + \\mu \\mathbf{I}) \\mathbf{p}_k = -\\mathbf{g} $$\n",
        "\n",
        "- Si $\\|\\mathbf{p}_k\\|<\\tau$, hacer $res=1$ y  terminar el ciclo.\n",
        "- Calcular $\\mathbf{z}_{k+1} = \\mathbf{z}_k + \\mathbf{p}_k$ \n",
        "\n",
        "- Calcular $\\mathbf{R}_{k+1} = \\mathbf{R}(\\mathbf{z}_{k+1})$\n",
        "- Calcular $f_{k+1} = 0.5\\mathbf{R}_{k+1}^\\top \\mathbf{R}_{k+1}$\n",
        "\n",
        "- Calcular el parámetro $\\rho$ (ver las notas de la clase 16)\n",
        "\n",
        "$$\\rho = (f_k - f_{k+1})/(q_k(\\mathbf{x}_k) - q_k(\\mathbf{x}_{k+1})) = \n",
        "  (f_k - f_{k+1})/(-\\mathbf{p}_k^\\top \\mathbf{g} + 0.5\\mu_k \\mathbf{p}_k^\\top \\mathbf{p}_k ) $$ \n",
        "  \n",
        "- Si $\\rho<0.25$, hacer $\\mu = 2\\mu$.\n",
        "- Si $\\rho>0.75$, hacer $\\mu = \\mu/3$.\n",
        "- Calcular $\\mathbf{J}_{k+1}    = \\mathbf{J}(\\mathbf{z}_{k+1})$\n",
        "- Calcular $\\mathbf{A} = \\mathbf{J}_{k+1}^\\top \\mathbf{J}_{k+1}\\;$ y \n",
        "  $\\;\\mathbf{g} = \\mathbf{J}_{k+1}^\\top \\mathbf{R}_{k+1}$.\n",
        "\n",
        "8. Devolver el punto $\\mathbf{z}_k$, $f_k$, $k$ y $res$.\n",
        "\n",
        "\n",
        "---\n",
        "\n",
        "1. Escriba una función que implementa el algoritmo anterior \n",
        "   usando arreglos de Numpy. \n",
        "   \n",
        "2. Aplique este algoritmo para resolver el problema del Ejercicio 1,\n",
        "   imprimiendo la misma información y generando la gráfica correspondiente, \n",
        "   usando $\\tau   = \\sqrt{\\epsilon_m}, N=5000, \\mu_{ref}  = 0.001$\n",
        "   y los tres puntos iniciales \n",
        "   \n",
        "$$\\mathbf{z}_0 = (15, 0.6, 0)$$\n",
        "$$\\mathbf{z}_0 = (15, 1.0, 0)$$\n",
        "$$\\mathbf{z}_0 = (15, 0.6, 1.6)$$\n",
        "\n",
        "\n",
        "\n",
        "### Solución:"
      ]
    },
    {
      "cell_type": "code",
      "execution_count": null,
      "metadata": {
        "id": "XozED76d12U3"
      },
      "outputs": [],
      "source": [
        "# En esta celda puede poner el código de las funciones\n",
        "# o poner la instrucción para importarlas de un archivo .py\n"
      ]
    },
    {
      "cell_type": "code",
      "execution_count": null,
      "metadata": {
        "id": "N_muNmYe12U4"
      },
      "outputs": [],
      "source": [
        "# Pruebas realizadas a la función de residuales del Ejercicio 1\n",
        "\n"
      ]
    },
    {
      "cell_type": "code",
      "execution_count": null,
      "metadata": {
        "id": "FhsuWAGM12U4"
      },
      "outputs": [],
      "source": []
    },
    {
      "cell_type": "markdown",
      "metadata": {
        "id": "svp2qVZw12U5"
      },
      "source": [
        "_\n",
        "\n",
        "```\n",
        "\n",
        "\n",
        "\n",
        "\n",
        "\n",
        "\n",
        "\n",
        "```\n",
        "\n",
        "---"
      ]
    }
  ],
  "metadata": {
    "colab": {
      "name": "optim_tarea07.ipynb",
      "provenance": []
    },
    "kernelspec": {
      "display_name": "Python 3",
      "language": "python",
      "name": "python3"
    },
    "language_info": {
      "codemirror_mode": {
        "name": "ipython",
        "version": 3
      },
      "file_extension": ".py",
      "mimetype": "text/x-python",
      "name": "python",
      "nbconvert_exporter": "python",
      "pygments_lexer": "ipython3",
      "version": "3.10.2"
    }
  },
  "nbformat": 4,
  "nbformat_minor": 0
}
