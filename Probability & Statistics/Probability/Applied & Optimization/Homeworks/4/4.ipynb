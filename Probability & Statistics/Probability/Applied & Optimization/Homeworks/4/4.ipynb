{
 "cells": [
  {
   "cell_type": "code",
   "execution_count": 54,
   "metadata": {},
   "outputs": [
    {
     "name": "stdout",
     "output_type": "stream",
     "text": [
      "-5\n"
     ]
    },
    {
     "data": {
      "text/plain": [
       "3.0"
      ]
     },
     "execution_count": 54,
     "metadata": {},
     "output_type": "execute_result"
    }
   ],
   "source": [
    "import numpy as np\n",
    "\n",
    "class PPD:\n",
    "    def __init__(self,\n",
    "                N = 0,\n",
    "                g = (lambda x : x),\n",
    "                c = (lambda x,u : x+u),\n",
    "                u = (lambda x : np.array([0])),\n",
    "                Q = (lambda x,y,u: x+y+u),\n",
    "                S = np.array([0]),\n",
    "                dp = dict()):\n",
    "        self.N = N\n",
    "        self.g = g\n",
    "        self.c = c\n",
    "        self.u = u\n",
    "        self.Q = Q\n",
    "        self.S = S\n",
    "        self.dp = dp\n",
    "\n",
    "        \n",
    "\n",
    "def V(x, n, ppd):\n",
    "    if(n == ppd.N):\n",
    "        return ppd.g(x)\n",
    "    if((x,n) in ppd.dp):\n",
    "        return ppd.dp[(x,n)]\n",
    "    # print(\"******\")\n",
    "    # print(x)\n",
    "    # print(n)\n",
    "    ppd.dp[(x,n)] = min([ppd.c(x,uu) + sum(V(y,n+1,ppd)*ppd.Q(x,y,uu) for y in ppd.S) for uu in ppd.u(x)])\n",
    "    # print(ppd.dp[(x,n)])\n",
    "    # print(\"-----\")\n",
    "    return ppd.dp[(x,n)]\n",
    "\n",
    "def u_1(x):\n",
    "    return np.array([(x,0)] + ([(x,1)] if x == 0 else []))\n",
    "\n",
    "def c_1(x,u):\n",
    "    if (x not in [0,1] or not np.any(u == [[0,0],[0,1],[1,0],[1,1]])):\n",
    "        return 1e10\n",
    "    elif(x==0 and (u==np.array([0,0])).all()):\n",
    "        return -5\n",
    "    elif(x==0 and (u==np.array([0,1])).all()):\n",
    "        return -10\n",
    "    elif(x==1 and (u==np.array([1,0])).all()):\n",
    "        return 1\n",
    "    else:\n",
    "        return 0\n",
    "        \n",
    "def Q_1(x,y,u):\n",
    "    if(u.shape[0] != 2):\n",
    "        return 0\n",
    "    if(x==0):\n",
    "        if((u==np.array([0,0])).all()==True):\n",
    "            if(y == 0):\n",
    "                return 0.5\n",
    "            elif(y == 1):\n",
    "                return 0.5\n",
    "    elif(x==0):\n",
    "        if((u==np.array([0,1])).all()==True):\n",
    "            if(y == 0):\n",
    "                return 0\n",
    "            elif(y == 1):\n",
    "                return 1\n",
    "    elif(x==1):\n",
    "        if((u==np.array([1,0])).all()==True):\n",
    "            if(y == 0):\n",
    "                return 0\n",
    "            elif(y == 1):\n",
    "                return 1\n",
    "    return 0\n",
    "\n",
    "def g_1(x):\n",
    "    if(x not in [0,1]):\n",
    "        return 1e10\n",
    "    elif(x==0):\n",
    "        return 5\n",
    "    elif(x==1):\n",
    "        return -1\n",
    "\n",
    "print(c_1(0,u_1(0)[0]))\n",
    "ppd = PPD(4,g_1,c_1,u_1,Q_1,np.array([0,1]))\n",
    "V(0,0,ppd)\n",
    "V(1,0,ppd)\n",
    "\n"
   ]
  }
 ],
 "metadata": {
  "kernelspec": {
   "display_name": "Python 3",
   "language": "python",
   "name": "python3"
  },
  "language_info": {
   "name": "python",
   "version": "3.9.13"
  },
  "orig_nbformat": 4,
  "vscode": {
   "interpreter": {
    "hash": "2a8dfe095fce2b5e88c64a2c3ee084c8e0e0d70b23e7b95b1cfb538be294c5c8"
   }
  }
 },
 "nbformat": 4,
 "nbformat_minor": 2
}
