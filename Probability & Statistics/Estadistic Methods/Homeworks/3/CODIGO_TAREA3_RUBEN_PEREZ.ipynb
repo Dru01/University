{
 "cells": [
  {
   "cell_type": "markdown",
   "metadata": {},
   "source": [
    "# Estimación de máximo estiimador de verosimilitud del parámetro $\\lambda$ de una distribución logarítmica\n",
    "\n",
    "Para la solución del problema se hace uso del método de Newton-Raphson, cuyo implementación se muestra a continuación."
   ]
  },
  {
   "cell_type": "markdown",
   "metadata": {},
   "source": [
    "## Líbrerias y clases que se usaran"
   ]
  },
  {
   "cell_type": "code",
   "execution_count": 3,
   "metadata": {},
   "outputs": [],
   "source": [
    "import math\n",
    "import sympy\n",
    "import numpy as np\n",
    "import plotly.graph_objects as go\n",
    "\n",
    "class RealFunction:\n",
    "\n",
    "    def __call__(self, x):\n",
    "        return self._evaluate(x, self._param)\n",
    "\n",
    "    def __init__(self,  f, param = []):\n",
    "        self._param = param\n",
    "        self._evaluate = f\n",
    "        self._der = dict()"
   ]
  },
  {
   "cell_type": "markdown",
   "metadata": {},
   "source": [
    "## Algoritmo Newton-Raphson\n",
    "\n",
    "La función siguiente función emplea el método Newton-Rapshon para calcular las raices de una función $f$. Como parametros necesito la función $f$, el punto inicial $x0$, la cantidad de iteraciones máximas $iterMax$, la tolerancia $tol$, y opcionalmente el minimo y máximo valor donde buscar como $tmin$ y $tmax$ respectivamente."
   ]
  },
  {
   "cell_type": "code",
   "execution_count": 4,
   "metadata": {},
   "outputs": [],
   "source": [
    "def NewtonRaphson(x0, f, derf, iterMax, tol, param = [], tmin = None, tmax = None):\n",
    "    xk  = x0\n",
    "    res = 0\n",
    "    for k in range(iterMax):\n",
    "        fk = f(xk, param)\n",
    "        #print(k,xk,fk)\n",
    "        if fk<tol and fk>-tol:\n",
    "            res = 1\n",
    "            break\n",
    "        else:\n",
    "            dfk = derf(xk, param)\n",
    "            if dfk!=0:\n",
    "                xk = xk - fk/dfk\n",
    "                if(tmin != None):\n",
    "                    xk = max(xk, tmin)\n",
    "                if(tmax != None):\n",
    "                    xk = min(xk, tmax)\n",
    "            else:\n",
    "                res = -1\n",
    "                break\n",
    "    return xk,k,res"
   ]
  },
  {
   "cell_type": "markdown",
   "metadata": {},
   "source": [
    "Impresión de resultados del algoritmo Newton-Raphson"
   ]
  },
  {
   "cell_type": "code",
   "execution_count": 5,
   "metadata": {},
   "outputs": [],
   "source": [
    "def interpretador_newton(f, derf, x0, iterMax, tol, param = []):\n",
    "    xk,k,res = NewtonRaphson(x0 = x0, iterMax = iterMax, f = f, derf = derf, tol = tol, param = param)\n",
    "    \n",
    "    print(\"Para la funcion real f(x)\\nCon punto inicial x0 = {}, donde f(x0) = {}\".format(x0, f(x0,param)))\n",
    "\n",
    "    print(\"El metodo de Newton, obtuvo res = {}, es decir:\".format(res))\n",
    "    if res==1:\n",
    "        print('\\tEncontro una raiz cerca de xk = {}\\n\\tdonde f(xk) = {},\\n\\ten {} iteraciones'.format(xk,f(xk,param), k))\n",
    "    elif res==0:\n",
    "        print('\\tNo converje.')\n",
    "        return\n",
    "    else:\n",
    "        print('\\tSe cancelo la derivada en algun momento')\n",
    "        return\n",
    "    print(\"\")\n",
    "\n",
    "    return xk, res"
   ]
  },
  {
   "cell_type": "markdown",
   "metadata": {},
   "source": [
    "## Intervalo de verosimilitud\n",
    "\n",
    "Recibe como parámetros una función de verosimilitud $L$, el porcentaje $p$, el $emv$ de $L$, la cantidad de pasos para calcularlo $iterMax$ y la tolerancia de error $tol$. Imprime el intervalo de verosimilitud del $p\\%$."
   ]
  },
  {
   "cell_type": "code",
   "execution_count": 6,
   "metadata": {},
   "outputs": [],
   "source": [
    "def likelihood_interval_mountain(l, sc, p, emv, iterMax, tol, param = []):\n",
    "    \n",
    "    g = lambda x, param : l(x,param) - l(emv,param) - math.log(p)\n",
    "    derg = lambda x, param : sc(x,param)\n",
    "\n",
    "    # x = np.linspace(10,100,iterMax)\n",
    "    # fig = go.Figure()\n",
    "    # fig.add_trace(\n",
    "    #     go.Scatter(\n",
    "    #         x=x,y=[g(x,param) for x in x],\n",
    "    #         mode=\"lines\", name=r'$\\lambda$'\n",
    "    #     )\n",
    "    # )\n",
    "    # fig.show()\n",
    "\n",
    "    # x = np.linspace(10,100,iterMax)\n",
    "    # fig = go.Figure()\n",
    "    # fig.add_trace(\n",
    "    #     go.Scatter(\n",
    "    #         x=x,y=[derg(x,param) for x in x],\n",
    "    #         mode=\"lines\", name=r'$\\lambda$'\n",
    "    #     )\n",
    "    # )\n",
    "    # fig.show()\n",
    "    xk,k,res = NewtonRaphson(emv + 1, g, derg, iterMax, tol, param, tmin = emv)\n",
    "    R_lambda_tmax = xk\n",
    "    xk,k,res = NewtonRaphson(emv - 1, g, derg, iterMax, tol, param, tmin = 0.000001, tmax = emv)\n",
    "    R_lambda_tmin = xk\n",
    "    print(\"El intervalo de verosimilitud del {}% es: [{},{}]\".format(p*100, R_lambda_tmin, R_lambda_tmax))"
   ]
  },
  {
   "cell_type": "code",
   "execution_count": 16,
   "metadata": {},
   "outputs": [],
   "source": [
    "def p(x, a):\n",
    "    return np.exp(-x/a)\n",
    "\n",
    "def L(x,param):\n",
    "    p_arr = np.vectorize(p)(np.full(param[3][0]+1,x),param[2])\n",
    "    return sum(param[1]*np.log(p_arr)+(param[0]-param[1])*np.log(1-p_arr))\n",
    "\n",
    "def Sc(x, param):\n",
    "    p_arr = np.vectorize(p)(np.full(param[3][0]+1,x),param[2])\n",
    "    return sum((param[0]*p_arr-param[1])/(param[2]*(1-p_arr)))\n",
    "\n",
    "def I(x,param):\n",
    "    p_arr = np.vectorize(p)(np.full(param[3][0]+1,x),param[2])\n",
    "    return sum(p_arr*(param[0]-param[1])/(param[2]**2*(1-p_arr)**2))\n"
   ]
  },
  {
   "cell_type": "markdown",
   "metadata": {},
   "source": [
    "## Código Prinicipal\n",
    "\n",
    "Declaración de parametros y funciones para estimar $\\hat{\\lambda}$, frecuencias esperadas e intervalo de verosimilitud $p$."
   ]
  },
  {
   "cell_type": "code",
   "execution_count": 18,
   "metadata": {},
   "outputs": [],
   "source": [
    "from pprint import pprint\n",
    "\n",
    "def c_1(frec):\n",
    "    return sum((frec[0][j]+1)*frec[1][j] for j in range(len(frec[0])))\n",
    "def c_2(frec):\n",
    "    return sum(frec[1][j] for j in range(len(frec[0])))\n",
    "    \n",
    "def main():\n",
    "    \n",
    "    n = 5\n",
    "    k = 9\n",
    "    a = 2\n",
    "    x = np.array([0, 0, 0, 0, 1, 2, 3, 3, 5, 5])\n",
    "    param = np.array([np.full(k+1, n),x,np.array([a**i for i in range(k+1)]),np.full(k+1,k)])\n",
    "    f = Sc\n",
    "    derf = lambda x, param : -I(x,param)\n",
    "    iterMax = int(1e3)\n",
    "    tol = 1e-6\n",
    "    x0 = 0.1\n",
    "\n",
    "    emv_lambda, _ = interpretador_newton(f, derf, x0, iterMax, tol, param = param)\n",
    "    \n",
    "    print(f\"La matriz de información observada es: {derf(emv_lambda, param)}\")\n",
    "\n",
    "    likelihood_interval_mountain(L, Sc, 0.25, emv_lambda, iterMax, tol, param)\n",
    "\n",
    "    var_emv = -1/derf(emv_lambda, param)\n",
    "\n",
    "    print(f\"Varianza del emv es: {var_emv}\\n\")\n",
    "    \n",
    "    z_a2 = 1.96\n",
    "    print(f\"Intervalo del 95% de confianza es: [{emv_lambda-z_a2*(var_emv)**(1/2)},{emv_lambda+z_a2*(var_emv)**(1/2)}]\")\n",
    "\n"
   ]
  },
  {
   "cell_type": "code",
   "execution_count": 19,
   "metadata": {},
   "outputs": [
    {
     "name": "stdout",
     "output_type": "stream",
     "text": [
      "Para la funcion real f(x)\n",
      "Con punto inicial x0 = 0.1, donde f(x0) = 304.94806896962115\n",
      "El metodo de Newton, obtuvo res = 1, es decir:\n",
      "\tEncontro una raiz cerca de xk = 30.649790412939417\n",
      "\tdonde f(xk) = 6.453726442146035e-12,\n",
      "\ten 14 iteraciones\n",
      "\n",
      "La matriz de información observada es: -0.012249045324417698\n",
      "El intervalo de verosimilitud del 25.0% es: [18.44784413990403,49.12870854510824]\n",
      "Varianza del emv es: 81.6390154101694\n",
      "\n",
      "Intervalo del 95% de confianza es: [12.940345430114384,48.35923539576445]\n"
     ]
    }
   ],
   "source": [
    "main()"
   ]
  }
 ],
 "metadata": {
  "interpreter": {
   "hash": "b89b5cfaba6639976dc87ff2fec6d58faec662063367e2c229c520fe71072417"
  },
  "kernelspec": {
   "display_name": "Python 3.10.2 64-bit",
   "language": "python",
   "name": "python3"
  },
  "language_info": {
   "codemirror_mode": {
    "name": "ipython",
    "version": 3
   },
   "file_extension": ".py",
   "mimetype": "text/x-python",
   "name": "python",
   "nbconvert_exporter": "python",
   "pygments_lexer": "ipython3",
   "version": "3.10.2"
  },
  "orig_nbformat": 4
 },
 "nbformat": 4,
 "nbformat_minor": 2
}
