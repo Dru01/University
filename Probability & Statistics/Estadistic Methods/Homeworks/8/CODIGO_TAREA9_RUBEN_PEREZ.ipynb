{
 "cells": [
  {
   "cell_type": "markdown",
   "metadata": {},
   "source": [
    "## Líbrerias y clases que se usaran"
   ]
  },
  {
   "cell_type": "code",
   "execution_count": 6,
   "metadata": {},
   "outputs": [],
   "source": [
    "import numpy as np\n",
    "from scipy import stats\n",
    "import plotly.graph_objects as go"
   ]
  },
  {
   "cell_type": "markdown",
   "metadata": {},
   "source": [
    "## Código Prinicipal\n",
    "\n",
    "Declaración de parametros y funciones para estimar $\\hat{\\lambda}$, frecuencias esperadas e intervalo de verosimilitud $p$."
   ]
  },
  {
   "cell_type": "code",
   "execution_count": 24,
   "metadata": {},
   "outputs": [],
   "source": [
    "import numpy as np\n",
    "from scipy.stats import geom, chi2\n",
    "\n",
    "def main():\n",
    "    \n",
    "    f = np.array([6,13,8,7,5,5,6])\n",
    "    p_hat = f / 50\n",
    "    l_p_hat = sum(f*np.log(p_hat))\n",
    "    print(l_p_hat)\n",
    "\n",
    "    p_hat_geo = np.array(\n",
    "            [\n",
    "                geom.pmf(1,0.1), \n",
    "                sum(geom.pmf(np.arange(2,4,1), p = 0.1)),\n",
    "                sum(geom.pmf(np.arange(4,6,1), p = 0.1)),\n",
    "                sum(geom.pmf(np.arange(6,9,1), p = 0.1)),\n",
    "                sum(geom.pmf(np.arange(9,14,1), p = 0.1)),\n",
    "                sum(geom.pmf(np.arange(14,20,1), p = 0.1)),\n",
    "                1-geom.cdf(19,0.1)\n",
    "            ]\n",
    "        )\n",
    "    print(p_hat_geo)\n",
    "    l_p_hat_geo = sum(f*np.log(p_hat_geo))\n",
    "    print(l_p_hat_geo)\n",
    "\n",
    "    D_obs = 2  * (l_p_hat - l_p_hat_geo)\n",
    "    print(D_obs)\n",
    "\n",
    "    D = 1-chi2.cdf(D_obs, 6)\n",
    "    print(D)\n",
    "\n",
    "\n"
   ]
  },
  {
   "cell_type": "code",
   "execution_count": 25,
   "metadata": {},
   "outputs": [
    {
     "name": "stdout",
     "output_type": "stream",
     "text": [
      "-94.40441249250378\n",
      "[0.1        0.171      0.13851    0.16002279 0.17628063 0.11910141\n",
      " 0.13508517]\n",
      "-96.74466720118365\n",
      "4.68050941735973\n",
      "0.5853929476281576\n"
     ]
    }
   ],
   "source": [
    "main()"
   ]
  }
 ],
 "metadata": {
  "interpreter": {
   "hash": "26de051ba29f2982a8de78e945f0abaf191376122a1563185a90213a26c5da77"
  },
  "kernelspec": {
   "display_name": "Python 3.10.2 64-bit",
   "language": "python",
   "name": "python3"
  },
  "language_info": {
   "codemirror_mode": {
    "name": "ipython",
    "version": 3
   },
   "file_extension": ".py",
   "mimetype": "text/x-python",
   "name": "python",
   "nbconvert_exporter": "python",
   "pygments_lexer": "ipython3",
   "version": "3.10.2"
  },
  "orig_nbformat": 4
 },
 "nbformat": 4,
 "nbformat_minor": 2
}
