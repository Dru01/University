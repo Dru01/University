{
 "cells": [
  {
   "cell_type": "markdown",
   "metadata": {},
   "source": [
    "# Estimación de máximo estiimador de verosimilitud del parámetro $\\lambda$ de una distribución logarítmica\n",
    "\n",
    "Para la solución del problema se hace uso del método de Newton-Raphson, cuyo implementación se muestra a continuación."
   ]
  },
  {
   "cell_type": "markdown",
   "metadata": {},
   "source": [
    "## Líbrerias y clases que se usaran"
   ]
  },
  {
   "cell_type": "code",
   "execution_count": 1,
   "metadata": {},
   "outputs": [],
   "source": [
    "import math\n",
    "import sympy\n",
    "import numpy as np\n",
    "import plotly.graph_objects as go\n",
    "\n",
    "class RealFunction:\n",
    "\n",
    "    def __call__(self, x):\n",
    "        a = self._evaluate(x)\n",
    "        return a\n",
    "\n",
    "    def __init__(self,  expression = \"\", function = None):\n",
    "        self._my_symbols = {'x': sympy.Symbol('x', real=True)}\n",
    "        if expression != \"\":\n",
    "            self._expression = expression\n",
    "            self._my_func = sympy.parsing.sympy_parser.parse_expr(expression, self._my_symbols)\n",
    "        else:\n",
    "            self._my_func = function\n",
    "        self._evaluate = sympy.utilities.lambdify(self._my_symbols['x'], self._my_func, modules=[\"numpy\"])\n",
    "        self._der = dict()\n",
    "    \n",
    "    def der(self, ord):\n",
    "        if(ord not in self._der):\n",
    "            _derk = self._my_func\n",
    "            for _ in range(ord):\n",
    "                _derk = sympy.diff(_derk, self._my_symbols['x'])\n",
    "            self._der[ord] = self.__class__(function = _derk)\n",
    "        return self._der[ord]"
   ]
  },
  {
   "cell_type": "markdown",
   "metadata": {},
   "source": [
    "## Algoritmo Newton-Raphson\n",
    "\n",
    "La función siguiente función emplea el método Newton-Rapshon para calcular las raices de una función $f$. Como parametros necesito la función $f$, el punto inicial $x0$, la cantidad de iteraciones máximas $iterMax$, la tolerancia $tol$, y opcionalmente el minimo y máximo valor donde buscar como $tmin$ y $tmax$ respectivamente."
   ]
  },
  {
   "cell_type": "code",
   "execution_count": 2,
   "metadata": {},
   "outputs": [],
   "source": [
    "def NewtonRaphson(x0, f, iterMax, tol, tmin = None, tmax = None):\n",
    "    xk  = x0\n",
    "    res = 0\n",
    "    for k in range(iterMax):\n",
    "        fk = float(f(xk))\n",
    "        if fk<tol and fk>-tol:\n",
    "            res = 1\n",
    "            break\n",
    "        else:\n",
    "            dfk = float(f.der(1)(xk))\n",
    "            if dfk!=0:\n",
    "                xk = xk - fk/dfk\n",
    "                if(tmin != None):\n",
    "                    xk = max(xk, tmin)\n",
    "                if(tmax != None):\n",
    "                    xk = min(xk, tmax)\n",
    "            else:\n",
    "                res = -1\n",
    "                break\n",
    "    return xk,k,res"
   ]
  },
  {
   "cell_type": "markdown",
   "metadata": {},
   "source": [
    "Impresión de resultados del algoritmo Newton-Raphson"
   ]
  },
  {
   "cell_type": "code",
   "execution_count": 3,
   "metadata": {},
   "outputs": [],
   "source": [
    "def interpretador_newton(f, x0, iterMax, tol):\n",
    "    xk,k,res = NewtonRaphson(x0 = x0, iterMax = iterMax, f = f, tol = tol)\n",
    "    \n",
    "    print(\"Para la funcion real f(x) = {}\\nCon punto inicial x0 = {}, donde f(x0) = {}\".format(f._my_func, x0, f(x0)))\n",
    "\n",
    "    print(\"El metodo de Newton, obtuvo res = {}, es decir:\\n\".format(res))\n",
    "    if res==1:\n",
    "        print('\\tEncontro una raiz cerca de xk = {}\\n\\tdonde f(xk) = {},\\n\\ten {} iteraciones'.format(xk,f(xk), k))\n",
    "    elif res==0:\n",
    "        print('\\tNo converje.')\n",
    "        return\n",
    "    else:\n",
    "        print('\\tSe cancelo la derivada en algun momento')\n",
    "        return\n",
    "    print(\"\")\n",
    "\n",
    "    return xk, res"
   ]
  },
  {
   "cell_type": "markdown",
   "metadata": {},
   "source": [
    "## Frecuencias Esperedas\n",
    "\n",
    "Recibe como parámetros las frecuencias observadas, así como el $\\hat{\\lambda}$ de una distirbución logarítmica. Imprime una tabla de las frecuencias observadas y esperadas."
   ]
  },
  {
   "cell_type": "code",
   "execution_count": 4,
   "metadata": {},
   "outputs": [],
   "source": [
    "def exp_frec_log_dist(frec, emv):\n",
    "    n = sum(frec[1])\n",
    "    print(\"Las frecuencias esperados son:\")\n",
    "    print(\"No. defectuosos\", frec[0])\n",
    "    print(\"frec. obs.\", frec[1])\n",
    "    print(\"frec. esp.\", np.concatenate((np.round([(1-math.exp(-emv))**(j+1)/((j+1)*emv)*n for j in range(4)], 1), np.round([(1-sum((1-math.exp(-emv))**(j+1)/((j+1)*emv) for j in range(4)))*n],1))))\n",
    "    print(\"\")"
   ]
  },
  {
   "cell_type": "markdown",
   "metadata": {},
   "source": [
    "## Intervalo de verosimilitud\n",
    "\n",
    "Recibe como parámetros una función de verosimilitud $L$, el porcentaje $p$, el $emv$ de $L$, la cantidad de pasos para calcularlo $iterMax$ y la tolerancia de error $tol$. Imprime el intervalo de verosimilitud del $p\\%$."
   ]
  },
  {
   "cell_type": "code",
   "execution_count": 5,
   "metadata": {},
   "outputs": [],
   "source": [
    "def likelihood_interval_mountain(L, p, emv, iterMax, tol):\n",
    "    \n",
    "    g = RealFunction(function = L._my_func - L(emv) - math.log(p))\n",
    "    xk,k,res = NewtonRaphson(emv + 0.001, g, iterMax, tol, tmin = emv, tmax = 1)\n",
    "    R_lambda_tmax = xk\n",
    "    xk,k,res = NewtonRaphson(emv - 0.001, g, iterMax, tol, tmin = 0.000001, tmax = emv)\n",
    "    R_lambda_tmin = xk\n",
    "    print(\"El intervalo de verosimilitud del {}% es: [{},{}]\".format(p*100, R_lambda_tmin, R_lambda_tmax))"
   ]
  },
  {
   "cell_type": "markdown",
   "metadata": {},
   "source": [
    "## Código Prinicipal\n",
    "\n",
    "Declaración de parametros y funciones para estimar $\\hat{\\lambda}$, frecuencias esperadas e intervalo de verosimilitud $p$."
   ]
  },
  {
   "cell_type": "code",
   "execution_count": 6,
   "metadata": {},
   "outputs": [],
   "source": [
    "def c_1(frec):\n",
    "    return sum((frec[0][j]+1)*frec[1][j] for j in range(len(frec[0])))\n",
    "def c_2(frec):\n",
    "    return sum(frec[1][j] for j in range(len(frec[0])))\n",
    "    \n",
    "def main():\n",
    "    \n",
    "    frec = np.array([[0,1,2,3,4],[147,36,13,4,0]])\n",
    "    f = RealFunction(expression = \"{}\".format(c_1(frec)) + \"/(exp(x)-1) - \" + \"{}\".format(c_2(frec))+\"/x\")\n",
    "    iterMax = int(1e6)\n",
    "    tol = 1e-5\n",
    "    x0 = 0.1\n",
    "    emv_lambda, res = interpretador_newton(f, x0, iterMax, tol)\n",
    "    \n",
    "    print(\"La función de Información de Lambda en su emv es:\", f.der(1)(emv_lambda),\"\\n\")\n",
    "\n",
    "    exp_frec_log_dist(frec, emv_lambda)\n",
    "\n",
    "    f = RealFunction(expression = \"{}\".format(c_1(frec)) + \"*log(1-exp(-x)) - \" + \"{}\".format(c_2(frec)) + \"*log(x)\")\n",
    "    likelihood_interval_mountain(f, 0.1, emv_lambda, iterMax, tol)\n",
    "    "
   ]
  },
  {
   "cell_type": "code",
   "execution_count": 7,
   "metadata": {},
   "outputs": [
    {
     "name": "stdout",
     "output_type": "stream",
     "text": [
      "Para la funcion real f(x) = 274/(exp(x) - 1) - 200/x\n",
      "Con punto inicial x0 = 0.1, donde f(x0) = 605.2829528683615\n",
      "El metodo de Newton, obtuvo res = 1, es decir:\n",
      "\n",
      "\tEncontro una raiz cerca de xk = 0.5997370966729684\n",
      "\tdonde f(xk) = 7.350172381848097e-08,\n",
      "\ten 7 iteraciones\n",
      "\n",
      "La función de Información de Lambda en su emv es: -183.30732984343024 \n",
      "\n",
      "Las frecuencias esperados son:\n",
      "No. defectuosos [0 1 2 3 4]\n",
      "frec. obs. [147  36  13   4   0]\n",
      "frec. esp. [150.4  33.9  10.2   3.5   2. ]\n",
      "\n",
      "El intervalo de verosimilitud del 10.0% es: [0.4561586241961348,0.7746682846541133]\n"
     ]
    }
   ],
   "source": [
    "main()"
   ]
  }
 ],
 "metadata": {
  "interpreter": {
   "hash": "b89b5cfaba6639976dc87ff2fec6d58faec662063367e2c229c520fe71072417"
  },
  "kernelspec": {
   "display_name": "Python 3.10.2 64-bit",
   "language": "python",
   "name": "python3"
  },
  "language_info": {
   "codemirror_mode": {
    "name": "ipython",
    "version": 3
   },
   "file_extension": ".py",
   "mimetype": "text/x-python",
   "name": "python",
   "nbconvert_exporter": "python",
   "pygments_lexer": "ipython3",
   "version": "3.10.2"
  },
  "orig_nbformat": 4
 },
 "nbformat": 4,
 "nbformat_minor": 2
}
