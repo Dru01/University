{
 "cells": [
  {
   "cell_type": "markdown",
   "metadata": {},
   "source": [
    "# Curso de Métodos Numéricos (DEMAT)\n",
    "## Tarea 1\n",
    "\n",
    "| Descripción:                         | Fechas               |\n",
    "|--------------------------------------|----------------------|\n",
    "| Fecha de publicación del documento:  | **Agosto 19, 2023**  |\n",
    "| Fecha límite de entrega de la tarea: | **Agosto 27, 2023** |\n",
    "\n",
    "\n",
    "### Indicaciones\n",
    "\n",
    "El propósito de esta tarea es poner en praćtica lo que hemos revisado\n",
    "sobre Python, por lo que los ejercicios son de programación.\n",
    "\n",
    "Puede escribir el código de los algoritmos que se piden en una\n",
    "celda de este notebook o si lo prefiere, escribir las funciones\n",
    "en un archivo `.py` independiente e importar la funciones para\n",
    "usarlas en este notebook. Lo importante es que en el notebook\n",
    "aparezcan los resultados de la pruebas realizadas y que:\n",
    "\n",
    "- Si se requieren otros archivos para poder reproducir los resultados,\n",
    "  para mandar la tarea cree un archivo ZIP en el que incluya\n",
    "  el notebook y los archivos adicionales. \n",
    "- Si todos los códigos para que se requieren para reproducir los\n",
    "  resultados están en el notebook, no hace falta comprimirlo \n",
    "  y puede anexar sólo el notebook en la tarea del Classroom.\n",
    "- Exportar el notebook a un archivo PDF y anexarlo en la tarea del\n",
    "  Classroom como un archivo independiente.\n",
    "  **No lo incluya dentro del ZIP**, porque la idea que lo pueda accesar \n",
    "  directamente para poner anotaciones y la calificación de cada ejercicio.\n",
    "\n",
    "En la descripción de los ejercicios se nombran algunas variables\n",
    "para el algoritmo, pero sólo es para facilitar la descripción.\n",
    "En la implementación pueden nombrar sus variables como gusten.\n",
    "\n",
    "En los algoritmos se describen las entradas de las\n",
    "funciones. La intención es que tomen en cuenta lo que requiere\n",
    "el algoritmo y que tiene que haber parámetros que permitan\n",
    "controlar el comportamiento del algoritmo,\n",
    "evitando que dejen fijo un valor y que no se puede modificar\n",
    "para hacer diferentes pruebas. Si quieren dar esta información\n",
    "usando un tipo de dato que contenga todos los valores o\n",
    "usar variables por separado, etc., lo pueden hacer y no usen\n",
    "variables globales si no es necesario.\n",
    "\n",
    "Lo mismo para los valores que devuelve una función. \n",
    "Pueden codificar como gusten la manera en que regresa los cálculos.\n",
    "El punto es que podamos tener acceso a los resultados,\n",
    "sin usar variables globales, y que la función no sólo imprima \n",
    "los valores que después no los podamos usar.\n"
   ]
  },
  {
   "cell_type": "markdown",
   "metadata": {},
   "source": [
    "---\n",
    "\n",
    "## Ejercicio 1 (4 puntos)\n",
    "\n",
    "Programar una función que imprime los primeros y los últimos\n",
    "los elementos de un arreglo 1D.\n",
    "\n",
    "1. Escribir una función que reciba un arreglo 1D $v$, un entero $n$\n",
    "   y una cadena que indique el formato en que las cantidades que se van a\n",
    "   imprimir, por ejemplo \"%.3f\", \"%.4e\", \"%d\".\n",
    "   \n",
    "- La secuencia de valores los tiene que imprimir en una sola fila.\n",
    "- Si la longitud de $v$ es menor o igual que $2n$, la función\n",
    "  debe imprimir todos los elementos de $v$ usando el formato indicado.\n",
    "  Si no, entonces la función debe imprimir los primeros $n$\n",
    "  elementos de $v$, poner \"...\" e imprimir los últimos $n$\n",
    "  elementos de $v$.\n",
    "\n",
    "2. Pruebe la función usando los arreglos que se definen en la celda\n",
    "   que aparece más abajo. Siga las indicaciones que aparecen \n",
    "   en los comentarios para saber las pruebas que tiene que realizar.\n",
    "   \n",
    "Por ejemplo, el resultado que se espera al mandar a ejecutar la función\n",
    "con el arreglo \n",
    "\n",
    "```\n",
    "[ 2.70778878  1.16223895 -0.9442264  -4.93729647  3.09544082 \n",
    " -0.37185081 -3.99943434  4.73035645  2.54931701  0.2270238 ]\n",
    "```\n",
    "\n",
    "Cuando se usa $n=3$ y \"% .3f \" para el formato de los números, se debe\n",
    "obtener algo como:\n",
    "```   \n",
    " 2.708  1.162 -0.944  ...  4.730  2.549  0.227\n",
    "```\n",
    "\n",
    "Si cambiamos la cadena de formato a \"% .1e \" se debe obtener:\n",
    "```\n",
    " 2.71e+00  1.16e+00 -9.44e-01  ...  4.73e+00  2.55e+00  2.27e-01\n",
    "```\n",
    "\n",
    "> Note que en la cadena de formato hay un espacio entre \"%\" y \".1e\".\n",
    "Esto es para indicar que al imprimir el valor reserve un espacio\n",
    "para el signo de la cantidad. También note que hay un espacio\n",
    "después de \".1e\", que sirve para separar los elementos.\n",
    "\n",
    "> Revise el notebook de la clase 1 para ver las opciones para dar formato\n",
    "a las cadenas de caracteres y la función `print` para imprimirlas.\n",
    "\n",
    "\n",
    "### Solución:"
   ]
  },
  {
   "cell_type": "code",
   "execution_count": 2,
   "metadata": {},
   "outputs": [],
   "source": [
    "# En esta celda puede poner el código de la función \n",
    "# o poner la instrucción para importar la función de un archivo .py\n",
    "def imp(arr, n, format):\n",
    "    print('[', end='')\n",
    "    for a in arr[:min(n,(len(arr)+1)//2)]:\n",
    "        print(format % a, end='')\n",
    "    for a in arr[max(len(arr)-n,(len(arr)+1)//2):]:\n",
    "        print(format % a, end='')\n",
    "    print(']')"
   ]
  },
  {
   "cell_type": "code",
   "execution_count": 3,
   "metadata": {},
   "outputs": [
    {
     "name": "stdout",
     "output_type": "stream",
     "text": [
      "v1= [1.2  2.68 4.16 5.64 7.12 8.6 ]\n",
      "v2= [-8.6  -7.12 -5.64 -4.16 -2.68 -1.2   1.2   2.68  4.16  5.64  7.12  8.6 ]\n",
      "v1= [ 1.200  2.680  4.160  5.640  7.120  8.600 ]\n",
      "v2= [-8.600 -7.120 -5.640 -4.160  4.160  5.640  7.120  8.600 ]\n",
      "v1= [ 1.200e+00  2.680e+00  4.160e+00  5.640e+00  7.120e+00  8.600e+00 ]\n",
      "v2= [-8.600e+00 -7.120e+00 -5.640e+00  5.640e+00  7.120e+00  8.600e+00 ]\n",
      "v1= [ 01  02  04  05  07  08 ]\n",
      "v2= [-08 -07 -05 -04 -02  02  04  05  07  08 ]\n"
     ]
    }
   ],
   "source": [
    "# Esta celda es para generar los datos de prueba.\n",
    "# Puede agregar aquí las instrucciones que muestren los resultados\n",
    "# o hacerlo en celdas adicionales.\n",
    "\n",
    "import numpy as np\n",
    "\n",
    "v1 = np.linspace(1.2, 8.6, 6)\n",
    "v2 = np.concatenate((-v1[::-1], v1))\n",
    "print('v1=', v1)\n",
    "print('v2=', v2)\n",
    "\n",
    "# Imprimir v1 y v2 usando:\n",
    "# n=4 la cadena \"% .3f \"\n",
    "print('v1= ', end='')\n",
    "imp(v1, 4, \"% .3f \")\n",
    "print('v2= ', end='')\n",
    "imp(v2, 4, \"% .3f \")\n",
    "# n=3 la cadena \"% .3e \"\n",
    "print('v1= ', end='')\n",
    "imp(v1, 3, \"% .3e \")\n",
    "print('v2= ', end='')\n",
    "imp(v2, 3, \"% .3e \")\n",
    "# n=5 la cadena % 2d \"\n",
    "print('v1= ', end='')\n",
    "imp(v1, 5, \"% .2d \")\n",
    "print('v2= ', end='')\n",
    "imp(v2, 5, \"% .2d \")\n"
   ]
  },
  {
   "cell_type": "markdown",
   "metadata": {},
   "source": [
    "## Ejercicio 2 (4 puntos)\n",
    "\n",
    "Tenemos que \n",
    "\n",
    "$$ \\log(x+1) \\approx \\sum_{i=1}^n \\frac{1}{i} \\left(\\frac{x}{x+1}\\right)^i = Lxp1(x,n). $$\n",
    "\n",
    "1. Programe la función $Lxp1(x, n)$, donde $x$ es un número flotante\n",
    "   y el número de $n$ es la cantidad de términos en la suma.\n",
    "   La función devuelve la suma de los términos.\n",
    "\n",
    "2. Importe la librería `numpy` para poder usar la función `numpy.log`\n",
    "\n",
    "3. Escriba una función que reciba un arreglo de valores y el entero $n$.\n",
    "   Esta función tiene un ciclo que  itera sobre los valores $x$ del arreglo dado. \n",
    "   En cada iteración hay que imprimir \n",
    "   el valor $x$, el valor de $numpy.log(1+x)$, el valor $Lxp1(x,n)$ y \n",
    "   el error absoluto $numpy.abs(numpy.log(1+x) - Lxp1(x,n))$\n",
    "\n",
    "4. Pruebe la función anterior para $n=10, 100, 1000$ para ver que también aproxima la \n",
    "   función Lxp1 a la función $\\log(x+1)$ en los puntos $x=-0.55, -0.5, 0.5, 0.95, 100$,\n",
    "   y observar si la aproximación mejora conforme se incluyen más términos en la suma.\n",
    "   \n",
    "\n",
    "### Solución:"
   ]
  },
  {
   "cell_type": "code",
   "execution_count": 4,
   "metadata": {},
   "outputs": [],
   "source": [
    "# En esta celda puede poner el código de las funciones\n",
    "# o poner la instrucción para importar la función de un archivo .py\n",
    "def Lxp1(x,n):\n",
    "    return sum([1/i*(x/(x+1))**i for i in range(1,n+1)])\n",
    "\n",
    "def test(lx, n):\n",
    "    for x in lx:\n",
    "        print(x, np.log(1+x), Lxp1(x,n), np.abs(np.log(x+1)-Lxp1(x,n)))"
   ]
  },
  {
   "cell_type": "code",
   "execution_count": 5,
   "metadata": {},
   "outputs": [
    {
     "name": "stdout",
     "output_type": "stream",
     "text": [
      "-0.55 -0.7985076962177717 -0.40787871010566223 0.3906289861121095\n",
      "-0.5 -0.6931471805599453 -0.6456349206349207 0.047512259925024614\n",
      "0.5 0.4054651081081644 0.40546436817203463 7.399361297566465e-07\n",
      "0.95 0.6678293725756554 0.6677688464802967 6.052609535878162e-05\n",
      "100 4.61512051684126 2.832125695235509 1.7829948216057505\n"
     ]
    }
   ],
   "source": [
    "# Prueba de la función\n",
    "\n",
    "lx = [-0.55, -0.5, 0.5, 0.95, 100]\n",
    "test(lx,10)\n"
   ]
  },
  {
   "cell_type": "markdown",
   "metadata": {},
   "source": [
    "## Ejercicio 3 (2 puntos)\n",
    "\n",
    "1. Programe la función `comparacion(a,b)`, la cual recibe dos valores, $a$ y $b$.\n",
    "   La función imprime el mensaje \"Los valores a y b son iguales\" si se cumple que $a$ es igual a $b$.\n",
    "   En caso contrario, imprime el mensaje \"Los valores de a y b son diferentes\".\n",
    "2. Ejecute las instrucciones de las siguientes celdas para comparar los valores a y b dados.\n",
    "3. Escriba un comentario sobre los resultados obtenidos."
   ]
  },
  {
   "cell_type": "code",
   "execution_count": 6,
   "metadata": {},
   "outputs": [],
   "source": [
    "# En esta celda puede poner el código de la función\n",
    "# o poner la instrucción para importarlas de un archivo .py\n",
    "def comparacion(a,b):\n",
    "    print(\"Los valores a y b son iguales\" if a == b else \"Los valores de a y b son diferentes\")"
   ]
  },
  {
   "cell_type": "code",
   "execution_count": 7,
   "metadata": {},
   "outputs": [
    {
     "name": "stdout",
     "output_type": "stream",
     "text": [
      "Los valores a y b son iguales\n",
      "Los valores de a y b son diferentes\n",
      "Los valores de a y b son diferentes\n"
     ]
    }
   ],
   "source": [
    "# Pruebas \n",
    "\n",
    "c = 893.0\n",
    "a = (1.0/c)*c\n",
    "b = 1.0\n",
    "comparacion(a,b)\n",
    "\n",
    "c = 765.0\n",
    "a = (1.0/c)*c\n",
    "b = 1.0\n",
    "comparacion(a,b)\n",
    "\n",
    "c = np.sqrt(2.0)\n",
    "a = c*c\n",
    "b = 2.0\n",
    "comparacion(a,b)\n"
   ]
  },
  {
   "cell_type": "markdown",
   "metadata": {},
   "source": [
    "Comentarios:\n",
    "\n",
    "Debido a la precisión del punto flotante podemos observar que a pesar de aplicar una función y su función inversa no obtenemos el mismo resultado.\n",
    "\n",
    "\n",
    "\n"
   ]
  }
 ],
 "metadata": {
  "kernelspec": {
   "display_name": "Python 3 (ipykernel)",
   "language": "python",
   "name": "python3"
  },
  "language_info": {
   "codemirror_mode": {
    "name": "ipython",
    "version": 3
   },
   "file_extension": ".py",
   "mimetype": "text/x-python",
   "name": "python",
   "nbconvert_exporter": "python",
   "pygments_lexer": "ipython3",
   "version": "3.11.3"
  }
 },
 "nbformat": 4,
 "nbformat_minor": 4
}
