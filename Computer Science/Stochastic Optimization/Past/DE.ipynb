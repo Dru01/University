{
 "cells": [
  {
   "cell_type": "code",
   "execution_count": 4,
   "metadata": {},
   "outputs": [],
   "source": [
    "from scipy.optimize import rosen, differential_evolution\n",
    "from tqdm.notebook import tnrange\n",
    "\n",
    "import numpy as np\n",
    "import pandas as pd\n",
    "\n",
    "def report(f, proj_bound, dims, runs, opt):\n",
    "    bests = pd.DataFrame(columns=['dim','CR','x','f(x)'])\n",
    "    for cr in np.arange(0,1.25,0.25):\n",
    "        for dim in dims:\n",
    "            bounds = np.repeat(proj_bound, dim, axis=0)\n",
    "            for i in tnrange(runs):\n",
    "                ans = differential_evolution(\n",
    "                    func=f, \n",
    "                    bounds= bounds,\n",
    "                    strategy='rand1bin',\n",
    "                    maxiter=400,\n",
    "                    popsize=25,\n",
    "                    mutation=.85,\n",
    "                    recombination=.7,\n",
    "                    polish=False\n",
    "                    )\n",
    "                bests.loc[len(bests)] = {'dim' : dim, 'CR' : cr, 'x' : ans.x, 'f(x)' : abs(opt-ans.fun)}\n",
    "    bests = bests[['dim','CR','f(x)']].groupby(['dim','CR']).agg([np.min,np.max,np.mean,np.median,np.std])\n",
    "    bests.columns = bests.columns.set_levels(['Mejor','Peor','Media','Mediana','DesvStd'],level=1)\n",
    "    return bests"
   ]
  },
  {
   "cell_type": "code",
   "execution_count": 5,
   "metadata": {},
   "outputs": [],
   "source": [
    "dims = [10,30]\n",
    "runs = 30"
   ]
  },
  {
   "cell_type": "code",
   "execution_count": 6,
   "metadata": {},
   "outputs": [
    {
     "data": {
      "application/vnd.jupyter.widget-view+json": {
       "model_id": "c3f09954625f4805805831707b88da44",
       "version_major": 2,
       "version_minor": 0
      },
      "text/plain": [
       "  0%|          | 0/30 [00:00<?, ?it/s]"
      ]
     },
     "metadata": {},
     "output_type": "display_data"
    },
    {
     "data": {
      "application/vnd.jupyter.widget-view+json": {
       "model_id": "0ce0f9906539486baa15c750f7bcb784",
       "version_major": 2,
       "version_minor": 0
      },
      "text/plain": [
       "  0%|          | 0/30 [00:00<?, ?it/s]"
      ]
     },
     "metadata": {},
     "output_type": "display_data"
    },
    {
     "data": {
      "application/vnd.jupyter.widget-view+json": {
       "model_id": "66bfa1d9ab834db38c48458191115f71",
       "version_major": 2,
       "version_minor": 0
      },
      "text/plain": [
       "  0%|          | 0/30 [00:00<?, ?it/s]"
      ]
     },
     "metadata": {},
     "output_type": "display_data"
    },
    {
     "data": {
      "application/vnd.jupyter.widget-view+json": {
       "model_id": "06683766b1c24b478cf07593d04a2080",
       "version_major": 2,
       "version_minor": 0
      },
      "text/plain": [
       "  0%|          | 0/30 [00:00<?, ?it/s]"
      ]
     },
     "metadata": {},
     "output_type": "display_data"
    },
    {
     "data": {
      "application/vnd.jupyter.widget-view+json": {
       "model_id": "1efb24a5cdb941029ac881a431203178",
       "version_major": 2,
       "version_minor": 0
      },
      "text/plain": [
       "  0%|          | 0/30 [00:00<?, ?it/s]"
      ]
     },
     "metadata": {},
     "output_type": "display_data"
    },
    {
     "data": {
      "application/vnd.jupyter.widget-view+json": {
       "model_id": "e15781e9d3b8424eb10f8e6382b0233a",
       "version_major": 2,
       "version_minor": 0
      },
      "text/plain": [
       "  0%|          | 0/30 [00:00<?, ?it/s]"
      ]
     },
     "metadata": {},
     "output_type": "display_data"
    },
    {
     "data": {
      "application/vnd.jupyter.widget-view+json": {
       "model_id": "be4b16fa0759422aae7c3e5e60aad765",
       "version_major": 2,
       "version_minor": 0
      },
      "text/plain": [
       "  0%|          | 0/30 [00:00<?, ?it/s]"
      ]
     },
     "metadata": {},
     "output_type": "display_data"
    },
    {
     "data": {
      "application/vnd.jupyter.widget-view+json": {
       "model_id": "57f869e09e2645f5a6e454937911cd7a",
       "version_major": 2,
       "version_minor": 0
      },
      "text/plain": [
       "  0%|          | 0/30 [00:00<?, ?it/s]"
      ]
     },
     "metadata": {},
     "output_type": "display_data"
    },
    {
     "data": {
      "application/vnd.jupyter.widget-view+json": {
       "model_id": "d9af180a652847b99bdaebca317e61f0",
       "version_major": 2,
       "version_minor": 0
      },
      "text/plain": [
       "  0%|          | 0/30 [00:00<?, ?it/s]"
      ]
     },
     "metadata": {},
     "output_type": "display_data"
    },
    {
     "data": {
      "application/vnd.jupyter.widget-view+json": {
       "model_id": "6d8a5613a9ca44019773975636824007",
       "version_major": 2,
       "version_minor": 0
      },
      "text/plain": [
       "  0%|          | 0/30 [00:00<?, ?it/s]"
      ]
     },
     "metadata": {},
     "output_type": "display_data"
    },
    {
     "data": {
      "text/html": [
       "<div>\n",
       "<style scoped>\n",
       "    .dataframe tbody tr th:only-of-type {\n",
       "        vertical-align: middle;\n",
       "    }\n",
       "\n",
       "    .dataframe tbody tr th {\n",
       "        vertical-align: top;\n",
       "    }\n",
       "\n",
       "    .dataframe thead tr th {\n",
       "        text-align: left;\n",
       "    }\n",
       "\n",
       "    .dataframe thead tr:last-of-type th {\n",
       "        text-align: right;\n",
       "    }\n",
       "</style>\n",
       "<table border=\"1\" class=\"dataframe\">\n",
       "  <thead>\n",
       "    <tr>\n",
       "      <th></th>\n",
       "      <th></th>\n",
       "      <th colspan=\"5\" halign=\"left\">f(x)</th>\n",
       "    </tr>\n",
       "    <tr>\n",
       "      <th></th>\n",
       "      <th></th>\n",
       "      <th>Mejor</th>\n",
       "      <th>Peor</th>\n",
       "      <th>Media</th>\n",
       "      <th>Mediana</th>\n",
       "      <th>DesvStd</th>\n",
       "    </tr>\n",
       "    <tr>\n",
       "      <th>dim</th>\n",
       "      <th>CR</th>\n",
       "      <th></th>\n",
       "      <th></th>\n",
       "      <th></th>\n",
       "      <th></th>\n",
       "      <th></th>\n",
       "    </tr>\n",
       "  </thead>\n",
       "  <tbody>\n",
       "    <tr>\n",
       "      <th rowspan=\"5\" valign=\"top\">10</th>\n",
       "      <th>0.00</th>\n",
       "      <td>0.004030</td>\n",
       "      <td>0.014612</td>\n",
       "      <td>0.010187</td>\n",
       "      <td>0.010361</td>\n",
       "      <td>0.002670</td>\n",
       "    </tr>\n",
       "    <tr>\n",
       "      <th>0.25</th>\n",
       "      <td>0.004987</td>\n",
       "      <td>0.014279</td>\n",
       "      <td>0.009903</td>\n",
       "      <td>0.010478</td>\n",
       "      <td>0.002767</td>\n",
       "    </tr>\n",
       "    <tr>\n",
       "      <th>0.50</th>\n",
       "      <td>0.005218</td>\n",
       "      <td>0.018289</td>\n",
       "      <td>0.010409</td>\n",
       "      <td>0.009911</td>\n",
       "      <td>0.003066</td>\n",
       "    </tr>\n",
       "    <tr>\n",
       "      <th>0.75</th>\n",
       "      <td>0.005196</td>\n",
       "      <td>0.016473</td>\n",
       "      <td>0.010468</td>\n",
       "      <td>0.010514</td>\n",
       "      <td>0.003045</td>\n",
       "    </tr>\n",
       "    <tr>\n",
       "      <th>1.00</th>\n",
       "      <td>0.003054</td>\n",
       "      <td>0.015063</td>\n",
       "      <td>0.009919</td>\n",
       "      <td>0.009998</td>\n",
       "      <td>0.003190</td>\n",
       "    </tr>\n",
       "    <tr>\n",
       "      <th rowspan=\"5\" valign=\"top\">30</th>\n",
       "      <th>0.00</th>\n",
       "      <td>27.380815</td>\n",
       "      <td>37.302928</td>\n",
       "      <td>33.045246</td>\n",
       "      <td>33.458862</td>\n",
       "      <td>2.564661</td>\n",
       "    </tr>\n",
       "    <tr>\n",
       "      <th>0.25</th>\n",
       "      <td>26.251957</td>\n",
       "      <td>36.864076</td>\n",
       "      <td>32.670698</td>\n",
       "      <td>32.884906</td>\n",
       "      <td>3.002314</td>\n",
       "    </tr>\n",
       "    <tr>\n",
       "      <th>0.50</th>\n",
       "      <td>24.072805</td>\n",
       "      <td>38.156846</td>\n",
       "      <td>32.274879</td>\n",
       "      <td>32.253225</td>\n",
       "      <td>3.507425</td>\n",
       "    </tr>\n",
       "    <tr>\n",
       "      <th>0.75</th>\n",
       "      <td>25.069018</td>\n",
       "      <td>37.578294</td>\n",
       "      <td>33.323246</td>\n",
       "      <td>33.770897</td>\n",
       "      <td>3.286299</td>\n",
       "    </tr>\n",
       "    <tr>\n",
       "      <th>1.00</th>\n",
       "      <td>24.751918</td>\n",
       "      <td>36.928808</td>\n",
       "      <td>31.439252</td>\n",
       "      <td>31.894570</td>\n",
       "      <td>3.510886</td>\n",
       "    </tr>\n",
       "  </tbody>\n",
       "</table>\n",
       "</div>"
      ],
      "text/plain": [
       "               f(x)                                           \n",
       "              Mejor       Peor      Media    Mediana   DesvStd\n",
       "dim CR                                                        \n",
       "10  0.00   0.004030   0.014612   0.010187   0.010361  0.002670\n",
       "    0.25   0.004987   0.014279   0.009903   0.010478  0.002767\n",
       "    0.50   0.005218   0.018289   0.010409   0.009911  0.003066\n",
       "    0.75   0.005196   0.016473   0.010468   0.010514  0.003045\n",
       "    1.00   0.003054   0.015063   0.009919   0.009998  0.003190\n",
       "30  0.00  27.380815  37.302928  33.045246  33.458862  2.564661\n",
       "    0.25  26.251957  36.864076  32.670698  32.884906  3.002314\n",
       "    0.50  24.072805  38.156846  32.274879  32.253225  3.507425\n",
       "    0.75  25.069018  37.578294  33.323246  33.770897  3.286299\n",
       "    1.00  24.751918  36.928808  31.439252  31.894570  3.510886"
      ]
     },
     "execution_count": 6,
     "metadata": {},
     "output_type": "execute_result"
    }
   ],
   "source": [
    "def sphere(x):\n",
    "    return np.sum(np.power(x,2))\n",
    "\n",
    "proj_bound = np.array([[-5.12,5.12]])\n",
    "opt = 0\n",
    "report(sphere, proj_bound, dims, runs, opt)"
   ]
  },
  {
   "cell_type": "code",
   "execution_count": 7,
   "metadata": {},
   "outputs": [
    {
     "data": {
      "application/vnd.jupyter.widget-view+json": {
       "model_id": "28f2c7ce3950465591d06692f12c4330",
       "version_major": 2,
       "version_minor": 0
      },
      "text/plain": [
       "  0%|          | 0/30 [00:00<?, ?it/s]"
      ]
     },
     "metadata": {},
     "output_type": "display_data"
    },
    {
     "data": {
      "application/vnd.jupyter.widget-view+json": {
       "model_id": "c4d581d957904090b3f92e725e354bd8",
       "version_major": 2,
       "version_minor": 0
      },
      "text/plain": [
       "  0%|          | 0/30 [00:00<?, ?it/s]"
      ]
     },
     "metadata": {},
     "output_type": "display_data"
    },
    {
     "data": {
      "application/vnd.jupyter.widget-view+json": {
       "model_id": "85728eed47a34f7185059b2d9fb8ed2d",
       "version_major": 2,
       "version_minor": 0
      },
      "text/plain": [
       "  0%|          | 0/30 [00:00<?, ?it/s]"
      ]
     },
     "metadata": {},
     "output_type": "display_data"
    },
    {
     "data": {
      "application/vnd.jupyter.widget-view+json": {
       "model_id": "8e81ef08d04a4682b2d558e1d698e728",
       "version_major": 2,
       "version_minor": 0
      },
      "text/plain": [
       "  0%|          | 0/30 [00:00<?, ?it/s]"
      ]
     },
     "metadata": {},
     "output_type": "display_data"
    },
    {
     "data": {
      "application/vnd.jupyter.widget-view+json": {
       "model_id": "d5f07cd4934a4683b31bd6062e187af1",
       "version_major": 2,
       "version_minor": 0
      },
      "text/plain": [
       "  0%|          | 0/30 [00:00<?, ?it/s]"
      ]
     },
     "metadata": {},
     "output_type": "display_data"
    },
    {
     "data": {
      "application/vnd.jupyter.widget-view+json": {
       "model_id": "d406a7c541ab4836aaf4720f1078530c",
       "version_major": 2,
       "version_minor": 0
      },
      "text/plain": [
       "  0%|          | 0/30 [00:00<?, ?it/s]"
      ]
     },
     "metadata": {},
     "output_type": "display_data"
    },
    {
     "data": {
      "application/vnd.jupyter.widget-view+json": {
       "model_id": "105a805a572f4fec96e5cc1ec5de0a74",
       "version_major": 2,
       "version_minor": 0
      },
      "text/plain": [
       "  0%|          | 0/30 [00:00<?, ?it/s]"
      ]
     },
     "metadata": {},
     "output_type": "display_data"
    },
    {
     "data": {
      "application/vnd.jupyter.widget-view+json": {
       "model_id": "71246dd6249e42fea17fd5ce5fb1ea97",
       "version_major": 2,
       "version_minor": 0
      },
      "text/plain": [
       "  0%|          | 0/30 [00:00<?, ?it/s]"
      ]
     },
     "metadata": {},
     "output_type": "display_data"
    },
    {
     "data": {
      "application/vnd.jupyter.widget-view+json": {
       "model_id": "338f083f55ea47048279135e69e78bab",
       "version_major": 2,
       "version_minor": 0
      },
      "text/plain": [
       "  0%|          | 0/30 [00:00<?, ?it/s]"
      ]
     },
     "metadata": {},
     "output_type": "display_data"
    },
    {
     "data": {
      "application/vnd.jupyter.widget-view+json": {
       "model_id": "89e03a48ca35440eb7b1d93903040bdc",
       "version_major": 2,
       "version_minor": 0
      },
      "text/plain": [
       "  0%|          | 0/30 [00:00<?, ?it/s]"
      ]
     },
     "metadata": {},
     "output_type": "display_data"
    },
    {
     "data": {
      "text/html": [
       "<div>\n",
       "<style scoped>\n",
       "    .dataframe tbody tr th:only-of-type {\n",
       "        vertical-align: middle;\n",
       "    }\n",
       "\n",
       "    .dataframe tbody tr th {\n",
       "        vertical-align: top;\n",
       "    }\n",
       "\n",
       "    .dataframe thead tr th {\n",
       "        text-align: left;\n",
       "    }\n",
       "\n",
       "    .dataframe thead tr:last-of-type th {\n",
       "        text-align: right;\n",
       "    }\n",
       "</style>\n",
       "<table border=\"1\" class=\"dataframe\">\n",
       "  <thead>\n",
       "    <tr>\n",
       "      <th></th>\n",
       "      <th></th>\n",
       "      <th colspan=\"5\" halign=\"left\">f(x)</th>\n",
       "    </tr>\n",
       "    <tr>\n",
       "      <th></th>\n",
       "      <th></th>\n",
       "      <th>Mejor</th>\n",
       "      <th>Peor</th>\n",
       "      <th>Media</th>\n",
       "      <th>Mediana</th>\n",
       "      <th>DesvStd</th>\n",
       "    </tr>\n",
       "    <tr>\n",
       "      <th>dim</th>\n",
       "      <th>CR</th>\n",
       "      <th></th>\n",
       "      <th></th>\n",
       "      <th></th>\n",
       "      <th></th>\n",
       "      <th></th>\n",
       "    </tr>\n",
       "  </thead>\n",
       "  <tbody>\n",
       "    <tr>\n",
       "      <th rowspan=\"5\" valign=\"top\">10</th>\n",
       "      <th>0.00</th>\n",
       "      <td>0.176768</td>\n",
       "      <td>0.675301</td>\n",
       "      <td>0.434498</td>\n",
       "      <td>0.434048</td>\n",
       "      <td>0.104583</td>\n",
       "    </tr>\n",
       "    <tr>\n",
       "      <th>0.25</th>\n",
       "      <td>0.175951</td>\n",
       "      <td>0.605589</td>\n",
       "      <td>0.402578</td>\n",
       "      <td>0.431262</td>\n",
       "      <td>0.109811</td>\n",
       "    </tr>\n",
       "    <tr>\n",
       "      <th>0.50</th>\n",
       "      <td>0.093338</td>\n",
       "      <td>0.670442</td>\n",
       "      <td>0.390154</td>\n",
       "      <td>0.372790</td>\n",
       "      <td>0.125826</td>\n",
       "    </tr>\n",
       "    <tr>\n",
       "      <th>0.75</th>\n",
       "      <td>0.226632</td>\n",
       "      <td>0.638299</td>\n",
       "      <td>0.399730</td>\n",
       "      <td>0.390980</td>\n",
       "      <td>0.099376</td>\n",
       "    </tr>\n",
       "    <tr>\n",
       "      <th>1.00</th>\n",
       "      <td>0.177598</td>\n",
       "      <td>0.650398</td>\n",
       "      <td>0.406954</td>\n",
       "      <td>0.394656</td>\n",
       "      <td>0.112574</td>\n",
       "    </tr>\n",
       "    <tr>\n",
       "      <th rowspan=\"5\" valign=\"top\">30</th>\n",
       "      <th>0.00</th>\n",
       "      <td>1090.812312</td>\n",
       "      <td>1522.265758</td>\n",
       "      <td>1321.852135</td>\n",
       "      <td>1347.765138</td>\n",
       "      <td>127.206628</td>\n",
       "    </tr>\n",
       "    <tr>\n",
       "      <th>0.25</th>\n",
       "      <td>1097.392809</td>\n",
       "      <td>1487.702326</td>\n",
       "      <td>1323.506712</td>\n",
       "      <td>1323.332100</td>\n",
       "      <td>100.414803</td>\n",
       "    </tr>\n",
       "    <tr>\n",
       "      <th>0.50</th>\n",
       "      <td>1105.102797</td>\n",
       "      <td>1563.409258</td>\n",
       "      <td>1336.913447</td>\n",
       "      <td>1348.419107</td>\n",
       "      <td>104.114714</td>\n",
       "    </tr>\n",
       "    <tr>\n",
       "      <th>0.75</th>\n",
       "      <td>936.039473</td>\n",
       "      <td>1526.643239</td>\n",
       "      <td>1300.503344</td>\n",
       "      <td>1341.810314</td>\n",
       "      <td>150.679644</td>\n",
       "    </tr>\n",
       "    <tr>\n",
       "      <th>1.00</th>\n",
       "      <td>763.718322</td>\n",
       "      <td>1488.323605</td>\n",
       "      <td>1307.325716</td>\n",
       "      <td>1326.835939</td>\n",
       "      <td>141.511115</td>\n",
       "    </tr>\n",
       "  </tbody>\n",
       "</table>\n",
       "</div>"
      ],
      "text/plain": [
       "                 f(x)                                                   \n",
       "                Mejor         Peor        Media      Mediana     DesvStd\n",
       "dim CR                                                                  \n",
       "10  0.00     0.176768     0.675301     0.434498     0.434048    0.104583\n",
       "    0.25     0.175951     0.605589     0.402578     0.431262    0.109811\n",
       "    0.50     0.093338     0.670442     0.390154     0.372790    0.125826\n",
       "    0.75     0.226632     0.638299     0.399730     0.390980    0.099376\n",
       "    1.00     0.177598     0.650398     0.406954     0.394656    0.112574\n",
       "30  0.00  1090.812312  1522.265758  1321.852135  1347.765138  127.206628\n",
       "    0.25  1097.392809  1487.702326  1323.506712  1323.332100  100.414803\n",
       "    0.50  1105.102797  1563.409258  1336.913447  1348.419107  104.114714\n",
       "    0.75   936.039473  1526.643239  1300.503344  1341.810314  150.679644\n",
       "    1.00   763.718322  1488.323605  1307.325716  1326.835939  141.511115"
      ]
     },
     "execution_count": 7,
     "metadata": {},
     "output_type": "execute_result"
    }
   ],
   "source": [
    "def ackley(x):\n",
    "    return -20*np.exp(-0.2*np.sqrt(np.sum(np.power(x,2))/x.shape[0]))-np.exp(np.sum(np.cos(2*np.pi*x))/x.shape[0])+20+np.exp(1)\n",
    "\n",
    "proj_bound = np.array([[-32.768,32.768]])\n",
    "opt = 0\n",
    "report(sphere, proj_bound, dims, runs, opt)"
   ]
  },
  {
   "cell_type": "code",
   "execution_count": 8,
   "metadata": {},
   "outputs": [
    {
     "data": {
      "application/vnd.jupyter.widget-view+json": {
       "model_id": "053436b5de2b4cdeb3d2cc28bc711279",
       "version_major": 2,
       "version_minor": 0
      },
      "text/plain": [
       "  0%|          | 0/30 [00:00<?, ?it/s]"
      ]
     },
     "metadata": {},
     "output_type": "display_data"
    },
    {
     "data": {
      "application/vnd.jupyter.widget-view+json": {
       "model_id": "9f6eb1dbb6c446c386c12e00970f6996",
       "version_major": 2,
       "version_minor": 0
      },
      "text/plain": [
       "  0%|          | 0/30 [00:00<?, ?it/s]"
      ]
     },
     "metadata": {},
     "output_type": "display_data"
    },
    {
     "data": {
      "application/vnd.jupyter.widget-view+json": {
       "model_id": "43d68c06b4eb4752993776194bb4038d",
       "version_major": 2,
       "version_minor": 0
      },
      "text/plain": [
       "  0%|          | 0/30 [00:00<?, ?it/s]"
      ]
     },
     "metadata": {},
     "output_type": "display_data"
    },
    {
     "data": {
      "application/vnd.jupyter.widget-view+json": {
       "model_id": "9beeb1a5bd7843aaae55ac2cb73fd80c",
       "version_major": 2,
       "version_minor": 0
      },
      "text/plain": [
       "  0%|          | 0/30 [00:00<?, ?it/s]"
      ]
     },
     "metadata": {},
     "output_type": "display_data"
    },
    {
     "data": {
      "application/vnd.jupyter.widget-view+json": {
       "model_id": "134ae701474c418798ff1deb7a9ed0bd",
       "version_major": 2,
       "version_minor": 0
      },
      "text/plain": [
       "  0%|          | 0/30 [00:00<?, ?it/s]"
      ]
     },
     "metadata": {},
     "output_type": "display_data"
    },
    {
     "data": {
      "application/vnd.jupyter.widget-view+json": {
       "model_id": "a8075c857ca34f68ac8d8d4b39e42526",
       "version_major": 2,
       "version_minor": 0
      },
      "text/plain": [
       "  0%|          | 0/30 [00:00<?, ?it/s]"
      ]
     },
     "metadata": {},
     "output_type": "display_data"
    },
    {
     "data": {
      "application/vnd.jupyter.widget-view+json": {
       "model_id": "cafe9d2faf97430092d98a4dd40c2b55",
       "version_major": 2,
       "version_minor": 0
      },
      "text/plain": [
       "  0%|          | 0/30 [00:00<?, ?it/s]"
      ]
     },
     "metadata": {},
     "output_type": "display_data"
    },
    {
     "data": {
      "application/vnd.jupyter.widget-view+json": {
       "model_id": "50f620ca517c45f89f94d823471016bf",
       "version_major": 2,
       "version_minor": 0
      },
      "text/plain": [
       "  0%|          | 0/30 [00:00<?, ?it/s]"
      ]
     },
     "metadata": {},
     "output_type": "display_data"
    },
    {
     "data": {
      "application/vnd.jupyter.widget-view+json": {
       "model_id": "1f5785a7f57947788e9d966f493e2b8c",
       "version_major": 2,
       "version_minor": 0
      },
      "text/plain": [
       "  0%|          | 0/30 [00:00<?, ?it/s]"
      ]
     },
     "metadata": {},
     "output_type": "display_data"
    },
    {
     "data": {
      "application/vnd.jupyter.widget-view+json": {
       "model_id": "f686e0fa5abb4964bd8d79c96e0ea3af",
       "version_major": 2,
       "version_minor": 0
      },
      "text/plain": [
       "  0%|          | 0/30 [00:00<?, ?it/s]"
      ]
     },
     "metadata": {},
     "output_type": "display_data"
    },
    {
     "data": {
      "text/html": [
       "<div>\n",
       "<style scoped>\n",
       "    .dataframe tbody tr th:only-of-type {\n",
       "        vertical-align: middle;\n",
       "    }\n",
       "\n",
       "    .dataframe tbody tr th {\n",
       "        vertical-align: top;\n",
       "    }\n",
       "\n",
       "    .dataframe thead tr th {\n",
       "        text-align: left;\n",
       "    }\n",
       "\n",
       "    .dataframe thead tr:last-of-type th {\n",
       "        text-align: right;\n",
       "    }\n",
       "</style>\n",
       "<table border=\"1\" class=\"dataframe\">\n",
       "  <thead>\n",
       "    <tr>\n",
       "      <th></th>\n",
       "      <th></th>\n",
       "      <th colspan=\"5\" halign=\"left\">f(x)</th>\n",
       "    </tr>\n",
       "    <tr>\n",
       "      <th></th>\n",
       "      <th></th>\n",
       "      <th>Mejor</th>\n",
       "      <th>Peor</th>\n",
       "      <th>Media</th>\n",
       "      <th>Mediana</th>\n",
       "      <th>DesvStd</th>\n",
       "    </tr>\n",
       "    <tr>\n",
       "      <th>dim</th>\n",
       "      <th>CR</th>\n",
       "      <th></th>\n",
       "      <th></th>\n",
       "      <th></th>\n",
       "      <th></th>\n",
       "      <th></th>\n",
       "    </tr>\n",
       "  </thead>\n",
       "  <tbody>\n",
       "    <tr>\n",
       "      <th rowspan=\"5\" valign=\"top\">10</th>\n",
       "      <th>0.00</th>\n",
       "      <td>0.004694</td>\n",
       "      <td>0.016949</td>\n",
       "      <td>0.009625</td>\n",
       "      <td>0.009366</td>\n",
       "      <td>0.003039</td>\n",
       "    </tr>\n",
       "    <tr>\n",
       "      <th>0.25</th>\n",
       "      <td>0.006678</td>\n",
       "      <td>0.017534</td>\n",
       "      <td>0.011404</td>\n",
       "      <td>0.011208</td>\n",
       "      <td>0.003070</td>\n",
       "    </tr>\n",
       "    <tr>\n",
       "      <th>0.50</th>\n",
       "      <td>0.004527</td>\n",
       "      <td>0.018801</td>\n",
       "      <td>0.010683</td>\n",
       "      <td>0.011305</td>\n",
       "      <td>0.003261</td>\n",
       "    </tr>\n",
       "    <tr>\n",
       "      <th>0.75</th>\n",
       "      <td>0.004762</td>\n",
       "      <td>0.016023</td>\n",
       "      <td>0.009949</td>\n",
       "      <td>0.009916</td>\n",
       "      <td>0.002606</td>\n",
       "    </tr>\n",
       "    <tr>\n",
       "      <th>1.00</th>\n",
       "      <td>0.003342</td>\n",
       "      <td>0.019265</td>\n",
       "      <td>0.010007</td>\n",
       "      <td>0.010509</td>\n",
       "      <td>0.003682</td>\n",
       "    </tr>\n",
       "    <tr>\n",
       "      <th rowspan=\"5\" valign=\"top\">30</th>\n",
       "      <th>0.00</th>\n",
       "      <td>26.319685</td>\n",
       "      <td>37.810091</td>\n",
       "      <td>33.548159</td>\n",
       "      <td>34.336095</td>\n",
       "      <td>2.693689</td>\n",
       "    </tr>\n",
       "    <tr>\n",
       "      <th>0.25</th>\n",
       "      <td>21.314313</td>\n",
       "      <td>39.144066</td>\n",
       "      <td>32.454513</td>\n",
       "      <td>33.801244</td>\n",
       "      <td>4.344137</td>\n",
       "    </tr>\n",
       "    <tr>\n",
       "      <th>0.50</th>\n",
       "      <td>29.037860</td>\n",
       "      <td>38.376248</td>\n",
       "      <td>32.736642</td>\n",
       "      <td>32.402199</td>\n",
       "      <td>2.433724</td>\n",
       "    </tr>\n",
       "    <tr>\n",
       "      <th>0.75</th>\n",
       "      <td>24.264346</td>\n",
       "      <td>38.037128</td>\n",
       "      <td>32.569992</td>\n",
       "      <td>32.557102</td>\n",
       "      <td>3.672295</td>\n",
       "    </tr>\n",
       "    <tr>\n",
       "      <th>1.00</th>\n",
       "      <td>19.377611</td>\n",
       "      <td>37.307857</td>\n",
       "      <td>32.247028</td>\n",
       "      <td>32.967301</td>\n",
       "      <td>3.580326</td>\n",
       "    </tr>\n",
       "  </tbody>\n",
       "</table>\n",
       "</div>"
      ],
      "text/plain": [
       "               f(x)                                           \n",
       "              Mejor       Peor      Media    Mediana   DesvStd\n",
       "dim CR                                                        \n",
       "10  0.00   0.004694   0.016949   0.009625   0.009366  0.003039\n",
       "    0.25   0.006678   0.017534   0.011404   0.011208  0.003070\n",
       "    0.50   0.004527   0.018801   0.010683   0.011305  0.003261\n",
       "    0.75   0.004762   0.016023   0.009949   0.009916  0.002606\n",
       "    1.00   0.003342   0.019265   0.010007   0.010509  0.003682\n",
       "30  0.00  26.319685  37.810091  33.548159  34.336095  2.693689\n",
       "    0.25  21.314313  39.144066  32.454513  33.801244  4.344137\n",
       "    0.50  29.037860  38.376248  32.736642  32.402199  2.433724\n",
       "    0.75  24.264346  38.037128  32.569992  32.557102  3.672295\n",
       "    1.00  19.377611  37.307857  32.247028  32.967301  3.580326"
      ]
     },
     "execution_count": 8,
     "metadata": {},
     "output_type": "execute_result"
    }
   ],
   "source": [
    "def rastrigin(x):\n",
    "    return 10*x.shape[0]+np.sum(np.power(x,2)-10*np.cos(2*np.pi*x))\n",
    "\n",
    "proj_bound = np.array([[-5.12,5.12]])\n",
    "opt = 0\n",
    "report(sphere, proj_bound, dims, runs, opt)"
   ]
  }
 ],
 "metadata": {
  "kernelspec": {
   "display_name": "Python 3",
   "language": "python",
   "name": "python3"
  },
  "language_info": {
   "codemirror_mode": {
    "name": "ipython",
    "version": 3
   },
   "file_extension": ".py",
   "mimetype": "text/x-python",
   "name": "python",
   "nbconvert_exporter": "python",
   "pygments_lexer": "ipython3",
   "version": "3.11.3"
  },
  "orig_nbformat": 4
 },
 "nbformat": 4,
 "nbformat_minor": 2
}
