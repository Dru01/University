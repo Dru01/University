{
 "cells": [
  {
   "cell_type": "code",
   "execution_count": 7,
   "metadata": {},
   "outputs": [],
   "source": [
    "from scipy.optimize import rosen, differential_evolution\n",
    "from tqdm.notebook import tnrange\n",
    "\n",
    "import numpy as np\n",
    "import pandas as pd\n",
    "\n",
    "def report(f, proj_bound, dims, runs, opt):\n",
    "    bests = pd.DataFrame(columns=['dim','CR','x','f(x)'])\n",
    "    for cr in np.arange(0,1.25,0.25):\n",
    "        for dim in dims:\n",
    "            bounds = np.repeat(proj_bound, dim, axis=0)\n",
    "            for i in tnrange(runs):\n",
    "                ans = differential_evolution(\n",
    "                    func=f, \n",
    "                    bounds= bounds,\n",
    "                    strategy='rand1bin',\n",
    "                    maxiter=200,\n",
    "                    popsize=50,\n",
    "                    mutation=.85,\n",
    "                    recombination=.7,\n",
    "                    polish=False\n",
    "                    )\n",
    "                bests.loc[len(bests)] = {'dim' : dim, 'CR' : cr, 'x' : ans.x, 'f(x)' : abs(opt-ans.fun)}\n",
    "    bests = bests[['dim','CR','f(x)']].groupby(['dim','CR']).agg([np.min,np.max,np.mean,np.median,np.std])\n",
    "    bests.columns = bests.columns.set_levels(['Mejor','Peor','Media','Mediana','DesvStd'],level=1)\n",
    "    return bests"
   ]
  },
  {
   "cell_type": "code",
   "execution_count": 8,
   "metadata": {},
   "outputs": [],
   "source": [
    "dims = [10,30]\n",
    "runs = 30"
   ]
  },
  {
   "cell_type": "code",
   "execution_count": 9,
   "metadata": {},
   "outputs": [
    {
     "data": {
      "application/vnd.jupyter.widget-view+json": {
       "model_id": "0f26d171cc6a4f33b634ef1b79709c15",
       "version_major": 2,
       "version_minor": 0
      },
      "text/plain": [
       "  0%|          | 0/30 [00:00<?, ?it/s]"
      ]
     },
     "metadata": {},
     "output_type": "display_data"
    },
    {
     "data": {
      "application/vnd.jupyter.widget-view+json": {
       "model_id": "403984d0c86c4d4dbfe4d4c1f2a10f8c",
       "version_major": 2,
       "version_minor": 0
      },
      "text/plain": [
       "  0%|          | 0/30 [00:00<?, ?it/s]"
      ]
     },
     "metadata": {},
     "output_type": "display_data"
    },
    {
     "data": {
      "application/vnd.jupyter.widget-view+json": {
       "model_id": "6a20907100994ad6ad9854ca32e055e2",
       "version_major": 2,
       "version_minor": 0
      },
      "text/plain": [
       "  0%|          | 0/30 [00:00<?, ?it/s]"
      ]
     },
     "metadata": {},
     "output_type": "display_data"
    },
    {
     "data": {
      "application/vnd.jupyter.widget-view+json": {
       "model_id": "9943b94f6cbc41428165b4c714985879",
       "version_major": 2,
       "version_minor": 0
      },
      "text/plain": [
       "  0%|          | 0/30 [00:00<?, ?it/s]"
      ]
     },
     "metadata": {},
     "output_type": "display_data"
    },
    {
     "data": {
      "application/vnd.jupyter.widget-view+json": {
       "model_id": "75ba6eb6b5634933a82bf60e873adc35",
       "version_major": 2,
       "version_minor": 0
      },
      "text/plain": [
       "  0%|          | 0/30 [00:00<?, ?it/s]"
      ]
     },
     "metadata": {},
     "output_type": "display_data"
    },
    {
     "data": {
      "application/vnd.jupyter.widget-view+json": {
       "model_id": "7f43f9407ea3483a861f3059153f0075",
       "version_major": 2,
       "version_minor": 0
      },
      "text/plain": [
       "  0%|          | 0/30 [00:00<?, ?it/s]"
      ]
     },
     "metadata": {},
     "output_type": "display_data"
    },
    {
     "data": {
      "application/vnd.jupyter.widget-view+json": {
       "model_id": "8581dd1d2fe34fdeaf0db131d3d275cd",
       "version_major": 2,
       "version_minor": 0
      },
      "text/plain": [
       "  0%|          | 0/30 [00:00<?, ?it/s]"
      ]
     },
     "metadata": {},
     "output_type": "display_data"
    },
    {
     "data": {
      "application/vnd.jupyter.widget-view+json": {
       "model_id": "2f47948347094192bf4393319d104d5f",
       "version_major": 2,
       "version_minor": 0
      },
      "text/plain": [
       "  0%|          | 0/30 [00:00<?, ?it/s]"
      ]
     },
     "metadata": {},
     "output_type": "display_data"
    },
    {
     "data": {
      "application/vnd.jupyter.widget-view+json": {
       "model_id": "03a1f0d23cea4005a5bf891a0c9dc968",
       "version_major": 2,
       "version_minor": 0
      },
      "text/plain": [
       "  0%|          | 0/30 [00:00<?, ?it/s]"
      ]
     },
     "metadata": {},
     "output_type": "display_data"
    },
    {
     "data": {
      "application/vnd.jupyter.widget-view+json": {
       "model_id": "66f85da99f274579b11ecb0ba7ccf173",
       "version_major": 2,
       "version_minor": 0
      },
      "text/plain": [
       "  0%|          | 0/30 [00:00<?, ?it/s]"
      ]
     },
     "metadata": {},
     "output_type": "display_data"
    },
    {
     "data": {
      "text/html": [
       "<div>\n",
       "<style scoped>\n",
       "    .dataframe tbody tr th:only-of-type {\n",
       "        vertical-align: middle;\n",
       "    }\n",
       "\n",
       "    .dataframe tbody tr th {\n",
       "        vertical-align: top;\n",
       "    }\n",
       "\n",
       "    .dataframe thead tr th {\n",
       "        text-align: left;\n",
       "    }\n",
       "\n",
       "    .dataframe thead tr:last-of-type th {\n",
       "        text-align: right;\n",
       "    }\n",
       "</style>\n",
       "<table border=\"1\" class=\"dataframe\">\n",
       "  <thead>\n",
       "    <tr>\n",
       "      <th></th>\n",
       "      <th></th>\n",
       "      <th colspan=\"5\" halign=\"left\">f(x)</th>\n",
       "    </tr>\n",
       "    <tr>\n",
       "      <th></th>\n",
       "      <th></th>\n",
       "      <th>Mejor</th>\n",
       "      <th>Peor</th>\n",
       "      <th>Media</th>\n",
       "      <th>Mediana</th>\n",
       "      <th>DesvStd</th>\n",
       "    </tr>\n",
       "    <tr>\n",
       "      <th>dim</th>\n",
       "      <th>CR</th>\n",
       "      <th></th>\n",
       "      <th></th>\n",
       "      <th></th>\n",
       "      <th></th>\n",
       "      <th></th>\n",
       "    </tr>\n",
       "  </thead>\n",
       "  <tbody>\n",
       "    <tr>\n",
       "      <th rowspan=\"5\" valign=\"top\">10</th>\n",
       "      <th>0.00</th>\n",
       "      <td>0.003076</td>\n",
       "      <td>0.015623</td>\n",
       "      <td>0.010247</td>\n",
       "      <td>0.010199</td>\n",
       "      <td>0.002997</td>\n",
       "    </tr>\n",
       "    <tr>\n",
       "      <th>0.25</th>\n",
       "      <td>0.005476</td>\n",
       "      <td>0.016653</td>\n",
       "      <td>0.010325</td>\n",
       "      <td>0.009903</td>\n",
       "      <td>0.002825</td>\n",
       "    </tr>\n",
       "    <tr>\n",
       "      <th>0.50</th>\n",
       "      <td>0.005013</td>\n",
       "      <td>0.016797</td>\n",
       "      <td>0.009803</td>\n",
       "      <td>0.009825</td>\n",
       "      <td>0.002980</td>\n",
       "    </tr>\n",
       "    <tr>\n",
       "      <th>0.75</th>\n",
       "      <td>0.006862</td>\n",
       "      <td>0.015999</td>\n",
       "      <td>0.011120</td>\n",
       "      <td>0.010927</td>\n",
       "      <td>0.002315</td>\n",
       "    </tr>\n",
       "    <tr>\n",
       "      <th>1.00</th>\n",
       "      <td>0.003927</td>\n",
       "      <td>0.017217</td>\n",
       "      <td>0.010591</td>\n",
       "      <td>0.010053</td>\n",
       "      <td>0.003615</td>\n",
       "    </tr>\n",
       "    <tr>\n",
       "      <th rowspan=\"5\" valign=\"top\">30</th>\n",
       "      <th>0.00</th>\n",
       "      <td>26.637415</td>\n",
       "      <td>37.560710</td>\n",
       "      <td>32.859342</td>\n",
       "      <td>33.182232</td>\n",
       "      <td>2.790895</td>\n",
       "    </tr>\n",
       "    <tr>\n",
       "      <th>0.25</th>\n",
       "      <td>27.286380</td>\n",
       "      <td>38.193932</td>\n",
       "      <td>33.421473</td>\n",
       "      <td>33.644224</td>\n",
       "      <td>3.065998</td>\n",
       "    </tr>\n",
       "    <tr>\n",
       "      <th>0.50</th>\n",
       "      <td>24.050373</td>\n",
       "      <td>39.747115</td>\n",
       "      <td>33.126224</td>\n",
       "      <td>33.137447</td>\n",
       "      <td>3.450860</td>\n",
       "    </tr>\n",
       "    <tr>\n",
       "      <th>0.75</th>\n",
       "      <td>26.536236</td>\n",
       "      <td>39.271040</td>\n",
       "      <td>33.474020</td>\n",
       "      <td>34.232274</td>\n",
       "      <td>3.182030</td>\n",
       "    </tr>\n",
       "    <tr>\n",
       "      <th>1.00</th>\n",
       "      <td>25.456310</td>\n",
       "      <td>37.855448</td>\n",
       "      <td>32.985979</td>\n",
       "      <td>33.736153</td>\n",
       "      <td>2.757714</td>\n",
       "    </tr>\n",
       "  </tbody>\n",
       "</table>\n",
       "</div>"
      ],
      "text/plain": [
       "               f(x)                                           \n",
       "              Mejor       Peor      Media    Mediana   DesvStd\n",
       "dim CR                                                        \n",
       "10  0.00   0.003076   0.015623   0.010247   0.010199  0.002997\n",
       "    0.25   0.005476   0.016653   0.010325   0.009903  0.002825\n",
       "    0.50   0.005013   0.016797   0.009803   0.009825  0.002980\n",
       "    0.75   0.006862   0.015999   0.011120   0.010927  0.002315\n",
       "    1.00   0.003927   0.017217   0.010591   0.010053  0.003615\n",
       "30  0.00  26.637415  37.560710  32.859342  33.182232  2.790895\n",
       "    0.25  27.286380  38.193932  33.421473  33.644224  3.065998\n",
       "    0.50  24.050373  39.747115  33.126224  33.137447  3.450860\n",
       "    0.75  26.536236  39.271040  33.474020  34.232274  3.182030\n",
       "    1.00  25.456310  37.855448  32.985979  33.736153  2.757714"
      ]
     },
     "execution_count": 9,
     "metadata": {},
     "output_type": "execute_result"
    }
   ],
   "source": [
    "def sphere(x):\n",
    "    return np.sum(np.power(x,2))\n",
    "\n",
    "proj_bound = np.array([[-5.12,5.12]])\n",
    "opt = 0\n",
    "report(sphere, proj_bound, dims, runs, opt)"
   ]
  },
  {
   "cell_type": "code",
   "execution_count": 10,
   "metadata": {},
   "outputs": [
    {
     "data": {
      "application/vnd.jupyter.widget-view+json": {
       "model_id": "9cf849f3dcf949fd8ef552d1dfc6fea3",
       "version_major": 2,
       "version_minor": 0
      },
      "text/plain": [
       "  0%|          | 0/30 [00:00<?, ?it/s]"
      ]
     },
     "metadata": {},
     "output_type": "display_data"
    },
    {
     "data": {
      "application/vnd.jupyter.widget-view+json": {
       "model_id": "231e017ae3114a868a5e9a7c9dd9100a",
       "version_major": 2,
       "version_minor": 0
      },
      "text/plain": [
       "  0%|          | 0/30 [00:00<?, ?it/s]"
      ]
     },
     "metadata": {},
     "output_type": "display_data"
    },
    {
     "data": {
      "application/vnd.jupyter.widget-view+json": {
       "model_id": "758b41d5f5964b16a1b447d8e9d5dbe3",
       "version_major": 2,
       "version_minor": 0
      },
      "text/plain": [
       "  0%|          | 0/30 [00:00<?, ?it/s]"
      ]
     },
     "metadata": {},
     "output_type": "display_data"
    },
    {
     "data": {
      "application/vnd.jupyter.widget-view+json": {
       "model_id": "c2b975f7f9dd488d82626475d14a4893",
       "version_major": 2,
       "version_minor": 0
      },
      "text/plain": [
       "  0%|          | 0/30 [00:00<?, ?it/s]"
      ]
     },
     "metadata": {},
     "output_type": "display_data"
    },
    {
     "data": {
      "application/vnd.jupyter.widget-view+json": {
       "model_id": "a77bef2b9e9a459fbd19917e07cf6ae4",
       "version_major": 2,
       "version_minor": 0
      },
      "text/plain": [
       "  0%|          | 0/30 [00:00<?, ?it/s]"
      ]
     },
     "metadata": {},
     "output_type": "display_data"
    },
    {
     "data": {
      "application/vnd.jupyter.widget-view+json": {
       "model_id": "2bdae1cb45d743fb8fbcdfa6d6fe36c6",
       "version_major": 2,
       "version_minor": 0
      },
      "text/plain": [
       "  0%|          | 0/30 [00:00<?, ?it/s]"
      ]
     },
     "metadata": {},
     "output_type": "display_data"
    },
    {
     "data": {
      "application/vnd.jupyter.widget-view+json": {
       "model_id": "03ad2cdb65334031b130c432a1f7e077",
       "version_major": 2,
       "version_minor": 0
      },
      "text/plain": [
       "  0%|          | 0/30 [00:00<?, ?it/s]"
      ]
     },
     "metadata": {},
     "output_type": "display_data"
    },
    {
     "data": {
      "application/vnd.jupyter.widget-view+json": {
       "model_id": "ba2aa93112cc4860a4658fc8cf86eb0f",
       "version_major": 2,
       "version_minor": 0
      },
      "text/plain": [
       "  0%|          | 0/30 [00:00<?, ?it/s]"
      ]
     },
     "metadata": {},
     "output_type": "display_data"
    },
    {
     "data": {
      "application/vnd.jupyter.widget-view+json": {
       "model_id": "0d44729879b34607b12da21699d81e46",
       "version_major": 2,
       "version_minor": 0
      },
      "text/plain": [
       "  0%|          | 0/30 [00:00<?, ?it/s]"
      ]
     },
     "metadata": {},
     "output_type": "display_data"
    },
    {
     "data": {
      "application/vnd.jupyter.widget-view+json": {
       "model_id": "4d8bfa5ed4824d23917dfbe394e14c2d",
       "version_major": 2,
       "version_minor": 0
      },
      "text/plain": [
       "  0%|          | 0/30 [00:00<?, ?it/s]"
      ]
     },
     "metadata": {},
     "output_type": "display_data"
    },
    {
     "data": {
      "text/html": [
       "<div>\n",
       "<style scoped>\n",
       "    .dataframe tbody tr th:only-of-type {\n",
       "        vertical-align: middle;\n",
       "    }\n",
       "\n",
       "    .dataframe tbody tr th {\n",
       "        vertical-align: top;\n",
       "    }\n",
       "\n",
       "    .dataframe thead tr th {\n",
       "        text-align: left;\n",
       "    }\n",
       "\n",
       "    .dataframe thead tr:last-of-type th {\n",
       "        text-align: right;\n",
       "    }\n",
       "</style>\n",
       "<table border=\"1\" class=\"dataframe\">\n",
       "  <thead>\n",
       "    <tr>\n",
       "      <th></th>\n",
       "      <th></th>\n",
       "      <th colspan=\"5\" halign=\"left\">f(x)</th>\n",
       "    </tr>\n",
       "    <tr>\n",
       "      <th></th>\n",
       "      <th></th>\n",
       "      <th>Mejor</th>\n",
       "      <th>Peor</th>\n",
       "      <th>Media</th>\n",
       "      <th>Mediana</th>\n",
       "      <th>DesvStd</th>\n",
       "    </tr>\n",
       "    <tr>\n",
       "      <th>dim</th>\n",
       "      <th>CR</th>\n",
       "      <th></th>\n",
       "      <th></th>\n",
       "      <th></th>\n",
       "      <th></th>\n",
       "      <th></th>\n",
       "    </tr>\n",
       "  </thead>\n",
       "  <tbody>\n",
       "    <tr>\n",
       "      <th rowspan=\"5\" valign=\"top\">10</th>\n",
       "      <th>0.00</th>\n",
       "      <td>0.215574</td>\n",
       "      <td>0.565534</td>\n",
       "      <td>0.409451</td>\n",
       "      <td>0.400714</td>\n",
       "      <td>0.088578</td>\n",
       "    </tr>\n",
       "    <tr>\n",
       "      <th>0.25</th>\n",
       "      <td>0.111315</td>\n",
       "      <td>0.600343</td>\n",
       "      <td>0.425336</td>\n",
       "      <td>0.463842</td>\n",
       "      <td>0.128457</td>\n",
       "    </tr>\n",
       "    <tr>\n",
       "      <th>0.50</th>\n",
       "      <td>0.269653</td>\n",
       "      <td>0.680553</td>\n",
       "      <td>0.443345</td>\n",
       "      <td>0.451354</td>\n",
       "      <td>0.103105</td>\n",
       "    </tr>\n",
       "    <tr>\n",
       "      <th>0.75</th>\n",
       "      <td>0.239480</td>\n",
       "      <td>0.691861</td>\n",
       "      <td>0.420684</td>\n",
       "      <td>0.409319</td>\n",
       "      <td>0.113412</td>\n",
       "    </tr>\n",
       "    <tr>\n",
       "      <th>1.00</th>\n",
       "      <td>0.210618</td>\n",
       "      <td>0.671507</td>\n",
       "      <td>0.448263</td>\n",
       "      <td>0.464713</td>\n",
       "      <td>0.121543</td>\n",
       "    </tr>\n",
       "    <tr>\n",
       "      <th rowspan=\"5\" valign=\"top\">30</th>\n",
       "      <th>0.00</th>\n",
       "      <td>950.869526</td>\n",
       "      <td>1588.305008</td>\n",
       "      <td>1327.538062</td>\n",
       "      <td>1335.246217</td>\n",
       "      <td>160.974861</td>\n",
       "    </tr>\n",
       "    <tr>\n",
       "      <th>0.25</th>\n",
       "      <td>991.770692</td>\n",
       "      <td>1531.960781</td>\n",
       "      <td>1343.808689</td>\n",
       "      <td>1340.181783</td>\n",
       "      <td>136.435551</td>\n",
       "    </tr>\n",
       "    <tr>\n",
       "      <th>0.50</th>\n",
       "      <td>1077.487601</td>\n",
       "      <td>1598.721640</td>\n",
       "      <td>1373.765518</td>\n",
       "      <td>1381.445805</td>\n",
       "      <td>114.915733</td>\n",
       "    </tr>\n",
       "    <tr>\n",
       "      <th>0.75</th>\n",
       "      <td>1098.689399</td>\n",
       "      <td>1526.854262</td>\n",
       "      <td>1337.756526</td>\n",
       "      <td>1334.471616</td>\n",
       "      <td>127.420764</td>\n",
       "    </tr>\n",
       "    <tr>\n",
       "      <th>1.00</th>\n",
       "      <td>754.919990</td>\n",
       "      <td>1571.835708</td>\n",
       "      <td>1319.232668</td>\n",
       "      <td>1318.494587</td>\n",
       "      <td>171.394420</td>\n",
       "    </tr>\n",
       "  </tbody>\n",
       "</table>\n",
       "</div>"
      ],
      "text/plain": [
       "                 f(x)                                                   \n",
       "                Mejor         Peor        Media      Mediana     DesvStd\n",
       "dim CR                                                                  \n",
       "10  0.00     0.215574     0.565534     0.409451     0.400714    0.088578\n",
       "    0.25     0.111315     0.600343     0.425336     0.463842    0.128457\n",
       "    0.50     0.269653     0.680553     0.443345     0.451354    0.103105\n",
       "    0.75     0.239480     0.691861     0.420684     0.409319    0.113412\n",
       "    1.00     0.210618     0.671507     0.448263     0.464713    0.121543\n",
       "30  0.00   950.869526  1588.305008  1327.538062  1335.246217  160.974861\n",
       "    0.25   991.770692  1531.960781  1343.808689  1340.181783  136.435551\n",
       "    0.50  1077.487601  1598.721640  1373.765518  1381.445805  114.915733\n",
       "    0.75  1098.689399  1526.854262  1337.756526  1334.471616  127.420764\n",
       "    1.00   754.919990  1571.835708  1319.232668  1318.494587  171.394420"
      ]
     },
     "execution_count": 10,
     "metadata": {},
     "output_type": "execute_result"
    }
   ],
   "source": [
    "def ackley(x):\n",
    "    return -20*np.exp(-0.2*np.sqrt(np.sum(np.power(x,2))/x.shape[0]))-np.exp(np.sum(np.cos(2*np.pi*x))/x.shape[0])+20+np.exp(1)\n",
    "\n",
    "proj_bound = np.array([[-32.768,32.768]])\n",
    "opt = 0\n",
    "report(sphere, proj_bound, dims, runs, opt)"
   ]
  },
  {
   "cell_type": "code",
   "execution_count": 11,
   "metadata": {},
   "outputs": [
    {
     "data": {
      "application/vnd.jupyter.widget-view+json": {
       "model_id": "d459932ede254d538355786793a2eee2",
       "version_major": 2,
       "version_minor": 0
      },
      "text/plain": [
       "  0%|          | 0/30 [00:00<?, ?it/s]"
      ]
     },
     "metadata": {},
     "output_type": "display_data"
    },
    {
     "data": {
      "application/vnd.jupyter.widget-view+json": {
       "model_id": "b3c441e9f15c4a6c92f04eaa243cc24b",
       "version_major": 2,
       "version_minor": 0
      },
      "text/plain": [
       "  0%|          | 0/30 [00:00<?, ?it/s]"
      ]
     },
     "metadata": {},
     "output_type": "display_data"
    },
    {
     "data": {
      "application/vnd.jupyter.widget-view+json": {
       "model_id": "fed6232220ea4b5085e16f1364e7dcb0",
       "version_major": 2,
       "version_minor": 0
      },
      "text/plain": [
       "  0%|          | 0/30 [00:00<?, ?it/s]"
      ]
     },
     "metadata": {},
     "output_type": "display_data"
    },
    {
     "data": {
      "application/vnd.jupyter.widget-view+json": {
       "model_id": "33da8a519f3040ac9566a5477b5e59b7",
       "version_major": 2,
       "version_minor": 0
      },
      "text/plain": [
       "  0%|          | 0/30 [00:00<?, ?it/s]"
      ]
     },
     "metadata": {},
     "output_type": "display_data"
    },
    {
     "data": {
      "application/vnd.jupyter.widget-view+json": {
       "model_id": "9bd46fa250994611b6c036967532481a",
       "version_major": 2,
       "version_minor": 0
      },
      "text/plain": [
       "  0%|          | 0/30 [00:00<?, ?it/s]"
      ]
     },
     "metadata": {},
     "output_type": "display_data"
    },
    {
     "data": {
      "application/vnd.jupyter.widget-view+json": {
       "model_id": "539b69cc4d5c4252ad784ffe5155a96e",
       "version_major": 2,
       "version_minor": 0
      },
      "text/plain": [
       "  0%|          | 0/30 [00:00<?, ?it/s]"
      ]
     },
     "metadata": {},
     "output_type": "display_data"
    },
    {
     "data": {
      "application/vnd.jupyter.widget-view+json": {
       "model_id": "1c25dacb70ad4ab5977423b4df665faa",
       "version_major": 2,
       "version_minor": 0
      },
      "text/plain": [
       "  0%|          | 0/30 [00:00<?, ?it/s]"
      ]
     },
     "metadata": {},
     "output_type": "display_data"
    },
    {
     "data": {
      "application/vnd.jupyter.widget-view+json": {
       "model_id": "ef842f667eb0404ca440ff995e74e443",
       "version_major": 2,
       "version_minor": 0
      },
      "text/plain": [
       "  0%|          | 0/30 [00:00<?, ?it/s]"
      ]
     },
     "metadata": {},
     "output_type": "display_data"
    },
    {
     "data": {
      "application/vnd.jupyter.widget-view+json": {
       "model_id": "8e234ac8560746679ffa08d5f7e6f57e",
       "version_major": 2,
       "version_minor": 0
      },
      "text/plain": [
       "  0%|          | 0/30 [00:00<?, ?it/s]"
      ]
     },
     "metadata": {},
     "output_type": "display_data"
    },
    {
     "data": {
      "application/vnd.jupyter.widget-view+json": {
       "model_id": "29aaf4fea033490f9b21238de05d3950",
       "version_major": 2,
       "version_minor": 0
      },
      "text/plain": [
       "  0%|          | 0/30 [00:00<?, ?it/s]"
      ]
     },
     "metadata": {},
     "output_type": "display_data"
    },
    {
     "data": {
      "text/html": [
       "<div>\n",
       "<style scoped>\n",
       "    .dataframe tbody tr th:only-of-type {\n",
       "        vertical-align: middle;\n",
       "    }\n",
       "\n",
       "    .dataframe tbody tr th {\n",
       "        vertical-align: top;\n",
       "    }\n",
       "\n",
       "    .dataframe thead tr th {\n",
       "        text-align: left;\n",
       "    }\n",
       "\n",
       "    .dataframe thead tr:last-of-type th {\n",
       "        text-align: right;\n",
       "    }\n",
       "</style>\n",
       "<table border=\"1\" class=\"dataframe\">\n",
       "  <thead>\n",
       "    <tr>\n",
       "      <th></th>\n",
       "      <th></th>\n",
       "      <th colspan=\"5\" halign=\"left\">f(x)</th>\n",
       "    </tr>\n",
       "    <tr>\n",
       "      <th></th>\n",
       "      <th></th>\n",
       "      <th>Mejor</th>\n",
       "      <th>Peor</th>\n",
       "      <th>Media</th>\n",
       "      <th>Mediana</th>\n",
       "      <th>DesvStd</th>\n",
       "    </tr>\n",
       "    <tr>\n",
       "      <th>dim</th>\n",
       "      <th>CR</th>\n",
       "      <th></th>\n",
       "      <th></th>\n",
       "      <th></th>\n",
       "      <th></th>\n",
       "      <th></th>\n",
       "    </tr>\n",
       "  </thead>\n",
       "  <tbody>\n",
       "    <tr>\n",
       "      <th rowspan=\"5\" valign=\"top\">10</th>\n",
       "      <th>0.00</th>\n",
       "      <td>0.003947</td>\n",
       "      <td>0.014871</td>\n",
       "      <td>0.009921</td>\n",
       "      <td>0.010107</td>\n",
       "      <td>0.002675</td>\n",
       "    </tr>\n",
       "    <tr>\n",
       "      <th>0.25</th>\n",
       "      <td>0.004583</td>\n",
       "      <td>0.017902</td>\n",
       "      <td>0.010600</td>\n",
       "      <td>0.010610</td>\n",
       "      <td>0.002759</td>\n",
       "    </tr>\n",
       "    <tr>\n",
       "      <th>0.50</th>\n",
       "      <td>0.006304</td>\n",
       "      <td>0.016845</td>\n",
       "      <td>0.010788</td>\n",
       "      <td>0.010770</td>\n",
       "      <td>0.002455</td>\n",
       "    </tr>\n",
       "    <tr>\n",
       "      <th>0.75</th>\n",
       "      <td>0.005835</td>\n",
       "      <td>0.016830</td>\n",
       "      <td>0.010797</td>\n",
       "      <td>0.010413</td>\n",
       "      <td>0.002610</td>\n",
       "    </tr>\n",
       "    <tr>\n",
       "      <th>1.00</th>\n",
       "      <td>0.004613</td>\n",
       "      <td>0.015337</td>\n",
       "      <td>0.010600</td>\n",
       "      <td>0.010331</td>\n",
       "      <td>0.002486</td>\n",
       "    </tr>\n",
       "    <tr>\n",
       "      <th rowspan=\"5\" valign=\"top\">30</th>\n",
       "      <th>0.00</th>\n",
       "      <td>24.857579</td>\n",
       "      <td>38.967273</td>\n",
       "      <td>33.234950</td>\n",
       "      <td>34.166120</td>\n",
       "      <td>3.581988</td>\n",
       "    </tr>\n",
       "    <tr>\n",
       "      <th>0.25</th>\n",
       "      <td>22.470599</td>\n",
       "      <td>39.427148</td>\n",
       "      <td>32.439518</td>\n",
       "      <td>32.096452</td>\n",
       "      <td>3.359211</td>\n",
       "    </tr>\n",
       "    <tr>\n",
       "      <th>0.50</th>\n",
       "      <td>24.917809</td>\n",
       "      <td>38.306823</td>\n",
       "      <td>32.499964</td>\n",
       "      <td>32.395063</td>\n",
       "      <td>3.257840</td>\n",
       "    </tr>\n",
       "    <tr>\n",
       "      <th>0.75</th>\n",
       "      <td>28.297433</td>\n",
       "      <td>37.576389</td>\n",
       "      <td>33.697359</td>\n",
       "      <td>34.241079</td>\n",
       "      <td>2.447862</td>\n",
       "    </tr>\n",
       "    <tr>\n",
       "      <th>1.00</th>\n",
       "      <td>26.595294</td>\n",
       "      <td>38.533778</td>\n",
       "      <td>33.051239</td>\n",
       "      <td>33.608267</td>\n",
       "      <td>3.187572</td>\n",
       "    </tr>\n",
       "  </tbody>\n",
       "</table>\n",
       "</div>"
      ],
      "text/plain": [
       "               f(x)                                           \n",
       "              Mejor       Peor      Media    Mediana   DesvStd\n",
       "dim CR                                                        \n",
       "10  0.00   0.003947   0.014871   0.009921   0.010107  0.002675\n",
       "    0.25   0.004583   0.017902   0.010600   0.010610  0.002759\n",
       "    0.50   0.006304   0.016845   0.010788   0.010770  0.002455\n",
       "    0.75   0.005835   0.016830   0.010797   0.010413  0.002610\n",
       "    1.00   0.004613   0.015337   0.010600   0.010331  0.002486\n",
       "30  0.00  24.857579  38.967273  33.234950  34.166120  3.581988\n",
       "    0.25  22.470599  39.427148  32.439518  32.096452  3.359211\n",
       "    0.50  24.917809  38.306823  32.499964  32.395063  3.257840\n",
       "    0.75  28.297433  37.576389  33.697359  34.241079  2.447862\n",
       "    1.00  26.595294  38.533778  33.051239  33.608267  3.187572"
      ]
     },
     "execution_count": 11,
     "metadata": {},
     "output_type": "execute_result"
    }
   ],
   "source": [
    "def rastrigin(x):\n",
    "    return 10*x.shape[0]+np.sum(np.power(x,2)-10*np.cos(2*np.pi*x))\n",
    "\n",
    "proj_bound = np.array([[-5.12,5.12]])\n",
    "opt = 0\n",
    "report(sphere, proj_bound, dims, runs, opt)"
   ]
  }
 ],
 "metadata": {
  "kernelspec": {
   "display_name": "Python 3",
   "language": "python",
   "name": "python3"
  },
  "language_info": {
   "codemirror_mode": {
    "name": "ipython",
    "version": 3
   },
   "file_extension": ".py",
   "mimetype": "text/x-python",
   "name": "python",
   "nbconvert_exporter": "python",
   "pygments_lexer": "ipython3",
   "version": "3.11.3"
  },
  "orig_nbformat": 4
 },
 "nbformat": 4,
 "nbformat_minor": 2
}
