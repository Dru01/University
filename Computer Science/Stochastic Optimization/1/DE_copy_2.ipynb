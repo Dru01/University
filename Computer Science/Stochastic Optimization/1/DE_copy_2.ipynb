{
 "cells": [
  {
   "cell_type": "code",
   "execution_count": 44,
   "metadata": {},
   "outputs": [],
   "source": [
    "from scipy.optimize import rosen, differential_evolution\n",
    "from tqdm.notebook import tnrange, tqdm\n",
    "\n",
    "import numpy as np\n",
    "import pandas as pd\n",
    "\n",
    "def report(f, proj_bound, crs, dims, runs, opt):\n",
    "    bests = pd.DataFrame(columns=['dim','CR','x','f(x)'])\n",
    "    for cr in tqdm(crs, desc=\"CR\"):\n",
    "        for dim in tqdm(dims, desc=\"D\"):\n",
    "            bounds = np.repeat(proj_bound, dim, axis=0)\n",
    "            for i in tnrange(runs, desc=\"Trial\"):\n",
    "                ans = differential_evolution(\n",
    "                    func=f, \n",
    "                    bounds= bounds,\n",
    "                    strategy='rand1bin',\n",
    "                    maxiter=int(10000/dim),\n",
    "                    popsize=dim,\n",
    "                    mutation=.5,\n",
    "                    recombination=cr,\n",
    "                    polish=False\n",
    "                    )\n",
    "                bests.loc[len(bests)] = {'dim' : dim, 'CR' : cr, 'x' : ans.x, 'f(x)' : abs(opt-ans.fun)}\n",
    "    bests = bests[['dim','CR','f(x)']].groupby(['dim','CR']).agg([np.min,np.max,np.mean,np.median,np.std])\n",
    "    bests.columns = bests.columns.set_levels(['Mejor','Peor','Media','Mediana','DesvStd'],level=1)\n",
    "    return bests"
   ]
  },
  {
   "cell_type": "code",
   "execution_count": 45,
   "metadata": {},
   "outputs": [],
   "source": [
    "dims = [10,30]\n",
    "runs = 30\n",
    "crs = [0,0.1,0.25,0.50,0.75,0.90,1.00]"
   ]
  },
  {
   "cell_type": "code",
   "execution_count": 46,
   "metadata": {},
   "outputs": [
    {
     "data": {
      "application/vnd.jupyter.widget-view+json": {
       "model_id": "582d00a150824a85b1fe435f03c3d50b",
       "version_major": 2,
       "version_minor": 0
      },
      "text/plain": [
       "CR:   0%|          | 0/7 [00:00<?, ?it/s]"
      ]
     },
     "metadata": {},
     "output_type": "display_data"
    },
    {
     "data": {
      "application/vnd.jupyter.widget-view+json": {
       "model_id": "4dbd9d1d82bc4a9785a2d74ce4ec5da7",
       "version_major": 2,
       "version_minor": 0
      },
      "text/plain": [
       "D:   0%|          | 0/2 [00:00<?, ?it/s]"
      ]
     },
     "metadata": {},
     "output_type": "display_data"
    },
    {
     "data": {
      "application/vnd.jupyter.widget-view+json": {
       "model_id": "0713ca60b0cb4a28ab32d11cb8f7a343",
       "version_major": 2,
       "version_minor": 0
      },
      "text/plain": [
       "Trial:   0%|          | 0/30 [00:00<?, ?it/s]"
      ]
     },
     "metadata": {},
     "output_type": "display_data"
    },
    {
     "data": {
      "application/vnd.jupyter.widget-view+json": {
       "model_id": "80c09e840c2c4f1c87fc8c97b98cc575",
       "version_major": 2,
       "version_minor": 0
      },
      "text/plain": [
       "Trial:   0%|          | 0/30 [00:00<?, ?it/s]"
      ]
     },
     "metadata": {},
     "output_type": "display_data"
    },
    {
     "data": {
      "application/vnd.jupyter.widget-view+json": {
       "model_id": "00d707bfaa284c88bcde1eae3e90a74e",
       "version_major": 2,
       "version_minor": 0
      },
      "text/plain": [
       "D:   0%|          | 0/2 [00:00<?, ?it/s]"
      ]
     },
     "metadata": {},
     "output_type": "display_data"
    },
    {
     "data": {
      "application/vnd.jupyter.widget-view+json": {
       "model_id": "7aad607817144000926b2257d5315e3b",
       "version_major": 2,
       "version_minor": 0
      },
      "text/plain": [
       "Trial:   0%|          | 0/30 [00:00<?, ?it/s]"
      ]
     },
     "metadata": {},
     "output_type": "display_data"
    },
    {
     "data": {
      "application/vnd.jupyter.widget-view+json": {
       "model_id": "570200e0a2804df98f754cca7f43fe15",
       "version_major": 2,
       "version_minor": 0
      },
      "text/plain": [
       "Trial:   0%|          | 0/30 [00:00<?, ?it/s]"
      ]
     },
     "metadata": {},
     "output_type": "display_data"
    },
    {
     "data": {
      "application/vnd.jupyter.widget-view+json": {
       "model_id": "39f3344e34b440788b4176d5b66bbb9d",
       "version_major": 2,
       "version_minor": 0
      },
      "text/plain": [
       "D:   0%|          | 0/2 [00:00<?, ?it/s]"
      ]
     },
     "metadata": {},
     "output_type": "display_data"
    },
    {
     "data": {
      "application/vnd.jupyter.widget-view+json": {
       "model_id": "0d7e6104e8b040f0b67e80df5c6b22f2",
       "version_major": 2,
       "version_minor": 0
      },
      "text/plain": [
       "Trial:   0%|          | 0/30 [00:00<?, ?it/s]"
      ]
     },
     "metadata": {},
     "output_type": "display_data"
    },
    {
     "data": {
      "application/vnd.jupyter.widget-view+json": {
       "model_id": "c4f39f010b034b0a8d846a779422694e",
       "version_major": 2,
       "version_minor": 0
      },
      "text/plain": [
       "Trial:   0%|          | 0/30 [00:00<?, ?it/s]"
      ]
     },
     "metadata": {},
     "output_type": "display_data"
    },
    {
     "data": {
      "application/vnd.jupyter.widget-view+json": {
       "model_id": "2f0f8cee671e417881e69bd401676907",
       "version_major": 2,
       "version_minor": 0
      },
      "text/plain": [
       "D:   0%|          | 0/2 [00:00<?, ?it/s]"
      ]
     },
     "metadata": {},
     "output_type": "display_data"
    },
    {
     "data": {
      "application/vnd.jupyter.widget-view+json": {
       "model_id": "ba583a19d26a4f288ca295be6e18ef42",
       "version_major": 2,
       "version_minor": 0
      },
      "text/plain": [
       "Trial:   0%|          | 0/30 [00:00<?, ?it/s]"
      ]
     },
     "metadata": {},
     "output_type": "display_data"
    },
    {
     "data": {
      "application/vnd.jupyter.widget-view+json": {
       "model_id": "d0d05c0fac0942428d79c2044fe5fe70",
       "version_major": 2,
       "version_minor": 0
      },
      "text/plain": [
       "Trial:   0%|          | 0/30 [00:00<?, ?it/s]"
      ]
     },
     "metadata": {},
     "output_type": "display_data"
    },
    {
     "data": {
      "application/vnd.jupyter.widget-view+json": {
       "model_id": "007690c03ce7414b89c9e87cb07a796a",
       "version_major": 2,
       "version_minor": 0
      },
      "text/plain": [
       "D:   0%|          | 0/2 [00:00<?, ?it/s]"
      ]
     },
     "metadata": {},
     "output_type": "display_data"
    },
    {
     "data": {
      "application/vnd.jupyter.widget-view+json": {
       "model_id": "bde4d8cf93c84dadbfc2e85d4dee9dae",
       "version_major": 2,
       "version_minor": 0
      },
      "text/plain": [
       "Trial:   0%|          | 0/30 [00:00<?, ?it/s]"
      ]
     },
     "metadata": {},
     "output_type": "display_data"
    },
    {
     "data": {
      "application/vnd.jupyter.widget-view+json": {
       "model_id": "15266a0f4db3471dbcc80722a26a2fa5",
       "version_major": 2,
       "version_minor": 0
      },
      "text/plain": [
       "Trial:   0%|          | 0/30 [00:00<?, ?it/s]"
      ]
     },
     "metadata": {},
     "output_type": "display_data"
    },
    {
     "data": {
      "application/vnd.jupyter.widget-view+json": {
       "model_id": "29921d9eff7643b99134dfaae364fc0c",
       "version_major": 2,
       "version_minor": 0
      },
      "text/plain": [
       "D:   0%|          | 0/2 [00:00<?, ?it/s]"
      ]
     },
     "metadata": {},
     "output_type": "display_data"
    },
    {
     "data": {
      "application/vnd.jupyter.widget-view+json": {
       "model_id": "c2be148c49f24f429afdf793472df46e",
       "version_major": 2,
       "version_minor": 0
      },
      "text/plain": [
       "Trial:   0%|          | 0/30 [00:00<?, ?it/s]"
      ]
     },
     "metadata": {},
     "output_type": "display_data"
    },
    {
     "data": {
      "application/vnd.jupyter.widget-view+json": {
       "model_id": "e5941ba8bcf748999e9fb332bd171c3a",
       "version_major": 2,
       "version_minor": 0
      },
      "text/plain": [
       "Trial:   0%|          | 0/30 [00:00<?, ?it/s]"
      ]
     },
     "metadata": {},
     "output_type": "display_data"
    },
    {
     "data": {
      "application/vnd.jupyter.widget-view+json": {
       "model_id": "1caea2b747154773b26984b1d9697479",
       "version_major": 2,
       "version_minor": 0
      },
      "text/plain": [
       "D:   0%|          | 0/2 [00:00<?, ?it/s]"
      ]
     },
     "metadata": {},
     "output_type": "display_data"
    },
    {
     "data": {
      "application/vnd.jupyter.widget-view+json": {
       "model_id": "3027d023c50d491db299ba329a38f3c9",
       "version_major": 2,
       "version_minor": 0
      },
      "text/plain": [
       "Trial:   0%|          | 0/30 [00:00<?, ?it/s]"
      ]
     },
     "metadata": {},
     "output_type": "display_data"
    },
    {
     "data": {
      "application/vnd.jupyter.widget-view+json": {
       "model_id": "3be9cf87f47649cdba5b1bc1e4b45c94",
       "version_major": 2,
       "version_minor": 0
      },
      "text/plain": [
       "Trial:   0%|          | 0/30 [00:00<?, ?it/s]"
      ]
     },
     "metadata": {},
     "output_type": "display_data"
    },
    {
     "data": {
      "text/html": [
       "<div>\n",
       "<style scoped>\n",
       "    .dataframe tbody tr th:only-of-type {\n",
       "        vertical-align: middle;\n",
       "    }\n",
       "\n",
       "    .dataframe tbody tr th {\n",
       "        vertical-align: top;\n",
       "    }\n",
       "\n",
       "    .dataframe thead tr th {\n",
       "        text-align: left;\n",
       "    }\n",
       "\n",
       "    .dataframe thead tr:last-of-type th {\n",
       "        text-align: right;\n",
       "    }\n",
       "</style>\n",
       "<table border=\"1\" class=\"dataframe\">\n",
       "  <thead>\n",
       "    <tr>\n",
       "      <th></th>\n",
       "      <th></th>\n",
       "      <th colspan=\"5\" halign=\"left\">f(x)</th>\n",
       "    </tr>\n",
       "    <tr>\n",
       "      <th></th>\n",
       "      <th></th>\n",
       "      <th>Mejor</th>\n",
       "      <th>Peor</th>\n",
       "      <th>Media</th>\n",
       "      <th>Mediana</th>\n",
       "      <th>DesvStd</th>\n",
       "    </tr>\n",
       "    <tr>\n",
       "      <th>dim</th>\n",
       "      <th>CR</th>\n",
       "      <th></th>\n",
       "      <th></th>\n",
       "      <th></th>\n",
       "      <th></th>\n",
       "      <th></th>\n",
       "    </tr>\n",
       "  </thead>\n",
       "  <tbody>\n",
       "    <tr>\n",
       "      <th rowspan=\"7\" valign=\"top\">10</th>\n",
       "      <th>0.00</th>\n",
       "      <td>0.000000</td>\n",
       "      <td>0.000000</td>\n",
       "      <td>0.000000</td>\n",
       "      <td>0.000000</td>\n",
       "      <td>0.000000</td>\n",
       "    </tr>\n",
       "    <tr>\n",
       "      <th>0.10</th>\n",
       "      <td>0.000000</td>\n",
       "      <td>0.000000</td>\n",
       "      <td>0.000000</td>\n",
       "      <td>0.000000</td>\n",
       "      <td>0.000000</td>\n",
       "    </tr>\n",
       "    <tr>\n",
       "      <th>0.25</th>\n",
       "      <td>0.000000</td>\n",
       "      <td>0.000000</td>\n",
       "      <td>0.000000</td>\n",
       "      <td>0.000000</td>\n",
       "      <td>0.000000</td>\n",
       "    </tr>\n",
       "    <tr>\n",
       "      <th>0.50</th>\n",
       "      <td>0.000000</td>\n",
       "      <td>0.000000</td>\n",
       "      <td>0.000000</td>\n",
       "      <td>0.000000</td>\n",
       "      <td>0.000000</td>\n",
       "    </tr>\n",
       "    <tr>\n",
       "      <th>0.75</th>\n",
       "      <td>0.000000</td>\n",
       "      <td>0.000000</td>\n",
       "      <td>0.000000</td>\n",
       "      <td>0.000000</td>\n",
       "      <td>0.000000</td>\n",
       "    </tr>\n",
       "    <tr>\n",
       "      <th>0.90</th>\n",
       "      <td>0.000000</td>\n",
       "      <td>0.000000</td>\n",
       "      <td>0.000000</td>\n",
       "      <td>0.000000</td>\n",
       "      <td>0.000000</td>\n",
       "    </tr>\n",
       "    <tr>\n",
       "      <th>1.00</th>\n",
       "      <td>0.000000</td>\n",
       "      <td>0.000000</td>\n",
       "      <td>0.000000</td>\n",
       "      <td>0.000000</td>\n",
       "      <td>0.000000</td>\n",
       "    </tr>\n",
       "    <tr>\n",
       "      <th rowspan=\"7\" valign=\"top\">30</th>\n",
       "      <th>0.00</th>\n",
       "      <td>0.001396</td>\n",
       "      <td>0.002963</td>\n",
       "      <td>0.002405</td>\n",
       "      <td>0.002513</td>\n",
       "      <td>0.000406</td>\n",
       "    </tr>\n",
       "    <tr>\n",
       "      <th>0.10</th>\n",
       "      <td>0.000549</td>\n",
       "      <td>0.000934</td>\n",
       "      <td>0.000722</td>\n",
       "      <td>0.000725</td>\n",
       "      <td>0.000083</td>\n",
       "    </tr>\n",
       "    <tr>\n",
       "      <th>0.25</th>\n",
       "      <td>0.000237</td>\n",
       "      <td>0.000418</td>\n",
       "      <td>0.000345</td>\n",
       "      <td>0.000345</td>\n",
       "      <td>0.000042</td>\n",
       "    </tr>\n",
       "    <tr>\n",
       "      <th>0.50</th>\n",
       "      <td>0.001789</td>\n",
       "      <td>0.002698</td>\n",
       "      <td>0.002209</td>\n",
       "      <td>0.002218</td>\n",
       "      <td>0.000269</td>\n",
       "    </tr>\n",
       "    <tr>\n",
       "      <th>0.75</th>\n",
       "      <td>0.053308</td>\n",
       "      <td>0.087786</td>\n",
       "      <td>0.069806</td>\n",
       "      <td>0.069350</td>\n",
       "      <td>0.008352</td>\n",
       "    </tr>\n",
       "    <tr>\n",
       "      <th>0.90</th>\n",
       "      <td>0.338048</td>\n",
       "      <td>0.653778</td>\n",
       "      <td>0.493560</td>\n",
       "      <td>0.471798</td>\n",
       "      <td>0.077727</td>\n",
       "    </tr>\n",
       "    <tr>\n",
       "      <th>1.00</th>\n",
       "      <td>0.414232</td>\n",
       "      <td>0.856526</td>\n",
       "      <td>0.630091</td>\n",
       "      <td>0.623332</td>\n",
       "      <td>0.101362</td>\n",
       "    </tr>\n",
       "  </tbody>\n",
       "</table>\n",
       "</div>"
      ],
      "text/plain": [
       "              f(x)                                        \n",
       "             Mejor      Peor     Media   Mediana   DesvStd\n",
       "dim CR                                                    \n",
       "10  0.00  0.000000  0.000000  0.000000  0.000000  0.000000\n",
       "    0.10  0.000000  0.000000  0.000000  0.000000  0.000000\n",
       "    0.25  0.000000  0.000000  0.000000  0.000000  0.000000\n",
       "    0.50  0.000000  0.000000  0.000000  0.000000  0.000000\n",
       "    0.75  0.000000  0.000000  0.000000  0.000000  0.000000\n",
       "    0.90  0.000000  0.000000  0.000000  0.000000  0.000000\n",
       "    1.00  0.000000  0.000000  0.000000  0.000000  0.000000\n",
       "30  0.00  0.001396  0.002963  0.002405  0.002513  0.000406\n",
       "    0.10  0.000549  0.000934  0.000722  0.000725  0.000083\n",
       "    0.25  0.000237  0.000418  0.000345  0.000345  0.000042\n",
       "    0.50  0.001789  0.002698  0.002209  0.002218  0.000269\n",
       "    0.75  0.053308  0.087786  0.069806  0.069350  0.008352\n",
       "    0.90  0.338048  0.653778  0.493560  0.471798  0.077727\n",
       "    1.00  0.414232  0.856526  0.630091  0.623332  0.101362"
      ]
     },
     "execution_count": 46,
     "metadata": {},
     "output_type": "execute_result"
    }
   ],
   "source": [
    "def sphere(x):\n",
    "    return np.sum(np.power(x,2))\n",
    "\n",
    "proj_bound = np.array([[-5.12,5.12]])\n",
    "opt = 0\n",
    "report(sphere, proj_bound, crs, dims, runs, opt)"
   ]
  },
  {
   "cell_type": "code",
   "execution_count": 49,
   "metadata": {},
   "outputs": [
    {
     "data": {
      "application/vnd.jupyter.widget-view+json": {
       "model_id": "81ec4b9abe4141d79eafe414b8678079",
       "version_major": 2,
       "version_minor": 0
      },
      "text/plain": [
       "CR:   0%|          | 0/7 [00:00<?, ?it/s]"
      ]
     },
     "metadata": {},
     "output_type": "display_data"
    },
    {
     "data": {
      "application/vnd.jupyter.widget-view+json": {
       "model_id": "6bd4c5b78dd74983ae55bcd9142cab6e",
       "version_major": 2,
       "version_minor": 0
      },
      "text/plain": [
       "D:   0%|          | 0/2 [00:00<?, ?it/s]"
      ]
     },
     "metadata": {},
     "output_type": "display_data"
    },
    {
     "data": {
      "application/vnd.jupyter.widget-view+json": {
       "model_id": "7bd12badeaee41c1bbee95ed9ca4d665",
       "version_major": 2,
       "version_minor": 0
      },
      "text/plain": [
       "Trial:   0%|          | 0/30 [00:00<?, ?it/s]"
      ]
     },
     "metadata": {},
     "output_type": "display_data"
    },
    {
     "data": {
      "application/vnd.jupyter.widget-view+json": {
       "model_id": "15efd41cc71d43a7b2e9f706af0bb821",
       "version_major": 2,
       "version_minor": 0
      },
      "text/plain": [
       "Trial:   0%|          | 0/30 [00:00<?, ?it/s]"
      ]
     },
     "metadata": {},
     "output_type": "display_data"
    },
    {
     "data": {
      "application/vnd.jupyter.widget-view+json": {
       "model_id": "3580892421254203806f5f9cce1a16ec",
       "version_major": 2,
       "version_minor": 0
      },
      "text/plain": [
       "D:   0%|          | 0/2 [00:00<?, ?it/s]"
      ]
     },
     "metadata": {},
     "output_type": "display_data"
    },
    {
     "data": {
      "application/vnd.jupyter.widget-view+json": {
       "model_id": "9ff429ff4d7248e9927fee0fd1c4ed45",
       "version_major": 2,
       "version_minor": 0
      },
      "text/plain": [
       "Trial:   0%|          | 0/30 [00:00<?, ?it/s]"
      ]
     },
     "metadata": {},
     "output_type": "display_data"
    },
    {
     "data": {
      "application/vnd.jupyter.widget-view+json": {
       "model_id": "e340429ce93a490bb0313d801c864273",
       "version_major": 2,
       "version_minor": 0
      },
      "text/plain": [
       "Trial:   0%|          | 0/30 [00:00<?, ?it/s]"
      ]
     },
     "metadata": {},
     "output_type": "display_data"
    },
    {
     "data": {
      "application/vnd.jupyter.widget-view+json": {
       "model_id": "ec7b60e25eed401cab3fe271c7972a59",
       "version_major": 2,
       "version_minor": 0
      },
      "text/plain": [
       "D:   0%|          | 0/2 [00:00<?, ?it/s]"
      ]
     },
     "metadata": {},
     "output_type": "display_data"
    },
    {
     "data": {
      "application/vnd.jupyter.widget-view+json": {
       "model_id": "fecf7e329b5648e5b475a01c689a1a73",
       "version_major": 2,
       "version_minor": 0
      },
      "text/plain": [
       "Trial:   0%|          | 0/30 [00:00<?, ?it/s]"
      ]
     },
     "metadata": {},
     "output_type": "display_data"
    },
    {
     "data": {
      "application/vnd.jupyter.widget-view+json": {
       "model_id": "6aabb15da26845bb9bcd98a3c05466db",
       "version_major": 2,
       "version_minor": 0
      },
      "text/plain": [
       "Trial:   0%|          | 0/30 [00:00<?, ?it/s]"
      ]
     },
     "metadata": {},
     "output_type": "display_data"
    },
    {
     "data": {
      "application/vnd.jupyter.widget-view+json": {
       "model_id": "f70a93e060be4c688200f330ed017526",
       "version_major": 2,
       "version_minor": 0
      },
      "text/plain": [
       "D:   0%|          | 0/2 [00:00<?, ?it/s]"
      ]
     },
     "metadata": {},
     "output_type": "display_data"
    },
    {
     "data": {
      "application/vnd.jupyter.widget-view+json": {
       "model_id": "849e311cf8144ed59f92a5218a9c119d",
       "version_major": 2,
       "version_minor": 0
      },
      "text/plain": [
       "Trial:   0%|          | 0/30 [00:00<?, ?it/s]"
      ]
     },
     "metadata": {},
     "output_type": "display_data"
    },
    {
     "data": {
      "application/vnd.jupyter.widget-view+json": {
       "model_id": "5b0078cd67a44f4491a84024c1329a05",
       "version_major": 2,
       "version_minor": 0
      },
      "text/plain": [
       "Trial:   0%|          | 0/30 [00:00<?, ?it/s]"
      ]
     },
     "metadata": {},
     "output_type": "display_data"
    },
    {
     "data": {
      "application/vnd.jupyter.widget-view+json": {
       "model_id": "14c8062515db4901ae3609d8cda9fd7e",
       "version_major": 2,
       "version_minor": 0
      },
      "text/plain": [
       "D:   0%|          | 0/2 [00:00<?, ?it/s]"
      ]
     },
     "metadata": {},
     "output_type": "display_data"
    },
    {
     "data": {
      "application/vnd.jupyter.widget-view+json": {
       "model_id": "b22ddf084e814116a10eae1109e6c95a",
       "version_major": 2,
       "version_minor": 0
      },
      "text/plain": [
       "Trial:   0%|          | 0/30 [00:00<?, ?it/s]"
      ]
     },
     "metadata": {},
     "output_type": "display_data"
    },
    {
     "data": {
      "application/vnd.jupyter.widget-view+json": {
       "model_id": "0727e34ce7f441e58b16a3d24c1f51b9",
       "version_major": 2,
       "version_minor": 0
      },
      "text/plain": [
       "Trial:   0%|          | 0/30 [00:00<?, ?it/s]"
      ]
     },
     "metadata": {},
     "output_type": "display_data"
    },
    {
     "data": {
      "application/vnd.jupyter.widget-view+json": {
       "model_id": "a055456f687049a6b2b5221a4bc58da9",
       "version_major": 2,
       "version_minor": 0
      },
      "text/plain": [
       "D:   0%|          | 0/2 [00:00<?, ?it/s]"
      ]
     },
     "metadata": {},
     "output_type": "display_data"
    },
    {
     "data": {
      "application/vnd.jupyter.widget-view+json": {
       "model_id": "a443681ad0474500aa93090f81e98505",
       "version_major": 2,
       "version_minor": 0
      },
      "text/plain": [
       "Trial:   0%|          | 0/30 [00:00<?, ?it/s]"
      ]
     },
     "metadata": {},
     "output_type": "display_data"
    },
    {
     "data": {
      "application/vnd.jupyter.widget-view+json": {
       "model_id": "6737d772c0b64654a7edb86872fb0140",
       "version_major": 2,
       "version_minor": 0
      },
      "text/plain": [
       "Trial:   0%|          | 0/30 [00:00<?, ?it/s]"
      ]
     },
     "metadata": {},
     "output_type": "display_data"
    },
    {
     "data": {
      "application/vnd.jupyter.widget-view+json": {
       "model_id": "3ba8259a262f4537ab401458543c13af",
       "version_major": 2,
       "version_minor": 0
      },
      "text/plain": [
       "D:   0%|          | 0/2 [00:00<?, ?it/s]"
      ]
     },
     "metadata": {},
     "output_type": "display_data"
    },
    {
     "data": {
      "application/vnd.jupyter.widget-view+json": {
       "model_id": "e903c8b02812419da2df7a5d5baf9e13",
       "version_major": 2,
       "version_minor": 0
      },
      "text/plain": [
       "Trial:   0%|          | 0/30 [00:00<?, ?it/s]"
      ]
     },
     "metadata": {},
     "output_type": "display_data"
    },
    {
     "data": {
      "application/vnd.jupyter.widget-view+json": {
       "model_id": "ab5a736a357f411a81e90feadbf056de",
       "version_major": 2,
       "version_minor": 0
      },
      "text/plain": [
       "Trial:   0%|          | 0/30 [00:00<?, ?it/s]"
      ]
     },
     "metadata": {},
     "output_type": "display_data"
    },
    {
     "data": {
      "text/html": [
       "<div>\n",
       "<style scoped>\n",
       "    .dataframe tbody tr th:only-of-type {\n",
       "        vertical-align: middle;\n",
       "    }\n",
       "\n",
       "    .dataframe tbody tr th {\n",
       "        vertical-align: top;\n",
       "    }\n",
       "\n",
       "    .dataframe thead tr th {\n",
       "        text-align: left;\n",
       "    }\n",
       "\n",
       "    .dataframe thead tr:last-of-type th {\n",
       "        text-align: right;\n",
       "    }\n",
       "</style>\n",
       "<table border=\"1\" class=\"dataframe\">\n",
       "  <thead>\n",
       "    <tr>\n",
       "      <th></th>\n",
       "      <th></th>\n",
       "      <th colspan=\"5\" halign=\"left\">f(x)</th>\n",
       "    </tr>\n",
       "    <tr>\n",
       "      <th></th>\n",
       "      <th></th>\n",
       "      <th>Mejor</th>\n",
       "      <th>Peor</th>\n",
       "      <th>Media</th>\n",
       "      <th>Mediana</th>\n",
       "      <th>DesvStd</th>\n",
       "    </tr>\n",
       "    <tr>\n",
       "      <th>dim</th>\n",
       "      <th>CR</th>\n",
       "      <th></th>\n",
       "      <th></th>\n",
       "      <th></th>\n",
       "      <th></th>\n",
       "      <th></th>\n",
       "    </tr>\n",
       "  </thead>\n",
       "  <tbody>\n",
       "    <tr>\n",
       "      <th rowspan=\"7\" valign=\"top\">10</th>\n",
       "      <th>0.00</th>\n",
       "      <td>4.440892e-16</td>\n",
       "      <td>4.440892e-16</td>\n",
       "      <td>4.440892e-16</td>\n",
       "      <td>4.440892e-16</td>\n",
       "      <td>0.000000</td>\n",
       "    </tr>\n",
       "    <tr>\n",
       "      <th>0.10</th>\n",
       "      <td>4.440892e-16</td>\n",
       "      <td>4.440892e-16</td>\n",
       "      <td>4.440892e-16</td>\n",
       "      <td>4.440892e-16</td>\n",
       "      <td>0.000000</td>\n",
       "    </tr>\n",
       "    <tr>\n",
       "      <th>0.25</th>\n",
       "      <td>4.440892e-16</td>\n",
       "      <td>4.440892e-16</td>\n",
       "      <td>4.440892e-16</td>\n",
       "      <td>4.440892e-16</td>\n",
       "      <td>0.000000</td>\n",
       "    </tr>\n",
       "    <tr>\n",
       "      <th>0.50</th>\n",
       "      <td>4.440892e-16</td>\n",
       "      <td>4.440892e-16</td>\n",
       "      <td>4.440892e-16</td>\n",
       "      <td>4.440892e-16</td>\n",
       "      <td>0.000000</td>\n",
       "    </tr>\n",
       "    <tr>\n",
       "      <th>0.75</th>\n",
       "      <td>4.440892e-16</td>\n",
       "      <td>4.440892e-16</td>\n",
       "      <td>4.440892e-16</td>\n",
       "      <td>4.440892e-16</td>\n",
       "      <td>0.000000</td>\n",
       "    </tr>\n",
       "    <tr>\n",
       "      <th>0.90</th>\n",
       "      <td>4.440892e-16</td>\n",
       "      <td>4.440892e-16</td>\n",
       "      <td>4.440892e-16</td>\n",
       "      <td>4.440892e-16</td>\n",
       "      <td>0.000000</td>\n",
       "    </tr>\n",
       "    <tr>\n",
       "      <th>1.00</th>\n",
       "      <td>4.440892e-16</td>\n",
       "      <td>4.440892e-16</td>\n",
       "      <td>4.440892e-16</td>\n",
       "      <td>4.440892e-16</td>\n",
       "      <td>0.000000</td>\n",
       "    </tr>\n",
       "    <tr>\n",
       "      <th rowspan=\"7\" valign=\"top\">30</th>\n",
       "      <th>0.00</th>\n",
       "      <td>1.659459e+00</td>\n",
       "      <td>2.048205e+01</td>\n",
       "      <td>1.718526e+01</td>\n",
       "      <td>2.026881e+01</td>\n",
       "      <td>7.028163</td>\n",
       "    </tr>\n",
       "    <tr>\n",
       "      <th>0.10</th>\n",
       "      <td>1.882708e-01</td>\n",
       "      <td>2.048717e+01</td>\n",
       "      <td>8.934651e+00</td>\n",
       "      <td>2.265134e-01</td>\n",
       "      <td>10.150250</td>\n",
       "    </tr>\n",
       "    <tr>\n",
       "      <th>0.25</th>\n",
       "      <td>9.728717e-02</td>\n",
       "      <td>2.048923e+01</td>\n",
       "      <td>5.470273e+00</td>\n",
       "      <td>1.264246e-01</td>\n",
       "      <td>9.022382</td>\n",
       "    </tr>\n",
       "    <tr>\n",
       "      <th>0.50</th>\n",
       "      <td>3.734473e-01</td>\n",
       "      <td>2.036009e+01</td>\n",
       "      <td>3.745269e+00</td>\n",
       "      <td>4.603824e-01</td>\n",
       "      <td>7.492214</td>\n",
       "    </tr>\n",
       "    <tr>\n",
       "      <th>0.75</th>\n",
       "      <td>2.655346e+00</td>\n",
       "      <td>2.034108e+01</td>\n",
       "      <td>3.540779e+00</td>\n",
       "      <td>2.960234e+00</td>\n",
       "      <td>3.176404</td>\n",
       "    </tr>\n",
       "    <tr>\n",
       "      <th>0.90</th>\n",
       "      <td>4.444781e+00</td>\n",
       "      <td>5.318001e+00</td>\n",
       "      <td>4.946647e+00</td>\n",
       "      <td>5.002476e+00</td>\n",
       "      <td>0.239163</td>\n",
       "    </tr>\n",
       "    <tr>\n",
       "      <th>1.00</th>\n",
       "      <td>4.546441e+00</td>\n",
       "      <td>5.758872e+00</td>\n",
       "      <td>5.265731e+00</td>\n",
       "      <td>5.271975e+00</td>\n",
       "      <td>0.281337</td>\n",
       "    </tr>\n",
       "  </tbody>\n",
       "</table>\n",
       "</div>"
      ],
      "text/plain": [
       "                  f(x)                                                     \n",
       "                 Mejor          Peor         Media       Mediana    DesvStd\n",
       "dim CR                                                                     \n",
       "10  0.00  4.440892e-16  4.440892e-16  4.440892e-16  4.440892e-16   0.000000\n",
       "    0.10  4.440892e-16  4.440892e-16  4.440892e-16  4.440892e-16   0.000000\n",
       "    0.25  4.440892e-16  4.440892e-16  4.440892e-16  4.440892e-16   0.000000\n",
       "    0.50  4.440892e-16  4.440892e-16  4.440892e-16  4.440892e-16   0.000000\n",
       "    0.75  4.440892e-16  4.440892e-16  4.440892e-16  4.440892e-16   0.000000\n",
       "    0.90  4.440892e-16  4.440892e-16  4.440892e-16  4.440892e-16   0.000000\n",
       "    1.00  4.440892e-16  4.440892e-16  4.440892e-16  4.440892e-16   0.000000\n",
       "30  0.00  1.659459e+00  2.048205e+01  1.718526e+01  2.026881e+01   7.028163\n",
       "    0.10  1.882708e-01  2.048717e+01  8.934651e+00  2.265134e-01  10.150250\n",
       "    0.25  9.728717e-02  2.048923e+01  5.470273e+00  1.264246e-01   9.022382\n",
       "    0.50  3.734473e-01  2.036009e+01  3.745269e+00  4.603824e-01   7.492214\n",
       "    0.75  2.655346e+00  2.034108e+01  3.540779e+00  2.960234e+00   3.176404\n",
       "    0.90  4.444781e+00  5.318001e+00  4.946647e+00  5.002476e+00   0.239163\n",
       "    1.00  4.546441e+00  5.758872e+00  5.265731e+00  5.271975e+00   0.281337"
      ]
     },
     "execution_count": 49,
     "metadata": {},
     "output_type": "execute_result"
    }
   ],
   "source": [
    "def ackley(x):\n",
    "    return -20*np.exp(-0.2*np.sqrt(np.sum(np.power(x,2))/x.shape[0]))-np.exp(np.sum(np.cos(2*np.pi*x))/x.shape[0])+20+np.exp(1)\n",
    "\n",
    "proj_bound = np.array([[-32.768,32.768]])\n",
    "opt = 0\n",
    "report(ackley, proj_bound, crs, dims, runs, opt)"
   ]
  },
  {
   "cell_type": "code",
   "execution_count": 50,
   "metadata": {},
   "outputs": [
    {
     "data": {
      "application/vnd.jupyter.widget-view+json": {
       "model_id": "80f5a067870b41e08742b247f6410a26",
       "version_major": 2,
       "version_minor": 0
      },
      "text/plain": [
       "CR:   0%|          | 0/7 [00:00<?, ?it/s]"
      ]
     },
     "metadata": {},
     "output_type": "display_data"
    },
    {
     "data": {
      "application/vnd.jupyter.widget-view+json": {
       "model_id": "a38e7757c3f64a2da0fab4e30bbf3e54",
       "version_major": 2,
       "version_minor": 0
      },
      "text/plain": [
       "D:   0%|          | 0/2 [00:00<?, ?it/s]"
      ]
     },
     "metadata": {},
     "output_type": "display_data"
    },
    {
     "data": {
      "application/vnd.jupyter.widget-view+json": {
       "model_id": "20e108ff2439497bb1f1ca4928ffe8a9",
       "version_major": 2,
       "version_minor": 0
      },
      "text/plain": [
       "Trial:   0%|          | 0/30 [00:00<?, ?it/s]"
      ]
     },
     "metadata": {},
     "output_type": "display_data"
    },
    {
     "data": {
      "application/vnd.jupyter.widget-view+json": {
       "model_id": "78b08cb9ddfe40a48df4bad70164f091",
       "version_major": 2,
       "version_minor": 0
      },
      "text/plain": [
       "Trial:   0%|          | 0/30 [00:00<?, ?it/s]"
      ]
     },
     "metadata": {},
     "output_type": "display_data"
    },
    {
     "data": {
      "application/vnd.jupyter.widget-view+json": {
       "model_id": "616c0b48de6f44bc96189a08efa3cfda",
       "version_major": 2,
       "version_minor": 0
      },
      "text/plain": [
       "D:   0%|          | 0/2 [00:00<?, ?it/s]"
      ]
     },
     "metadata": {},
     "output_type": "display_data"
    },
    {
     "data": {
      "application/vnd.jupyter.widget-view+json": {
       "model_id": "3efab55cc0c64c548c63708336278946",
       "version_major": 2,
       "version_minor": 0
      },
      "text/plain": [
       "Trial:   0%|          | 0/30 [00:00<?, ?it/s]"
      ]
     },
     "metadata": {},
     "output_type": "display_data"
    },
    {
     "data": {
      "application/vnd.jupyter.widget-view+json": {
       "model_id": "e773e401999d4870b3db44632a490452",
       "version_major": 2,
       "version_minor": 0
      },
      "text/plain": [
       "Trial:   0%|          | 0/30 [00:00<?, ?it/s]"
      ]
     },
     "metadata": {},
     "output_type": "display_data"
    },
    {
     "data": {
      "application/vnd.jupyter.widget-view+json": {
       "model_id": "dd10c4a69dca4362a600f20a1df4b1a9",
       "version_major": 2,
       "version_minor": 0
      },
      "text/plain": [
       "D:   0%|          | 0/2 [00:00<?, ?it/s]"
      ]
     },
     "metadata": {},
     "output_type": "display_data"
    },
    {
     "data": {
      "application/vnd.jupyter.widget-view+json": {
       "model_id": "de9f9facc481463aa80ca41a4bfe75d2",
       "version_major": 2,
       "version_minor": 0
      },
      "text/plain": [
       "Trial:   0%|          | 0/30 [00:00<?, ?it/s]"
      ]
     },
     "metadata": {},
     "output_type": "display_data"
    },
    {
     "data": {
      "application/vnd.jupyter.widget-view+json": {
       "model_id": "2d60eb35879d4425adac1f9fc7e68d83",
       "version_major": 2,
       "version_minor": 0
      },
      "text/plain": [
       "Trial:   0%|          | 0/30 [00:00<?, ?it/s]"
      ]
     },
     "metadata": {},
     "output_type": "display_data"
    },
    {
     "data": {
      "application/vnd.jupyter.widget-view+json": {
       "model_id": "3e6f616ea2f647ae92692c92f49cf0e0",
       "version_major": 2,
       "version_minor": 0
      },
      "text/plain": [
       "D:   0%|          | 0/2 [00:00<?, ?it/s]"
      ]
     },
     "metadata": {},
     "output_type": "display_data"
    },
    {
     "data": {
      "application/vnd.jupyter.widget-view+json": {
       "model_id": "13cd482592eb4208b00d7cd52ef7fa50",
       "version_major": 2,
       "version_minor": 0
      },
      "text/plain": [
       "Trial:   0%|          | 0/30 [00:00<?, ?it/s]"
      ]
     },
     "metadata": {},
     "output_type": "display_data"
    },
    {
     "data": {
      "application/vnd.jupyter.widget-view+json": {
       "model_id": "ac49dadd9a544ff19206ef06e2583519",
       "version_major": 2,
       "version_minor": 0
      },
      "text/plain": [
       "Trial:   0%|          | 0/30 [00:00<?, ?it/s]"
      ]
     },
     "metadata": {},
     "output_type": "display_data"
    },
    {
     "data": {
      "application/vnd.jupyter.widget-view+json": {
       "model_id": "8f8709530dc342fab453e386a7969002",
       "version_major": 2,
       "version_minor": 0
      },
      "text/plain": [
       "D:   0%|          | 0/2 [00:00<?, ?it/s]"
      ]
     },
     "metadata": {},
     "output_type": "display_data"
    },
    {
     "data": {
      "application/vnd.jupyter.widget-view+json": {
       "model_id": "bd5cc25db6e5418f854f7bce78793eac",
       "version_major": 2,
       "version_minor": 0
      },
      "text/plain": [
       "Trial:   0%|          | 0/30 [00:00<?, ?it/s]"
      ]
     },
     "metadata": {},
     "output_type": "display_data"
    },
    {
     "data": {
      "application/vnd.jupyter.widget-view+json": {
       "model_id": "16abaeea1471412ca611b6fa4e172a62",
       "version_major": 2,
       "version_minor": 0
      },
      "text/plain": [
       "Trial:   0%|          | 0/30 [00:00<?, ?it/s]"
      ]
     },
     "metadata": {},
     "output_type": "display_data"
    },
    {
     "data": {
      "application/vnd.jupyter.widget-view+json": {
       "model_id": "16b72e8d812046d2b776770b9f759dec",
       "version_major": 2,
       "version_minor": 0
      },
      "text/plain": [
       "D:   0%|          | 0/2 [00:00<?, ?it/s]"
      ]
     },
     "metadata": {},
     "output_type": "display_data"
    },
    {
     "data": {
      "application/vnd.jupyter.widget-view+json": {
       "model_id": "fa82db53b1f2424fb84eb13f45a9ebd4",
       "version_major": 2,
       "version_minor": 0
      },
      "text/plain": [
       "Trial:   0%|          | 0/30 [00:00<?, ?it/s]"
      ]
     },
     "metadata": {},
     "output_type": "display_data"
    },
    {
     "data": {
      "application/vnd.jupyter.widget-view+json": {
       "model_id": "131c6f2520434fb9a9ff17effb97d470",
       "version_major": 2,
       "version_minor": 0
      },
      "text/plain": [
       "Trial:   0%|          | 0/30 [00:00<?, ?it/s]"
      ]
     },
     "metadata": {},
     "output_type": "display_data"
    },
    {
     "data": {
      "application/vnd.jupyter.widget-view+json": {
       "model_id": "d14fe0d76ca74f6b804c0f7d3dac1f13",
       "version_major": 2,
       "version_minor": 0
      },
      "text/plain": [
       "D:   0%|          | 0/2 [00:00<?, ?it/s]"
      ]
     },
     "metadata": {},
     "output_type": "display_data"
    },
    {
     "data": {
      "application/vnd.jupyter.widget-view+json": {
       "model_id": "ff3cc9421fc5481aabb81f0e05d638db",
       "version_major": 2,
       "version_minor": 0
      },
      "text/plain": [
       "Trial:   0%|          | 0/30 [00:00<?, ?it/s]"
      ]
     },
     "metadata": {},
     "output_type": "display_data"
    },
    {
     "data": {
      "application/vnd.jupyter.widget-view+json": {
       "model_id": "9fd782a5fade4f90b94180d587a69270",
       "version_major": 2,
       "version_minor": 0
      },
      "text/plain": [
       "Trial:   0%|          | 0/30 [00:00<?, ?it/s]"
      ]
     },
     "metadata": {},
     "output_type": "display_data"
    },
    {
     "data": {
      "text/html": [
       "<div>\n",
       "<style scoped>\n",
       "    .dataframe tbody tr th:only-of-type {\n",
       "        vertical-align: middle;\n",
       "    }\n",
       "\n",
       "    .dataframe tbody tr th {\n",
       "        vertical-align: top;\n",
       "    }\n",
       "\n",
       "    .dataframe thead tr th {\n",
       "        text-align: left;\n",
       "    }\n",
       "\n",
       "    .dataframe thead tr:last-of-type th {\n",
       "        text-align: right;\n",
       "    }\n",
       "</style>\n",
       "<table border=\"1\" class=\"dataframe\">\n",
       "  <thead>\n",
       "    <tr>\n",
       "      <th></th>\n",
       "      <th></th>\n",
       "      <th colspan=\"5\" halign=\"left\">f(x)</th>\n",
       "    </tr>\n",
       "    <tr>\n",
       "      <th></th>\n",
       "      <th></th>\n",
       "      <th>Mejor</th>\n",
       "      <th>Peor</th>\n",
       "      <th>Media</th>\n",
       "      <th>Mediana</th>\n",
       "      <th>DesvStd</th>\n",
       "    </tr>\n",
       "    <tr>\n",
       "      <th>dim</th>\n",
       "      <th>CR</th>\n",
       "      <th></th>\n",
       "      <th></th>\n",
       "      <th></th>\n",
       "      <th></th>\n",
       "      <th></th>\n",
       "    </tr>\n",
       "  </thead>\n",
       "  <tbody>\n",
       "    <tr>\n",
       "      <th rowspan=\"7\" valign=\"top\">10</th>\n",
       "      <th>0.00</th>\n",
       "      <td>0.000000e+00</td>\n",
       "      <td>0.000000</td>\n",
       "      <td>0.000000</td>\n",
       "      <td>0.000000e+00</td>\n",
       "      <td>0.000000</td>\n",
       "    </tr>\n",
       "    <tr>\n",
       "      <th>0.10</th>\n",
       "      <td>0.000000e+00</td>\n",
       "      <td>0.000000</td>\n",
       "      <td>0.000000</td>\n",
       "      <td>0.000000e+00</td>\n",
       "      <td>0.000000</td>\n",
       "    </tr>\n",
       "    <tr>\n",
       "      <th>0.25</th>\n",
       "      <td>0.000000e+00</td>\n",
       "      <td>0.000000</td>\n",
       "      <td>0.000000</td>\n",
       "      <td>0.000000e+00</td>\n",
       "      <td>0.000000</td>\n",
       "    </tr>\n",
       "    <tr>\n",
       "      <th>0.50</th>\n",
       "      <td>1.477929e-12</td>\n",
       "      <td>0.013504</td>\n",
       "      <td>0.000451</td>\n",
       "      <td>1.280793e-07</td>\n",
       "      <td>0.002465</td>\n",
       "    </tr>\n",
       "    <tr>\n",
       "      <th>0.75</th>\n",
       "      <td>7.985705e+00</td>\n",
       "      <td>14.551160</td>\n",
       "      <td>11.548760</td>\n",
       "      <td>1.197919e+01</td>\n",
       "      <td>2.017129</td>\n",
       "    </tr>\n",
       "    <tr>\n",
       "      <th>0.90</th>\n",
       "      <td>1.019396e+01</td>\n",
       "      <td>23.582547</td>\n",
       "      <td>18.009712</td>\n",
       "      <td>1.865758e+01</td>\n",
       "      <td>3.578632</td>\n",
       "    </tr>\n",
       "    <tr>\n",
       "      <th>1.00</th>\n",
       "      <td>1.035518e+01</td>\n",
       "      <td>28.304664</td>\n",
       "      <td>18.597472</td>\n",
       "      <td>1.757582e+01</td>\n",
       "      <td>5.235515</td>\n",
       "    </tr>\n",
       "    <tr>\n",
       "      <th rowspan=\"7\" valign=\"top\">30</th>\n",
       "      <th>0.00</th>\n",
       "      <td>1.120420e+01</td>\n",
       "      <td>15.927332</td>\n",
       "      <td>13.320431</td>\n",
       "      <td>1.320740e+01</td>\n",
       "      <td>1.247322</td>\n",
       "    </tr>\n",
       "    <tr>\n",
       "      <th>0.10</th>\n",
       "      <td>4.798793e+01</td>\n",
       "      <td>58.058845</td>\n",
       "      <td>52.532708</td>\n",
       "      <td>5.261124e+01</td>\n",
       "      <td>2.864893</td>\n",
       "    </tr>\n",
       "    <tr>\n",
       "      <th>0.25</th>\n",
       "      <td>6.384501e+01</td>\n",
       "      <td>108.272978</td>\n",
       "      <td>96.919866</td>\n",
       "      <td>9.883694e+01</td>\n",
       "      <td>8.376086</td>\n",
       "    </tr>\n",
       "    <tr>\n",
       "      <th>0.50</th>\n",
       "      <td>1.262566e+02</td>\n",
       "      <td>161.199125</td>\n",
       "      <td>145.989846</td>\n",
       "      <td>1.483882e+02</td>\n",
       "      <td>9.108012</td>\n",
       "    </tr>\n",
       "    <tr>\n",
       "      <th>0.75</th>\n",
       "      <td>1.474112e+02</td>\n",
       "      <td>205.396974</td>\n",
       "      <td>187.555798</td>\n",
       "      <td>1.903289e+02</td>\n",
       "      <td>10.700237</td>\n",
       "    </tr>\n",
       "    <tr>\n",
       "      <th>0.90</th>\n",
       "      <td>1.602846e+02</td>\n",
       "      <td>225.624564</td>\n",
       "      <td>207.565407</td>\n",
       "      <td>2.091370e+02</td>\n",
       "      <td>11.531956</td>\n",
       "    </tr>\n",
       "    <tr>\n",
       "      <th>1.00</th>\n",
       "      <td>2.041907e+02</td>\n",
       "      <td>236.600650</td>\n",
       "      <td>223.090115</td>\n",
       "      <td>2.233258e+02</td>\n",
       "      <td>8.473101</td>\n",
       "    </tr>\n",
       "  </tbody>\n",
       "</table>\n",
       "</div>"
      ],
      "text/plain": [
       "                  f(x)                                                 \n",
       "                 Mejor        Peor       Media       Mediana    DesvStd\n",
       "dim CR                                                                 \n",
       "10  0.00  0.000000e+00    0.000000    0.000000  0.000000e+00   0.000000\n",
       "    0.10  0.000000e+00    0.000000    0.000000  0.000000e+00   0.000000\n",
       "    0.25  0.000000e+00    0.000000    0.000000  0.000000e+00   0.000000\n",
       "    0.50  1.477929e-12    0.013504    0.000451  1.280793e-07   0.002465\n",
       "    0.75  7.985705e+00   14.551160   11.548760  1.197919e+01   2.017129\n",
       "    0.90  1.019396e+01   23.582547   18.009712  1.865758e+01   3.578632\n",
       "    1.00  1.035518e+01   28.304664   18.597472  1.757582e+01   5.235515\n",
       "30  0.00  1.120420e+01   15.927332   13.320431  1.320740e+01   1.247322\n",
       "    0.10  4.798793e+01   58.058845   52.532708  5.261124e+01   2.864893\n",
       "    0.25  6.384501e+01  108.272978   96.919866  9.883694e+01   8.376086\n",
       "    0.50  1.262566e+02  161.199125  145.989846  1.483882e+02   9.108012\n",
       "    0.75  1.474112e+02  205.396974  187.555798  1.903289e+02  10.700237\n",
       "    0.90  1.602846e+02  225.624564  207.565407  2.091370e+02  11.531956\n",
       "    1.00  2.041907e+02  236.600650  223.090115  2.233258e+02   8.473101"
      ]
     },
     "execution_count": 50,
     "metadata": {},
     "output_type": "execute_result"
    }
   ],
   "source": [
    "def rastrigin(x):\n",
    "    return 10*x.shape[0]+np.sum(np.power(x,2)-10*np.cos(2*np.pi*x))\n",
    "\n",
    "proj_bound = np.array([[-5.12,5.12]])\n",
    "opt = 0\n",
    "report(rastrigin, proj_bound, crs, dims, runs, opt)"
   ]
  }
 ],
 "metadata": {
  "kernelspec": {
   "display_name": "Python 3",
   "language": "python",
   "name": "python3"
  },
  "language_info": {
   "codemirror_mode": {
    "name": "ipython",
    "version": 3
   },
   "file_extension": ".py",
   "mimetype": "text/x-python",
   "name": "python",
   "nbconvert_exporter": "python",
   "pygments_lexer": "ipython3",
   "version": "3.11.3"
  },
  "orig_nbformat": 4
 },
 "nbformat": 4,
 "nbformat_minor": 2
}
