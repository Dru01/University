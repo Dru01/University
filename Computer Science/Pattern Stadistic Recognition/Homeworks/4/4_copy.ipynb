{
 "cells": [
  {
   "attachments": {},
   "cell_type": "markdown",
   "metadata": {},
   "source": [
    "# Ejercicios"
   ]
  },
  {
   "attachments": {},
   "cell_type": "markdown",
   "metadata": {},
   "source": [
    "## Clasificador binario bayesiano optimo\n",
    "\n",
    "### Problema\n",
    "\n",
    "### Solución\n",
    "\n",
    "Recordemos \n",
    "\n",
    "|       | X = 0 | X = 1 | X = 2 |       |\n",
    "| :---: | :---: | :---: | :---: | :---: | \n",
    "| Y = 0 | 0.10  | 0.30  | 0.25  | 0.65  |\n",
    "| Y = 1 | 0.25  | 0.05  | 0.05  | 0.35  |\n",
    "|       | 0.35  | 0.35  | 0.30  | 1.00  |\n",
    "\n",
    "y que\n",
    "\n",
    "$$\\hat{Y}(x) = 1\\left(\\frac{P\\left[ Y = 1 | X = x\\right]}{P\\left[ Y = 0 | X = x\\right]} > \\frac{L(0,1)}{L(1,0)}\\right)$$\n",
    "\n",
    "- L(0,1) = L(1,0):\n",
    "\n",
    "$$\\hat{Y}(x) = 1\\left(\\frac{P\\left[ Y = 1 | X = x\\right]}{P\\left[ Y = 0 | X = x\\right]} > 1\\right) = 1\\left(\\frac{P\\left[ Y = 1 , X = x\\right]}{P\\left[ Y = 0 , X = x\\right]} > 1\\right)$$\n",
    "\n",
    "Por lo tanto\n",
    "\n",
    "$$\\hat{Y}(0) = 1\\left(\\frac{0.25}{0.10} > 1 \\right) = 1\\left(2.5 > 1 \\right) = 1,$$\n",
    "$$\\hat{Y}(1) = 1\\left(\\frac{0.05}{0.30} > 1 \\right) = 1\\left(\\frac{1}{6} > 1 \\right) = 0,$$\n",
    "$$\\hat{Y}(1) = 1\\left(\\frac{0.05}{0.25} > 1 \\right) = 1\\left(\\frac{1}{5} > 1 \\right) = 0,$$\n",
    "\n",
    "- L(0,1) = 2L(1,0):\n",
    "\n",
    "$$\\hat{Y}(x) = 1\\left(\\frac{P\\left[ Y = 1 | X = x\\right]}{P\\left[ Y = 0 | X = x\\right]} > 2\\right) = 1\\left(\\frac{P\\left[ Y = 1 , X = x\\right]}{P\\left[ Y = 0 , X = x\\right]} > 2\\right)$$\n",
    "\n",
    "Por lo tanto\n",
    "\n",
    "$$\\hat{Y}(0) = 1\\left(\\frac{0.25}{0.10} > 1 \\right) = 1\\left(2.5 > 2 \\right) = 1,$$\n",
    "$$\\hat{Y}(1) = 1\\left(\\frac{0.05}{0.30} > 1 \\right) = 1\\left(\\frac{1}{6} > 2 \\right) = 0,$$\n",
    "$$\\hat{Y}(1) = 1\\left(\\frac{0.05}{0.25} > 1 \\right) = 1\\left(\\frac{1}{5} > 2 \\right) = 0,$$\n",
    "\n",
    "Ademas\n",
    "\n",
    "\\begin{align*}\n",
    "E_{Y|X=x}\\left[L\\left(Y, \\hat{Y}(x)\\right)\\right] &= L\\left(0, \\hat{Y}(x)\\right)P\\left[ Y = 0 | X = x\\right] + L\\left(1, \\hat{Y}(x)\\right)P\\left[ Y = 1 | X = x\\right]\\\\\n",
    "&= \\frac{L\\left(0, \\hat{Y}(x)\\right)P\\left[ Y = 0 , X = x\\right] + L\\left(1, \\hat{Y}(x)\\right)P\\left[ Y = 1 , X = x\\right]}{P\\left[X=x\\right]}\\\\\n",
    "&= \\begin{cases}\n",
    "\\frac{4L\\left(1, 0\\right)}{7} & x = 0,\\\\\n",
    "\\frac{L\\left(1, 0\\right)}{7} & x = 1,\\\\\n",
    "\\frac{L\\left(1, 0\\right)}{6} & x = 2,\\\\\n",
    "\\end{cases}\n",
    "\\end{align*}"
   ]
  },
  {
   "attachments": {},
   "cell_type": "markdown",
   "metadata": {},
   "source": [
    "## Clasificador ternario bayesiano optimo\n",
    "\n",
    "### Problema\n",
    "\n",
    "### Solución\n",
    "\n",
    "Recordemos que\n",
    "\n",
    "$$E_{Y|X=x}\\left[L\\left(Y, \\hat{Y}(x)\\right)\\right] = \\sum_y L\\left(y, \\hat{Y}(x)\\right)P\\left[ Y = y | X = x\\right],$$\n",
    "\n",
    "pero como $L\\left(Y, \\hat{Y}(x)\\right) = 1\\left(Y \\neq \\hat{Y}(x)\\right)$ entonces\n",
    "\n",
    "$$E_{Y|X=x}\\left[L\\left(Y, \\hat{Y}(x)\\right)\\right] = \\sum_{y\\neq \\hat{Y}(x)} P\\left[ Y = y | X = x\\right] = 1 - P\\left[ Y = \\hat{Y}(x) | X = x\\right].$$\n",
    "\n",
    "Ahora recordemos que (perdonar el abuso de notacion) el clasificador bayesiano optimo es\n",
    "\n",
    "$$\\hat{Y}(x) = \\argmin_{\\hat{Y}(x)} E_{Y|X=x}\\left[L\\left(Y, \\hat{Y}(x)\\right)\\right].$$\n",
    "\n",
    "pero por la ecuacion anterior obtenida esto es\n",
    "\n",
    "$$\\hat{Y}(x) = \\argmax_{\\hat{Y}(x)} P\\left[ Y = \\hat{Y}(x) | X = x\\right],$$\n",
    "\n",
    "por bayes obtenemos que\n",
    "\n",
    "$$hat{Y}(x) = \\argmax_{\\hat{Y}(x)} \\frac{P\\left[X = x\\right | Y = \\hat{Y}(x)] P\\left[Y = \\hat{Y}(x)\\right]}{f_X(x)} = \\argmax_{\\hat{Y}(x)} P\\left[X = x\\right | Y = \\hat{Y}(x)] P\\left[Y = \\hat{Y}(x)\\right],$$\n",
    "\n",
    "debido a que $X|Y=y \\sim N(\\mu_y,\\Sigma)$ entonces\n",
    "\n",
    "$$\\hat{Y}(x) = \\argmax_{\\hat{Y}(x)} \\frac{e^{\\frac{(x-\\mu_y)^T\\Sigma^{-1}(x-\\mu_y)}{2}}}{\\sqrt{(2 \\pi)^k|\\Sigma|}} P\\left[Y = \\hat{Y}(x)\\right],$$\n",
    "\n",
    "ademas al ser la funcion exponencial monotona obtenemos\n",
    "\n",
    "$$\\hat{Y}(x) = \\argmax_{\\hat{Y}(x)} \\frac{(x-\\mu_y)^T\\Sigma^{-1}(x-\\mu_y)}{2} + \\log\\left(P\\left[Y = \\hat{Y}(x)\\right]\\right),$$"
   ]
  }
 ],
 "metadata": {
  "authors": [
   {
    "name": "Rubén Pérez Palacios Lic. Computación Matemática"
   },
   {
    "name": "Profesor: Johan Van Horebeek"
   }
  ],
  "kernelspec": {
   "display_name": "Python 3",
   "language": "python",
   "name": "python3"
  },
  "language_info": {
   "codemirror_mode": {
    "name": "ipython",
    "version": 3
   },
   "file_extension": ".py",
   "mimetype": "text/x-python",
   "name": "python",
   "nbconvert_exporter": "python",
   "pygments_lexer": "ipython3",
   "version": "3.9.13"
  },
  "orig_nbformat": 4,
  "title": "Reconocimiento Estadístico de Patrones - Tarea 1",
  "vscode": {
   "interpreter": {
    "hash": "c347c8f9a7ef94e4c9e03b4513be7835ed18f45b99a2a817fb579f408b867b16"
   }
  }
 },
 "nbformat": 4,
 "nbformat_minor": 2
}
