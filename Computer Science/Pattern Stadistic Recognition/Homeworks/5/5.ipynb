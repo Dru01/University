{
  "cells": [
    {
      "attachments": {},
      "cell_type": "markdown",
      "metadata": {},
      "source": [
        "# Ejercicios"
      ]
    },
    {
      "attachments": {},
      "cell_type": "markdown",
      "metadata": {},
      "source": [
        "## Librerías\n",
        "\n",
        "Importaremos todas las librerías que se usaran durante toda la tarea."
      ]
    },
    {
      "cell_type": "code",
      "execution_count": 312,
      "metadata": {
        "id": "e4up_vVCr-cH"
      },
      "outputs": [],
      "source": [
        "import numpy as np\n",
        "import pandas as pd\n",
        "import math\n",
        "\n",
        "import matplotlib.pyplot as plt\n",
        "from sklearn.neural_network import MLPClassifier #for classification problems\n",
        "from sklearn.neural_network import MLPRegressor  #for regression problems\n",
        "from sklearn.discriminant_analysis import LinearDiscriminantAnalysis\n",
        "from sklearn.linear_model import LogisticRegression\n",
        "from sklearn import preprocessing\n",
        "from sklearn.metrics import confusion_matrix\n",
        "\n",
        "import plotly.graph_objects as go\n",
        "import plotly.express as px\n",
        "from plotly.subplots import make_subplots\n",
        "import plotly.figure_factory as ff\n",
        "\n",
        "import warnings\n",
        "\n",
        "warnings.filterwarnings(\"ignore\")"
      ]
    },
    {
      "attachments": {},
      "cell_type": "markdown",
      "metadata": {},
      "source": [
        "## LDA vs LR\n",
        "\n",
        "### Problema\n",
        "\n",
        "Considera las siguientes muestras de dos distribuciones normales con misma matriz de covarianza pero promedio diferente."
      ]
    },
    {
      "cell_type": "code",
      "execution_count": 313,
      "metadata": {},
      "outputs": [
        {
          "data": {
            "application/vnd.plotly.v1+json": {
              "config": {
                "plotlyServerURL": "https://plot.ly"
              },
              "data": [
                {
                  "mode": "markers",
                  "name": "0",
                  "type": "scatter",
                  "x": [
                    -0.9922382728276298,
                    -2.945457907570926,
                    -1.7355917799873275,
                    -2.3567802627323653,
                    -0.6452242183807184,
                    -1.861689779828148,
                    -1.7726149636895776,
                    -1.4795402639983557,
                    -0.479913297729859,
                    -1.3151429527729546,
                    -0.4933654651324295,
                    -1.4163982460686488,
                    -0.7282638228345548,
                    -1.0279069494569102,
                    -1.6533810607090957,
                    -4.2308289383039455,
                    -1.3758877863050203,
                    -0.8967235896513186,
                    -2.436820841929393,
                    -2.3558466931913173,
                    -4.262998676841768,
                    -1.8159725773067497,
                    -2.290712795521147,
                    0.29070393356544244,
                    -1.3588659582111173,
                    -2.8780057904011427,
                    -1.5037882978358053,
                    -1.901548213312318,
                    -2.0735930572560064,
                    -2.057191325695325,
                    10
                  ],
                  "y": [
                    -1.529669616443342,
                    -1.3817150784901582,
                    -1.804626129534965,
                    -1.5900206679241546,
                    -2.0803073089494144,
                    -0.04993419221907591,
                    -2.2507419069385968,
                    -1.0882701635055492,
                    -1.1993385813422281,
                    -1.7367508198514323,
                    -0.6690707368741406,
                    -2.2225164157137947,
                    -0.48034148131676635,
                    -1.6519414543611628,
                    -1.8349225999454208,
                    -0.27312551510582517,
                    -3.172232611297633,
                    -1.9006092402271206,
                    -0.5644555081067131,
                    -1.2706613385044156,
                    -1.6554230267354113,
                    -1.372519893731987,
                    -1.002425211201344,
                    -3.6257791920325384,
                    -3.6574641685542506,
                    -2.969381524661974,
                    -2.7853671281258388,
                    -1.672908677459544,
                    -1.6746554755452854,
                    -0.4420784742298953,
                    10
                  ]
                },
                {
                  "mode": "markers",
                  "name": "1",
                  "type": "scatter",
                  "x": [
                    2.293639007675558,
                    0.9968678443617713,
                    1.7457005055429773,
                    2.4094073280624593,
                    0.8844285801923515,
                    2.596742418030053,
                    0.682840658355689,
                    0.7527858362345516,
                    1.2296070853955339,
                    2.7003469629461176,
                    1.514521334258233,
                    2.625315016769476,
                    3.1492544369116455,
                    1.4438199895124364,
                    3.4316162047353305,
                    0.6808341336272294,
                    1.8339342901552735,
                    2.8133174125052607,
                    2.6280604942181323,
                    2.8807481491640865,
                    2.4286084773606422,
                    1.8910910213917675,
                    0.6382487837006896,
                    2.809127168619768,
                    4.272330906570435,
                    2.1295907960126277,
                    2.3013221531382997,
                    3.1918497114878086,
                    0.45599510420680045,
                    1.8489362075565463,
                    10
                  ],
                  "y": [
                    2.3783439557342496,
                    3.847666027397121,
                    0.43412986184780955,
                    1.5956647555139585,
                    2.8543932582648344,
                    1.5640095108903436,
                    1.7184756578390337,
                    1.7541727868745527,
                    2.4938273810488285,
                    0.8179356086429834,
                    3.7682352190294894,
                    1.9717572637190581,
                    3.0229409206433786,
                    3.0828577227242455,
                    1.7244123550200763,
                    1.7758217501550742,
                    1.2745698271431203,
                    3.2155825221877716,
                    -0.6913876272060362,
                    1.7634714270726453,
                    3.4559064665391217,
                    0.03261008978497126,
                    1.0502380361082562,
                    2.661709976422175,
                    3.78124795817493,
                    2.03119698353509,
                    3.5923078893636697,
                    -1.0245615950909457,
                    2.0866463799537036,
                    1.4601681866667429,
                    10
                  ]
                }
              ],
              "layout": {
                "height": 1000,
                "template": {
                  "data": {
                    "bar": [
                      {
                        "error_x": {
                          "color": "rgb(36,36,36)"
                        },
                        "error_y": {
                          "color": "rgb(36,36,36)"
                        },
                        "marker": {
                          "line": {
                            "color": "white",
                            "width": 0.5
                          },
                          "pattern": {
                            "fillmode": "overlay",
                            "size": 10,
                            "solidity": 0.2
                          }
                        },
                        "type": "bar"
                      }
                    ],
                    "barpolar": [
                      {
                        "marker": {
                          "line": {
                            "color": "white",
                            "width": 0.5
                          },
                          "pattern": {
                            "fillmode": "overlay",
                            "size": 10,
                            "solidity": 0.2
                          }
                        },
                        "type": "barpolar"
                      }
                    ],
                    "carpet": [
                      {
                        "aaxis": {
                          "endlinecolor": "rgb(36,36,36)",
                          "gridcolor": "white",
                          "linecolor": "white",
                          "minorgridcolor": "white",
                          "startlinecolor": "rgb(36,36,36)"
                        },
                        "baxis": {
                          "endlinecolor": "rgb(36,36,36)",
                          "gridcolor": "white",
                          "linecolor": "white",
                          "minorgridcolor": "white",
                          "startlinecolor": "rgb(36,36,36)"
                        },
                        "type": "carpet"
                      }
                    ],
                    "choropleth": [
                      {
                        "colorbar": {
                          "outlinewidth": 1,
                          "tickcolor": "rgb(36,36,36)",
                          "ticks": "outside"
                        },
                        "type": "choropleth"
                      }
                    ],
                    "contour": [
                      {
                        "colorbar": {
                          "outlinewidth": 1,
                          "tickcolor": "rgb(36,36,36)",
                          "ticks": "outside"
                        },
                        "colorscale": [
                          [
                            0,
                            "#440154"
                          ],
                          [
                            0.1111111111111111,
                            "#482878"
                          ],
                          [
                            0.2222222222222222,
                            "#3e4989"
                          ],
                          [
                            0.3333333333333333,
                            "#31688e"
                          ],
                          [
                            0.4444444444444444,
                            "#26828e"
                          ],
                          [
                            0.5555555555555556,
                            "#1f9e89"
                          ],
                          [
                            0.6666666666666666,
                            "#35b779"
                          ],
                          [
                            0.7777777777777778,
                            "#6ece58"
                          ],
                          [
                            0.8888888888888888,
                            "#b5de2b"
                          ],
                          [
                            1,
                            "#fde725"
                          ]
                        ],
                        "type": "contour"
                      }
                    ],
                    "contourcarpet": [
                      {
                        "colorbar": {
                          "outlinewidth": 1,
                          "tickcolor": "rgb(36,36,36)",
                          "ticks": "outside"
                        },
                        "type": "contourcarpet"
                      }
                    ],
                    "heatmap": [
                      {
                        "colorbar": {
                          "outlinewidth": 1,
                          "tickcolor": "rgb(36,36,36)",
                          "ticks": "outside"
                        },
                        "colorscale": [
                          [
                            0,
                            "#440154"
                          ],
                          [
                            0.1111111111111111,
                            "#482878"
                          ],
                          [
                            0.2222222222222222,
                            "#3e4989"
                          ],
                          [
                            0.3333333333333333,
                            "#31688e"
                          ],
                          [
                            0.4444444444444444,
                            "#26828e"
                          ],
                          [
                            0.5555555555555556,
                            "#1f9e89"
                          ],
                          [
                            0.6666666666666666,
                            "#35b779"
                          ],
                          [
                            0.7777777777777778,
                            "#6ece58"
                          ],
                          [
                            0.8888888888888888,
                            "#b5de2b"
                          ],
                          [
                            1,
                            "#fde725"
                          ]
                        ],
                        "type": "heatmap"
                      }
                    ],
                    "heatmapgl": [
                      {
                        "colorbar": {
                          "outlinewidth": 1,
                          "tickcolor": "rgb(36,36,36)",
                          "ticks": "outside"
                        },
                        "colorscale": [
                          [
                            0,
                            "#440154"
                          ],
                          [
                            0.1111111111111111,
                            "#482878"
                          ],
                          [
                            0.2222222222222222,
                            "#3e4989"
                          ],
                          [
                            0.3333333333333333,
                            "#31688e"
                          ],
                          [
                            0.4444444444444444,
                            "#26828e"
                          ],
                          [
                            0.5555555555555556,
                            "#1f9e89"
                          ],
                          [
                            0.6666666666666666,
                            "#35b779"
                          ],
                          [
                            0.7777777777777778,
                            "#6ece58"
                          ],
                          [
                            0.8888888888888888,
                            "#b5de2b"
                          ],
                          [
                            1,
                            "#fde725"
                          ]
                        ],
                        "type": "heatmapgl"
                      }
                    ],
                    "histogram": [
                      {
                        "marker": {
                          "line": {
                            "color": "white",
                            "width": 0.6
                          }
                        },
                        "type": "histogram"
                      }
                    ],
                    "histogram2d": [
                      {
                        "colorbar": {
                          "outlinewidth": 1,
                          "tickcolor": "rgb(36,36,36)",
                          "ticks": "outside"
                        },
                        "colorscale": [
                          [
                            0,
                            "#440154"
                          ],
                          [
                            0.1111111111111111,
                            "#482878"
                          ],
                          [
                            0.2222222222222222,
                            "#3e4989"
                          ],
                          [
                            0.3333333333333333,
                            "#31688e"
                          ],
                          [
                            0.4444444444444444,
                            "#26828e"
                          ],
                          [
                            0.5555555555555556,
                            "#1f9e89"
                          ],
                          [
                            0.6666666666666666,
                            "#35b779"
                          ],
                          [
                            0.7777777777777778,
                            "#6ece58"
                          ],
                          [
                            0.8888888888888888,
                            "#b5de2b"
                          ],
                          [
                            1,
                            "#fde725"
                          ]
                        ],
                        "type": "histogram2d"
                      }
                    ],
                    "histogram2dcontour": [
                      {
                        "colorbar": {
                          "outlinewidth": 1,
                          "tickcolor": "rgb(36,36,36)",
                          "ticks": "outside"
                        },
                        "colorscale": [
                          [
                            0,
                            "#440154"
                          ],
                          [
                            0.1111111111111111,
                            "#482878"
                          ],
                          [
                            0.2222222222222222,
                            "#3e4989"
                          ],
                          [
                            0.3333333333333333,
                            "#31688e"
                          ],
                          [
                            0.4444444444444444,
                            "#26828e"
                          ],
                          [
                            0.5555555555555556,
                            "#1f9e89"
                          ],
                          [
                            0.6666666666666666,
                            "#35b779"
                          ],
                          [
                            0.7777777777777778,
                            "#6ece58"
                          ],
                          [
                            0.8888888888888888,
                            "#b5de2b"
                          ],
                          [
                            1,
                            "#fde725"
                          ]
                        ],
                        "type": "histogram2dcontour"
                      }
                    ],
                    "mesh3d": [
                      {
                        "colorbar": {
                          "outlinewidth": 1,
                          "tickcolor": "rgb(36,36,36)",
                          "ticks": "outside"
                        },
                        "type": "mesh3d"
                      }
                    ],
                    "parcoords": [
                      {
                        "line": {
                          "colorbar": {
                            "outlinewidth": 1,
                            "tickcolor": "rgb(36,36,36)",
                            "ticks": "outside"
                          }
                        },
                        "type": "parcoords"
                      }
                    ],
                    "pie": [
                      {
                        "automargin": true,
                        "type": "pie"
                      }
                    ],
                    "scatter": [
                      {
                        "fillpattern": {
                          "fillmode": "overlay",
                          "size": 10,
                          "solidity": 0.2
                        },
                        "type": "scatter"
                      }
                    ],
                    "scatter3d": [
                      {
                        "line": {
                          "colorbar": {
                            "outlinewidth": 1,
                            "tickcolor": "rgb(36,36,36)",
                            "ticks": "outside"
                          }
                        },
                        "marker": {
                          "colorbar": {
                            "outlinewidth": 1,
                            "tickcolor": "rgb(36,36,36)",
                            "ticks": "outside"
                          }
                        },
                        "type": "scatter3d"
                      }
                    ],
                    "scattercarpet": [
                      {
                        "marker": {
                          "colorbar": {
                            "outlinewidth": 1,
                            "tickcolor": "rgb(36,36,36)",
                            "ticks": "outside"
                          }
                        },
                        "type": "scattercarpet"
                      }
                    ],
                    "scattergeo": [
                      {
                        "marker": {
                          "colorbar": {
                            "outlinewidth": 1,
                            "tickcolor": "rgb(36,36,36)",
                            "ticks": "outside"
                          }
                        },
                        "type": "scattergeo"
                      }
                    ],
                    "scattergl": [
                      {
                        "marker": {
                          "colorbar": {
                            "outlinewidth": 1,
                            "tickcolor": "rgb(36,36,36)",
                            "ticks": "outside"
                          }
                        },
                        "type": "scattergl"
                      }
                    ],
                    "scattermapbox": [
                      {
                        "marker": {
                          "colorbar": {
                            "outlinewidth": 1,
                            "tickcolor": "rgb(36,36,36)",
                            "ticks": "outside"
                          }
                        },
                        "type": "scattermapbox"
                      }
                    ],
                    "scatterpolar": [
                      {
                        "marker": {
                          "colorbar": {
                            "outlinewidth": 1,
                            "tickcolor": "rgb(36,36,36)",
                            "ticks": "outside"
                          }
                        },
                        "type": "scatterpolar"
                      }
                    ],
                    "scatterpolargl": [
                      {
                        "marker": {
                          "colorbar": {
                            "outlinewidth": 1,
                            "tickcolor": "rgb(36,36,36)",
                            "ticks": "outside"
                          }
                        },
                        "type": "scatterpolargl"
                      }
                    ],
                    "scatterternary": [
                      {
                        "marker": {
                          "colorbar": {
                            "outlinewidth": 1,
                            "tickcolor": "rgb(36,36,36)",
                            "ticks": "outside"
                          }
                        },
                        "type": "scatterternary"
                      }
                    ],
                    "surface": [
                      {
                        "colorbar": {
                          "outlinewidth": 1,
                          "tickcolor": "rgb(36,36,36)",
                          "ticks": "outside"
                        },
                        "colorscale": [
                          [
                            0,
                            "#440154"
                          ],
                          [
                            0.1111111111111111,
                            "#482878"
                          ],
                          [
                            0.2222222222222222,
                            "#3e4989"
                          ],
                          [
                            0.3333333333333333,
                            "#31688e"
                          ],
                          [
                            0.4444444444444444,
                            "#26828e"
                          ],
                          [
                            0.5555555555555556,
                            "#1f9e89"
                          ],
                          [
                            0.6666666666666666,
                            "#35b779"
                          ],
                          [
                            0.7777777777777778,
                            "#6ece58"
                          ],
                          [
                            0.8888888888888888,
                            "#b5de2b"
                          ],
                          [
                            1,
                            "#fde725"
                          ]
                        ],
                        "type": "surface"
                      }
                    ],
                    "table": [
                      {
                        "cells": {
                          "fill": {
                            "color": "rgb(237,237,237)"
                          },
                          "line": {
                            "color": "white"
                          }
                        },
                        "header": {
                          "fill": {
                            "color": "rgb(217,217,217)"
                          },
                          "line": {
                            "color": "white"
                          }
                        },
                        "type": "table"
                      }
                    ]
                  },
                  "layout": {
                    "annotationdefaults": {
                      "arrowhead": 0,
                      "arrowwidth": 1
                    },
                    "autotypenumbers": "strict",
                    "coloraxis": {
                      "colorbar": {
                        "outlinewidth": 1,
                        "tickcolor": "rgb(36,36,36)",
                        "ticks": "outside"
                      }
                    },
                    "colorscale": {
                      "diverging": [
                        [
                          0,
                          "rgb(103,0,31)"
                        ],
                        [
                          0.1,
                          "rgb(178,24,43)"
                        ],
                        [
                          0.2,
                          "rgb(214,96,77)"
                        ],
                        [
                          0.3,
                          "rgb(244,165,130)"
                        ],
                        [
                          0.4,
                          "rgb(253,219,199)"
                        ],
                        [
                          0.5,
                          "rgb(247,247,247)"
                        ],
                        [
                          0.6,
                          "rgb(209,229,240)"
                        ],
                        [
                          0.7,
                          "rgb(146,197,222)"
                        ],
                        [
                          0.8,
                          "rgb(67,147,195)"
                        ],
                        [
                          0.9,
                          "rgb(33,102,172)"
                        ],
                        [
                          1,
                          "rgb(5,48,97)"
                        ]
                      ],
                      "sequential": [
                        [
                          0,
                          "#440154"
                        ],
                        [
                          0.1111111111111111,
                          "#482878"
                        ],
                        [
                          0.2222222222222222,
                          "#3e4989"
                        ],
                        [
                          0.3333333333333333,
                          "#31688e"
                        ],
                        [
                          0.4444444444444444,
                          "#26828e"
                        ],
                        [
                          0.5555555555555556,
                          "#1f9e89"
                        ],
                        [
                          0.6666666666666666,
                          "#35b779"
                        ],
                        [
                          0.7777777777777778,
                          "#6ece58"
                        ],
                        [
                          0.8888888888888888,
                          "#b5de2b"
                        ],
                        [
                          1,
                          "#fde725"
                        ]
                      ],
                      "sequentialminus": [
                        [
                          0,
                          "#440154"
                        ],
                        [
                          0.1111111111111111,
                          "#482878"
                        ],
                        [
                          0.2222222222222222,
                          "#3e4989"
                        ],
                        [
                          0.3333333333333333,
                          "#31688e"
                        ],
                        [
                          0.4444444444444444,
                          "#26828e"
                        ],
                        [
                          0.5555555555555556,
                          "#1f9e89"
                        ],
                        [
                          0.6666666666666666,
                          "#35b779"
                        ],
                        [
                          0.7777777777777778,
                          "#6ece58"
                        ],
                        [
                          0.8888888888888888,
                          "#b5de2b"
                        ],
                        [
                          1,
                          "#fde725"
                        ]
                      ]
                    },
                    "colorway": [
                      "#1F77B4",
                      "#FF7F0E",
                      "#2CA02C",
                      "#D62728",
                      "#9467BD",
                      "#8C564B",
                      "#E377C2",
                      "#7F7F7F",
                      "#BCBD22",
                      "#17BECF"
                    ],
                    "font": {
                      "color": "rgb(36,36,36)"
                    },
                    "geo": {
                      "bgcolor": "white",
                      "lakecolor": "white",
                      "landcolor": "white",
                      "showlakes": true,
                      "showland": true,
                      "subunitcolor": "white"
                    },
                    "hoverlabel": {
                      "align": "left"
                    },
                    "hovermode": "closest",
                    "mapbox": {
                      "style": "light"
                    },
                    "paper_bgcolor": "white",
                    "plot_bgcolor": "white",
                    "polar": {
                      "angularaxis": {
                        "gridcolor": "rgb(232,232,232)",
                        "linecolor": "rgb(36,36,36)",
                        "showgrid": false,
                        "showline": true,
                        "ticks": "outside"
                      },
                      "bgcolor": "white",
                      "radialaxis": {
                        "gridcolor": "rgb(232,232,232)",
                        "linecolor": "rgb(36,36,36)",
                        "showgrid": false,
                        "showline": true,
                        "ticks": "outside"
                      }
                    },
                    "scene": {
                      "xaxis": {
                        "backgroundcolor": "white",
                        "gridcolor": "rgb(232,232,232)",
                        "gridwidth": 2,
                        "linecolor": "rgb(36,36,36)",
                        "showbackground": true,
                        "showgrid": false,
                        "showline": true,
                        "ticks": "outside",
                        "zeroline": false,
                        "zerolinecolor": "rgb(36,36,36)"
                      },
                      "yaxis": {
                        "backgroundcolor": "white",
                        "gridcolor": "rgb(232,232,232)",
                        "gridwidth": 2,
                        "linecolor": "rgb(36,36,36)",
                        "showbackground": true,
                        "showgrid": false,
                        "showline": true,
                        "ticks": "outside",
                        "zeroline": false,
                        "zerolinecolor": "rgb(36,36,36)"
                      },
                      "zaxis": {
                        "backgroundcolor": "white",
                        "gridcolor": "rgb(232,232,232)",
                        "gridwidth": 2,
                        "linecolor": "rgb(36,36,36)",
                        "showbackground": true,
                        "showgrid": false,
                        "showline": true,
                        "ticks": "outside",
                        "zeroline": false,
                        "zerolinecolor": "rgb(36,36,36)"
                      }
                    },
                    "shapedefaults": {
                      "fillcolor": "black",
                      "line": {
                        "width": 0
                      },
                      "opacity": 0.3
                    },
                    "ternary": {
                      "aaxis": {
                        "gridcolor": "rgb(232,232,232)",
                        "linecolor": "rgb(36,36,36)",
                        "showgrid": false,
                        "showline": true,
                        "ticks": "outside"
                      },
                      "baxis": {
                        "gridcolor": "rgb(232,232,232)",
                        "linecolor": "rgb(36,36,36)",
                        "showgrid": false,
                        "showline": true,
                        "ticks": "outside"
                      },
                      "bgcolor": "white",
                      "caxis": {
                        "gridcolor": "rgb(232,232,232)",
                        "linecolor": "rgb(36,36,36)",
                        "showgrid": false,
                        "showline": true,
                        "ticks": "outside"
                      }
                    },
                    "title": {
                      "x": 0.05
                    },
                    "xaxis": {
                      "automargin": true,
                      "gridcolor": "rgb(232,232,232)",
                      "linecolor": "rgb(36,36,36)",
                      "showgrid": false,
                      "showline": true,
                      "ticks": "outside",
                      "title": {
                        "standoff": 15
                      },
                      "zeroline": false,
                      "zerolinecolor": "rgb(36,36,36)"
                    },
                    "yaxis": {
                      "automargin": true,
                      "gridcolor": "rgb(232,232,232)",
                      "linecolor": "rgb(36,36,36)",
                      "showgrid": false,
                      "showline": true,
                      "ticks": "outside",
                      "title": {
                        "standoff": 15
                      },
                      "zeroline": false,
                      "zerolinecolor": "rgb(36,36,36)"
                    }
                  }
                },
                "title": {
                  "text": "LR"
                },
                "width": 1000
              }
            }
          },
          "metadata": {},
          "output_type": "display_data"
        }
      ],
      "source": [
        "cov = [[1, 0], [0, 1]]\n",
        "mus = [[-2, -2], [2, 2]]\n",
        "N = 30\n",
        "atypical_data = np.array([[10,10]])\n",
        "\n",
        "samples = [np.random.multivariate_normal(mu, cov, N) for mu in mus]\n",
        "\n",
        "fig = go.Figure()\n",
        "fig.add_scatter(\n",
        "    x = np.concatenate((samples[0][:,0],atypical_data[:,0])),\n",
        "    y = np.concatenate((samples[0][:,1],atypical_data[:,1])),\n",
        "    name = 0,\n",
        "    mode=\"markers\"\n",
        ")\n",
        "fig.add_scatter(\n",
        "    x = np.concatenate((samples[1][:,0],atypical_data[:,0])),\n",
        "    y = np.concatenate((samples[1][:,1],atypical_data[:,1])),\n",
        "    name = 1,\n",
        "    mode=\"markers\"\n",
        ")\n",
        "fig.update_layout(\n",
        "    template=\"simple_white\",\n",
        "    title=\"LR\",\n",
        "    width=1000,\n",
        "    height=1000\n",
        ")\n",
        "fig.show()\n"
      ]
    },
    {
      "attachments": {},
      "cell_type": "markdown",
      "metadata": {},
      "source": [
        "Añadimos una observación atípica (punto rojo) de la clase verde. ¿Cúal método es más robusto a este dato atípico: LDA o regresión logística? ¿Por qué?\n",
        "\n",
        "### Solución"
      ]
    },
    {
      "cell_type": "code",
      "execution_count": 314,
      "metadata": {},
      "outputs": [
        {
          "data": {
            "application/vnd.plotly.v1+json": {
              "config": {
                "plotlyServerURL": "https://plot.ly"
              },
              "data": [
                {
                  "autobinx": false,
                  "histnorm": "probability density",
                  "legendgroup": "0",
                  "marker": {
                    "color": "rgb(31, 119, 180)"
                  },
                  "name": "0",
                  "opacity": 0.7,
                  "type": "histogram",
                  "x": [
                    -0.9299646736463094,
                    -1.5951609981376604,
                    -1.2652846027012403,
                    -1.4352829581825546,
                    -0.9418341491872049,
                    -0.8753985043130742,
                    -1.3892347942639367,
                    -0.9956011790022326,
                    -0.663931139091345,
                    -1.0973612865199913,
                    -0.5372478940544034,
                    -1.2542273404919788,
                    -0.5748502070093385,
                    -0.9731081833912301,
                    -1.2432562168862793,
                    -1.7821078494302487,
                    -1.475218944524087,
                    -0.9876419780687137,
                    -1.209684456829099,
                    -1.3557398160889256,
                    -2.136506216874087,
                    -1.1869983420946957,
                    -1.2658058028356582,
                    -0.9888158372117091,
                    -1.5894495044606787,
                    -1.9646958258661043,
                    -1.4252295910549386,
                    -1.292252639446324,
                    -1.3545104255994633,
                    -1.042912069317167,
                    5.87970532576094
                  ],
                  "xaxis": "x",
                  "xbins": {
                    "end": 5.87970532576094,
                    "size": 0.1,
                    "start": -2.136506216874087
                  },
                  "yaxis": "y"
                },
                {
                  "autobinx": false,
                  "histnorm": "probability density",
                  "legendgroup": "1",
                  "marker": {
                    "color": "rgb(255, 127, 14)"
                  },
                  "name": "1",
                  "opacity": 0.7,
                  "type": "histogram",
                  "x": [
                    1.2200872203312867,
                    1.1185127755806643,
                    0.540979823638034,
                    1.0675682291992596,
                    0.8317555605832999,
                    1.1270361941282512,
                    0.4775838131061971,
                    0.5115723261999536,
                    0.8663681858668072,
                    0.9792249985813388,
                    1.2848317790897315,
                    1.2384335998124818,
                    1.687427033066691,
                    1.0894374826809676,
                    1.466832398852036,
                    0.4910857726266471,
                    0.7811330978196194,
                    1.614486682345211,
                    0.5789056461175898,
                    1.2785646783270292,
                    1.5358462791867549,
                    0.49364096242253575,
                    0.2958230300122239,
                    1.4756091632823616,
                    2.279081757629707,
                    1.0750367085437733,
                    1.523936118582472,
                    0.698870077924661,
                    0.4873804492806513,
                    0.8325562560014995
                  ],
                  "xaxis": "x",
                  "xbins": {
                    "end": 2.279081757629707,
                    "size": 0.1,
                    "start": 0.2958230300122239
                  },
                  "yaxis": "y"
                },
                {
                  "legendgroup": "0",
                  "marker": {
                    "color": "rgb(31, 119, 180)"
                  },
                  "mode": "lines",
                  "name": "0",
                  "showlegend": false,
                  "type": "scatter",
                  "x": [
                    -2.136506216874087,
                    -2.120473793788817,
                    -2.104441370703547,
                    -2.0884089476182766,
                    -2.0723765245330066,
                    -2.0563441014477366,
                    -2.0403116783624666,
                    -2.0242792552771967,
                    -2.0082468321919267,
                    -1.9922144091066565,
                    -1.9761819860213863,
                    -1.9601495629361163,
                    -1.9441171398508463,
                    -1.9280847167655761,
                    -1.9120522936803062,
                    -1.8960198705950362,
                    -1.879987447509766,
                    -1.863955024424496,
                    -1.847922601339226,
                    -1.831890178253956,
                    -1.8158577551686859,
                    -1.7998253320834157,
                    -1.7837929089981457,
                    -1.7677604859128757,
                    -1.7517280628276057,
                    -1.7356956397423355,
                    -1.7196632166570656,
                    -1.7036307935717954,
                    -1.6875983704865254,
                    -1.6715659474012554,
                    -1.6555335243159854,
                    -1.6395011012307152,
                    -1.623468678145445,
                    -1.607436255060175,
                    -1.591403831974905,
                    -1.5753714088896351,
                    -1.559338985804365,
                    -1.543306562719095,
                    -1.527274139633825,
                    -1.5112417165485548,
                    -1.4952092934632848,
                    -1.4791768703780148,
                    -1.4631444472927446,
                    -1.4471120242074746,
                    -1.4310796011222047,
                    -1.4150471780369345,
                    -1.3990147549516645,
                    -1.3829823318663945,
                    -1.3669499087811243,
                    -1.3509174856958543,
                    -1.3348850626105841,
                    -1.3188526395253142,
                    -1.3028202164400442,
                    -1.2867877933547742,
                    -1.270755370269504,
                    -1.2547229471842338,
                    -1.2386905240989639,
                    -1.2226581010136939,
                    -1.206625677928424,
                    -1.190593254843154,
                    -1.1745608317578837,
                    -1.1585284086726135,
                    -1.1424959855873436,
                    -1.1264635625020736,
                    -1.1104311394168034,
                    -1.0943987163315334,
                    -1.0783662932462634,
                    -1.0623338701609932,
                    -1.0463014470757233,
                    -1.0302690239904533,
                    -1.014236600905183,
                    -0.9982041778199131,
                    -0.9821717547346429,
                    -0.9661393316493729,
                    -0.950106908564103,
                    -0.934074485478833,
                    -0.918042062393563,
                    -0.9020096393082928,
                    -0.8859772162230226,
                    -0.8699447931377526,
                    -0.8539123700524827,
                    -0.8378799469672127,
                    -0.8218475238819427,
                    -0.8058151007966723,
                    -0.7897826777114023,
                    -0.7737502546261323,
                    -0.7577178315408624,
                    -0.7416854084555924,
                    -0.7256529853703224,
                    -0.709620562285052,
                    -0.693588139199782,
                    -0.677555716114512,
                    -0.6615232930292421,
                    -0.6454908699439721,
                    -0.6294584468587019,
                    -0.6134260237734317,
                    -0.5973936006881617,
                    -0.5813611776028917,
                    -0.5653287545176218,
                    -0.5492963314323516,
                    -0.5332639083470816,
                    -0.5172314852618114,
                    -0.5011990621765414,
                    -0.48516663909127145,
                    -0.46913421600600125,
                    -0.45310179292073127,
                    -0.4370693698354613,
                    -0.4210369467501911,
                    -0.4050045236649211,
                    -0.38897210057965115,
                    -0.37293967749438095,
                    -0.356907254409111,
                    -0.340874831323841,
                    -0.3248424082385708,
                    -0.3088099851533008,
                    -0.29277756206803063,
                    -0.27674513898276065,
                    -0.2607127158974907,
                    -0.2446802928122207,
                    -0.2286478697269505,
                    -0.21261544664168053,
                    -0.19658302355641033,
                    -0.18055060047114035,
                    -0.16451817738587038,
                    -0.1484857543006004,
                    -0.1324533312153302,
                    -0.11642090813006023,
                    -0.10038848504479025,
                    -0.08435606195951983,
                    -0.06832363887424986,
                    -0.05229121578897988,
                    -0.03625879270370991,
                    -0.020226369618439932,
                    -0.004193946533169957,
                    0.011838476552100463,
                    0.02787089963737044,
                    0.043903322722640414,
                    0.05993574580791039,
                    0.07596816889318037,
                    0.09200059197845079,
                    0.10803301506372076,
                    0.12406543814899074,
                    0.1400978612342607,
                    0.1561302843195307,
                    0.1721627074048011,
                    0.18819513049007064,
                    0.20422755357534106,
                    0.22025997666061103,
                    0.236292399745881,
                    0.252324822831151,
                    0.26835724591642096,
                    0.2843896690016914,
                    0.3004220920869609,
                    0.31645451517223133,
                    0.3324869382575013,
                    0.3485193613427713,
                    0.3645517844280417,
                    0.38058420751331123,
                    0.39661663059858165,
                    0.41264905368385163,
                    0.4286814767691216,
                    0.444713899854392,
                    0.46074632293966156,
                    0.476778746024932,
                    0.4928111691102015,
                    0.5088435921954719,
                    0.5248760152807423,
                    0.5409084383660119,
                    0.5569408614512823,
                    0.5729732845365518,
                    0.5890057076218222,
                    0.6050381307070927,
                    0.6210705537923622,
                    0.6371029768776326,
                    0.6531353999629022,
                    0.6691678230481726,
                    0.6852002461334421,
                    0.7012326692187125,
                    0.7172650923039829,
                    0.7332975153892525,
                    0.7493299384745229,
                    0.7653623615597924,
                    0.7813947846450628,
                    0.7974272077303333,
                    0.8134596308156028,
                    0.8294920539008732,
                    0.8455244769861427,
                    0.8615569000714132,
                    0.8775893231566831,
                    0.8936217462419531,
                    0.9096541693272235,
                    0.9256865924124931,
                    0.9417190154977635,
                    0.9577514385830335,
                    0.9737838616683034,
                    0.9898162847535739,
                    1.0058487078388434,
                    1.0218811309241138,
                    1.0379135540093838,
                    1.0539459770946538,
                    1.0699784001799237,
                    1.0860108232651937,
                    1.1020432463504641,
                    1.118075669435734,
                    1.134108092521004,
                    1.150140515606274,
                    1.166172938691544,
                    1.1822053617768145,
                    1.1982377848620844,
                    1.2142702079473544,
                    1.2303026310326244,
                    1.2463350541178944,
                    1.2623674772031643,
                    1.2783999002884343,
                    1.2944323233737047,
                    1.3104647464589747,
                    1.3264971695442447,
                    1.3425295926295147,
                    1.3585620157147846,
                    1.374594438800055,
                    1.390626861885325,
                    1.406659284970595,
                    1.422691708055865,
                    1.438724131141135,
                    1.454756554226405,
                    1.4707889773116753,
                    1.4868214003969453,
                    1.5028538234822153,
                    1.5188862465674853,
                    1.5349186696527553,
                    1.5509510927380257,
                    1.5669835158232952,
                    1.5830159389085656,
                    1.5990483619938356,
                    1.6150807850791056,
                    1.631113208164376,
                    1.6471456312496455,
                    1.663178054334916,
                    1.679210477420186,
                    1.695242900505456,
                    1.7112753235907259,
                    1.7273077466759958,
                    1.7433401697612663,
                    1.7593725928465358,
                    1.7754050159318062,
                    1.7914374390170762,
                    1.8074698621023462,
                    1.8235022851876166,
                    1.8395347082728861,
                    1.8555671313581565,
                    1.8715995544434265,
                    1.8876319775286965,
                    1.9036644006139665,
                    1.9196968236992364,
                    1.9357292467845064,
                    1.9517616698697764,
                    1.9677940929550473,
                    1.9838265160403172,
                    1.9998589391255872,
                    2.0158913622108563,
                    2.031923785296127,
                    2.047956208381397,
                    2.063988631466667,
                    2.080021054551938,
                    2.096053477637207,
                    2.112085900722477,
                    2.128118323807747,
                    2.144150746893018,
                    2.160183169978288,
                    2.176215593063557,
                    2.192248016148828,
                    2.208280439234098,
                    2.2243128623193678,
                    2.2403452854046377,
                    2.2563777084899077,
                    2.2724101315751777,
                    2.2884425546604477,
                    2.3044749777457185,
                    2.3205074008309885,
                    2.3365398239162576,
                    2.3525722470015284,
                    2.3686046700867984,
                    2.3846370931720684,
                    2.4006695162573384,
                    2.4167019393426084,
                    2.4327343624278783,
                    2.4487667855131483,
                    2.464799208598419,
                    2.480831631683689,
                    2.4968640547689582,
                    2.512896477854228,
                    2.528928900939499,
                    2.544961324024769,
                    2.560993747110038,
                    2.577026170195309,
                    2.593058593280579,
                    2.609091016365849,
                    2.625123439451119,
                    2.641155862536389,
                    2.657188285621659,
                    2.673220708706929,
                    2.6892531317921997,
                    2.7052855548774697,
                    2.7213179779627388,
                    2.7373504010480088,
                    2.7533828241332796,
                    2.7694152472185496,
                    2.7854476703038196,
                    2.8014800933890895,
                    2.8175125164743595,
                    2.8335449395596295,
                    2.8495773626449004,
                    2.8656097857301703,
                    2.8816422088154394,
                    2.8976746319007094,
                    2.9137070549859803,
                    2.9297394780712502,
                    2.94577190115652,
                    2.96180432424179,
                    2.97783674732706,
                    2.99386917041233,
                    3.0099015934976,
                    3.025934016582871,
                    3.04196643966814,
                    3.05799886275341,
                    3.074031285838681,
                    3.090063708923951,
                    3.106096132009221,
                    3.12212855509449,
                    3.138160978179761,
                    3.154193401265031,
                    3.1702258243503008,
                    3.1862582474355716,
                    3.2022906705208407,
                    3.2183230936061107,
                    3.2343555166913815,
                    3.2503879397766515,
                    3.2664203628619215,
                    3.2824527859471906,
                    3.2984852090324615,
                    3.3145176321177314,
                    3.3305500552030014,
                    3.3465824782882723,
                    3.3626149013735414,
                    3.3786473244588113,
                    3.3946797475440813,
                    3.410712170629352,
                    3.426744593714622,
                    3.4427770167998912,
                    3.458809439885162,
                    3.474841862970432,
                    3.490874286055702,
                    3.506906709140971,
                    3.522939132226242,
                    3.538971555311512,
                    3.555003978396782,
                    3.571036401482053,
                    3.587068824567322,
                    3.603101247652592,
                    3.6191336707378627,
                    3.6351660938231327,
                    3.6511985169084027,
                    3.667230939993672,
                    3.6832633630789426,
                    3.6992957861642126,
                    3.7153282092494826,
                    3.7313606323347535,
                    3.7473930554200225,
                    3.7634254785052925,
                    3.7794579015905625,
                    3.7954903246758334,
                    3.8115227477611033,
                    3.8275551708463724,
                    3.8435875939316433,
                    3.8596200170169133,
                    3.8756524401021832,
                    3.891684863187453,
                    3.907717286272723,
                    3.923749709357993,
                    3.939782132443263,
                    3.955814555528534,
                    3.971846978613804,
                    3.987879401699073,
                    4.003911824784343,
                    4.0199442478696135,
                    4.035976670954884,
                    4.052009094040153,
                    4.068041517125424,
                    4.084073940210693,
                    4.100106363295964,
                    4.116138786381235,
                    4.132171209466504,
                    4.148203632551773,
                    4.164236055637044,
                    4.180268478722315,
                    4.196300901807584,
                    4.212333324892855,
                    4.228365747978124,
                    4.244398171063395,
                    4.260430594148664,
                    4.276463017233935,
                    4.292495440319206,
                    4.308527863404475,
                    4.324560286489744,
                    4.340592709575015,
                    4.356625132660286,
                    4.372657555745555,
                    4.388689978830824,
                    4.404722401916095,
                    4.4207548250013655,
                    4.436787248086635,
                    4.4528196711719055,
                    4.468852094257175,
                    4.484884517342445,
                    4.500916940427716,
                    4.516949363512985,
                    4.532981786598256,
                    4.549014209683525,
                    4.565046632768796,
                    4.581079055854065,
                    4.597111478939336,
                    4.613143902024605,
                    4.629176325109876,
                    4.645208748195145,
                    4.661241171280416,
                    4.677273594365687,
                    4.693306017450956,
                    4.709338440536225,
                    4.725370863621496,
                    4.741403286706767,
                    4.757435709792036,
                    4.773468132877305,
                    4.789500555962576,
                    4.805532979047847,
                    4.821565402133116,
                    4.837597825218387,
                    4.853630248303656,
                    4.869662671388927,
                    4.8856950944741975,
                    4.901727517559467,
                    4.917759940644737,
                    4.9337923637300065,
                    4.949824786815277,
                    4.9658572099005465,
                    4.981889632985817,
                    4.997922056071088,
                    5.013954479156357,
                    5.029986902241626,
                    5.046019325326897,
                    5.062051748412168,
                    5.078084171497437,
                    5.094116594582706,
                    5.110149017667977,
                    5.126181440753248,
                    5.142213863838517,
                    5.158246286923788,
                    5.174278710009057,
                    5.190311133094328,
                    5.206343556179597,
                    5.222375979264868,
                    5.238408402350139,
                    5.254440825435408,
                    5.270473248520677,
                    5.286505671605948,
                    5.302538094691219,
                    5.318570517776488,
                    5.334602940861759,
                    5.350635363947028,
                    5.3666677870322985,
                    5.382700210117569,
                    5.3987326332028385,
                    5.414765056288108,
                    5.430797479373378,
                    5.446829902458649,
                    5.462862325543918,
                    5.478894748629189,
                    5.494927171714458,
                    5.510959594799729,
                    5.526992017884998,
                    5.543024440970269,
                    5.559056864055538,
                    5.575089287140809,
                    5.591121710226078,
                    5.607154133311349,
                    5.62318655639662,
                    5.639218979481889,
                    5.655251402567158,
                    5.671283825652429,
                    5.6873162487377,
                    5.703348671822969,
                    5.71938109490824,
                    5.735413517993509,
                    5.75144594107878,
                    5.767478364164051,
                    5.78351078724932,
                    5.799543210334589,
                    5.81557563341986,
                    5.8316080565051305,
                    5.8476404795904,
                    5.86367290267567
                  ],
                  "xaxis": "x",
                  "y": [
                    0.20897287196485542,
                    0.21120608352906536,
                    0.21343097239348527,
                    0.21564677636788554,
                    0.21785272942247907,
                    0.22004806211247743,
                    0.2222320020096104,
                    0.22440377414028626,
                    0.22656260143006343,
                    0.22870770515409022,
                    0.2308383053931625,
                    0.23295362149503832,
                    0.2350528725406404,
                    0.2371352778147679,
                    0.23920005728093083,
                    0.24124643205991358,
                    0.24327362491166488,
                    0.2452808607201056,
                    0.24726736698043927,
                    0.2492323742885431,
                    0.2511751168320122,
                    0.25309483288242474,
                    0.25499076528839043,
                    0.25686216196894024,
                    0.25870827640681276,
                    0.26052836814118785,
                    0.2623217032594161,
                    0.2640875548872909,
                    0.2658252036774077,
                    0.26753393829515315,
                    0.2692130559018686,
                    0.2708618626347291,
                    0.27247967408288265,
                    0.2740658157593932,
                    0.27561962356853414,
                    0.2771404442679799,
                    0.2786276359254472,
                    0.28008056836933953,
                    0.28149862363295386,
                    0.2828811963918112,
                    0.28422769439367895,
                    0.28553753888085837,
                    0.286810165004315,
                    0.2880450222292394,
                    0.28924157473162965,
                    0.29039930178549594,
                    0.2915176981402977,
                    0.2925962743882275,
                    0.2936345573209712,
                    0.2946320902755782,
                    0.2955884334690894,
                    0.2965031643215791,
                    0.29737587776727875,
                    0.2982061865534622,
                    0.2989937215267835,
                    0.2997381319067713,
                    0.30043908554619564,
                    0.30109626917803717,
                    0.3017093886488017,
                    0.3022781691379358,
                    0.3028023553631165,
                    0.3032817117711978,
                    0.3037160227146161,
                    0.30410509261306895,
                    0.30444874610029665,
                    0.30474682815581394,
                    0.304999204221452,
                    0.3052057603025888,
                    0.30536640305396073,
                    0.30548105984996593,
                    0.30554967883938366,
                    0.3055722289844539,
                    0.3055487000842743,
                    0.3054791027824907,
                    0.30536346855927277,
                    0.3052018497075837,
                    0.3049943192937679,
                    0.30474097110249987,
                    0.3044419195661509,
                    0.30409729967864846,
                    0.30370726689391975,
                    0.30327199700902574,
                    0.30279168603210815,
                    0.30226655003528974,
                    0.301696824992681,
                    0.30108276660366423,
                    0.3004246501016393,
                    0.2997227700484326,
                    0.2989774401145832,
                    0.29818899284573575,
                    0.2973577794153841,
                    0.2964841693642227,
                    0.29556855032637647,
                    0.29461132774279325,
                    0.2936129245620954,
                    0.29257378092919956,
                    0.29149435386202477,
                    0.2903751169166229,
                    0.28921655984107225,
                    0.2880191882184916,
                    0.2867835230995348,
                    0.28551010062474375,
                    0.2841994716371399,
                    0.2828522012854464,
                    0.28146886861834214,
                    0.28005006617015266,
                    0.27859639953839477,
                    0.27710848695359386,
                    0.2755869588418033,
                    0.2740324573802561,
                    0.2724456360465886,
                    0.27082715916207667,
                    0.26917770142933084,
                    0.2674979474648996,
                    0.2657885913272324,
                    0.2640503360404564,
                    0.26228389311442263,
                    0.260489982061478,
                    0.258669329910421,
                    0.2568226707180969,
                    0.25495074507909027,
                    0.2530542996339694,
                    0.2511340865765359,
                    0.2491908631605321,
                    0.2472253912062533,
                    0.24523843660751182,
                    0.2432307688393931,
                    0.24120316046724208,
                    0.23915638665731193,
                    0.23709122468950258,
                    0.2350084534726102,
                    0.23290885306250395,
                    0.2307932041836373,
                    0.2286622877542976,
                    0.22651688441598522,
                    0.22435777406731217,
                    0.22218573540279415,
                    0.2200015454569094,
                    0.21780597915378141,
                    0.21559980886283855,
                    0.2133838039607908,
                    0.21115873040025498,
                    0.2089253502853502,
                    0.20668442145457236,
                    0.20443669707124867,
                    0.2021829252218602,
                    0.19992384852250766,
                    0.1976602037337902,
                    0.1953927213843457,
                    0.19312212540329848,
                    0.19084913276184248,
                    0.18857445312417762,
                    0.18629878850800494,
                    0.1840228329547728,
                    0.1817472722098559,
                    0.17947278341283207,
                    0.17720003479801527,
                    0.17492968540538517,
                    0.17266238480204246,
                    0.17039877281431015,
                    0.1681394792705812,
                    0.16588512375500739,
                    0.16363631537210782,
                    0.16139365252236218,
                    0.159157722688847,
                    0.1569291022349515,
                    0.1547083562132089,
                    0.15249603818525578,
                    0.15029269005292845,
                    0.1480988419004901,
                    0.14591501184796968,
                    0.14374170591558602,
                    0.14157941789921508,
                    0.13942862925685023,
                    0.13728980900599463,
                    0.13516341363191106,
                    0.13304988700664985,
                    0.13094966031875846,
                    0.12886315201357468,
                    0.1267907677439875,
                    0.12473290033154716,
                    0.12268992973779408,
                    0.12066222304566651,
                    0.11865013445084278,
                    0.11665400526286006,
                    0.11467416391584923,
                    0.11271092598871571,
                    0.11076459423458788,
                    0.10883545861935116,
                    0.10692379636907617,
                    0.10502987202614586,
                    0.10315393751387937,
                    0.10129623220944511,
                    0.09945698302485213,
                    0.09763640449580085,
                    0.09583469887817417,
                    0.09405205625194193,
                    0.09228865463225128,
                    0.09054466008746963,
                    0.08882022686394597,
                    0.08711549751725245,
                    0.08543060304966596,
                    0.083765663053648,
                    0.08212078586107945,
                    0.08049606869800387,
                    0.07889159784463552,
                    0.0773074488003835,
                    0.07574368645364592,
                    0.07420036525612687,
                    0.07267752940142885,
                    0.07117521300767485,
                    0.06969344030391394,
                    0.06823222582006613,
                    0.06679157458016328,
                    0.06537148229864416,
                    0.06397193557946457,
                    0.06259291211778378,
                    0.06123438090399329,
                    0.05989630242985416,
                    0.058578628896513565,
                    0.05728130442417343,
                    0.0560042652631874,
                    0.05474744000636606,
                    0.05351074980227353,
                    0.05229410856930263,
                    0.0510974232103196,
                    0.04992059382767387,
                    0.04876351393837133,
                    0.04762607068921625,
                    0.04650814507172924,
                    0.045409612136654544,
                    0.0443303412078746,
                    0.04327019609555435,
                    0.042229035308343085,
                    0.0412067122644664,
                    0.04020307550154617,
                    0.03921796888499224,
                    0.038251231814812235,
                    0.03730269943069649,
                    0.03637220281523339,
                    0.035459569195122616,
                    0.03456462214025448,
                    0.03368718176053144,
                    0.032827064900312404,
                    0.03198408533036611,
                    0.031158053937225528,
                    0.030348778909840453,
                    0.02955606592343087,
                    0.02877971832044961,
                    0.028019537288566727,
                    0.02727532203559654,
                    0.026546869961288907,
                    0.02583397682591625,
                    0.02513643691559,
                    0.02445404320424639,
                    0.023786587512246587,
                    0.023133860661540877,
                    0.022495652627352047,
                    0.021871752686336985,
                    0.021261949561191807,
                    0.020666031561668626,
                    0.020083786721978924,
                    0.01951500293456016,
                    0.018959468080189633,
                    0.018416970154431708,
                    0.01788729739040947,
                    0.017370238377896443,
                    0.016865582178726874,
                    0.01637311843852806,
                    0.01589263749478096,
                    0.01542393048121978,
                    0.014966789428584358,
                    0.014521007361742212,
                    0.014086378393201083,
                    0.013662697813035592,
                    0.013249762175254476,
                    0.012847369380638138,
                    0.012455318756078778,
                    0.012073411130458232,
                    0.011701448907100847,
                    0.011339236132841555,
                    0.010986578563751447,
                    0.010643283727564961,
                    0.010309160982855557,
                    0.00998402157500805,
                    0.009667678689037982,
                    0.009359947499309863,
                    0.009060645216207898,
                    0.008769591129814248,
                    0.008486606650650992,
                    0.008211515347543595,
                    0.007944142982664684,
                    0.0076843175438176875,
                    0.007431869274021268,
                    0.007186630698456026,
                    0.006948436648835871,
                    0.006717124285266739,
                    0.006492533115656385,
                    0.006274505012738975,
                    0.0060628842287787955,
                    0.005857517408017569,
                    0.005658253596930099,
                    0.005464944252353034,
                    0.005277443247551504,
                    0.005095606876288472,
                    0.004919293854961346,
                    0.004748365322870327,
                    0.004582684840682457,
                    0.004422118387155415,
                    0.004266534354184202,
                    0.004115803540233766,
                    0.003969799142219897,
                    0.003828396745900241,
                    0.0036914743148365272,
                    0.003558912177988568,
                    0.00343059301599979,
                    0.003306401846233216,
                    0.00318622600661607,
                    0.003069955138350374,
                    0.0029574811675458688,
                    0.0028486982858307672,
                    0.0027435029299948616,
                    0.0026417937607184755,
                    0.002543471640439875,
                    0.0024484396104123797,
                    0.0023566028670018867,
                    0.0022678687372738593,
                    0.002182146653918094,
                    0.0020993481295583944,
                    0.002019386730493034,
                    0.001942178049910916,
                    0.0018676396806269777,
                    0.0017956911873794525,
                    0.0017262540787302677,
                    0.0016592517786086847,
                    0.0015946095975373116,
                    0.0015322547035781563,
                    0.0014721160930353976,
                    0.001414124560950378,
                    0.0013582126714230458,
                    0.0013043147277930509,
                    0.001252366742712366,
                    0.0012023064081403446,
                    0.0011540730652908702,
                    0.0011076076745600916,
                    0.0010628527854622905,
                    0.001019752506600084,
                    0.000978252475694296,
                    0.0009382998296975593,
                    0.000899843175014806,
                    0.0008628325578526801,
                    0.0008272194347188155,
                    0.0007929566430910538,
                    0.0007599983722755518,
                    0.0007283001344718217,
                    0.0006978187360617348,
                    0.0006685122491386423,
                    0.0006403399832918124,
                    0.0006132624576604368,
                    0.0005872413732707221,
                    0.0005622395856685514,
                    0.0005382210778594814,
                    0.0005151509335670024,
                    0.0004929953108191618,
                    0.00047172141587294164,
                    0.00045129747748493535,
                    0.00043169272153627226,
                    0.0004128773460189155,
                    0.00039482249638982445,
                    0.0003775002412988484,
                    0.00036088354869549057,
                    0.00034494626231915603,
                    0.0003296630785768264,
                    0.00031500952381158264,
                    0.000300961931964831,
                    0.00028749742263451197,
                    0.0002745938795311356,
                    0.0002622299293329377,
                    0.00025038492094099727,
                    0.0002390389051347207,
                    0.00022817261462764135,
                    0.00021776744452309697,
                    0.00020780543316893102,
                    0.0001982692434100152,
                    0.00018914214423701879,
                    0.00018040799282951882,
                    0.00017205121699122295,
                    0.00016405679797477557,
                    0.00015641025369335216,
                    0.00014909762231592758,
                    0.00014210544624292234,
                    0.00013542075645862312,
                    0.00012903105725660516,
                    0.00012292431133415212,
                    0.00011708892525148018,
                    0.00011151373525139689,
                    0.0001061879934348569,
                    0.00010110135428774001,
                    0.00009624386155400723,
                    0.00009160593545029882,
                    0.00008717836021689921,
                    0.00008295227199989906,
                    0.00007891914705929438,
                    0.0000750707902976737,
                    0.00007139932410408228,
                    0.00006789717750758551,
                    0.0000645570756349959,
                    0.00006137202946719708,
                    0.0000583353258884569,
                    0.00005544051802309563,
                    0.00005268141585385441,
                    0.00005005207711630574,
                    0.00004754679846364201,
                    0.000045160106896171515,
                    0.00004288675144987954,
                    0.00004072169513841005,
                    0.00003866010714285561,
                    0.00003669735524377171,
                    0.000034828998489852654,
                    0.00003305078009776041,
                    0.0000313586205776232,
                    0.00002974861107877911,
                    0.000028217006950384232,
                    0.000026760221511559798,
                    0.000025374820025812148,
                    0.000024057513874518,
                    0.000022805154924333063,
                    0.00002161473008344588,
                    0.000020483356041672663,
                    0.000019408274189454125,
                    0.000018386845710894137,
                    0.00001741654684605087,
                    0.00001649496431777279,
                    0.000015619790918445965,
                    0.000014788821252100773,
                    0.000013999947627407716,
                    0.000013251156097173608,
                    0.000012540522640029758,
                    0.000011866209480091867,
                    0.000011226461540449668,
                    0.000010619603026432916,
                    0.000010044034134683604,
                    0.000009498227884146321,
                    0.000008980727065178436,
                    0.00000849014130306025,
                    0.000008025144232274982,
                    0.000007584470778008509,
                    0.000007166914541403877,
                    0.000006771325285189492,
                    0.000006396606516380028,
                    0.000006041713162833404,
                    0.000005705649340525993,
                    0.000005387466208490795,
                    0.000005086259908440349,
                    0.000004801169586176689,
                    0.000004531375491966582,
                    0.000004276097157138419,
                    0.000004034591644230491,
                    0.0000038061518680973486,
                    0.0000035901049854512593,
                    0.0000033858108503906914,
                    0.0000031926605335361873,
                    0.0000030100749024650452,
                    0.000002837503261204369,
                    0.000002674422046608749,
                    0.0000025203335795148853,
                    0.0000023747648686300953,
                    0.0000022372664651750414,
                    0.000002107411366362134,
                    0.0000019847939658528496,
                    0.0000018690290493953235,
                    0.000001759750833902272,
                    0.0000016566120482857271,
                    0.00000155928305442009,
                    0.0000014674510066594243,
                    0.0000013808190483871087,
                    0.0000012991055441279015,
                    0.0000012220433458017913,
                    0.0000011493790917485726,
                    0.000001080872537198857,
                    0.0000010162959149141397,
                    9.554333247628804e-7,
                    8.980801510439596e-7,
                    8.440425064107846e-7,
                    7.931367012912719e-7,
                    7.451887377385404e-7,
                    7.000338266865214e-7,
                    6.57515927622404e-7,
                    6.17487309724551e-7,
                    5.798081335500934e-7,
                    5.443460523910444e-7,
                    5.10975832451198e-7,
                    4.795789910283659e-7,
                    4.50043451918138e-7,
                    4.2226321728546783e-7,
                    3.9613805528001653e-7,
                    3.71573202699473e-7,
                    3.484790820326892e-7,
                    3.2677103224095927e-7,
                    3.0636905266151543e-7
                  ],
                  "yaxis": "y"
                },
                {
                  "legendgroup": "1",
                  "marker": {
                    "color": "rgb(255, 127, 14)"
                  },
                  "mode": "lines",
                  "name": "1",
                  "showlegend": false,
                  "type": "scatter",
                  "x": [
                    0.2958230300122239,
                    0.29978954746745884,
                    0.3037560649226938,
                    0.30772258237792877,
                    0.31168909983316373,
                    0.3156556172883987,
                    0.31962213474363366,
                    0.3235886521988686,
                    0.3275551696541036,
                    0.3315216871093386,
                    0.33548820456457357,
                    0.33945472201980853,
                    0.3434212394750435,
                    0.34738775693027846,
                    0.3513542743855134,
                    0.3553207918407484,
                    0.35928730929598335,
                    0.3632538267512183,
                    0.3672203442064533,
                    0.37118686166168824,
                    0.3751533791169232,
                    0.37911989657215817,
                    0.38308641402739313,
                    0.3870529314826281,
                    0.39101944893786306,
                    0.394985966393098,
                    0.39895248384833304,
                    0.40291900130356795,
                    0.40688551875880297,
                    0.4108520362140379,
                    0.4148185536692729,
                    0.41878507112450786,
                    0.4227515885797428,
                    0.4267181060349778,
                    0.43068462349021275,
                    0.4346511409454477,
                    0.4386176584006827,
                    0.44258417585591764,
                    0.4465506933111526,
                    0.4505172107663876,
                    0.45448372822162253,
                    0.45845024567685755,
                    0.46241676313209246,
                    0.4663832805873275,
                    0.4703497980425624,
                    0.4743163154977974,
                    0.4782828329530323,
                    0.48224935040826733,
                    0.48621586786350224,
                    0.49018238531873726,
                    0.4941489027739722,
                    0.4981154202292072,
                    0.5020819376844421,
                    0.5060484551396771,
                    0.5100149725949121,
                    0.513981490050147,
                    0.517948007505382,
                    0.521914524960617,
                    0.525881042415852,
                    0.5298475598710869,
                    0.5338140773263219,
                    0.5377805947815568,
                    0.5417471122367918,
                    0.5457136296920267,
                    0.5496801471472618,
                    0.5536466646024967,
                    0.5576131820577317,
                    0.5615796995129667,
                    0.5655462169682016,
                    0.5695127344234365,
                    0.5734792518786715,
                    0.5774457693339066,
                    0.5814122867891415,
                    0.5853788042443764,
                    0.5893453216996114,
                    0.5933118391548464,
                    0.5972783566100814,
                    0.6012448740653163,
                    0.6052113915205513,
                    0.6091779089757863,
                    0.6131444264310213,
                    0.6171109438862562,
                    0.6210774613414911,
                    0.6250439787967261,
                    0.6290104962519611,
                    0.6329770137071961,
                    0.636943531162431,
                    0.640910048617666,
                    0.644876566072901,
                    0.6488430835281359,
                    0.6528096009833708,
                    0.6567761184386058,
                    0.6607426358938409,
                    0.6647091533490758,
                    0.6686756708043107,
                    0.6726421882595457,
                    0.6766087057147807,
                    0.6805752231700157,
                    0.6845417406252506,
                    0.6885082580804855,
                    0.6924747755357206,
                    0.6964412929909556,
                    0.7004078104461905,
                    0.7043743279014254,
                    0.7083408453566604,
                    0.7123073628118954,
                    0.7162738802671303,
                    0.7202403977223653,
                    0.7242069151776003,
                    0.7281734326328353,
                    0.7321399500880702,
                    0.7361064675433051,
                    0.7400729849985401,
                    0.7440395024537751,
                    0.7480060199090101,
                    0.751972537364245,
                    0.75593905481948,
                    0.759905572274715,
                    0.76387208972995,
                    0.7678386071851849,
                    0.7718051246404198,
                    0.7757716420956549,
                    0.7797381595508899,
                    0.7837046770061248,
                    0.7876711944613597,
                    0.7916377119165947,
                    0.7956042293718297,
                    0.7995707468270646,
                    0.8035372642822997,
                    0.8075037817375346,
                    0.8114702991927696,
                    0.8154368166480046,
                    0.8194033341032395,
                    0.8233698515584745,
                    0.8273363690137094,
                    0.8313028864689445,
                    0.8352694039241794,
                    0.8392359213794144,
                    0.8432024388346493,
                    0.8471689562898843,
                    0.8511354737451192,
                    0.8551019912003542,
                    0.8590685086555891,
                    0.8630350261108242,
                    0.8670015435660591,
                    0.8709680610212941,
                    0.874934578476529,
                    0.878901095931764,
                    0.8828676133869989,
                    0.886834130842234,
                    0.890800648297469,
                    0.8947671657527039,
                    0.8987336832079389,
                    0.9027002006631738,
                    0.9066667181184088,
                    0.9106332355736437,
                    0.9145997530288787,
                    0.9185662704841137,
                    0.9225327879393487,
                    0.9264993053945836,
                    0.9304658228498186,
                    0.9344323403050535,
                    0.9383988577602885,
                    0.9423653752155234,
                    0.9463318926707585,
                    0.9502984101259934,
                    0.9542649275812284,
                    0.9582314450364633,
                    0.9621979624916983,
                    0.9661644799469332,
                    0.9701309974021682,
                    0.9740975148574033,
                    0.9780640323126382,
                    0.9820305497678732,
                    0.9859970672231081,
                    0.9899635846783431,
                    0.993930102133578,
                    0.997896619588813,
                    1.0018631370440478,
                    1.005829654499283,
                    1.0097961719545179,
                    1.013762689409753,
                    1.017729206864988,
                    1.0216957243202227,
                    1.0256622417754577,
                    1.0296287592306927,
                    1.0335952766859275,
                    1.0375617941411628,
                    1.0415283115963976,
                    1.0454948290516326,
                    1.0494613465068676,
                    1.0534278639621024,
                    1.0573943814173374,
                    1.0613608988725725,
                    1.0653274163278075,
                    1.0692939337830425,
                    1.0732604512382773,
                    1.0772269686935123,
                    1.0811934861487473,
                    1.0851600036039821,
                    1.0891265210592174,
                    1.0930930385144522,
                    1.0970595559696872,
                    1.1010260734249222,
                    1.104992590880157,
                    1.108959108335392,
                    1.112925625790627,
                    1.1168921432458618,
                    1.120858660701097,
                    1.1248251781563319,
                    1.128791695611567,
                    1.132758213066802,
                    1.1367247305220367,
                    1.1406912479772717,
                    1.1446577654325067,
                    1.1486242828877418,
                    1.1525908003429768,
                    1.1565573177982116,
                    1.1605238352534466,
                    1.1644903527086816,
                    1.1684568701639164,
                    1.1724233876191517,
                    1.1763899050743865,
                    1.1803564225296215,
                    1.1843229399848565,
                    1.1882894574400913,
                    1.1922559748953263,
                    1.1962224923505613,
                    1.2001890098057961,
                    1.2041555272610314,
                    1.2081220447162662,
                    1.2120885621715012,
                    1.2160550796267362,
                    1.220021597081971,
                    1.223988114537206,
                    1.227954631992441,
                    1.231921149447676,
                    1.235887666902911,
                    1.2398541843581459,
                    1.243820701813381,
                    1.247787219268616,
                    1.2517537367238507,
                    1.255720254179086,
                    1.2596867716343207,
                    1.2636532890895558,
                    1.2676198065447908,
                    1.2715863240000256,
                    1.2755528414552606,
                    1.2795193589104956,
                    1.2834858763657304,
                    1.2874523938209657,
                    1.2914189112762005,
                    1.2953854287314355,
                    1.2993519461866705,
                    1.3033184636419053,
                    1.3072849810971405,
                    1.3112514985523753,
                    1.3152180160076106,
                    1.3191845334628454,
                    1.3231510509180802,
                    1.3271175683733154,
                    1.3310840858285502,
                    1.3350506032837854,
                    1.3390171207390202,
                    1.342983638194255,
                    1.3469501556494898,
                    1.350916673104725,
                    1.3548831905599599,
                    1.3588497080151951,
                    1.36281622547043,
                    1.3667827429256652,
                    1.3707492603809,
                    1.3747157778361347,
                    1.3786822952913695,
                    1.3826488127466048,
                    1.3866153302018396,
                    1.3905818476570748,
                    1.3945483651123096,
                    1.3985148825675449,
                    1.4024814000227797,
                    1.4064479174780145,
                    1.4104144349332497,
                    1.4143809523884845,
                    1.4183474698437193,
                    1.4223139872989545,
                    1.4262805047541893,
                    1.4302470222094246,
                    1.4342135396646594,
                    1.4381800571198942,
                    1.4421465745751294,
                    1.4461130920303642,
                    1.450079609485599,
                    1.4540461269408342,
                    1.458012644396069,
                    1.4619791618513043,
                    1.465945679306539,
                    1.4699121967617739,
                    1.4738787142170091,
                    1.477845231672244,
                    1.4818117491274787,
                    1.485778266582714,
                    1.4897447840379487,
                    1.493711301493184,
                    1.4976778189484188,
                    1.501644336403654,
                    1.5056108538588888,
                    1.5095773713141236,
                    1.5135438887693584,
                    1.5175104062245937,
                    1.5214769236798285,
                    1.5254434411350637,
                    1.5294099585902985,
                    1.5333764760455337,
                    1.5373429935007685,
                    1.5413095109560033,
                    1.5452760284112381,
                    1.5492425458664734,
                    1.5532090633217082,
                    1.5571755807769434,
                    1.5611420982321782,
                    1.5651086156874134,
                    1.5690751331426482,
                    1.573041650597883,
                    1.5770081680531183,
                    1.580974685508353,
                    1.5849412029635879,
                    1.588907720418823,
                    1.592874237874058,
                    1.5968407553292931,
                    1.600807272784528,
                    1.6047737902397627,
                    1.608740307694998,
                    1.6127068251502328,
                    1.6166733426054676,
                    1.6206398600607028,
                    1.6246063775159376,
                    1.6285728949711729,
                    1.6325394124264077,
                    1.6365059298816425,
                    1.6404724473368777,
                    1.6444389647921125,
                    1.6484054822473473,
                    1.6523719997025825,
                    1.6563385171578173,
                    1.6603050346130526,
                    1.6642715520682874,
                    1.6682380695235226,
                    1.6722045869787574,
                    1.6761711044339922,
                    1.680137621889227,
                    1.6841041393444622,
                    1.688070656799697,
                    1.6920371742549323,
                    1.696003691710167,
                    1.6999702091654023,
                    1.703936726620637,
                    1.707903244075872,
                    1.7118697615311067,
                    1.715836278986342,
                    1.7198027964415767,
                    1.723769313896812,
                    1.7277358313520468,
                    1.731702348807282,
                    1.7356688662625168,
                    1.7396353837177516,
                    1.7436019011729869,
                    1.7475684186282217,
                    1.7515349360834565,
                    1.7555014535386917,
                    1.7594679709939265,
                    1.7634344884491617,
                    1.7674010059043965,
                    1.7713675233596313,
                    1.7753340408148666,
                    1.7793005582701014,
                    1.7832670757253362,
                    1.7872335931805714,
                    1.7912001106358062,
                    1.7951666280910414,
                    1.7991331455462762,
                    1.803099663001511,
                    1.8070661804567463,
                    1.811032697911981,
                    1.8149992153672159,
                    1.818965732822451,
                    1.822932250277686,
                    1.8268987677329211,
                    1.830865285188156,
                    1.8348318026433912,
                    1.838798320098626,
                    1.8427648375538608,
                    1.8467313550090956,
                    1.8506978724643308,
                    1.8546643899195656,
                    1.8586309073748009,
                    1.8625974248300357,
                    1.866563942285271,
                    1.8705304597405057,
                    1.8744969771957405,
                    1.8784634946509753,
                    1.8824300121062105,
                    1.8863965295614453,
                    1.8903630470166806,
                    1.8943295644719154,
                    1.8982960819271506,
                    1.9022625993823854,
                    1.9062291168376202,
                    1.9101956342928554,
                    1.9141621517480902,
                    1.918128669203325,
                    1.9220951866585603,
                    1.926061704113795,
                    1.9300282215690303,
                    1.933994739024265,
                    1.9379612564795,
                    1.9419277739347351,
                    1.94589429138997,
                    1.9498608088452047,
                    1.95382732630044,
                    1.9577938437556748,
                    1.96176036121091,
                    1.9657268786661448,
                    1.9696933961213796,
                    1.9736599135766149,
                    1.9776264310318497,
                    1.9815929484870844,
                    1.9855594659423197,
                    1.9895259833975545,
                    1.9934925008527897,
                    1.9974590183080245,
                    2.0014255357632598,
                    2.0053920532184946,
                    2.0093585706737294,
                    2.013325088128964,
                    2.0172916055841994,
                    2.021258123039434,
                    2.0252246404946694,
                    2.0291911579499042,
                    2.0331576754051395,
                    2.0371241928603743,
                    2.041090710315609,
                    2.045057227770844,
                    2.049023745226079,
                    2.0529902626813143,
                    2.056956780136549,
                    2.060923297591784,
                    2.064889815047019,
                    2.068856332502254,
                    2.0728228499574888,
                    2.076789367412724,
                    2.080755884867959,
                    2.084722402323194,
                    2.088688919778429,
                    2.092655437233664,
                    2.096621954688899,
                    2.1005884721441337,
                    2.1045549895993685,
                    2.1085215070546037,
                    2.1124880245098385,
                    2.1164545419650738,
                    2.1204210594203086,
                    2.124387576875544,
                    2.1283540943307786,
                    2.1323206117860134,
                    2.136287129241248,
                    2.1402536466964834,
                    2.1442201641517182,
                    2.1481866816069535,
                    2.1521531990621883,
                    2.1561197165174235,
                    2.1600862339726583,
                    2.164052751427893,
                    2.1680192688831283,
                    2.171985786338363,
                    2.175952303793598,
                    2.179918821248833,
                    2.183885338704068,
                    2.187851856159303,
                    2.191818373614538,
                    2.195784891069773,
                    2.199751408525008,
                    2.203717925980243,
                    2.2076844434354777,
                    2.211650960890713,
                    2.2156174783459477,
                    2.219583995801183,
                    2.2235505132564177,
                    2.2275170307116525,
                    2.2314835481668878,
                    2.2354500656221226,
                    2.2394165830773574,
                    2.2433831005325926,
                    2.2473496179878274,
                    2.2513161354430626,
                    2.2552826528982974,
                    2.2592491703535327,
                    2.2632156878087675,
                    2.2671822052640023,
                    2.271148722719237,
                    2.2751152401744723
                  ],
                  "xaxis": "x",
                  "y": [
                    0.2355824216319699,
                    0.2389452507996062,
                    0.24233751665096442,
                    0.24575911366284856,
                    0.2492099280296304,
                    0.2526898375814299,
                    0.2561987117043693,
                    0.25973641126296765,
                    0.2633027885247417,
                    0.26689768708707906,
                    0.2705209418064452,
                    0.27417237872999606,
                    0.27785181502965356,
                    0.2815590589387126,
                    0.2852939096910411,
                    0.2890561574629371,
                    0.2928455833177034,
                    0.29666195915300336,
                    0.30050504765105895,
                    0.3043746022317501,
                    0.30827036700867355,
                    0.3121920767482247,
                    0.31613945683175554,
                    0.3201122232208679,
                    0.3241100824258959,
                    0.3281327314776361,
                    0.332179857902376,
                    0.33625113970027404,
                    0.34034624532714497,
                    0.3444648336796974,
                    0.34860655408427693,
                    0.35277104628915823,
                    0.3569579404604368,
                    0.3611668571815621,
                    0.36539740745655813,
                    0.3696491927169728,
                    0.373921804832597,
                    0.37821482612599194,
                    0.3825278293908633,
                    0.38686037791431865,
                    0.3912120255030396,
                    0.39558231651340525,
                    0.3999707858855939,
                    0.4043769591816961,
                    0.4088003526278604,
                    0.413240473160505,
                    0.4176968184766104,
                    0.42216887708812134,
                    0.42665612838047207,
                    0.43115804267525704,
                    0.4356740812970591,
                    0.4402036966444491,
                    0.44474633226517074,
                    0.44930142293551556,
                    0.45386839474389845,
                    0.45844666517863575,
                    0.4630356432199317,
                    0.46763472943607015,
                    0.47224331608381037,
                    0.4768607872129851,
                    0.48148651877529136,
                    0.48611987873726564,
                    0.4907602271974336,
                    0.4954069165076188,
                    0.5000592913983976,
                    0.5047166891086754,
                    0.509378439519373,
                    0.5140438652911906,
                    0.5187122820064289,
                    0.5233829983148396,
                    0.5280553160834722,
                    0.5327285305504849,
                    0.537401930482886,
                    0.5420747983381674,
                    0.5467464104297879,
                    0.5514160370964666,
                    0.556082942875239,
                    0.560746386678231,
                    0.5654056219730987,
                    0.5700598969670819,
                    0.5747084547946172,
                    0.5793505337084547,
                    0.583985367274218,
                    0.5886121845683439,
                    0.5932302103793412,
                    0.5978386654123007,
                    0.6024367664965871,
                    0.6070237267966424,
                    0.6115987560258282,
                    0.6161610606632322,
                    0.6207098441733587,
                    0.625244307228627,
                    0.629763647934593,
                    0.6342670620578125,
                    0.6387537432562586,
                    0.6432228833122078,
                    0.6476736723675002,
                    0.6521052991610888,
                    0.656516951268779,
                    0.6609078153450647,
                    0.6652770773669646,
                    0.6696239228797584,
                    0.6739475372445226,
                    0.6782471058873655,
                    0.6825218145502545,
                    0.6867708495433316,
                    0.6909933979986119,
                    0.6951886481249553,
                    0.6993557894642001,
                    0.7034940131483517,
                    0.7076025121577101,
                    0.7116804815798262,
                    0.7157271188691694,
                    0.7197416241073936,
                    0.7237232002640827,
                    0.7276710534578609,
                    0.7315843932177473,
                    0.7354624327446346,
                    0.7393043891727777,
                    0.7431094838311633,
                    0.746876942504648,
                    0.7506059956947365,
                    0.7542958788798825,
                    0.7579458327751866,
                    0.7615551035913718,
                    0.7651229432929111,
                    0.7686486098551839,
                    0.772131367520542,
                    0.7755704870531572,
                    0.7789652459925303,
                    0.7823149289055382,
                    0.7856188276368966,
                    0.7888762415579146,
                    0.7920864778134219,
                    0.7952488515667446,
                    0.79836268624261,
                    0.8014273137678591,
                    0.8044420748098509,
                    0.8074063190124315,
                    0.8103194052293605,
                    0.8131807017550686,
                    0.8159895865526361,
                    0.8187454474788742,
                    0.8214476825063964,
                    0.824095699942568,
                    0.8266889186452208,
                    0.8292267682350233,
                    0.8317086893044003,
                    0.834134133622891,
                    0.8365025643388423,
                    0.8388134561773345,
                    0.8410662956342349,
                    0.8432605811662802,
                    0.8453958233770895,
                    0.8474715451990117,
                    0.8494872820707106,
                    0.8514425821103973,
                    0.8533370062846198,
                    0.8551701285725196,
                    0.8569415361254697,
                    0.8586508294220134,
                    0.8602976224180163,
                    0.8618815426919603,
                    0.8634022315852952,
                    0.8648593443377797,
                    0.8662525502177393,
                    0.8675815326471671,
                    0.86884598932161,
                    0.8700456323247688,
                    0.8711801882377561,
                    0.8722493982429519,
                    0.8732530182224024,
                    0.8741908188507096,
                    0.875062585682362,
                    0.8758681192334594,
                    0.876607235057791,
                    0.8772797638172196,
                    0.877885551346343,
                    0.878424458711392,
                    0.8788963622633338,
                    0.8793011536851554,
                    0.8796387400333006,
                    0.8799090437732352,
                    0.8801120028091266,
                    0.880247570507618,
                    0.880315715715686,
                    0.8803164227725715,
                    0.8802496915157785,
                    0.8801155372811356,
                    0.8799139908969229,
                    0.8796450986720649,
                    0.879308922378397,
                    0.8789055392270152,
                    0.8784350418387209,
                    0.8778975382085775,
                    0.8772931516645975,
                    0.8766220208205818,
                    0.8758842995231364,
                    0.8750801567928966,
                    0.8742097767599869,
                    0.8732733585937545,
                    0.8722711164268123,
                    0.87120327927343,
                    0.8700700909423221,
                    0.8688718099438737,
                    0.8676087093918566,
                    0.8662810768996879,
                    0.8648892144712846,
                    0.8634334383865739,
                    0.8619140790817204,
                    0.8603314810241296,
                    0.8586860025823005,
                    0.85697801589059,
                    0.855207906708964,
                    0.8533760742778087,
                    0.8514829311678777,
                    0.8495289031254533,
                    0.8475144289128071,
                    0.8454399601440377,
                    0.8433059611163763,
                    0.8411129086370475,
                    0.8388612918457714,
                    0.8365516120330085,
                    0.8341843824540299,
                    0.8317601281389213,
                    0.8292793856986105,
                    0.8267427031270219,
                    0.8241506395994626,
                    0.821503765267337,
                    0.8188026610493041,
                    0.8160479184189774,
                    0.8132401391892775,
                    0.8103799352935519,
                    0.8074679285635664,
                    0.8045047505044859,
                    0.801491042066956,
                    0.7984274534164014,
                    0.7953146436996567,
                    0.7921532808090455,
                    0.7889440411440294,
                    0.7856876093705414,
                    0.7823846781781258,
                    0.779035948035004,
                    0.775642126941189,
                    0.772203930179765,
                    0.7687220800664615,
                    0.7651973056976376,
                    0.7616303426968016,
                    0.7580219329597911,
                    0.7543728243987313,
                    0.7506837706848994,
                    0.7469555309906173,
                    0.743188869730291,
                    0.739384556300728,
                    0.7355433648208474,
                    0.7316660738709094,
                    0.7277534662313868,
                    0.7238063286215933,
                    0.7198254514382029,
                    0.715811628493764,
                    0.7117656567553436,
                    0.7076883360834118,
                    0.7035804689710843,
                    0.6994428602838487,
                    0.6952763169998798,
                    0.6910816479510695,
                    0.6868596635648792,
                    0.6826111756071329,
                    0.6783369969258563,
                    0.6740379411962834,
                    0.6697148226671275,
                    0.6653684559082383,
                    0.660999655559739,
                    0.656609236082759,
                    0.6521980115118611,
                    0.647766795209267,
                    0.6433163996209786,
                    0.6388476360349008,
                    0.6343613143410544,
                    0.6298582427939844,
                    0.6253392277774459,
                    0.6208050735714696,
                    0.616256582121893,
                    0.6116945528124405,
                    0.6071197822394452,
                    0.6025330639892963,
                    0.5979351884186833,
                    0.5933269424377337,
                    0.5887091092961038,
                    0.5840824683721123,
                    0.5794477949649836,
                    0.5748058600902677,
                    0.5701574302785146,
                    0.5655032673772646,
                    0.5608441283564138,
                    0.5561807651170295,
                    0.5515139243036585,
                    0.5468443471202001,
                    0.542172769149391,
                    0.537499920175952,
                    0.5328265240134546,
                    0.5281532983349493,
                    0.5234809545073985,
                    0.5188101974299663,
                    0.5141417253761906,
                    0.5094762298400946,
                    0.5048143953862505,
                    0.5001568995038497,
                    0.4955044124647946,
                    0.49085759718585037,
                    0.48621710909487176,
                    0.48158359600114203,
                    0.47695769796982873,
                    0.47234004720059153,
                    0.46773126791034186,
                    0.46313197622018176,
                    0.458542780046524,
                    0.45396427899640895,
                    0.4493970642670167,
                    0.4448417185493903,
                    0.4402988159363587,
                    0.43576892183467264,
                    0.4312525928813397,
                    0.4267503768641604,
                    0.422262812646459,
                    0.41779043009599237,
                    0.41333375001803596,
                    0.40889328409262826,
                    0.40446953481595393,
                    0.4000629954458612,
                    0.39567414995147826,
                    0.39130347296691936,
                    0.3869514297490537,
                    0.3826184761393073,
                    0.3783050585294764,
                    0.374011613831525,
                    0.36973856945132455,
                    0.36548634326632035,
                    0.3612553436070716,
                    0.35704596924264653,
                    0.3528586093698241,
                    0.3486936436060637,
                    0.34455144198620874,
                    0.34043236496287693,
                    0.33633676341049046,
                    0.33226497863291143,
                    0.32821734237462274,
                    0.3241941768354195,
                    0.32019579468854953,
                    0.31622249910226446,
                    0.31227458376471956,
                    0.3083523329121784,
                    0.304456021360458,
                    0.3005859145395742,
                    0.2967422685315135,
                    0.29292533011109306,
                    0.2891353367898343,
                    0.28537251686280357,
                    0.28163708945835425,
                    0.27792926459071354,
                    0.2742492432153461,
                    0.27059721728704517,
                    0.266973369820673,
                    0.2633778749545047,
                    0.259810898016096,
                    0.2562725955906227,
                    0.2527631155916232,
                    0.24928259733407565,
                    0.24583117160975132,
                    0.2424089607647756,
                    0.23901607877932685,
                    0.23565263134941564,
                    0.23231871597066905,
                    0.22901442202406078,
                    0.22573983086351815,
                    0.22249501590533524,
                    0.21928004271933396,
                    0.2160949691217006,
                    0.21293984526943024,
                    0.2098147137563201,
                    0.20671960971043604,
                    0.20365456089299352,
                    0.2006195877985854,
                    0.19761470375668638,
                    0.19463991503437617,
                    0.19169522094021244,
                    0.1887806139291859,
                    0.18589607970870228,
                    0.183041597345516,
                    0.18021713937356315,
                    0.17742267190262145,
                    0.17465815472774274,
                    0.17192354143939026,
                    0.16921877953422437,
                    0.16654381052647055,
                    0.16389857005981662,
                    0.16128298801977223,
                    0.15869698864644038,
                    0.15614049064763427,
                    0.15361340731228995,
                    0.15111564662411345,
                    0.1486471113754102,
                    0.1462076992810369,
                    0.14379730309242955,
                    0.1414158107116457,
                    0.13906310530537716,
                    0.13673906541887357,
                    0.1344435650897333,
                    0.1321764739615088,
                    0.12993765739707597,
                    0.12772697659172375,
                    0.1255442886859158,
                    0.12338944687767528,
                    0.12126230053455378,
                    0.11916269530513404,
                    0.11709047323002944,
                    0.11504547285233492,
                    0.11302752932748858,
                    0.11103647453250565,
                    0.10907213717454622,
                    0.10713434289877545,
                    0.10522291439548559,
                    0.10333767150643712,
                    0.1014784313303908,
                    0.09964500832779354,
                    0.09783721442458429,
                    0.09605485911509308,
                    0.09429774956399897,
                    0.09256569070731718,
                    0.09085848535239202,
                    0.08917593427686062,
                    0.08751783632656933,
                    0.08588398851241053,
                    0.08427418610606112,
                    0.08268822273459599,
                    0.08112589047395652,
                    0.07958697994125116,
                    0.07807128038587052,
                    0.0765785797793946,
                    0.07510866490427806,
                    0.0736613214412921,
                    0.07223633405571114,
                    0.0708334864822257,
                    0.06945256160857037,
                    0.06809334155785052,
                    0.066755607769558,
                    0.0654391410792636,
                    0.06414372179697671,
                    0.06286912978416018,
                    0.06161514452939512,
                    0.060381545222686864,
                    0.05916811082840273,
                    0.05797462015684047,
                    0.056800851934417314,
                    0.05564658487247965,
                    0.05451159773472633,
                    0.05339566940324534,
                    0.0522985789431614,
                    0.051220105665892926,
                    0.05016002919101777,
                    0.049118129506750076,
                    0.048094187029026514,
                    0.04708798265920694,
                    0.0460992978403886,
                    0.045127914612340767,
                    0.04417361566506067,
                    0.0432361843909573,
                    0.04231540493566665,
                    0.041411062247506195,
                    0.0405229421255727,
                    0.039650831266492804,
                    0.038794517309831356,
                    0.037953788882167994,
                    0.03712843563984945,
                    0.03631824831042596,
                    0.035523018732783324,
                    0.03474253989597966,
                    0.033976605976796526,
                    0.033225012376018236,
                    0.032487555753447396,
                    0.031764034061671345,
                    0.03105424657859074,
                    0.030357993938722298,
                    0.029675078163289972,
                    0.029005302689117735,
                    0.02834847239633652,
                    0.027704393634921227,
                    0.027072874250070503,
                    0.026453723606445042,
                    0.025846752611279184,
                    0.025251773736379948,
                    0.024668601039030666,
                    0.024097050181813677,
                    0.0235369384513677,
                    0.022988084776097484,
                    0.022450309742849953,
                    0.021923435612575266,
                    0.021407286334987608,
                    0.02090168756224371,
                    0.020406466661655406
                  ],
                  "yaxis": "y"
                },
                {
                  "legendgroup": "0",
                  "marker": {
                    "color": "rgb(31, 119, 180)",
                    "symbol": "line-ns-open"
                  },
                  "mode": "markers",
                  "name": "0",
                  "showlegend": false,
                  "type": "scatter",
                  "x": [
                    -0.9299646736463094,
                    -1.5951609981376604,
                    -1.2652846027012403,
                    -1.4352829581825546,
                    -0.9418341491872049,
                    -0.8753985043130742,
                    -1.3892347942639367,
                    -0.9956011790022326,
                    -0.663931139091345,
                    -1.0973612865199913,
                    -0.5372478940544034,
                    -1.2542273404919788,
                    -0.5748502070093385,
                    -0.9731081833912301,
                    -1.2432562168862793,
                    -1.7821078494302487,
                    -1.475218944524087,
                    -0.9876419780687137,
                    -1.209684456829099,
                    -1.3557398160889256,
                    -2.136506216874087,
                    -1.1869983420946957,
                    -1.2658058028356582,
                    -0.9888158372117091,
                    -1.5894495044606787,
                    -1.9646958258661043,
                    -1.4252295910549386,
                    -1.292252639446324,
                    -1.3545104255994633,
                    -1.042912069317167,
                    5.87970532576094
                  ],
                  "xaxis": "x",
                  "y": [
                    "0",
                    "0",
                    "0",
                    "0",
                    "0",
                    "0",
                    "0",
                    "0",
                    "0",
                    "0",
                    "0",
                    "0",
                    "0",
                    "0",
                    "0",
                    "0",
                    "0",
                    "0",
                    "0",
                    "0",
                    "0",
                    "0",
                    "0",
                    "0",
                    "0",
                    "0",
                    "0",
                    "0",
                    "0",
                    "0",
                    "0"
                  ],
                  "yaxis": "y2"
                },
                {
                  "legendgroup": "1",
                  "marker": {
                    "color": "rgb(255, 127, 14)",
                    "symbol": "line-ns-open"
                  },
                  "mode": "markers",
                  "name": "1",
                  "showlegend": false,
                  "type": "scatter",
                  "x": [
                    1.2200872203312867,
                    1.1185127755806643,
                    0.540979823638034,
                    1.0675682291992596,
                    0.8317555605832999,
                    1.1270361941282512,
                    0.4775838131061971,
                    0.5115723261999536,
                    0.8663681858668072,
                    0.9792249985813388,
                    1.2848317790897315,
                    1.2384335998124818,
                    1.687427033066691,
                    1.0894374826809676,
                    1.466832398852036,
                    0.4910857726266471,
                    0.7811330978196194,
                    1.614486682345211,
                    0.5789056461175898,
                    1.2785646783270292,
                    1.5358462791867549,
                    0.49364096242253575,
                    0.2958230300122239,
                    1.4756091632823616,
                    2.279081757629707,
                    1.0750367085437733,
                    1.523936118582472,
                    0.698870077924661,
                    0.4873804492806513,
                    0.8325562560014995
                  ],
                  "xaxis": "x",
                  "y": [
                    "1",
                    "1",
                    "1",
                    "1",
                    "1",
                    "1",
                    "1",
                    "1",
                    "1",
                    "1",
                    "1",
                    "1",
                    "1",
                    "1",
                    "1",
                    "1",
                    "1",
                    "1",
                    "1",
                    "1",
                    "1",
                    "1",
                    "1",
                    "1",
                    "1",
                    "1",
                    "1",
                    "1",
                    "1",
                    "1"
                  ],
                  "yaxis": "y2"
                }
              ],
              "layout": {
                "barmode": "overlay",
                "height": 500,
                "hovermode": "closest",
                "legend": {
                  "traceorder": "reversed"
                },
                "template": {
                  "data": {
                    "bar": [
                      {
                        "error_x": {
                          "color": "rgb(36,36,36)"
                        },
                        "error_y": {
                          "color": "rgb(36,36,36)"
                        },
                        "marker": {
                          "line": {
                            "color": "white",
                            "width": 0.5
                          },
                          "pattern": {
                            "fillmode": "overlay",
                            "size": 10,
                            "solidity": 0.2
                          }
                        },
                        "type": "bar"
                      }
                    ],
                    "barpolar": [
                      {
                        "marker": {
                          "line": {
                            "color": "white",
                            "width": 0.5
                          },
                          "pattern": {
                            "fillmode": "overlay",
                            "size": 10,
                            "solidity": 0.2
                          }
                        },
                        "type": "barpolar"
                      }
                    ],
                    "carpet": [
                      {
                        "aaxis": {
                          "endlinecolor": "rgb(36,36,36)",
                          "gridcolor": "white",
                          "linecolor": "white",
                          "minorgridcolor": "white",
                          "startlinecolor": "rgb(36,36,36)"
                        },
                        "baxis": {
                          "endlinecolor": "rgb(36,36,36)",
                          "gridcolor": "white",
                          "linecolor": "white",
                          "minorgridcolor": "white",
                          "startlinecolor": "rgb(36,36,36)"
                        },
                        "type": "carpet"
                      }
                    ],
                    "choropleth": [
                      {
                        "colorbar": {
                          "outlinewidth": 1,
                          "tickcolor": "rgb(36,36,36)",
                          "ticks": "outside"
                        },
                        "type": "choropleth"
                      }
                    ],
                    "contour": [
                      {
                        "colorbar": {
                          "outlinewidth": 1,
                          "tickcolor": "rgb(36,36,36)",
                          "ticks": "outside"
                        },
                        "colorscale": [
                          [
                            0,
                            "#440154"
                          ],
                          [
                            0.1111111111111111,
                            "#482878"
                          ],
                          [
                            0.2222222222222222,
                            "#3e4989"
                          ],
                          [
                            0.3333333333333333,
                            "#31688e"
                          ],
                          [
                            0.4444444444444444,
                            "#26828e"
                          ],
                          [
                            0.5555555555555556,
                            "#1f9e89"
                          ],
                          [
                            0.6666666666666666,
                            "#35b779"
                          ],
                          [
                            0.7777777777777778,
                            "#6ece58"
                          ],
                          [
                            0.8888888888888888,
                            "#b5de2b"
                          ],
                          [
                            1,
                            "#fde725"
                          ]
                        ],
                        "type": "contour"
                      }
                    ],
                    "contourcarpet": [
                      {
                        "colorbar": {
                          "outlinewidth": 1,
                          "tickcolor": "rgb(36,36,36)",
                          "ticks": "outside"
                        },
                        "type": "contourcarpet"
                      }
                    ],
                    "heatmap": [
                      {
                        "colorbar": {
                          "outlinewidth": 1,
                          "tickcolor": "rgb(36,36,36)",
                          "ticks": "outside"
                        },
                        "colorscale": [
                          [
                            0,
                            "#440154"
                          ],
                          [
                            0.1111111111111111,
                            "#482878"
                          ],
                          [
                            0.2222222222222222,
                            "#3e4989"
                          ],
                          [
                            0.3333333333333333,
                            "#31688e"
                          ],
                          [
                            0.4444444444444444,
                            "#26828e"
                          ],
                          [
                            0.5555555555555556,
                            "#1f9e89"
                          ],
                          [
                            0.6666666666666666,
                            "#35b779"
                          ],
                          [
                            0.7777777777777778,
                            "#6ece58"
                          ],
                          [
                            0.8888888888888888,
                            "#b5de2b"
                          ],
                          [
                            1,
                            "#fde725"
                          ]
                        ],
                        "type": "heatmap"
                      }
                    ],
                    "heatmapgl": [
                      {
                        "colorbar": {
                          "outlinewidth": 1,
                          "tickcolor": "rgb(36,36,36)",
                          "ticks": "outside"
                        },
                        "colorscale": [
                          [
                            0,
                            "#440154"
                          ],
                          [
                            0.1111111111111111,
                            "#482878"
                          ],
                          [
                            0.2222222222222222,
                            "#3e4989"
                          ],
                          [
                            0.3333333333333333,
                            "#31688e"
                          ],
                          [
                            0.4444444444444444,
                            "#26828e"
                          ],
                          [
                            0.5555555555555556,
                            "#1f9e89"
                          ],
                          [
                            0.6666666666666666,
                            "#35b779"
                          ],
                          [
                            0.7777777777777778,
                            "#6ece58"
                          ],
                          [
                            0.8888888888888888,
                            "#b5de2b"
                          ],
                          [
                            1,
                            "#fde725"
                          ]
                        ],
                        "type": "heatmapgl"
                      }
                    ],
                    "histogram": [
                      {
                        "marker": {
                          "line": {
                            "color": "white",
                            "width": 0.6
                          }
                        },
                        "type": "histogram"
                      }
                    ],
                    "histogram2d": [
                      {
                        "colorbar": {
                          "outlinewidth": 1,
                          "tickcolor": "rgb(36,36,36)",
                          "ticks": "outside"
                        },
                        "colorscale": [
                          [
                            0,
                            "#440154"
                          ],
                          [
                            0.1111111111111111,
                            "#482878"
                          ],
                          [
                            0.2222222222222222,
                            "#3e4989"
                          ],
                          [
                            0.3333333333333333,
                            "#31688e"
                          ],
                          [
                            0.4444444444444444,
                            "#26828e"
                          ],
                          [
                            0.5555555555555556,
                            "#1f9e89"
                          ],
                          [
                            0.6666666666666666,
                            "#35b779"
                          ],
                          [
                            0.7777777777777778,
                            "#6ece58"
                          ],
                          [
                            0.8888888888888888,
                            "#b5de2b"
                          ],
                          [
                            1,
                            "#fde725"
                          ]
                        ],
                        "type": "histogram2d"
                      }
                    ],
                    "histogram2dcontour": [
                      {
                        "colorbar": {
                          "outlinewidth": 1,
                          "tickcolor": "rgb(36,36,36)",
                          "ticks": "outside"
                        },
                        "colorscale": [
                          [
                            0,
                            "#440154"
                          ],
                          [
                            0.1111111111111111,
                            "#482878"
                          ],
                          [
                            0.2222222222222222,
                            "#3e4989"
                          ],
                          [
                            0.3333333333333333,
                            "#31688e"
                          ],
                          [
                            0.4444444444444444,
                            "#26828e"
                          ],
                          [
                            0.5555555555555556,
                            "#1f9e89"
                          ],
                          [
                            0.6666666666666666,
                            "#35b779"
                          ],
                          [
                            0.7777777777777778,
                            "#6ece58"
                          ],
                          [
                            0.8888888888888888,
                            "#b5de2b"
                          ],
                          [
                            1,
                            "#fde725"
                          ]
                        ],
                        "type": "histogram2dcontour"
                      }
                    ],
                    "mesh3d": [
                      {
                        "colorbar": {
                          "outlinewidth": 1,
                          "tickcolor": "rgb(36,36,36)",
                          "ticks": "outside"
                        },
                        "type": "mesh3d"
                      }
                    ],
                    "parcoords": [
                      {
                        "line": {
                          "colorbar": {
                            "outlinewidth": 1,
                            "tickcolor": "rgb(36,36,36)",
                            "ticks": "outside"
                          }
                        },
                        "type": "parcoords"
                      }
                    ],
                    "pie": [
                      {
                        "automargin": true,
                        "type": "pie"
                      }
                    ],
                    "scatter": [
                      {
                        "fillpattern": {
                          "fillmode": "overlay",
                          "size": 10,
                          "solidity": 0.2
                        },
                        "type": "scatter"
                      }
                    ],
                    "scatter3d": [
                      {
                        "line": {
                          "colorbar": {
                            "outlinewidth": 1,
                            "tickcolor": "rgb(36,36,36)",
                            "ticks": "outside"
                          }
                        },
                        "marker": {
                          "colorbar": {
                            "outlinewidth": 1,
                            "tickcolor": "rgb(36,36,36)",
                            "ticks": "outside"
                          }
                        },
                        "type": "scatter3d"
                      }
                    ],
                    "scattercarpet": [
                      {
                        "marker": {
                          "colorbar": {
                            "outlinewidth": 1,
                            "tickcolor": "rgb(36,36,36)",
                            "ticks": "outside"
                          }
                        },
                        "type": "scattercarpet"
                      }
                    ],
                    "scattergeo": [
                      {
                        "marker": {
                          "colorbar": {
                            "outlinewidth": 1,
                            "tickcolor": "rgb(36,36,36)",
                            "ticks": "outside"
                          }
                        },
                        "type": "scattergeo"
                      }
                    ],
                    "scattergl": [
                      {
                        "marker": {
                          "colorbar": {
                            "outlinewidth": 1,
                            "tickcolor": "rgb(36,36,36)",
                            "ticks": "outside"
                          }
                        },
                        "type": "scattergl"
                      }
                    ],
                    "scattermapbox": [
                      {
                        "marker": {
                          "colorbar": {
                            "outlinewidth": 1,
                            "tickcolor": "rgb(36,36,36)",
                            "ticks": "outside"
                          }
                        },
                        "type": "scattermapbox"
                      }
                    ],
                    "scatterpolar": [
                      {
                        "marker": {
                          "colorbar": {
                            "outlinewidth": 1,
                            "tickcolor": "rgb(36,36,36)",
                            "ticks": "outside"
                          }
                        },
                        "type": "scatterpolar"
                      }
                    ],
                    "scatterpolargl": [
                      {
                        "marker": {
                          "colorbar": {
                            "outlinewidth": 1,
                            "tickcolor": "rgb(36,36,36)",
                            "ticks": "outside"
                          }
                        },
                        "type": "scatterpolargl"
                      }
                    ],
                    "scatterternary": [
                      {
                        "marker": {
                          "colorbar": {
                            "outlinewidth": 1,
                            "tickcolor": "rgb(36,36,36)",
                            "ticks": "outside"
                          }
                        },
                        "type": "scatterternary"
                      }
                    ],
                    "surface": [
                      {
                        "colorbar": {
                          "outlinewidth": 1,
                          "tickcolor": "rgb(36,36,36)",
                          "ticks": "outside"
                        },
                        "colorscale": [
                          [
                            0,
                            "#440154"
                          ],
                          [
                            0.1111111111111111,
                            "#482878"
                          ],
                          [
                            0.2222222222222222,
                            "#3e4989"
                          ],
                          [
                            0.3333333333333333,
                            "#31688e"
                          ],
                          [
                            0.4444444444444444,
                            "#26828e"
                          ],
                          [
                            0.5555555555555556,
                            "#1f9e89"
                          ],
                          [
                            0.6666666666666666,
                            "#35b779"
                          ],
                          [
                            0.7777777777777778,
                            "#6ece58"
                          ],
                          [
                            0.8888888888888888,
                            "#b5de2b"
                          ],
                          [
                            1,
                            "#fde725"
                          ]
                        ],
                        "type": "surface"
                      }
                    ],
                    "table": [
                      {
                        "cells": {
                          "fill": {
                            "color": "rgb(237,237,237)"
                          },
                          "line": {
                            "color": "white"
                          }
                        },
                        "header": {
                          "fill": {
                            "color": "rgb(217,217,217)"
                          },
                          "line": {
                            "color": "white"
                          }
                        },
                        "type": "table"
                      }
                    ]
                  },
                  "layout": {
                    "annotationdefaults": {
                      "arrowhead": 0,
                      "arrowwidth": 1
                    },
                    "autotypenumbers": "strict",
                    "coloraxis": {
                      "colorbar": {
                        "outlinewidth": 1,
                        "tickcolor": "rgb(36,36,36)",
                        "ticks": "outside"
                      }
                    },
                    "colorscale": {
                      "diverging": [
                        [
                          0,
                          "rgb(103,0,31)"
                        ],
                        [
                          0.1,
                          "rgb(178,24,43)"
                        ],
                        [
                          0.2,
                          "rgb(214,96,77)"
                        ],
                        [
                          0.3,
                          "rgb(244,165,130)"
                        ],
                        [
                          0.4,
                          "rgb(253,219,199)"
                        ],
                        [
                          0.5,
                          "rgb(247,247,247)"
                        ],
                        [
                          0.6,
                          "rgb(209,229,240)"
                        ],
                        [
                          0.7,
                          "rgb(146,197,222)"
                        ],
                        [
                          0.8,
                          "rgb(67,147,195)"
                        ],
                        [
                          0.9,
                          "rgb(33,102,172)"
                        ],
                        [
                          1,
                          "rgb(5,48,97)"
                        ]
                      ],
                      "sequential": [
                        [
                          0,
                          "#440154"
                        ],
                        [
                          0.1111111111111111,
                          "#482878"
                        ],
                        [
                          0.2222222222222222,
                          "#3e4989"
                        ],
                        [
                          0.3333333333333333,
                          "#31688e"
                        ],
                        [
                          0.4444444444444444,
                          "#26828e"
                        ],
                        [
                          0.5555555555555556,
                          "#1f9e89"
                        ],
                        [
                          0.6666666666666666,
                          "#35b779"
                        ],
                        [
                          0.7777777777777778,
                          "#6ece58"
                        ],
                        [
                          0.8888888888888888,
                          "#b5de2b"
                        ],
                        [
                          1,
                          "#fde725"
                        ]
                      ],
                      "sequentialminus": [
                        [
                          0,
                          "#440154"
                        ],
                        [
                          0.1111111111111111,
                          "#482878"
                        ],
                        [
                          0.2222222222222222,
                          "#3e4989"
                        ],
                        [
                          0.3333333333333333,
                          "#31688e"
                        ],
                        [
                          0.4444444444444444,
                          "#26828e"
                        ],
                        [
                          0.5555555555555556,
                          "#1f9e89"
                        ],
                        [
                          0.6666666666666666,
                          "#35b779"
                        ],
                        [
                          0.7777777777777778,
                          "#6ece58"
                        ],
                        [
                          0.8888888888888888,
                          "#b5de2b"
                        ],
                        [
                          1,
                          "#fde725"
                        ]
                      ]
                    },
                    "colorway": [
                      "#1F77B4",
                      "#FF7F0E",
                      "#2CA02C",
                      "#D62728",
                      "#9467BD",
                      "#8C564B",
                      "#E377C2",
                      "#7F7F7F",
                      "#BCBD22",
                      "#17BECF"
                    ],
                    "font": {
                      "color": "rgb(36,36,36)"
                    },
                    "geo": {
                      "bgcolor": "white",
                      "lakecolor": "white",
                      "landcolor": "white",
                      "showlakes": true,
                      "showland": true,
                      "subunitcolor": "white"
                    },
                    "hoverlabel": {
                      "align": "left"
                    },
                    "hovermode": "closest",
                    "mapbox": {
                      "style": "light"
                    },
                    "paper_bgcolor": "white",
                    "plot_bgcolor": "white",
                    "polar": {
                      "angularaxis": {
                        "gridcolor": "rgb(232,232,232)",
                        "linecolor": "rgb(36,36,36)",
                        "showgrid": false,
                        "showline": true,
                        "ticks": "outside"
                      },
                      "bgcolor": "white",
                      "radialaxis": {
                        "gridcolor": "rgb(232,232,232)",
                        "linecolor": "rgb(36,36,36)",
                        "showgrid": false,
                        "showline": true,
                        "ticks": "outside"
                      }
                    },
                    "scene": {
                      "xaxis": {
                        "backgroundcolor": "white",
                        "gridcolor": "rgb(232,232,232)",
                        "gridwidth": 2,
                        "linecolor": "rgb(36,36,36)",
                        "showbackground": true,
                        "showgrid": false,
                        "showline": true,
                        "ticks": "outside",
                        "zeroline": false,
                        "zerolinecolor": "rgb(36,36,36)"
                      },
                      "yaxis": {
                        "backgroundcolor": "white",
                        "gridcolor": "rgb(232,232,232)",
                        "gridwidth": 2,
                        "linecolor": "rgb(36,36,36)",
                        "showbackground": true,
                        "showgrid": false,
                        "showline": true,
                        "ticks": "outside",
                        "zeroline": false,
                        "zerolinecolor": "rgb(36,36,36)"
                      },
                      "zaxis": {
                        "backgroundcolor": "white",
                        "gridcolor": "rgb(232,232,232)",
                        "gridwidth": 2,
                        "linecolor": "rgb(36,36,36)",
                        "showbackground": true,
                        "showgrid": false,
                        "showline": true,
                        "ticks": "outside",
                        "zeroline": false,
                        "zerolinecolor": "rgb(36,36,36)"
                      }
                    },
                    "shapedefaults": {
                      "fillcolor": "black",
                      "line": {
                        "width": 0
                      },
                      "opacity": 0.3
                    },
                    "ternary": {
                      "aaxis": {
                        "gridcolor": "rgb(232,232,232)",
                        "linecolor": "rgb(36,36,36)",
                        "showgrid": false,
                        "showline": true,
                        "ticks": "outside"
                      },
                      "baxis": {
                        "gridcolor": "rgb(232,232,232)",
                        "linecolor": "rgb(36,36,36)",
                        "showgrid": false,
                        "showline": true,
                        "ticks": "outside"
                      },
                      "bgcolor": "white",
                      "caxis": {
                        "gridcolor": "rgb(232,232,232)",
                        "linecolor": "rgb(36,36,36)",
                        "showgrid": false,
                        "showline": true,
                        "ticks": "outside"
                      }
                    },
                    "title": {
                      "x": 0.05
                    },
                    "xaxis": {
                      "automargin": true,
                      "gridcolor": "rgb(232,232,232)",
                      "linecolor": "rgb(36,36,36)",
                      "showgrid": false,
                      "showline": true,
                      "ticks": "outside",
                      "title": {
                        "standoff": 15
                      },
                      "zeroline": false,
                      "zerolinecolor": "rgb(36,36,36)"
                    },
                    "yaxis": {
                      "automargin": true,
                      "gridcolor": "rgb(232,232,232)",
                      "linecolor": "rgb(36,36,36)",
                      "showgrid": false,
                      "showline": true,
                      "ticks": "outside",
                      "title": {
                        "standoff": 15
                      },
                      "zeroline": false,
                      "zerolinecolor": "rgb(36,36,36)"
                    }
                  }
                },
                "title": {
                  "text": "LDA"
                },
                "width": 1000,
                "xaxis": {
                  "anchor": "y2",
                  "domain": [
                    0,
                    1
                  ],
                  "zeroline": false
                },
                "yaxis": {
                  "anchor": "free",
                  "domain": [
                    0.35,
                    1
                  ],
                  "position": 0,
                  "zeroline": true
                },
                "yaxis2": {
                  "anchor": "x",
                  "domain": [
                    0,
                    0.25
                  ],
                  "dtick": 1,
                  "showticklabels": false,
                  "zeroline": true
                }
              }
            }
          },
          "metadata": {},
          "output_type": "display_data"
        },
        {
          "data": {
            "application/vnd.plotly.v1+json": {
              "config": {
                "plotlyServerURL": "https://plot.ly"
              },
              "data": [
                {
                  "type": "surface",
                  "x": [
                    -4.262998676841768,
                    -3.9719170711919363,
                    -3.680835465542104,
                    -3.389753859892272,
                    -3.09867225424244,
                    -2.8075906485926083,
                    -2.516509042942776,
                    -2.225427437292944,
                    -1.9343458316431121,
                    -1.6432642259932804,
                    -1.3521826203434482,
                    -1.061101014693616,
                    -0.7700194090437842,
                    -0.4789378033939524,
                    -0.18785619774411977,
                    0.103225407905712,
                    0.39430701355554376,
                    0.6853886192053755,
                    0.9764702248552073,
                    1.26755183050504,
                    1.5586334361548717,
                    1.8497150418047035,
                    2.140796647454536,
                    2.431878253104368,
                    2.7229598587541997,
                    3.0140414644040314,
                    3.305123070053863,
                    3.596204675703696,
                    3.8872862813535285,
                    4.178367887003359,
                    4.469449492653192,
                    4.760531098303023,
                    5.0516127039528556,
                    5.342694309602688,
                    5.633775915252519,
                    5.924857520902352,
                    6.215939126552183,
                    6.507020732202015,
                    6.798102337851848,
                    7.089183943501679,
                    7.3802655491515115,
                    7.671347154801344,
                    7.962428760451175,
                    8.253510366101008,
                    8.54459197175084,
                    8.835673577400671,
                    9.126755183050504,
                    9.417836788700335,
                    9.708918394350167,
                    10
                  ],
                  "y": [
                    -4.262998676841768,
                    -3.9719170711919363,
                    -3.680835465542104,
                    -3.389753859892272,
                    -3.09867225424244,
                    -2.8075906485926083,
                    -2.516509042942776,
                    -2.225427437292944,
                    -1.9343458316431121,
                    -1.6432642259932804,
                    -1.3521826203434482,
                    -1.061101014693616,
                    -0.7700194090437842,
                    -0.4789378033939524,
                    -0.18785619774411977,
                    0.103225407905712,
                    0.39430701355554376,
                    0.6853886192053755,
                    0.9764702248552073,
                    1.26755183050504,
                    1.5586334361548717,
                    1.8497150418047035,
                    2.140796647454536,
                    2.431878253104368,
                    2.7229598587541997,
                    3.0140414644040314,
                    3.305123070053863,
                    3.596204675703696,
                    3.8872862813535285,
                    4.178367887003359,
                    4.469449492653192,
                    4.760531098303023,
                    5.0516127039528556,
                    5.342694309602688,
                    5.633775915252519,
                    5.924857520902352,
                    6.215939126552183,
                    6.507020732202015,
                    6.798102337851848,
                    7.089183943501679,
                    7.3802655491515115,
                    7.671347154801344,
                    7.962428760451175,
                    8.253510366101008,
                    8.54459197175084,
                    8.835673577400671,
                    9.126755183050504,
                    9.417836788700335,
                    9.708918394350167,
                    10
                  ],
                  "z": [
                    [
                      0.004442587927509966,
                      0.005453355836610045,
                      0.0066925455170179175,
                      0.00821099685562699,
                      0.010070472186646277,
                      0.01234580538520048,
                      0.015127373824005764,
                      0.018523888764785425,
                      0.022665465059871652,
                      0.02770687607062717,
                      0.03383081709761892,
                      0.04125088229214726,
                      0.05021379886843797,
                      0.06100025568963089,
                      0.07392341844845687,
                      0.08932396753141274,
                      0.10756028526500147,
                      0.1289923576585494,
                      0.15395819074193604,
                      0.18274225403205613,
                      0.21553681352750745,
                      0.25239904016378356,
                      0.2932092486622564,
                      0.3376379254978519,
                      0.3851303698579905,
                      0.434916740180379,
                      0.48605147465313503,
                      0.537479889922425,
                      0.5881229634884417,
                      0.6369663012257574,
                      0.6831380945212062,
                      0.7259639851748713,
                      0.7649928876542045,
                      0.7999946057733953,
                      0.8309353120182945,
                      0.8579394837208052,
                      0.8812467983620816,
                      0.9011706671312316,
                      0.9180626043834671,
                      0.932284314807257,
                      0.9441876563219038,
                      0.954101593884409,
                      0.9623247886294145,
                      0.9691223889010622,
                      0.9747257346841603,
                      0.9793339274581164,
                      0.9831164734829795,
                      0.9862164378325542,
                      0.988753732481263,
                      0.9908283025690771
                    ],
                    [
                      0.005117891145235967,
                      0.006281333175835065,
                      0.0077072097121499445,
                      0.009453684095421558,
                      0.011591291305568666,
                      0.014205309173708642,
                      0.017398452340679216,
                      0.02129386244358458,
                      0.026038320056198785,
                      0.03180553071278952,
                      0.03879923093724376,
                      0.04725571290624134,
                      0.057445173582645365,
                      0.06967105935721514,
                      0.08426632010494993,
                      0.1015852540931597,
                      0.1219895040659345,
                      0.1458268894589695,
                      0.1734023045758653,
                      0.20494105271997434,
                      0.24054681023538335,
                      0.2801587914060507,
                      0.3235151300316087,
                      0.37013112929859676,
                      0.41930077879954686,
                      0.47012698865851227,
                      0.5215804246191588,
                      0.5725799811116876,
                      0.622082109101139,
                      0.6691636994067915,
                      0.7130850606960866,
                      0.7533249533575129,
                      0.7895864919212926,
                      0.8217786251343769,
                      0.8499813106339837,
                      0.8744031504780926,
                      0.89533884984824,
                      0.9131314785427752,
                      0.9281420833984694,
                      0.9407272698238445,
                      0.9512241220933898,
                      0.959941201973071,
                      0.9671541852914953,
                      0.9731047878708792,
                      0.978001853791609,
                      0.9820237361904233,
                      0.9853213410953268,
                      0.988021404920579,
                      0.9902297307089838,
                      0.9920342207347806
                    ],
                    [
                      0.005895237139657868,
                      0.007234107059584068,
                      0.008874333887664945,
                      0.010882381282560128,
                      0.01333868629715461,
                      0.01634025448934802,
                      0.0200035636263674,
                      0.024467718712736133,
                      0.029897736517404735,
                      0.03648774252969822,
                      0.04446372935914895,
                      0.05408534703255785,
                      0.06564597270394726,
                      0.07947005357822472,
                      0.09590646955457179,
                      0.11531649439260072,
                      0.13805496549894852,
                      0.16444366717958056,
                      0.19473687215665034,
                      0.22908059905805228,
                      0.2674693824147914,
                      0.30970685218313543,
                      0.35537841908469475,
                      0.40384480545685103,
                      0.45426309215534183,
                      0.5056371142450079,
                      0.5568923725513086,
                      0.6069642198991886,
                      0.6548843511990984,
                      0.6998511123672145,
                      0.7412736396722026,
                      0.7787865192183551,
                      0.8122380678147874,
                      0.8416596027803522,
                      0.8672245312911624,
                      0.8892052121694014,
                      0.9079333500111479,
                      0.9237671870450526,
                      0.9370666382313121,
                      0.9481760538001586,
                      0.9574134871770733,
                      0.9650650467540427,
                      0.9713829349208138,
                      0.9765859713992185,
                      0.980861651435954,
                      0.984369038562473,
                      0.9872420054160583,
                      0.9895925046222258,
                      0.9915136765582695,
                      0.9930826886470369
                    ],
                    [
                      0.006789846825886764,
                      0.008330189423490555,
                      0.010216379242834982,
                      0.012524261756918172,
                      0.015345412555149306,
                      0.018789949232846027,
                      0.022989618034580394,
                      0.028101056329600548,
                      0.03430904713244694,
                      0.04182946074207012,
                      0.05091141421722087,
                      0.06183796955887636,
                      0.07492444464993768,
                      0.09051315582290138,
                      0.10896320808812869,
                      0.1306339029839371,
                      0.15586059658031107,
                      0.18492259307031125,
                      0.21800405783545368,
                      0.2551510002842719,
                      0.2962298589716051,
                      0.34089548015506616,
                      0.3885773240063017,
                      0.4384915146368483,
                      0.4896823310176168,
                      0.5410904577333541,
                      0.5916385602960244,
                      0.6403199609211053,
                      0.6862753032193651,
                      0.7288454818288678,
                      0.767595373433652,
                      0.8023096470228717,
                      0.8329669939149763,
                      0.8597014437632495,
                      0.8827591841318979,
                      0.9024573975962649,
                      0.9191491379573158,
                      0.9331959837262088,
                      0.9449485315147701,
                      0.9547337944941218,
                      0.9628481341378504,
                      0.9695542964937831,
                      0.9750812795152679,
                      0.9796260017039198,
                      0.9833559974333426,
                      0.986412590892321,
                      0.9889141833327956,
                      0.9909594260901251,
                      0.992630150283739,
                      0.9939939911174059
                    ],
                    [
                      0.007819146854695126,
                      0.009590741333440185,
                      0.011758971164205528,
                      0.014410252162726695,
                      0.017648638723037534,
                      0.021598832784047298,
                      0.0264094068749726,
                      0.032256087247720555,
                      0.03934483404829325,
                      0.04791430506783894,
                      0.05823709360775749,
                      0.07061889372447801,
                      0.0853944887907998,
                      0.10291923132132813,
                      0.12355457326028291,
                      0.1476463541567488,
                      0.17549513618103105,
                      0.2073190621663126,
                      0.24321158358652217,
                      0.2830988078265876,
                      0.32670363475425596,
                      0.3735253906920589,
                      0.42284324447321486,
                      0.47374854040617237,
                      0.5252054678541161,
                      0.5761326304493691,
                      0.6254924242704738,
                      0.6723729111635632,
                      0.7160490110286195,
                      0.7560154403384677,
                      0.7919906814395081,
                      0.8238970239958623,
                      0.8518249277123756,
                      0.8759904289182568,
                      0.8966928047487395,
                      0.914277295843398,
                      0.9291052791530605,
                      0.9415323983443891,
                      0.9518939583881112,
                      0.9604962986407563,
                      0.9676127035250416,
                      0.9734825149670785,
                      0.978312337362893,
                      0.9822784831881467,
                      0.9855300453285742,
                      0.9881921791393965,
                      0.9903693285579882,
                      0.9921482404218742,
                      0.9936006870219742,
                      0.9947858668631652
                    ],
                    [
                      0.009003068186722672,
                      0.011039920577482053,
                      0.013531297954359285,
                      0.01657548088090768,
                      0.020290437446830737,
                      0.024816992346488462,
                      0.030322113675351443,
                      0.0370020922837173,
                      0.04508525161559421,
                      0.05483364415121469,
                      0.06654296480626566,
                      0.08053965681049453,
                      0.09717394101320581,
                      0.11680734140734314,
                      0.13979333076294867,
                      0.16645014761935786,
                      0.19702582037891553,
                      0.23165709577385796,
                      0.2703262426905651,
                      0.3128221970864831,
                      0.35871443958257804,
                      0.40734829028309183,
                      0.45786803732774983,
                      0.5092693026537404,
                      0.5604753224212927,
                      0.6104255242131971,
                      0.6581613178122052,
                      0.702894814074162,
                      0.7440509112040778,
                      0.7812799267454096,
                      0.8144442629608929,
                      0.8435866681557804,
                      0.8688889290312268,
                      0.8906288223539299,
                      0.9091409095475517,
                      0.924784272376884,
                      0.9379182093222591,
                      0.9488854997283278,
                      0.9580020780742041,
                      0.9655516900056073,
                      0.9717841432218501,
                      0.9769159671616721,
                      0.981132550281852,
                      0.9845910710861229,
                      0.987423749797122,
                      0.9897411128476019,
                      0.9916350843261436,
                      0.993181804035826,
                      0.9944441289841311,
                      0.9954738113901864
                    ],
                    [
                      0.010364378155110801,
                      0.012705264499436951,
                      0.015566544319793185,
                      0.019059756943397343,
                      0.023318296314859127,
                      0.028500680129098156,
                      0.03479379394316201,
                      0.042415795227133124,
                      0.05161819473972511,
                      0.06268641970485953,
                      0.07593791461399042,
                      0.09171658154880281,
                      0.11038216615032508,
                      0.13229316556372808,
                      0.1577821257718944,
                      0.18712298991671714,
                      0.22049160641925095,
                      0.25792261380155607,
                      0.2992684113407175,
                      0.34416813313304784,
                      0.3920354586743791,
                      0.44207268528062055,
                      0.49331427632451663,
                      0.5446967162478153,
                      0.5951448063093479,
                      0.6436599715510736,
                      0.6893955734616977,
                      0.7317078769714342,
                      0.7701776973546379,
                      0.8046044368209075,
                      0.8349791094661004,
                      0.8614450796834148,
                      0.8842548386509198,
                      0.9037291648746584,
                      0.9202225155390347,
                      0.9340962463306475,
                      0.9456996304356923,
                      0.9553576946687413,
                      0.9633644866247763,
                      0.9699803498203255,
                      0.9754319487982168,
                      0.9799140327177164,
                      0.9835921800076205,
                      0.9866059904206304,
                      0.9890723703265845,
                      0.9910886918586517,
                      0.9927357024822513,
                      0.9940801266557373,
                      0.9951769432660021,
                      0.9960713480564081
                    ],
                    [
                      0.011929047407975795,
                      0.01461810806243007,
                      0.017902357190727285,
                      0.02190807313302633,
                      0.026785636816977983,
                      0.03271281070697545,
                      0.03989779107973308,
                      0.04858160784845722,
                      0.0590392469561561,
                      0.07157863071985628,
                      0.08653633422225854,
                      0.10426869278154278,
                      0.12513685983216222,
                      0.1494845472677257,
                      0.1776077993723382,
                      0.2097173862100778,
                      0.24589631914141516,
                      0.2860574164938018,
                      0.3299082392857738,
                      0.37693215170212224,
                      0.42639366287177055,
                      0.47737285631265425,
                      0.528827856495461,
                      0.5796774275735287,
                      0.6288903237775298,
                      0.6755660856655715,
                      0.7189944084965814,
                      0.758685982346352,
                      0.7943745545018205,
                      0.8259955745039187,
                      0.8536497891576761,
                      0.8775604564250564,
                      0.8980312389498506,
                      0.9154093996239409,
                      0.9300565370101606,
                      0.9423272609117334,
                      0.9525550546767946,
                      0.9610440154615231,
                      0.9680650323252535,
                      0.9738550796440408,
                      0.9786185345497262,
                      0.9825296843141804,
                      0.9857358251195963,
                      0.9883605473776199,
                      0.9905069509509212,
                      0.9922606407990113,
                      0.9936924273612575,
                      0.9948607043860418,
                      0.9958135069343137,
                      0.99659026955251
                    ],
                    [
                      0.013726652244281268,
                      0.01681403559612689,
                      0.02058133896172295,
                      0.02517112317098586,
                      0.030752323613133174,
                      0.03752341020537492,
                      0.04571504598338395,
                      0.05559168587283751,
                      0.06745132867796737,
                      0.08162237956735224,
                      0.09845633885611027,
                      0.11831488488635941,
                      0.1415499905538539,
                      0.16847617392868283,
                      0.19933501310037136,
                      0.2342537652666811,
                      0.27320223677489586,
                      0.3159545358687234,
                      0.3620641868456769,
                      0.41086122197936764,
                      0.4614773994805361,
                      0.5129005126858407,
                      0.5640519803224336,
                      0.613875737748402,
                      0.6614232556218679,
                      0.705920620292125,
                      0.7468085531828376,
                      0.7837530336394019,
                      0.8166303876725035,
                      0.8454945857312467,
                      0.8705355775213012,
                      0.8920363614167954,
                      0.9103341947412175,
                      0.9257888780603134,
                      0.9387590106024759,
                      0.9495857500524647,
                      0.9585828859321701,
                      0.9660317929294518,
                      0.9721798877192831,
                      0.9772414203723042,
                      0.9813996873326922,
                      0.9848099983812596,
                      0.9876029376446751,
                      0.9898876207857068,
                      0.9917547696434684,
                      0.9932795088506563,
                      0.994523844409034,
                      0.9955388192483118,
                      0.9963663614962351,
                      0.9970408522030663
                    ],
                    [
                      0.015790811553388674,
                      0.01933336252764963,
                      0.023651559892097974,
                      0.028905817937466573,
                      0.03528513941031061,
                      0.04300997959352928,
                      0.05233424613713323,
                      0.06354572253477601,
                      0.07696395280548103,
                      0.0929343725697954,
                      0.11181728354507259,
                      0.13397025574039317,
                      0.15972286215925177,
                      0.1893434870796183,
                      0.22299944505470617,
                      0.26071379622229013,
                      0.3023247424206956,
                      0.34745564170250653,
                      0.3955044614540525,
                      0.445659890174212,
                      0.4969469274271925,
                      0.5482982931050111,
                      0.5986413700667985,
                      0.6469860657761164,
                      0.6924987152754359,
                      0.7345510606858755,
                      0.7727398233124269,
                      0.8068790006129574,
                      0.8369717305743926,
                      0.8631704946071771,
                      0.8857338827178795,
                      0.90498609650966,
                      0.9212828633437609,
                      0.9349852220691375,
                      0.9464410625112082,
                      0.9559733922233743,
                      0.9638739318863232,
                      0.9704006230276325,
                      0.9757778058658173,
                      0.9801980740927386,
                      0.9838250662195588,
                      0.9867966739987749,
                      0.9892283246871638,
                      0.9912161257164307,
                      0.9928397538496021,
                      0.9941650341276466,
                      0.9952461945622314,
                      0.9961278071145253,
                      0.9968464390991343,
                      0.997432045530602
                    ],
                    [
                      0.01815965571166843,
                      0.02222164045819737,
                      0.027167076992849475,
                      0.03317577935361744,
                      0.040458192144867,
                      0.049257723342371836,
                      0.059851746921382815,
                      0.07255039270591794,
                      0.08769198384843747,
                      0.10563376466689105,
                      0.12673647962504367,
                      0.15134156235498689,
                      0.17974035112416406,
                      0.21213602979481722,
                      0.24860095539124197,
                      0.2890344789779587,
                      0.33312872495626067,
                      0.38035111982048214,
                      0.4299516846847374,
                      0.48099955644689923,
                      0.5324472114228181,
                      0.583214025463985,
                      0.6322755185000218,
                      0.6787430082049515,
                      0.7219211186809962,
                      0.7613365215023391,
                      0.7967381190256033,
                      0.8280743358345908,
                      0.8554559899756475,
                      0.8791133496226627,
                      0.8993542789003911,
                      0.9165279172078269,
                      0.9309959789545966,
                      0.9431119702950161,
                      0.9532075124619325,
                      0.9615844419449714,
                      0.9685112493754731,
                      0.9742225484776782,
                      0.9789205018404327,
                      0.9827773871156587,
                      0.9859387202332593,
                      0.9885265427199794,
                      0.9906426252998604,
                      0.9923714445016779,
                      0.9937828607434295,
                      0.9949344732488529,
                      0.9958736561032041,
                      0.9966392962980447,
                      0.9972632628983957,
                      0.9977716394765143
                    ],
                    [
                      0.02087632222556813,
                      0.0255301750373189,
                      0.031188441045145805,
                      0.03805178269012898,
                      0.04635321087802523,
                      0.05635958217653513,
                      0.06837118420083489,
                      0.08271834828053529,
                      0.09975379050395737,
                      0.11983924502582412,
                      0.14332504677298846,
                      0.17052181605002054,
                      0.2016644730263199,
                      0.23687056798338588,
                      0.27609725081896286,
                      0.3191036745264561,
                      0.3654273899115644,
                      0.41438326640440937,
                      0.4650908049558,
                      0.516530361505007,
                      0.5676219861805217,
                      0.6173145511949318,
                      0.6646699257408347,
                      0.708928371719964,
                      0.7495464849002645,
                      0.786205828872744,
                      0.8187964869026452,
                      0.8473834410197545,
                      0.8721645880760932,
                      0.8934279538542906,
                      0.9115133334305322,
                      0.926781128248072,
                      0.9395891579905156,
                      0.9502769098958775,
                      0.9591560039924951,
                      0.966505436816119,
                      0.9725702383312658,
                      0.9775623905253812,
                      0.981663112780729,
                      0.9850258625023789,
                      0.9877796040004658,
                      0.9900320575049519,
                      0.9918727565367594,
                      0.9933758228927878,
                      0.9946024222880593,
                      0.9956028975484268,
                      0.9964185961299458,
                      0.9970834192146629,
                      0.997625124017734,
                      0.9980664115666941
                    ],
                    [
                      0.023989469461358697,
                      0.02931654100057669,
                      0.035783166246326575,
                      0.043612108537152326,
                      0.053059674918258914,
                      0.0644159951316293,
                      0.07800268410834862,
                      0.09416665674744187,
                      0.11326868375696861,
                      0.13566528243501463,
                      0.16168288717285437,
                      0.19158412356412968,
                      0.2255275549650728,
                      0.26352445769435645,
                      0.3053986831693967,
                      0.3507577577744042,
                      0.39898401566835967,
                      0.4492527648830977,
                      0.5005799008810158,
                      0.5518948178975708,
                      0.6021279239736439,
                      0.6502979814061152,
                      0.6955845443647385,
                      0.7373749285555175,
                      0.7752817199966605,
                      0.8091333676314035,
                      0.8389449318328972,
                      0.8648777933239783,
                      0.8871964379320868,
                      0.9062283201826385,
                      0.9223303072592093,
                      0.935863029767592,
                      0.9471729363844789,
                      0.9565809841275001,
                      0.9643765548777712,
                      0.9708151894685486,
                      0.976118913326896,
                      0.9804781787786925,
                      0.9840547005215948,
                      0.9869846787254454,
                      0.9893820772287301,
                      0.9913417531593732,
                      0.9929423254156848,
                      0.9942487308355829,
                      0.9953144562034077,
                      0.9961834579026305,
                      0.9968917940033445,
                      0.9974689995546366,
                      0.9979392374430405,
                      0.998322256168025
                    ],
                    [
                      0.027553795269305906,
                      0.03364507226874921,
                      0.04102612820636275,
                      0.04994275447260147,
                      0.060674707525266054,
                      0.07353430255943873,
                      0.08886156526821186,
                      0.10701457277218802,
                      0.12835354733383658,
                      0.15321749089204822,
                      0.1818928452491879,
                      0.21457499362098162,
                      0.2513254256784365,
                      0.29202985119602826,
                      0.3363648675530617,
                      0.3837819978520241,
                      0.43351695749498675,
                      0.48462825987405145,
                      0.5360631547906004,
                      0.5867420804313225,
                      0.6356477241463332,
                      0.6819034696680997,
                      0.724829012784151,
                      0.763967004983689,
                      0.7990813870459222,
                      0.8301333701926678,
                      0.8572436271393463,
                      0.8806492261825083,
                      0.9006620513707164,
                      0.917632975715553,
                      0.9319237264238937,
                      0.9438866385176474,
                      0.9538514324111621,
                      0.9621176667528448,
                      0.9689514315472116,
                      0.9745849872965815,
                      0.9792182950543693,
                      0.9830216385531183,
                      0.9861387699280315,
                      0.9886901978192737,
                      0.9907763786519131,
                      0.992480673859244,
                      0.9938720055534334,
                      0.9950071885558726,
                      0.9959329446122751,
                      0.9966876204564199,
                      0.9973026392123249,
                      0.9978037173510373,
                      0.9982118790627731,
                      0.9985442978208101
                    ],
                    [
                      0.03163054148708066,
                      0.038587296977527205,
                      0.046999845557261034,
                      0.05713744381130041,
                      0.06930265185153897,
                      0.08382768966270075,
                      0.10106642317012914,
                      0.12138054112751916,
                      0.14511859954158163,
                      0.17258714110429862,
                      0.20401421894497196,
                      0.23950745947067645,
                      0.27901116542024856,
                      0.32226941340320514,
                      0.3688037727838692,
                      0.4179140857519715,
                      0.46870787840329736,
                      0.5201584668492198,
                      0.5711849826614472,
                      0.6207416596827836,
                      0.667901094721667,
                      0.7119179147416655,
                      0.7522646309301105,
                      0.7886383058522045,
                      0.8209426089746388,
                      0.8492533218193558,
                      0.8737760733232405,
                      0.8948037246871832,
                      0.9126784533928278,
                      0.9277611466349611,
                      0.9404087667073127,
                      0.9509590835650508,
                      0.9597215246464994,
                      0.9669727021292808,
                      0.9729552642065854,
                      0.9778789364211207,
                      0.9819228762061043,
                      0.9852387049732201,
                      0.9879537834519869,
                      0.9901744516888883,
                      0.9919890687090526,
                      0.9934707656933015,
                      0.9946798786771828,
                      0.9956660594647981,
                      0.9964700825355087,
                      0.9971253756699562,
                      0.99765930607551,
                      0.9980942542190934,
                      0.9984485059138498,
                      0.9987369904630594
                    ],
                    [
                      0.03628795799822172,
                      0.04422227760290511,
                      0.05379458839357748,
                      0.06529735524064834,
                      0.07905423380181138,
                      0.0954135619077283,
                      0.11473648961101503,
                      0.13737835308267207,
                      0.16366227975611392,
                      0.19384493479468404,
                      0.22807591275358013,
                      0.26635450296516083,
                      0.3084900588512379,
                      0.354074227951943,
                      0.4024738004762289,
                      0.45285094262073533,
                      0.5042128131052326,
                      0.5554859223218162,
                      0.6056041444156838,
                      0.6535954614626696,
                      0.6986528821197922,
                      0.7401793816287209,
                      0.777803360827489,
                      0.8113675708189061,
                      0.8408987904487969,
                      0.866567082219864,
                      0.8886426266399824,
                      0.9074559636740072,
                      0.9233649728196581,
                      0.9367297876139626,
                      0.9478953599080712,
                      0.9571805665034431,
                      0.9648724397157237,
                      0.971224121706181,
                      0.9764553330717565,
                      0.9807543990875793,
                      0.9842811268105707,
                      0.9871700412220624,
                      0.989533658359954,
                      0.991465599341766,
                      0.9930434379245452,
                      0.994331233844103,
                      0.9953817421989763,
                      0.9962383119032213,
                      0.9969364986123374,
                      0.9975054231235778,
                      0.9979689076090418,
                      0.9983464208968973,
                      0.9986538615253118,
                      0.9989042041933469
                    ],
                    [
                      0.0416016910767893,
                      0.0506368049868039,
                      0.06150824350696823,
                      0.07453048365105237,
                      0.09004520619791258,
                      0.1084112424477573,
                      0.1299881764443764,
                      0.15511242219047386,
                      0.1840653323205822,
                      0.21703427407378156,
                      0.2540696581452249,
                      0.29504338339714214,
                      0.3396164373559748,
                      0.38722448400388865,
                      0.43708912591334187,
                      0.48825858481507256,
                      0.5396753101848654,
                      0.5902612522440371,
                      0.6390066613345167,
                      0.6850472665607127,
                      0.7277179676068203,
                      0.7665773849670581,
                      0.8014043746412428,
                      0.8321727427341983,
                      0.8590127995186516,
                      0.8821682047654246,
                      0.9019546834092568,
                      0.91872470203485,
                      0.9328399002899266,
                      0.9446513768478552,
                      0.954486914354207,
                      0.9626437777002417,
                      0.9693856549039697,
                      0.9749424611872328,
                      0.9795119693476967,
                      0.9832624850062825,
                      0.9863360129614543,
                      0.9888515449013514,
                      0.990908237693635,
                      0.9925883508988107,
                      0.9939598799242644,
                      0.9950788652023391,
                      0.9959913846757926,
                      0.9967352520292945,
                      0.9973414504881578,
                      0.9978353344573725,
                      0.9982376307587512,
                      0.9985652690554552,
                      0.9988320680820472,
                      0.9990493010549877
                    ],
                    [
                      0.047655050118620236,
                      0.05792538228743997,
                      0.0702458526844825,
                      0.08495053067907592,
                      0.10239436381894479,
                      0.12293889154264745,
                      0.14693074713158288,
                      0.1746722133138137,
                      0.20638426565209245,
                      0.2421643903154719,
                      0.2819438555949204,
                      0.3254515472082673,
                      0.37219305450492624,
                      0.4214533386730064,
                      0.4723282429350773,
                      0.523784447191545,
                      0.5747406153100455,
                      0.6241567628769806,
                      0.671116534598335,
                      0.7148891014171506,
                      0.754962921080182,
                      0.7910504623483745,
                      0.8230688055042935,
                      0.8511043181397008,
                      0.8753701471411974,
                      0.8961637994127807,
                      0.9138296823105055,
                      0.9287290564362122,
                      0.9412179512642527,
                      0.9516323745448553,
                      0.9602795394353871,
                      0.9674336685088982,
                      0.9733350337295501,
                      0.9781911161713592,
                      0.9821790265826685,
                      0.9854485667923574,
                      0.9881255101376212,
                      0.9903148316408041,
                      0.9921037295439252,
                      0.9935643565165624,
                      0.9947562294107983,
                      0.9957283179883346,
                      0.9965208313548765,
                      0.9971667302759774,
                      0.9976929972819182,
                      0.998121696706508,
                      0.9984708550390058,
                      0.9987551891766105,
                      0.9989867069640211,
                      0.9991752011689227
                    ],
                    [
                      0.05453909466880015,
                      0.06618992125507114,
                      0.0801187275357542,
                      0.09667521580363529,
                      0.11622082322088431,
                      0.13910957356693593,
                      0.16566111628992886,
                      0.1961259525378247,
                      0.23064449033723894,
                      0.2692038313423664,
                      0.31159868904042515,
                      0.3574047935863993,
                      0.40597349098056384,
                      0.45645405439564557,
                      0.5078452805449467,
                      0.5590712403261762,
                      0.6090697118696127,
                      0.6568782542375472,
                      0.7017035556224013,
                      0.742964326381324,
                      0.7803047238902933,
                      0.8135816467513967,
                      0.842833386167648,
                      0.8682384692113811,
                      0.8900725718827106,
                      0.9086691548251304,
                      0.9243869851807717,
                      0.9375856131435839,
                      0.9486084401372141,
                      0.9577722346251617,
                      0.9653616696804809,
                      0.9716274915183689,
                      0.9767871262776838,
                      0.9810267866995193,
                      0.9845043884334254,
                      0.9873527976380755,
                      0.9896830980887542,
                      0.9915876890804725,
                      0.9931431118380145,
                      0.9944125599829732,
                      0.9954480663638735,
                      0.9962923804382048,
                      0.9969805621927432,
                      0.9975413238138158,
                      0.9979981514508925,
                      0.9983702381467104,
                      0.998673256453138,
                      0.998919996128484,
                      0.9991208890569238,
                      0.9992844403979805
                    ],
                    [
                      0.06235247031145607,
                      0.07553905982413794,
                      0.09124303443808884,
                      0.1098238985521911,
                      0.13164047917195568,
                      0.15702644332684712,
                      0.18625785959418717,
                      0.2195138631519773,
                      0.2568335756842458,
                      0.2980749201512116,
                      0.3428831991762534,
                      0.3906782719781784,
                      0.4406678317157402,
                      0.49189014880710846,
                      0.5432833027788974,
                      0.5937712042527595,
                      0.6423520556675245,
                      0.6881742010291276,
                      0.7305878655225839,
                      0.7691676185700361,
                      0.8037071018584825,
                      0.8341925214892212,
                      0.8607636078105501,
                      0.883670404964777,
                      0.9032323023000609,
                      0.9198032227917329,
                      0.9337446208412847,
                      0.945406295789761,
                      0.9551140572801841,
                      0.9631628617570583,
                      0.9698139947051875,
                      0.9752950344992813,
                      0.9798015792191622,
                      0.9834999722798294,
                      0.9865304875955813,
                      0.9890106157700549,
                      0.9910382287554088,
                      0.992694497349015,
                      0.9940465017402325,
                      0.9951495178772197,
                      0.9960489883375555,
                      0.9967822008778597,
                      0.9973797047908662,
                      0.99786649738538,
                      0.9982630122359789,
                      0.9985859386007243,
                      0.9988488984004728,
                      0.9990630039048565,
                      0.9992373160804725,
                      0.9993792205920466
                    ],
                    [
                      0.0712009083139395,
                      0.08608699851822513,
                      0.10373773912288353,
                      0.12451441361464863,
                      0.1487615858957031,
                      0.17677709392488744,
                      0.2087746238762549,
                      0.244841306087001,
                      0.28489519075306813,
                      0.3286498650392296,
                      0.3755949492322133,
                      0.4250006804008318,
                      0.4759515202814879,
                      0.5274079219002747,
                      0.5782885326864537,
                      0.6275595650691224,
                      0.6743160229240072,
                      0.7178417894698759,
                      0.7576412903422877,
                      0.7934423004241524,
                      0.8251751313220811,
                      0.8529365221292137,
                      0.876946924598069,
                      0.8975083039580163,
                      0.9149671477380967,
                      0.9296849803666208,
                      0.942016825451829,
                      0.9522968854941684,
                      0.9608301390506047,
                      0.967888414774544,
                      0.9737096145249574,
                      0.9784989872052472,
                      0.9824316122837975,
                      0.9856554884387669,
                      0.9882948177517495,
                      0.9904532252882806,
                      0.9922167621094792,
                      0.9936566143636477,
                      0.9948314901046326,
                      0.9957896859290432,
                      0.9965708530808101,
                      0.9972074916170298,
                      0.9977262046530232,
                      0.9981487447586842,
                      0.9984928827130843,
                      0.9987731259868914,
                      0.9990013111086979,
                      0.9991870908405912,
                      0.9993383340421974,
                      0.9994614533424346
                    ],
                    [
                      0.08119629130528577,
                      0.09795174607673114,
                      0.11772180593616627,
                      0.14085904815348857,
                      0.1676794705167839,
                      0.1984272048253061,
                      0.23323325488200447,
                      0.2720723366571496,
                      0.3147243876276577,
                      0.3607491908367998,
                      0.4094827583396652,
                      0.4600617291604331,
                      0.5114769198330802,
                      0.5626504082576246,
                      0.6125243110100265,
                      0.6601461133472897,
                      0.7047363976481178,
                      0.7457296746765893,
                      0.782785791869074,
                      0.8157756355607874,
                      0.84474880119808,
                      0.8698920636803538,
                      0.89148639734471,
                      0.9098680215012043,
                      0.9253964690952513,
                      0.9384306232251604,
                      0.9493122833235208,
                      0.9583560829173524,
                      0.9658443272186038,
                      0.9720253699022576,
                      0.9771143534144922,
                      0.9812953926685797,
                      0.9847245281928676,
                      0.9875329836562269,
                      0.9898304260270295,
                      0.991708046859091,
                      0.9932413673393035,
                      0.9944927258502364,
                      0.9955134423211189,
                      0.996345674671071,
                      0.9970239938807794,
                      0.9975767090946154,
                      0.9980269750698522,
                      0.9983937128978225,
                      0.9986923723081289,
                      0.9989355607224801,
                      0.9991335609717131,
                      0.9992947564716049,
                      0.9994259797979584,
                      0.9995327980642209
                    ],
                    [
                      0.0924551778393317,
                      0.1112526654040874,
                      0.13331056639891026,
                      0.1589596390691288,
                      0.18847047093072344,
                      0.2220137483976756,
                      0.25961709589133564,
                      0.3011243003407721,
                      0.34616491239942293,
                      0.394143051068258,
                      0.4442527139828509,
                      0.495522568864472,
                      0.5468867594873824,
                      0.5972716035114572,
                      0.6456836378046439,
                      0.6912840808780084,
                      0.7334385944493121,
                      0.7717376677909898,
                      0.8059895926374785,
                      0.8361927772847618,
                      0.862496154470204,
                      0.8851559472505984,
                      0.9044950355213427,
                      0.9208686643224309,
                      0.934638007766339,
                      0.9461515050749747,
                      0.9557329593352664,
                      0.9636750050496579,
                      0.9702365254103266,
                      0.9756427708508768,
                      0.9800871785158995,
                      0.9837341456091461,
                      0.9867222316023869,
                      0.9891674418121257,
                      0.991166377815783,
                      0.9927991346437975,
                      0.9941318886401863,
                      0.9952191610659442,
                      0.9961057674731907,
                      0.9968284767247567,
                      0.9974174100715403,
                      0.9978972126314907,
                      0.9982880287984436,
                      0.9986063107844417,
                      0.9988654864634411,
                      0.9990765094319782,
                      0.9992483110245102,
                      0.9993881710759879,
                      0.9995020215857056,
                      0.9995946951269907
                    ],
                    [
                      0.10509667541879697,
                      0.12610722362102142,
                      0.15061121019670623,
                      0.178901841130324,
                      0.21118530020477352,
                      0.2475381472806948,
                      0.28786503467687025,
                      0.33186415040819356,
                      0.3790091663185488,
                      0.42855576287919195,
                      0.4795773309484101,
                      0.5310285113982706,
                      0.581828386499876,
                      0.6309497752652778,
                      0.6774993428050486,
                      0.720775842271296,
                      0.7602996788401284,
                      0.7958138263623182,
                      0.8272616443953452,
                      0.8547500280029229,
                      0.8785065218914085,
                      0.8988373646335549,
                      0.9160909770702492,
                      0.9306290406204363,
                      0.9428055023288707,
                      0.9529527182418985,
                      0.9613734133344594,
                      0.9683370189288762,
                      0.974079073463139,
                      0.9788026062749685,
                      0.9826806810882005,
                      0.9858595098773631,
                      0.9884617395498235,
                      0.9905896601877091,
                      0.9923281891622804,
                      0.9937475579757326,
                      0.9949056761586238,
                      0.9958501759184544,
                      0.9966201580589099,
                      0.9972476681563763,
                      0.9977589351055342,
                      0.9981754040239441,
                      0.9985145935456685,
                      0.998790804653815,
                      0.9990157049776797,
                      0.9991988092572409,
                      0.9993478736494348,
                      0.9994692188128388,
                      0.9995679942957113,
                      0.9996483946666553
                    ],
                    [
                      0.11923955828859668,
                      0.14262687942289062,
                      0.1697174134644428,
                      0.20074871587756987,
                      0.23584216873937772,
                      0.27495990723005165,
                      0.3178669628303592,
                      0.3641071507334372,
                      0.413001269881914,
                      0.46367359396261487,
                      0.5151073479521648,
                      0.5662230650060192,
                      0.6159676308130042,
                      0.6633987977839745,
                      0.707751246664963,
                      0.7484753437227357,
                      0.7852465519785898,
                      0.8179495808574522,
                      0.8466451201369947,
                      0.871527976409558,
                      0.8928842273033311,
                      0.9110526915551042,
                      0.9263935488892986,
                      0.9392649340473842,
                      0.9500069949091607,
                      0.9589322049548522,
                      0.966320493945663,
                      0.9724178270789696,
                      0.9774370742501113,
                      0.9815602674286039,
                      0.9849415883530246,
                      0.987710634497782,
                      0.9899756713953513,
                      0.9918266968320744,
                      0.993338224336558,
                      0.994571747815244,
                      0.9955778835043748,
                      0.9963982056090381,
                      0.9970668026840388,
                      0.9976115863295986,
                      0.9980553844805634,
                      0.9984168500596741,
                      0.9987112130953842,
                      0.9989509012412053,
                      0.9991460503837364,
                      0.9993049239239952,
                      0.9994342564828084,
                      0.9995395352670254,
                      0.9996252301480942,
                      0.9996949816329656
                    ],
                    [
                      0.1349985476112745,
                      0.1609120918024357,
                      0.19070320671810287,
                      0.22453391282721555,
                      0.26242013102056,
                      0.30419135715611295,
                      0.34946133103192495,
                      0.3976185062585982,
                      0.4478434092420296,
                      0.4991554616400906,
                      0.5504853091190386,
                      0.6007621208955377,
                      0.6490011435291198,
                      0.6943767195844093,
                      0.736270047817893,
                      0.7742874994473004,
                      0.8082518747349384,
                      0.8381735836681387,
                      0.8642105436428273,
                      0.8866249529147319,
                      0.9057430107050279,
                      0.921921152646182,
                      0.9355201801369946,
                      0.9468871136546927,
                      0.9563437178206896,
                      0.9641802928627552,
                      0.9706533206830701,
                      0.9759857331340596,
                      0.9803688204392371,
                      0.9839650496660673,
                      0.9869112822691448,
                      0.9893220540020701,
                      0.9912927105057672,
                      0.9929022839261271,
                      0.994216058020704,
                      0.9952878090531054,
                      0.9961617337924232,
                      0.9968740891559706,
                      0.9974545741689629,
                      0.9979274866000077,
                      0.9983126856746721,
                      0.9986263898726974,
                      0.9988818357500927,
                      0.9990898204725998,
                      0.9992591475816169,
                      0.9993969925884714,
                      0.9995092023773487,
                      0.9996005401108741,
                      0.9996748853661281,
                      0.9997353975582149
                    ],
                    [
                      0.15247971233598176,
                      0.18104650999171898,
                      0.21361629701038987,
                      0.25025484926396596,
                      0.29085324550176084,
                      0.33509418127173385,
                      0.3824354103960224,
                      0.43211823489312606,
                      0.4832052943755835,
                      0.5346458373213634,
                      0.5853598317396496,
                      0.6343271072701876,
                      0.6806662829312548,
                      0.7236911288222503,
                      0.7629380317752158,
                      0.7981650505922777,
                      0.8293284057506022,
                      0.8565449319709827,
                      0.880049056288986,
                      0.9001511080889188,
                      0.9172012975106287,
                      0.9315613588519978,
                      0.9435840942123317,
                      0.9535999737834006,
                      0.961909451280994,
                      0.9687795581612635,
                      0.9744434766650796,
                      0.9791020294614841,
                      0.9829262801857194,
                      0.9860606705645109,
                      0.9886263083533986,
                      0.9907241635287667,
                      0.992438033151261,
                      0.9938372058374428,
                      0.9949788027597685,
                      0.9959098004120193,
                      0.9966687564896183,
                      0.9972872682379066,
                      0.9977911954581845,
                      0.9982016800703251,
                      0.998535992080637,
                      0.9988082288835812,
                      0.9990298915926561,
                      0.999210358881641,
                      0.9993572758072904,
                      0.9994768723691368,
                      0.9995742241736901,
                      0.9996534655070413,
                      0.9997179633608246,
                      0.9997704594715962
                    ],
                    [
                      0.17177501336928128,
                      0.2030905060276613,
                      0.23847118938452816,
                      0.2778664258395098,
                      0.3210262172064813,
                      0.3674783992452135,
                      0.41652868922364533,
                      0.4672892740971359,
                      0.51873618239582,
                      0.5697888521462238,
                      0.6193993646562101,
                      0.6666360719621393,
                      0.710747946828801,
                      0.7512012560281365,
                      0.7876869958953245,
                      0.8201035296525481,
                      0.8485224298953027,
                      0.8731463195193092,
                      0.8942661865794732,
                      0.9122232927921899,
                      0.9273783484398832,
                      0.9400886611061681,
                      0.9506926795214758,
                      0.9595006934623367,
                      0.9667902506491648,
                      0.9728049324983693,
                      0.9777553478562097,
                      0.9818214607990384,
                      0.9851556106450675,
                      0.987885784927724,
                      0.990118863027618,
                      0.9919436628288077,
                      0.9934337024663766,
                      0.9946496420216522,
                      0.9956414031604766,
                      0.9964499841051727,
                      0.997108997483255,
                      0.9976459627782092,
                      0.9980833856122626,
                      0.9984396544717844,
                      0.9987297827628241,
                      0.9989660209038114,
                      0.9991583599169567,
                      0.9993149448933412,
                      0.9994424138943412,
                      0.9995461753613001,
                      0.9996306349429537,
                      0.9996993807997273,
                      0.9997553348776889,
                      0.999800876329903
                    ],
                    [
                      0.19295610379389766,
                      0.22707433486321849,
                      0.26524258794157346,
                      0.307275918093756,
                      0.35277220375160057,
                      0.40110431832810733,
                      0.4514395516115016,
                      0.5027884435872823,
                      0.5540785825275742,
                      0.6042424312167672,
                      0.6523043138119505,
                      0.6974519363082666,
                      0.7390821245382784,
                      0.7768170851120715,
                      0.8104939796479467,
                      0.8401350168306295,
                      0.8659068810963918,
                      0.8880775440169859,
                      0.9069763555972904,
                      0.9229608134388879,
                      0.9363912563931194,
                      0.9476132296922898,
                      0.9569464291910941,
                      0.9646788096415122,
                      0.9710644533956407,
                      0.9763239835201999,
                      0.9806465575505149,
                      0.9841927285645946,
                      0.9870976764037714,
                      0.9894744829069883,
                      0.9914172521130904,
                      0.993003966051691,
                      0.9942990270392437,
                      0.9953554759251256,
                      0.9962168988413146,
                      0.9969190476226999,
                      0.99749120481116,
                      0.9979573256043908,
                      0.9983369880187896,
                      0.9986461800707189,
                      0.9988979496898281,
                      0.9991029398223508,
                      0.9992698280300613,
                      0.9994056869856743,
                      0.9995162796729119,
                      0.9996063008362568,
                      0.9996795742809912,
                      0.9997392139731386,
                      0.9997877554996409,
                      0.9998272632880194
                    ],
                    [
                      0.21606761237878477,
                      0.25299134222395286,
                      0.29385967570066457,
                      0.33833973006462387,
                      0.3858733814636221,
                      0.4356877422025374,
                      0.4868350290958855,
                      0.5382595226756729,
                      0.5888825268035159,
                      0.6376912797677338,
                      0.6838166376023459,
                      0.7265875237313464,
                      0.7655562993709021,
                      0.8004959876160473,
                      0.8313754793959849,
                      0.8583213321679122,
                      0.8815746460705394,
                      0.9014496612686256,
                      0.9182982360417296,
                      0.9324820561571027,
                      0.9443527126676255,
                      0.9542387522772698,
                      0.9624383410371018,
                      0.9692161088515491,
                      0.9748028895076042,
                      0.9793973121802936,
                      0.9831684561831157,
                      0.9862590094535063,
                      0.9887885565551313,
                      0.9908567621388505,
                      0.9925463162215811,
                      0.9939255761801671,
                      0.9950508848849327,
                      0.9959685716914743,
                      0.996716658430198,
                      0.997326300087782,
                      0.9978229924330949,
                      0.9982275783867037,
                      0.9985570827970913,
                      0.9988254023294361,
                      0.9990438739320644,
                      0.9992217421412559,
                      0.9993665424936413,
                      0.9994844156225307,
                      0.9995803642494149,
                      0.999658463240922,
                      0.9997220311628132,
                      0.9997737702958361,
                      0.9998158808499846,
                      0.9998501540911884
                    ],
                    [
                      0.2411202693560177,
                      0.2807917696931379,
                      0.3242019476719226,
                      0.37086265735080004,
                      0.4200646763901289,
                      0.4709083932604332,
                      0.5223630413297721,
                      0.5733474140778989,
                      0.6228192104154519,
                      0.6698577057618753,
                      0.7137263479754201,
                      0.7539073393542663,
                      0.7901071196873611,
                      0.8222375322802319,
                      0.8503808196242404,
                      0.8747472064049805,
                      0.8956324004892487,
                      0.9133799529360606,
                      0.9283509911527971,
                      0.9409019191924837,
                      0.9513694409680209,
                      0.9600616403142972,
                      0.9672536772916454,
                      0.9731867548439163,
                      0.9780692326138488,
                      0.9820790219907561,
                      0.9853666362728147,
                      0.9880584692599131,
                      0.9902600293756666,
                      0.9920589683576462,
                      0.9935278210972883,
                      0.9947264243903846,
                      0.99570401435193,
                      0.996501020860482,
                      0.9971505870340451,
                      0.9976798455971566,
                      0.9981109843099715,
                      0.9984621309047343,
                      0.9987480852019974,
                      0.9989809228833966,
                      0.9991704921577383,
                      0.9993248214871552,
                      0.9994504537494698,
                      0.999552719745483,
                      0.9996359618202081,
                      0.9997037165377431,
                      0.9997588638019517,
                      0.9998037485165547,
                      0.9998402797953595,
                      0.9998700118347393
                    ],
                    [
                      0.26808436809938707,
                      0.310377804958333,
                      0.3560972739620141,
                      0.4046001639568896,
                      0.45504077294664924,
                      0.5064211311217054,
                      0.5576662127608423,
                      0.6077122133349322,
                      0.6555928948718422,
                      0.7005095558993563,
                      0.7418747289629247,
                      0.7793264010493954,
                      0.8127159425370891,
                      0.8420771555315392,
                      0.8675852741551835,
                      0.8895138433323063,
                      0.9081951980200739,
                      0.923987772007608,
                      0.9372513543276327,
                      0.9483299605563911,
                      0.9575411890531919,
                      0.9651706389938336,
                      0.9714699956332277,
                      0.9766575834654856,
                      0.9809204417769085,
                      0.9844172258665972,
                      0.9872814503401384,
                      0.9896247586913602,
                      0.9915400275864158,
                      0.9931042015925404,
                      0.9943808126172613,
                      0.9954221755728944,
                      0.9962712740044765,
                      0.9969633614432003,
                      0.9975273096169339,
                      0.9979867358685218,
                      0.9983609409115629,
                      0.9986656855237283,
                      0.9989138316630122,
                      0.9991158702368204,
                      0.9992803546154365,
                      0.9994142560971238,
                      0.9995232549626397,
                      0.9996119785168186,
                      0.9996841955920777,
                      0.999742975357284,
                      0.9997908169033193,
                      0.9998297549304411,
                      0.9998614459100497,
                      0.9998872383052042
                    ],
                    [
                      0.2968841720713673,
                      0.3416005637373459,
                      0.3893227749785177,
                      0.43926392767836714,
                      0.49046615289541917,
                      0.5418691919937044,
                      0.5923961336229996,
                      0.6410420163976532,
                      0.6869502067507536,
                      0.7294649071904074,
                      0.7681544368146005,
                      0.8028066559335554,
                      0.8334029322438841,
                      0.8600793285825797,
                      0.8830834104705175,
                      0.9027331513693376,
                      0.9193819193955742,
                      0.9333912530550927,
                      0.945111468499497,
                      0.9548691530425084,
                      0.9629601699038816,
                      0.9696467465739523,
                      0.9751573766286286,
                      0.9796885091872141,
                      0.9834072551098461,
                      0.9864545650000286,
                      0.9889485161237391,
                      0.9909874824874736,
                      0.9926530602184488,
                      0.9940126869853342,
                      0.9951219373036311,
                      0.9960265018671807,
                      0.996763873796685,
                      0.9973647718160581,
                      0.9978543326571157,
                      0.9982531043839042,
                      0.9985778701102662,
                      0.9988423285924196,
                      0.9990576549317037,
                      0.9992329614287495,
                      0.9993756756579767,
                      0.999491850161073,
                      0.9995864158162847,
                      0.9996633889215615,
                      0.9997260403111513,
                      0.9997770333763828,
                      0.9998185366486982,
                      0.9998523155937639,
                      0.9998798074293118,
                      0.9999021820889897
                    ],
                    [
                      0.3273939455216039,
                      0.3742596411135906,
                      0.4236088879395731,
                      0.4745305737059225,
                      0.5259875437522732,
                      0.5768983981628473,
                      0.6262268705576507,
                      0.6730634745681094,
                      0.7166863056093835,
                      0.756593526666475,
                      0.7925069237432423,
                      0.824351642319837,
                      0.8522203806422932,
                      0.8763307516754636,
                      0.8969829947966677,
                      0.9145227995952495,
                      0.9293115999414859,
                      0.9417048223807885,
                      0.952037382232027,
                      0.960615136535296,
                      0.9677108530139319,
                      0.9735633620376014,
                      0.9783787862191679,
                      0.9823329996118758,
                      0.9855747059183055,
                      0.9882287213622091,
                      0.9903991985138461,
                      0.9921726366099115,
                      0.9936205993331954,
                      0.9948021106225575,
                      0.9957657299593795,
                      0.9965513264259791,
                      0.9971915799686295,
                      0.9977132418418426,
                      0.9981381863356762,
                      0.9984842840611355,
                      0.9987661242488771,
                      0.9989956103076565,
                      0.9991824496553827,
                      0.9993345557827106,
                      0.9994583777404473,
                      0.9995591697979093,
                      0.9996412119023349,
                      0.9997079897610124,
                      0.9997623418389202,
                      0.999806579282414,
                      0.9998425837106025,
                      0.9998718869293349,
                      0.9998957358898842,
                      0.9999151456105709
                    ],
                    [
                      0.3594362798506257,
                      0.4081057158363668,
                      0.45864670298828797,
                      0.5100531407833482,
                      0.5612478352080686,
                      0.6111711502661697,
                      0.6588666382313242,
                      0.7035494089007771,
                      0.7446477708477095,
                      0.7818154281482549,
                      0.8149178021492678,
                      0.8440000810227132,
                      0.8692458316342332,
                      0.8909339742989688,
                      0.9093996658335923,
                      0.9250021532658881,
                      0.9381005910722429,
                      0.9490374128144121,
                      0.9581280921647474,
                      0.9656558636928578,
                      0.9718700186985217,
                      0.9769865937164545,
                      0.9811905244172547,
                      0.9846385845874928,
                      0.9874626399433507,
                      0.9897729111217953,
                      0.991661061539516,
                      0.993203010840703,
                      0.9944614314432916,
                      0.9954879216943716,
                      0.9963248705072538,
                      0.9970070398046076,
                      0.997562896097373,
                      0.998015723527955,
                      0.9983845493614315,
                      0.9986849103177905,
                      0.9989294850016701,
                      0.9991286144321266,
                      0.9992907295511273,
                      0.9994227017260757,
                      0.9995301297153597,
                      0.9996175743487845,
                      0.9996887502734723,
                      0.999746682503762,
                      0.9997938341585754,
                      0.9998322106381734,
                      0.9998634445522422,
                      0.999888864933554,
                      0.9999095536300991,
                      0.9999263912410351
                    ],
                    [
                      0.3927832819509587,
                      0.4428464314412606,
                      0.49409828297427316,
                      0.5454744714890928,
                      0.5959003177858063,
                      0.644379045828462,
                      0.6900667959607354,
                      0.7323231649470606,
                      0.7707324041982849,
                      0.8050970779673295,
                      0.835410834033834,
                      0.8618190229889621,
                      0.8845754696218205,
                      0.9040017057980162,
                      0.9204524740253017,
                      0.9342890694716481,
                      0.9458604717434134,
                      0.9554912745560498,
                      0.9634750243382182,
                      0.9700715461010982,
                      0.9755070019324712,
                      0.9799756745841742,
                      0.9836427224238217,
                      0.9866473751675613,
                      0.9891062186089191,
                      0.9911163506906179,
                      0.9927582866909038,
                      0.9940985559876517,
                      0.9951919745807739,
                      0.9960836028804303,
                      0.996810412365817,
                      0.9974026914182875,
                      0.9978852226631537,
                      0.9982782633957935,
                      0.9985983583724312,
                      0.9988590112221066,
                      0.9990712374853413,
                      0.9992440191024808,
                      0.9993846772218016,
                      0.9994991775500005,
                      0.9995923801491006,
                      0.9996682435870697,
                      0.9997299916511054,
                      0.999780249401419,
                      0.9998211541460992,
                      0.9998544459215594,
                      0.9998815412380424,
                      0.9999035931686227,
                      0.9999215402995594,
                      0.9999361465994044
                    ],
                    [
                      0.4271609770900629,
                      0.4781554364007648,
                      0.529609309653774,
                      0.5804414548598076,
                      0.6296220522301752,
                      0.6762531593060844,
                      0.7196276808897142,
                      0.7592597560826759,
                      0.7948864126998922,
                      0.8264459165180603,
                      0.8540412063627683,
                      0.8778970710925883,
                      0.8983180956673452,
                      0.915651960230848,
                      0.9302602972066448,
                      0.942497484018032,
                      0.952696605468268,
                      0.9611612723004826,
                      0.9681618561385563,
                      0.9739348212449632,
                      0.9786840656890944,
                      0.9825834416735734,
                      0.985779859747351,
                      0.9883965746615578,
                      0.9905363981435493,
                      0.9922846904638505,
                      0.9937120560167746,
                      0.9948767162023758,
                      0.995826562684046,
                      0.996600911204723,
                      0.9972319847975287,
                      0.997746158467766,
                      0.9981649973694872,
                      0.9985061185765877,
                      0.9987839036846473,
                      0.999010086259531,
                      0.9991942349226546,
                      0.999344149827473,
                      0.9994661875352189,
                      0.9995655268770991,
                      0.9996463862956645,
                      0.9997122013703793,
                      0.9997657697220453,
                      0.9998093692245944,
                      0.9998448543977274,
                      0.9998737349788859,
                      0.9998972399500906,
                      0.9999163696995891,
                      0.9999319385087541,
                      0.9999446091531337
                    ],
                    [
                      0.4622569695128002,
                      0.513684089398401,
                      0.5648230877450277,
                      0.6146189292878991,
                      0.6621253007690157,
                      0.7065713315489995,
                      0.7474011653103995,
                      0.7842841518551414,
                      0.8170996007402626,
                      0.8459038769735336,
                      0.8708886637746363,
                      0.892338060967793,
                      0.910589886899799,
                      0.9260040817099061,
                      0.9389390830838177,
                      0.9497356922265574,
                      0.9587072324338652,
                      0.966134565679633,
                      0.9722645931163469,
                      0.9773110743155649,
                      0.9814568561478814,
                      0.9848568472019048,
                      0.9876412806149897,
                      0.9899189695717414,
                      0.9917803782554084,
                      0.9933004138117512,
                      0.9945408999759925,
                      0.9955527277971601,
                      0.9963776994178826,
                      0.9970500917647345,
                      0.9975979716573447,
                      0.9980442946311486,
                      0.9984078183055215,
                      0.9987038584806469,
                      0.9989449129901711,
                      0.9991411750854783,
                      0.9993009550187693,
                      0.9994310256498935,
                      0.9995369053787888,
                      0.9996230895111746,
                      0.9996932392852428,
                      0.9997503361942645,
                      0.9997968079018115,
                      0.9998346309292967,
                      0.9998654143679098,
                      0.9998904680997703,
                      0.9999108583804913,
                      0.9999274531150621,
                      0.9999409587319297,
                      0.9999519502102213
                    ],
                    [
                      0.49773103610780284,
                      0.549074989209853,
                      0.5993947486551501,
                      0.6477021018265765,
                      0.6931662164838538,
                      0.7351621882745364,
                      0.7732901664573448,
                      0.8073672799866423,
                      0.8373992572556913,
                      0.8635405188777,
                      0.8860509445005471,
                      0.9052554521310774,
                      0.9215100260776238,
                      0.9351756247222721,
                      0.9465998316574677,
                      0.9561052144506299,
                      0.9639829899545839,
                      0.9704905814081726,
                      0.9758518285952215,
                      0.980258861825018,
                      0.9838749030171537,
                      0.9868374774327817,
                      0.9892616951462304,
                      0.9912433925150475,
                      0.9928620168955584,
                      0.9941832006783103,
                      0.9952610110793785,
                      0.9961398865057272,
                      0.9968562837769351,
                      0.997440066777101,
                      0.9979156688914801,
                      0.9983030606803579,
                      0.9986185518737764,
                      0.9988754537173338,
                      0.9990846244453089,
                      0.9992549174869924,
                      0.9993935490790369,
                      0.9995063993320594,
                      0.9995982585043326,
                      0.9996730282606197,
                      0.9997338860157742,
                      0.9997834190492156,
                      0.9998237338943636,
                      0.9998565455240706,
                      0.9998832500390569,
                      0.9999049838945543,
                      0.9999226721474658,
                      0.9999370677522748,
                      0.9999487835616873,
                      0.9999583183832349
                    ],
                    [
                      0.5332279601757102,
                      0.5839762378565907,
                      0.6330044673464935,
                      0.6794265464730672,
                      0.7225503406124802,
                      0.7619059708200286,
                      0.7972455953696785,
                      0.8285204147112225,
                      0.855843392222039,
                      0.8794462815115078,
                      0.8996378296232267,
                      0.9167675621250514,
                      0.9311972048165634,
                      0.9432800167132263,
                      0.9533472119993226,
                      0.9617001369363698,
                      0.968606764173323,
                      0.974301198880178,
                      0.9789851273670783,
                      0.9828303955958851,
                      0.9859821374150545,
                      0.9885620621490404,
                      0.9906716555977046,
                      0.9923951524885506,
                      0.9938022097328431,
                      0.9949502563999891,
                      0.9958865250501349,
                      0.9966497854538333,
                      0.9972718099112398,
                      0.9977786023319123,
                      0.9981914230107851,
                      0.9985276390206196,
                      0.9988014272364769,
                      0.9990243537778375,
                      0.9992058504363035,
                      0.9993536056395254,
                      0.9994738847777708,
                      0.9995717923220426,
                      0.9996514860906115,
                      0.9997163522537227,
                      0.9997691481742172,
                      0.9998121189316093,
                      0.9998470923358178,
                      0.9998755563733728,
                      0.9998987223156988,
                      0.9999175761316488,
                      0.9999329203637124,
                      0.999945408231377,
                      0.9999555714008399,
                      0.9999638425949878
                    ],
                    [
                      0.5683916108770478,
                      0.6180552420402949,
                      0.6653686447680547,
                      0.7095751657705477,
                      0.7501348327867551,
                      0.7867325621054732,
                      0.8192613839971082,
                      0.8477886293964435,
                      0.8725138821797803,
                      0.8937262279523793,
                      0.9117659890468175,
                      0.9269936813954266,
                      0.9397669461313797,
                      0.9504249037402625,
                      0.959278702918572,
                      0.966606826065975,
                      0.9726537886383915,
                      0.9776310846068043,
                      0.9817194870284347,
                      0.9850720556492982,
                      0.9878174072983219,
                      0.9900629630261523,
                      0.9918980016904475,
                      0.9933964302483359,
                      0.9946192344471566,
                      0.9956166072010473,
                      0.9964297716496182,
                      0.9970925262538445,
                      0.9976325435969655,
                      0.9980724551406822,
                      0.9984307526106495,
                      0.9987225339825404,
                      0.9989601188659049,
                      0.9991535548357277,
                      0.9993110331687002,
                      0.9994392296204151,
                      0.9995435833798362,
                      0.9996285251660508,
                      0.9996976635736398,
                      0.9997539371992284,
                      0.9997997387602638,
                      0.9998370163144273,
                      0.9998673557727078,
                      0.9998920481421922,
                      0.9999121443106256,
                      0.9999284996716755,
                      0.9999418104687361,
                      0.9999526433900804,
                      0.9999614596658312,
                      0.9999686346864288
                    ],
                    [
                      0.6028790994859308,
                      0.6510109233216096,
                      0.6962482852508624,
                      0.7379818739387562,
                      0.7758276933078853,
                      0.8096172920311836,
                      0.8393682770731563,
                      0.8652439213884758,
                      0.8875099568717524,
                      0.9064945180745397,
                      0.9225547013661444,
                      0.9360510374964567,
                      0.9473296567147779,
                      0.9567110695130017,
                      0.964484151527052,
                      0.9709039256771937,
                      0.9761919190701607,
                      0.9805381237213205,
                      0.9841038412218799,
                      0.987024908790919,
                      0.9894149764619371,
                      0.9913686333825813,
                      0.9929642718003007,
                      0.9942666383081495,
                      0.9953290609632505,
                      0.996195364353037,
                      0.9969014975338641,
                      0.9974769056637663,
                      0.9979456776910207,
                      0.9983275014207688,
                      0.9986384548432897,
                      0.9988916595269195,
                      0.999097818623092,
                      0.9992656588734922,
                      0.9994022930964146,
                      0.9995135170278274,
                      0.999604052120383,
                      0.9996777439506618,
                      0.999737724226263,
                      0.9997865429882761,
                      0.9998262764377133,
                      0.9998586148443156,
                      0.9998849341929718,
                      0.9999063545603156,
                      0.9999237876687481,
                      0.9999379756173644,
                      0.9999495224222076,
                      0.9999589196978028,
                      0.9999665675662364,
                      0.9999727916793183
                    ],
                    [
                      0.6363738326681109,
                      0.6825834281663042,
                      0.725454157190346,
                      0.7645321191396971,
                      0.7995844846666836,
                      0.8305751997476476,
                      0.857627035608501,
                      0.8809785008220637,
                      0.9009423234983297,
                      0.9178697323506116,
                      0.9321224440882072,
                      0.9440525323275678,
                      0.953989302312223,
                      0.9622318189218549,
                      0.9690456538150184,
                      0.9746625606112203,
                      0.9792820269288471,
                      0.9830739082134988,
                      0.986181578071305,
                      0.9887252163848841,
                      0.9908049978452268,
                      0.9925040449478182,
                      0.9938910788116869,
                      0.9950227462743193,
                      0.9959456294072125,
                      0.9966979592864764,
                      0.9973110635818883,
                      0.9978105801941202,
                      0.998217468779351,
                      0.9985488498976217,
                      0.9988186985782841,
                      0.999038415857898,
                      0.9992172986375758,
                      0.999362925207988,
                      0.9994814710884712,
                      0.9995779674524795,
                      0.9996565123619037,
                      0.9997204432861402,
                      0.9997724779079157,
                      0.9998148289834932,
                      0.999849297997054,
                      0.9998773514971561,
                      0.9999001832995692,
                      0.9999187651614029,
                      0.9999338880553692,
                      0.9999461957825948,
                      0.9999562123426662,
                      0.9999643642180543,
                      0.9999709985163655,
                      0.9999763977393449
                    ],
                    [
                      0.6685964379606936,
                      0.7125607591753622,
                      0.7528486989843504,
                      0.7891606532538881,
                      0.8214032009603456,
                      0.8496544265730299,
                      0.8741215997524973,
                      0.8950986003803711,
                      0.9129281000343246,
                      0.9279710759155471,
                      0.9405842952837068,
                      0.9511051514850702,
                      0.9598425958266864,
                      0.9670727251374974,
                      0.9730376742480247,
                      0.977946683241334,
                      0.9819784665077053,
                      0.9852842513395917,
                      0.9879910544834724,
                      0.9902049200861176,
                      0.99201395547838,
                      0.9934910796236794,
                      0.9946964508646859,
                      0.9956795730405157,
                      0.9964810979628405,
                      0.997134352076405,
                      0.9976666191130548,
                      0.9981002109344556,
                      0.9984533570743093,
                      0.9987409407370261,
                      0.9989751058199482,
                      0.9991657562839167,
                      0.9993209661204087,
                      0.9994473153643197,
                      0.9995501651249006,
                      0.9996338824587607,
                      0.9997020240712955,
                      0.9997574862779985,
                      0.9998026273521343,
                      0.9998393672968247,
                      0.9998692691763015,
                      0.9998936053942817,
                      0.9999134116919257,
                      0.9999295311317956,
                      0.9999426499189843,
                      0.999953326570397,
                      0.9999620156648048,
                      0.9999690871787552,
                      0.9999748422276105,
                      0.9999795258792961
                    ],
                    [
                      0.6993128248800451,
                      0.7407821241627858,
                      0.7783449591825481,
                      0.8118471478343281,
                      0.8413179712476779,
                      0.8669293372432354,
                      0.8889526292362202,
                      0.9077190314251627,
                      0.9235866253455253,
                      0.9369154258425139,
                      0.9480500545963714,
                      0.9573089356824731,
                      0.964978592991515,
                      0.9713116513013987,
                      0.9765273350932304,
                      0.9808135124482072,
                      0.9843295808156731,
                      0.9872097057610787,
                      0.9895660928778115,
                      0.991492098374324,
                      0.9930650720879585,
                      0.9943488858907883,
                      0.9953961381996321,
                      0.9962500478700113,
                      0.9969460630067661,
                      0.9975132157397295,
                      0.9979752553206294,
                      0.9983515907264324,
                      0.9986580714496188,
                      0.9989076320503713,
                      0.9991108227899108,
                      0.9992762455203293,
                      0.9994109111138647,
                      0.9995205321360306,
                      0.999609762217844,
                      0.9996823916511355,
                      0.9997415070918563,
                      0.9997896218774756,
                      0.9998287823125294,
                      0.9998606543189287,
                      0.9998865940552066,
                      0.9999077054552052,
                      0.999924887098878,
                      0.9999388703863284,
                      0.9999502506242807,
                      0.9999595123379332,
                      0.9999670498789314,
                      0.9999731842023118,
                      0.9999781765237549,
                      0.9999822394366822
                    ],
                    [
                      0.7283390086291646,
                      0.7671381542897706,
                      0.8019030975322682,
                      0.8326103374102231,
                      0.8593922357922598,
                      0.8824938478911396,
                      0.9022317043954976,
                      0.918958597741192,
                      0.9330361357690257,
                      0.9448151419651007,
                      0.9546229760554763,
                      0.9627564058894819,
                      0.9694786009532597,
                      0.9750189713650892,
                      0.9795748193881784,
                      0.9833140257815354,
                      0.9863782203662409,
                      0.9888860695034367,
                      0.990936451495428,
                      0.9926113898040142,
                      0.9939786813323517,
                      0.9950942006758507,
                      0.9960038879325567,
                      0.9967454426738298,
                      0.9973497539648608,
                      0.9978420987184353,
                      0.9982431401164816,
                      0.9985697556477614,
                      0.9988357213314892,
                      0.9990522754521566,
                      0.9992285819327211,
                      0.999372110493432,
                      0.99948894806441,
                      0.9995840535691731,
                      0.9996614661688067,
                      0.9997244753301333,
                      0.999775759625361,
                      0.9998174999519256,
                      0.9998514718468121,
                      0.9998791207290565,
                      0.9999016232100522,
                      0.9999199370398318,
                      0.9999348417880038,
                      0.999946971973052,
                      0.9999568440384504,
                      0.9999648783162148,
                      0.9999714169078268,
                      0.9999767382404376,
                      0.9999810689158971,
                      0.9999845933556573
                    ],
                    [
                      0.7555426948341879,
                      0.7915684240034917,
                      0.8235251039462065,
                      0.8515013589807061,
                      0.8757119306331528,
                      0.8964553038457392,
                      0.9140763475198788,
                      0.9289363883792278,
                      0.9413912448975311,
                      0.9517765387679296,
                      0.9603990025159654,
                      0.9675323423568064,
                      0.9734163181652027,
                      0.9782579281831595,
                      0.9822338434294479,
                      0.9854934751587415,
                      0.9881622562125617,
                      0.9903448689734501,
                      0.9921282629343572,
                      0.993584381145032,
                      0.9947725650155335,
                      0.9957416382672221,
                      0.9965316889671276,
                      0.9971755779128144,
                      0.9977002053005666,
                      0.9981275678068723,
                      0.9984756364256479,
                      0.9987590826017729,
                      0.9989898769977209,
                      0.9991777819938154,
                      0.9993307559629718,
                      0.9994552845834865,
                      0.9995566520001643,
                      0.9996391625181766,
                      0.9997063216974197,
                      0.9997609841789851,
                      0.9998054742867195,
                      0.9998416843724964,
                      0.999871154982452,
                      0.9998951401846943,
                      0.9999146607919026,
                      0.9999305477131579,
                      0.9999434772598912,
                      0.9999539998954082,
                      0.999962563643005,
                      0.9999695331433912,
                      0.9999752051689399,
                      0.9999798212527804,
                      0.9999835779687937,
                      0.99998663529914
                    ],
                    [
                      0.7808419431649378,
                      0.814056884746062,
                      0.8432484200627854,
                      0.8685968746802724,
                      0.8903790847782551,
                      0.9089291200325617,
                      0.9246059230864898,
                      0.93776890715306,
                      0.9487611321845447,
                      0.957898908049768,
                      0.9654663974480991,
                      0.9717138298897353,
                      0.9768581376885473,
                      0.9810850795501814,
                      0.9845521650275291,
                      0.9873919043915342,
                      0.9897150743158978,
                      0.9916138122348581,
                      0.9931644381599241,
                      0.9944299602057206,
                      0.9954622565618199,
                      0.9963039483441822,
                      0.9969899894339711,
                      0.9975490045581324,
                      0.9980044079503442,
                      0.9983753336340246,
                      0.9986774058019229,
                      0.9989233746385852,
                      0.999123639677292,
                      0.9992866796534619,
                      0.9994194049448993,
                      0.9995274461338572,
                      0.9996153899997544,
                      0.999686972341678,
                      0.9997452354101872,
                      0.9997926563661997,
                      0.999831252047465,
                      0.9998626643782514,
                      0.9998882299760575,
                      0.9999090368643516,
                      0.9999259706699322,
                      0.9999397522480575,
                      0.9999509683216447,
                      0.9999600964287522,
                      0.9999675252337726,
                      0.9999735710626906,
                      0.9999784913635344,
                      0.9999824956632415,
                      0.9999857544862308,
                      0.9999884066136165
                    ],
                    [
                      0.8042014548599885,
                      0.8346258963391817,
                      0.8611390938555844,
                      0.8839924425060092,
                      0.9035060996441601,
                      0.9200342848626069,
                      0.9339384000194697,
                      0.9455679559639057,
                      0.9552483320364483,
                      0.9632739846269344,
                      0.9699056806744744,
                      0.9753704953330977,
                      0.9798635591026874,
                      0.9835507939813134,
                      0.9865721024556827,
                      0.9890446532181021,
                      0.9910660428023872,
                      0.992717208721853,
                      0.9940650351258965,
                      0.9951646342493906,
                      0.9960613126334755,
                      0.9967922454470196,
                      0.9973878891004151,
                      0.9978731644744411,
                      0.9982684423860871,
                      0.9985903606478899,
                      0.9988524990657586,
                      0.9990659354707889,
                      0.9992397026934899,
                      0.999381163428286,
                      0.9994963172797304,
                      0.9995900519541852,
                      0.9996663485553455,
                      0.9997284492357881,
                      0.9997789940186603,
                      0.9998201324003503,
                      0.9998536143437627,
                      0.9998808644424345,
                      0.9999030423510537,
                      0.9999210920142982,
                      0.9999357817629505,
                      0.999947736966615,
                      0.999957466621562,
                      0.999965384998016,
                      0.9999718292635111,
                      0.9999770738293599,
                      0.9999813420289094,
                      0.9999848156234176,
                      0.9999876425393752,
                      0.999989943166129
                    ],
                    [
                      0.8256271484687898,
                      0.8533295192200259,
                      0.8772849901386879,
                      0.8977964643620882,
                      0.9152108590261798,
                      0.9298897413905878,
                      0.9421879086063193,
                      0.9524391680689045,
                      0.9609480134945207,
                      0.9679857563668559,
                      0.9737897878514532,
                      0.9785648767148335,
                      0.9824856660381973,
                      0.9856997674743037,
                      0.9883310460848068,
                      0.9904828375352351,
                      0.9922409470589082,
                      0.9936763537570886,
                      0.994847592468608,
                      0.9958028156524479,
                      0.9965815551233079,
                      0.9972162123211087,
                      0.9977333091540032,
                      0.9981545314700075,
                      0.9984975953264253,
                      0.9987769633793545,
                      0.9990044354996348,
                      0.9991896344924512,
                      0.9993404047554919,
                      0.99946313895535,
                      0.999563045371883,
                      0.999644366456932,
                      0.9997105573579924,
                      0.9997644316398221,
                      0.9998082801645402,
                      0.9998439680303044,
                      0.9998730135891014,
                      0.9998966528373479,
                      0.9999158918742099,
                      0.9999315496303577,
                      0.9999442926661186,
                      0.9999546635072695,
                      0.99996310371613,
                      0.9999699726744996,
                      0.999975562874385,
                      0.9999801123650922,
                      0.9999838148850464,
                      0.9999868281086861,
                      0.9999892803589009,
                      0.9999912760703764
                    ]
                  ]
                },
                {
                  "mode": "markers",
                  "type": "scatter3d",
                  "x": [
                    -0.9922382728276298,
                    -2.945457907570926,
                    -1.7355917799873275,
                    -2.3567802627323653,
                    -0.6452242183807184,
                    -1.861689779828148,
                    -1.7726149636895776,
                    -1.4795402639983557,
                    -0.479913297729859,
                    -1.3151429527729546,
                    -0.4933654651324295,
                    -1.4163982460686488,
                    -0.7282638228345548,
                    -1.0279069494569102,
                    -1.6533810607090957,
                    -4.2308289383039455,
                    -1.3758877863050203,
                    -0.8967235896513186,
                    -2.436820841929393,
                    -2.3558466931913173,
                    -4.262998676841768,
                    -1.8159725773067497,
                    -2.290712795521147,
                    0.29070393356544244,
                    -1.3588659582111173,
                    -2.8780057904011427,
                    -1.5037882978358053,
                    -1.901548213312318,
                    -2.0735930572560064,
                    -2.057191325695325,
                    10
                  ],
                  "y": [
                    -1.529669616443342,
                    -1.3817150784901582,
                    -1.804626129534965,
                    -1.5900206679241546,
                    -2.0803073089494144,
                    -0.04993419221907591,
                    -2.2507419069385968,
                    -1.0882701635055492,
                    -1.1993385813422281,
                    -1.7367508198514323,
                    -0.6690707368741406,
                    -2.2225164157137947,
                    -0.48034148131676635,
                    -1.6519414543611628,
                    -1.8349225999454208,
                    -0.27312551510582517,
                    -3.172232611297633,
                    -1.9006092402271206,
                    -0.5644555081067131,
                    -1.2706613385044156,
                    -1.6554230267354113,
                    -1.372519893731987,
                    -1.002425211201344,
                    -3.6257791920325384,
                    -3.6574641685542506,
                    -2.969381524661974,
                    -2.7853671281258388,
                    -1.672908677459544,
                    -1.6746554755452854,
                    -0.4420784742298953,
                    10
                  ],
                  "z": [
                    0,
                    0,
                    0,
                    0,
                    0,
                    0,
                    0,
                    0,
                    0,
                    0,
                    0,
                    0,
                    0,
                    0,
                    0,
                    0,
                    0,
                    0,
                    0,
                    0,
                    0,
                    0,
                    0,
                    0,
                    0,
                    0,
                    0,
                    0,
                    0,
                    0,
                    0
                  ]
                },
                {
                  "mode": "markers",
                  "type": "scatter3d",
                  "x": [
                    2.293639007675558,
                    0.9968678443617713,
                    1.7457005055429773,
                    2.4094073280624593,
                    0.8844285801923515,
                    2.596742418030053,
                    0.682840658355689,
                    0.7527858362345516,
                    1.2296070853955339,
                    2.7003469629461176,
                    1.514521334258233,
                    2.625315016769476,
                    3.1492544369116455,
                    1.4438199895124364,
                    3.4316162047353305,
                    0.6808341336272294,
                    1.8339342901552735,
                    2.8133174125052607,
                    2.6280604942181323,
                    2.8807481491640865,
                    2.4286084773606422,
                    1.8910910213917675,
                    0.6382487837006896,
                    2.809127168619768,
                    4.272330906570435,
                    2.1295907960126277,
                    2.3013221531382997,
                    3.1918497114878086,
                    0.45599510420680045,
                    1.8489362075565463
                  ],
                  "y": [
                    2.3783439557342496,
                    3.847666027397121,
                    0.43412986184780955,
                    1.5956647555139585,
                    2.8543932582648344,
                    1.5640095108903436,
                    1.7184756578390337,
                    1.7541727868745527,
                    2.4938273810488285,
                    0.8179356086429834,
                    3.7682352190294894,
                    1.9717572637190581,
                    3.0229409206433786,
                    3.0828577227242455,
                    1.7244123550200763,
                    1.7758217501550742,
                    1.2745698271431203,
                    3.2155825221877716,
                    -0.6913876272060362,
                    1.7634714270726453,
                    3.4559064665391217,
                    0.03261008978497126,
                    1.0502380361082562,
                    2.661709976422175,
                    3.78124795817493,
                    2.03119698353509,
                    3.5923078893636697,
                    -1.0245615950909457,
                    2.0866463799537036,
                    1.4601681866667429
                  ],
                  "z": [
                    1,
                    1,
                    1,
                    1,
                    1,
                    1,
                    1,
                    1,
                    1,
                    1,
                    1,
                    1,
                    1,
                    1,
                    1,
                    1,
                    1,
                    1,
                    1,
                    1,
                    1,
                    1,
                    1,
                    1,
                    1,
                    1,
                    1,
                    1,
                    1,
                    1
                  ]
                }
              ],
              "layout": {
                "height": 1000,
                "template": {
                  "data": {
                    "bar": [
                      {
                        "error_x": {
                          "color": "rgb(36,36,36)"
                        },
                        "error_y": {
                          "color": "rgb(36,36,36)"
                        },
                        "marker": {
                          "line": {
                            "color": "white",
                            "width": 0.5
                          },
                          "pattern": {
                            "fillmode": "overlay",
                            "size": 10,
                            "solidity": 0.2
                          }
                        },
                        "type": "bar"
                      }
                    ],
                    "barpolar": [
                      {
                        "marker": {
                          "line": {
                            "color": "white",
                            "width": 0.5
                          },
                          "pattern": {
                            "fillmode": "overlay",
                            "size": 10,
                            "solidity": 0.2
                          }
                        },
                        "type": "barpolar"
                      }
                    ],
                    "carpet": [
                      {
                        "aaxis": {
                          "endlinecolor": "rgb(36,36,36)",
                          "gridcolor": "white",
                          "linecolor": "white",
                          "minorgridcolor": "white",
                          "startlinecolor": "rgb(36,36,36)"
                        },
                        "baxis": {
                          "endlinecolor": "rgb(36,36,36)",
                          "gridcolor": "white",
                          "linecolor": "white",
                          "minorgridcolor": "white",
                          "startlinecolor": "rgb(36,36,36)"
                        },
                        "type": "carpet"
                      }
                    ],
                    "choropleth": [
                      {
                        "colorbar": {
                          "outlinewidth": 1,
                          "tickcolor": "rgb(36,36,36)",
                          "ticks": "outside"
                        },
                        "type": "choropleth"
                      }
                    ],
                    "contour": [
                      {
                        "colorbar": {
                          "outlinewidth": 1,
                          "tickcolor": "rgb(36,36,36)",
                          "ticks": "outside"
                        },
                        "colorscale": [
                          [
                            0,
                            "#440154"
                          ],
                          [
                            0.1111111111111111,
                            "#482878"
                          ],
                          [
                            0.2222222222222222,
                            "#3e4989"
                          ],
                          [
                            0.3333333333333333,
                            "#31688e"
                          ],
                          [
                            0.4444444444444444,
                            "#26828e"
                          ],
                          [
                            0.5555555555555556,
                            "#1f9e89"
                          ],
                          [
                            0.6666666666666666,
                            "#35b779"
                          ],
                          [
                            0.7777777777777778,
                            "#6ece58"
                          ],
                          [
                            0.8888888888888888,
                            "#b5de2b"
                          ],
                          [
                            1,
                            "#fde725"
                          ]
                        ],
                        "type": "contour"
                      }
                    ],
                    "contourcarpet": [
                      {
                        "colorbar": {
                          "outlinewidth": 1,
                          "tickcolor": "rgb(36,36,36)",
                          "ticks": "outside"
                        },
                        "type": "contourcarpet"
                      }
                    ],
                    "heatmap": [
                      {
                        "colorbar": {
                          "outlinewidth": 1,
                          "tickcolor": "rgb(36,36,36)",
                          "ticks": "outside"
                        },
                        "colorscale": [
                          [
                            0,
                            "#440154"
                          ],
                          [
                            0.1111111111111111,
                            "#482878"
                          ],
                          [
                            0.2222222222222222,
                            "#3e4989"
                          ],
                          [
                            0.3333333333333333,
                            "#31688e"
                          ],
                          [
                            0.4444444444444444,
                            "#26828e"
                          ],
                          [
                            0.5555555555555556,
                            "#1f9e89"
                          ],
                          [
                            0.6666666666666666,
                            "#35b779"
                          ],
                          [
                            0.7777777777777778,
                            "#6ece58"
                          ],
                          [
                            0.8888888888888888,
                            "#b5de2b"
                          ],
                          [
                            1,
                            "#fde725"
                          ]
                        ],
                        "type": "heatmap"
                      }
                    ],
                    "heatmapgl": [
                      {
                        "colorbar": {
                          "outlinewidth": 1,
                          "tickcolor": "rgb(36,36,36)",
                          "ticks": "outside"
                        },
                        "colorscale": [
                          [
                            0,
                            "#440154"
                          ],
                          [
                            0.1111111111111111,
                            "#482878"
                          ],
                          [
                            0.2222222222222222,
                            "#3e4989"
                          ],
                          [
                            0.3333333333333333,
                            "#31688e"
                          ],
                          [
                            0.4444444444444444,
                            "#26828e"
                          ],
                          [
                            0.5555555555555556,
                            "#1f9e89"
                          ],
                          [
                            0.6666666666666666,
                            "#35b779"
                          ],
                          [
                            0.7777777777777778,
                            "#6ece58"
                          ],
                          [
                            0.8888888888888888,
                            "#b5de2b"
                          ],
                          [
                            1,
                            "#fde725"
                          ]
                        ],
                        "type": "heatmapgl"
                      }
                    ],
                    "histogram": [
                      {
                        "marker": {
                          "line": {
                            "color": "white",
                            "width": 0.6
                          }
                        },
                        "type": "histogram"
                      }
                    ],
                    "histogram2d": [
                      {
                        "colorbar": {
                          "outlinewidth": 1,
                          "tickcolor": "rgb(36,36,36)",
                          "ticks": "outside"
                        },
                        "colorscale": [
                          [
                            0,
                            "#440154"
                          ],
                          [
                            0.1111111111111111,
                            "#482878"
                          ],
                          [
                            0.2222222222222222,
                            "#3e4989"
                          ],
                          [
                            0.3333333333333333,
                            "#31688e"
                          ],
                          [
                            0.4444444444444444,
                            "#26828e"
                          ],
                          [
                            0.5555555555555556,
                            "#1f9e89"
                          ],
                          [
                            0.6666666666666666,
                            "#35b779"
                          ],
                          [
                            0.7777777777777778,
                            "#6ece58"
                          ],
                          [
                            0.8888888888888888,
                            "#b5de2b"
                          ],
                          [
                            1,
                            "#fde725"
                          ]
                        ],
                        "type": "histogram2d"
                      }
                    ],
                    "histogram2dcontour": [
                      {
                        "colorbar": {
                          "outlinewidth": 1,
                          "tickcolor": "rgb(36,36,36)",
                          "ticks": "outside"
                        },
                        "colorscale": [
                          [
                            0,
                            "#440154"
                          ],
                          [
                            0.1111111111111111,
                            "#482878"
                          ],
                          [
                            0.2222222222222222,
                            "#3e4989"
                          ],
                          [
                            0.3333333333333333,
                            "#31688e"
                          ],
                          [
                            0.4444444444444444,
                            "#26828e"
                          ],
                          [
                            0.5555555555555556,
                            "#1f9e89"
                          ],
                          [
                            0.6666666666666666,
                            "#35b779"
                          ],
                          [
                            0.7777777777777778,
                            "#6ece58"
                          ],
                          [
                            0.8888888888888888,
                            "#b5de2b"
                          ],
                          [
                            1,
                            "#fde725"
                          ]
                        ],
                        "type": "histogram2dcontour"
                      }
                    ],
                    "mesh3d": [
                      {
                        "colorbar": {
                          "outlinewidth": 1,
                          "tickcolor": "rgb(36,36,36)",
                          "ticks": "outside"
                        },
                        "type": "mesh3d"
                      }
                    ],
                    "parcoords": [
                      {
                        "line": {
                          "colorbar": {
                            "outlinewidth": 1,
                            "tickcolor": "rgb(36,36,36)",
                            "ticks": "outside"
                          }
                        },
                        "type": "parcoords"
                      }
                    ],
                    "pie": [
                      {
                        "automargin": true,
                        "type": "pie"
                      }
                    ],
                    "scatter": [
                      {
                        "fillpattern": {
                          "fillmode": "overlay",
                          "size": 10,
                          "solidity": 0.2
                        },
                        "type": "scatter"
                      }
                    ],
                    "scatter3d": [
                      {
                        "line": {
                          "colorbar": {
                            "outlinewidth": 1,
                            "tickcolor": "rgb(36,36,36)",
                            "ticks": "outside"
                          }
                        },
                        "marker": {
                          "colorbar": {
                            "outlinewidth": 1,
                            "tickcolor": "rgb(36,36,36)",
                            "ticks": "outside"
                          }
                        },
                        "type": "scatter3d"
                      }
                    ],
                    "scattercarpet": [
                      {
                        "marker": {
                          "colorbar": {
                            "outlinewidth": 1,
                            "tickcolor": "rgb(36,36,36)",
                            "ticks": "outside"
                          }
                        },
                        "type": "scattercarpet"
                      }
                    ],
                    "scattergeo": [
                      {
                        "marker": {
                          "colorbar": {
                            "outlinewidth": 1,
                            "tickcolor": "rgb(36,36,36)",
                            "ticks": "outside"
                          }
                        },
                        "type": "scattergeo"
                      }
                    ],
                    "scattergl": [
                      {
                        "marker": {
                          "colorbar": {
                            "outlinewidth": 1,
                            "tickcolor": "rgb(36,36,36)",
                            "ticks": "outside"
                          }
                        },
                        "type": "scattergl"
                      }
                    ],
                    "scattermapbox": [
                      {
                        "marker": {
                          "colorbar": {
                            "outlinewidth": 1,
                            "tickcolor": "rgb(36,36,36)",
                            "ticks": "outside"
                          }
                        },
                        "type": "scattermapbox"
                      }
                    ],
                    "scatterpolar": [
                      {
                        "marker": {
                          "colorbar": {
                            "outlinewidth": 1,
                            "tickcolor": "rgb(36,36,36)",
                            "ticks": "outside"
                          }
                        },
                        "type": "scatterpolar"
                      }
                    ],
                    "scatterpolargl": [
                      {
                        "marker": {
                          "colorbar": {
                            "outlinewidth": 1,
                            "tickcolor": "rgb(36,36,36)",
                            "ticks": "outside"
                          }
                        },
                        "type": "scatterpolargl"
                      }
                    ],
                    "scatterternary": [
                      {
                        "marker": {
                          "colorbar": {
                            "outlinewidth": 1,
                            "tickcolor": "rgb(36,36,36)",
                            "ticks": "outside"
                          }
                        },
                        "type": "scatterternary"
                      }
                    ],
                    "surface": [
                      {
                        "colorbar": {
                          "outlinewidth": 1,
                          "tickcolor": "rgb(36,36,36)",
                          "ticks": "outside"
                        },
                        "colorscale": [
                          [
                            0,
                            "#440154"
                          ],
                          [
                            0.1111111111111111,
                            "#482878"
                          ],
                          [
                            0.2222222222222222,
                            "#3e4989"
                          ],
                          [
                            0.3333333333333333,
                            "#31688e"
                          ],
                          [
                            0.4444444444444444,
                            "#26828e"
                          ],
                          [
                            0.5555555555555556,
                            "#1f9e89"
                          ],
                          [
                            0.6666666666666666,
                            "#35b779"
                          ],
                          [
                            0.7777777777777778,
                            "#6ece58"
                          ],
                          [
                            0.8888888888888888,
                            "#b5de2b"
                          ],
                          [
                            1,
                            "#fde725"
                          ]
                        ],
                        "type": "surface"
                      }
                    ],
                    "table": [
                      {
                        "cells": {
                          "fill": {
                            "color": "rgb(237,237,237)"
                          },
                          "line": {
                            "color": "white"
                          }
                        },
                        "header": {
                          "fill": {
                            "color": "rgb(217,217,217)"
                          },
                          "line": {
                            "color": "white"
                          }
                        },
                        "type": "table"
                      }
                    ]
                  },
                  "layout": {
                    "annotationdefaults": {
                      "arrowhead": 0,
                      "arrowwidth": 1
                    },
                    "autotypenumbers": "strict",
                    "coloraxis": {
                      "colorbar": {
                        "outlinewidth": 1,
                        "tickcolor": "rgb(36,36,36)",
                        "ticks": "outside"
                      }
                    },
                    "colorscale": {
                      "diverging": [
                        [
                          0,
                          "rgb(103,0,31)"
                        ],
                        [
                          0.1,
                          "rgb(178,24,43)"
                        ],
                        [
                          0.2,
                          "rgb(214,96,77)"
                        ],
                        [
                          0.3,
                          "rgb(244,165,130)"
                        ],
                        [
                          0.4,
                          "rgb(253,219,199)"
                        ],
                        [
                          0.5,
                          "rgb(247,247,247)"
                        ],
                        [
                          0.6,
                          "rgb(209,229,240)"
                        ],
                        [
                          0.7,
                          "rgb(146,197,222)"
                        ],
                        [
                          0.8,
                          "rgb(67,147,195)"
                        ],
                        [
                          0.9,
                          "rgb(33,102,172)"
                        ],
                        [
                          1,
                          "rgb(5,48,97)"
                        ]
                      ],
                      "sequential": [
                        [
                          0,
                          "#440154"
                        ],
                        [
                          0.1111111111111111,
                          "#482878"
                        ],
                        [
                          0.2222222222222222,
                          "#3e4989"
                        ],
                        [
                          0.3333333333333333,
                          "#31688e"
                        ],
                        [
                          0.4444444444444444,
                          "#26828e"
                        ],
                        [
                          0.5555555555555556,
                          "#1f9e89"
                        ],
                        [
                          0.6666666666666666,
                          "#35b779"
                        ],
                        [
                          0.7777777777777778,
                          "#6ece58"
                        ],
                        [
                          0.8888888888888888,
                          "#b5de2b"
                        ],
                        [
                          1,
                          "#fde725"
                        ]
                      ],
                      "sequentialminus": [
                        [
                          0,
                          "#440154"
                        ],
                        [
                          0.1111111111111111,
                          "#482878"
                        ],
                        [
                          0.2222222222222222,
                          "#3e4989"
                        ],
                        [
                          0.3333333333333333,
                          "#31688e"
                        ],
                        [
                          0.4444444444444444,
                          "#26828e"
                        ],
                        [
                          0.5555555555555556,
                          "#1f9e89"
                        ],
                        [
                          0.6666666666666666,
                          "#35b779"
                        ],
                        [
                          0.7777777777777778,
                          "#6ece58"
                        ],
                        [
                          0.8888888888888888,
                          "#b5de2b"
                        ],
                        [
                          1,
                          "#fde725"
                        ]
                      ]
                    },
                    "colorway": [
                      "#1F77B4",
                      "#FF7F0E",
                      "#2CA02C",
                      "#D62728",
                      "#9467BD",
                      "#8C564B",
                      "#E377C2",
                      "#7F7F7F",
                      "#BCBD22",
                      "#17BECF"
                    ],
                    "font": {
                      "color": "rgb(36,36,36)"
                    },
                    "geo": {
                      "bgcolor": "white",
                      "lakecolor": "white",
                      "landcolor": "white",
                      "showlakes": true,
                      "showland": true,
                      "subunitcolor": "white"
                    },
                    "hoverlabel": {
                      "align": "left"
                    },
                    "hovermode": "closest",
                    "mapbox": {
                      "style": "light"
                    },
                    "paper_bgcolor": "white",
                    "plot_bgcolor": "white",
                    "polar": {
                      "angularaxis": {
                        "gridcolor": "rgb(232,232,232)",
                        "linecolor": "rgb(36,36,36)",
                        "showgrid": false,
                        "showline": true,
                        "ticks": "outside"
                      },
                      "bgcolor": "white",
                      "radialaxis": {
                        "gridcolor": "rgb(232,232,232)",
                        "linecolor": "rgb(36,36,36)",
                        "showgrid": false,
                        "showline": true,
                        "ticks": "outside"
                      }
                    },
                    "scene": {
                      "xaxis": {
                        "backgroundcolor": "white",
                        "gridcolor": "rgb(232,232,232)",
                        "gridwidth": 2,
                        "linecolor": "rgb(36,36,36)",
                        "showbackground": true,
                        "showgrid": false,
                        "showline": true,
                        "ticks": "outside",
                        "zeroline": false,
                        "zerolinecolor": "rgb(36,36,36)"
                      },
                      "yaxis": {
                        "backgroundcolor": "white",
                        "gridcolor": "rgb(232,232,232)",
                        "gridwidth": 2,
                        "linecolor": "rgb(36,36,36)",
                        "showbackground": true,
                        "showgrid": false,
                        "showline": true,
                        "ticks": "outside",
                        "zeroline": false,
                        "zerolinecolor": "rgb(36,36,36)"
                      },
                      "zaxis": {
                        "backgroundcolor": "white",
                        "gridcolor": "rgb(232,232,232)",
                        "gridwidth": 2,
                        "linecolor": "rgb(36,36,36)",
                        "showbackground": true,
                        "showgrid": false,
                        "showline": true,
                        "ticks": "outside",
                        "zeroline": false,
                        "zerolinecolor": "rgb(36,36,36)"
                      }
                    },
                    "shapedefaults": {
                      "fillcolor": "black",
                      "line": {
                        "width": 0
                      },
                      "opacity": 0.3
                    },
                    "ternary": {
                      "aaxis": {
                        "gridcolor": "rgb(232,232,232)",
                        "linecolor": "rgb(36,36,36)",
                        "showgrid": false,
                        "showline": true,
                        "ticks": "outside"
                      },
                      "baxis": {
                        "gridcolor": "rgb(232,232,232)",
                        "linecolor": "rgb(36,36,36)",
                        "showgrid": false,
                        "showline": true,
                        "ticks": "outside"
                      },
                      "bgcolor": "white",
                      "caxis": {
                        "gridcolor": "rgb(232,232,232)",
                        "linecolor": "rgb(36,36,36)",
                        "showgrid": false,
                        "showline": true,
                        "ticks": "outside"
                      }
                    },
                    "title": {
                      "x": 0.05
                    },
                    "xaxis": {
                      "automargin": true,
                      "gridcolor": "rgb(232,232,232)",
                      "linecolor": "rgb(36,36,36)",
                      "showgrid": false,
                      "showline": true,
                      "ticks": "outside",
                      "title": {
                        "standoff": 15
                      },
                      "zeroline": false,
                      "zerolinecolor": "rgb(36,36,36)"
                    },
                    "yaxis": {
                      "automargin": true,
                      "gridcolor": "rgb(232,232,232)",
                      "linecolor": "rgb(36,36,36)",
                      "showgrid": false,
                      "showline": true,
                      "ticks": "outside",
                      "title": {
                        "standoff": 15
                      },
                      "zeroline": false,
                      "zerolinecolor": "rgb(36,36,36)"
                    }
                  }
                },
                "title": {
                  "text": "LDA"
                },
                "width": 1000
              }
            }
          },
          "metadata": {},
          "output_type": "display_data"
        }
      ],
      "source": [
        "lda = LinearDiscriminantAnalysis()\n",
        "proj = lda.fit_transform(np.concatenate((samples[0],samples[1],atypical_data)), [0] * N + [1] * N + [0])\n",
        "\n",
        "fig = ff.create_distplot(\n",
        "    [\n",
        "        np.concatenate((proj[:N], [proj[-1]]))[:, 0], \n",
        "        proj[N:2*N][:, 0] \n",
        "    ], \n",
        "    [\"0\", \"1\"],\n",
        "    bin_size = 0.1,\n",
        "    curve_type='normal',\n",
        ")\n",
        "fig.update_layout(\n",
        "    template=\"simple_white\",\n",
        "    title=\"LDA\",\n",
        "    width=1000,\n",
        "    height=500\n",
        ")\n",
        "fig.update_yaxes(zeroline=True)\n",
        "fig.show()\n",
        "\n",
        "lr = LogisticRegression().fit(np.concatenate((samples[0],samples[1],atypical_data)), [0] * N + [1] * N + [0])\n",
        "x = np.array([np.linspace(np.min(samples),10)])\n",
        "y = np.array([np.linspace(np.min(samples),10)])\n",
        "xx, yy = np.meshgrid(x,y)\n",
        "Xfull = np.c_[xx.ravel(), yy.ravel()]\n",
        "fig = go.Figure()\n",
        "fig.add_surface(\n",
        "    x=x.squeeze(),\n",
        "    y=y.squeeze(),\n",
        "    z=lr.predict_proba(Xfull)[:,1].reshape(50,50)\n",
        ")\n",
        "fig.add_scatter3d(\n",
        "    x=np.concatenate((samples[0][:,0],atypical_data[:,0])),\n",
        "    y=np.concatenate((samples[0][:,1],atypical_data[:,1])),\n",
        "    z=np.zeros(N+1),\n",
        "    mode=\"markers\"\n",
        ")\n",
        "fig.add_scatter3d(\n",
        "    x=samples[1][:,0],\n",
        "    y=samples[1][:,1],\n",
        "    z=np.ones(N),\n",
        "    mode=\"markers\"\n",
        ")\n",
        "fig.update_layout(\n",
        "    template=\"simple_white\",\n",
        "    title=\"LDA\",\n",
        "    width=1000,\n",
        "    height=1000\n",
        ")\n",
        "fig.show()\n"
      ]
    },
    {
      "attachments": {},
      "cell_type": "markdown",
      "metadata": {},
      "source": [
        "Recordemos que el LDA busca encontra la dirección con mayor \"separación\" de las proyecciones de los datos de diferentes clases. Esto la hace asumiendo distribuciones normales con misma covarianza y diferente media. Si un dato se encuentra muy \"lejos\" del resto hará que estás distribuciones al ser estimadas se trasladen y se aplanen por lo que habrá una gran interferencia una con la otra, ocasionando que los datos muy cercanos entre ellos de diferentes clases sean indistingibles.\n",
        "\n",
        "Por otra parte el LR busca encontrar una función sigmoide que mejor reparametrice el parametro de una bernoulli a traves de una función lineal, podemos notar como está al estar en terminos de una función logarítmica esta será menos propensa a caer en temas de distancia ya que su crecimiento es cada vez menor mientras mas es la distancia. Aunque este dato atípico siempre será mal clasificado, en caso de que no todo la clase contraria será mal clasificada."
      ]
    },
    {
      "attachments": {},
      "cell_type": "markdown",
      "metadata": {},
      "source": [
        "## LR\n",
        "\n",
        "### Problema\n",
        "\n",
        "En este ejercicio trabajamos con los Horseshoe crab data. Una descripción de los datos tomada del libro de Agresti es:\n",
        "\n",
        "Each female horseshoe crab had a male crab resident in her nest.\n",
        "The study investigated factors affecting whether the female\n",
        "crab had any other males, called satellites, residing nearby.\n",
        "Explanatory variables are the female crabs color, spine condition,\n",
        "weight, and carapace width.\n",
        "\n",
        "### Solución"
      ]
    },
    {
      "cell_type": "code",
      "execution_count": 315,
      "metadata": {},
      "outputs": [
        {
          "data": {
            "text/html": [
              "<div>\n",
              "<style scoped>\n",
              "    .dataframe tbody tr th:only-of-type {\n",
              "        vertical-align: middle;\n",
              "    }\n",
              "\n",
              "    .dataframe tbody tr th {\n",
              "        vertical-align: top;\n",
              "    }\n",
              "\n",
              "    .dataframe thead th {\n",
              "        text-align: right;\n",
              "    }\n",
              "</style>\n",
              "<table border=\"1\" class=\"dataframe\">\n",
              "  <thead>\n",
              "    <tr style=\"text-align: right;\">\n",
              "      <th></th>\n",
              "      <th>color</th>\n",
              "      <th>spine</th>\n",
              "      <th>width</th>\n",
              "      <th>satell</th>\n",
              "      <th>weight</th>\n",
              "      <th>y</th>\n",
              "    </tr>\n",
              "  </thead>\n",
              "  <tbody>\n",
              "    <tr>\n",
              "      <th>0</th>\n",
              "      <td>3</td>\n",
              "      <td>3</td>\n",
              "      <td>28.3</td>\n",
              "      <td>8</td>\n",
              "      <td>3050</td>\n",
              "      <td>1</td>\n",
              "    </tr>\n",
              "    <tr>\n",
              "      <th>1</th>\n",
              "      <td>4</td>\n",
              "      <td>3</td>\n",
              "      <td>22.5</td>\n",
              "      <td>0</td>\n",
              "      <td>1550</td>\n",
              "      <td>0</td>\n",
              "    </tr>\n",
              "    <tr>\n",
              "      <th>2</th>\n",
              "      <td>2</td>\n",
              "      <td>1</td>\n",
              "      <td>26.0</td>\n",
              "      <td>9</td>\n",
              "      <td>2300</td>\n",
              "      <td>1</td>\n",
              "    </tr>\n",
              "    <tr>\n",
              "      <th>3</th>\n",
              "      <td>4</td>\n",
              "      <td>3</td>\n",
              "      <td>24.8</td>\n",
              "      <td>0</td>\n",
              "      <td>2100</td>\n",
              "      <td>0</td>\n",
              "    </tr>\n",
              "    <tr>\n",
              "      <th>4</th>\n",
              "      <td>4</td>\n",
              "      <td>3</td>\n",
              "      <td>26.0</td>\n",
              "      <td>4</td>\n",
              "      <td>2600</td>\n",
              "      <td>1</td>\n",
              "    </tr>\n",
              "    <tr>\n",
              "      <th>...</th>\n",
              "      <td>...</td>\n",
              "      <td>...</td>\n",
              "      <td>...</td>\n",
              "      <td>...</td>\n",
              "      <td>...</td>\n",
              "      <td>...</td>\n",
              "    </tr>\n",
              "    <tr>\n",
              "      <th>168</th>\n",
              "      <td>4</td>\n",
              "      <td>3</td>\n",
              "      <td>26.1</td>\n",
              "      <td>3</td>\n",
              "      <td>2750</td>\n",
              "      <td>1</td>\n",
              "    </tr>\n",
              "    <tr>\n",
              "      <th>169</th>\n",
              "      <td>4</td>\n",
              "      <td>3</td>\n",
              "      <td>29.0</td>\n",
              "      <td>4</td>\n",
              "      <td>3275</td>\n",
              "      <td>1</td>\n",
              "    </tr>\n",
              "    <tr>\n",
              "      <th>170</th>\n",
              "      <td>2</td>\n",
              "      <td>1</td>\n",
              "      <td>28.0</td>\n",
              "      <td>0</td>\n",
              "      <td>2625</td>\n",
              "      <td>0</td>\n",
              "    </tr>\n",
              "    <tr>\n",
              "      <th>171</th>\n",
              "      <td>5</td>\n",
              "      <td>3</td>\n",
              "      <td>27.0</td>\n",
              "      <td>0</td>\n",
              "      <td>2625</td>\n",
              "      <td>0</td>\n",
              "    </tr>\n",
              "    <tr>\n",
              "      <th>172</th>\n",
              "      <td>3</td>\n",
              "      <td>2</td>\n",
              "      <td>24.5</td>\n",
              "      <td>0</td>\n",
              "      <td>2000</td>\n",
              "      <td>0</td>\n",
              "    </tr>\n",
              "  </tbody>\n",
              "</table>\n",
              "<p>173 rows × 6 columns</p>\n",
              "</div>"
            ],
            "text/plain": [
              "     color  spine  width  satell  weight  y\n",
              "0        3      3   28.3       8    3050  1\n",
              "1        4      3   22.5       0    1550  0\n",
              "2        2      1   26.0       9    2300  1\n",
              "3        4      3   24.8       0    2100  0\n",
              "4        4      3   26.0       4    2600  1\n",
              "..     ...    ...    ...     ...     ... ..\n",
              "168      4      3   26.1       3    2750  1\n",
              "169      4      3   29.0       4    3275  1\n",
              "170      2      1   28.0       0    2625  0\n",
              "171      5      3   27.0       0    2625  0\n",
              "172      3      2   24.5       0    2000  0\n",
              "\n",
              "[173 rows x 6 columns]"
            ]
          },
          "execution_count": 315,
          "metadata": {},
          "output_type": "execute_result"
        }
      ],
      "source": [
        "data = pd.read_csv('crabs.txt', delimiter='\\s+')\n",
        "data"
      ]
    },
    {
      "cell_type": "code",
      "execution_count": 316,
      "metadata": {},
      "outputs": [
        {
          "data": {
            "application/vnd.plotly.v1+json": {
              "config": {
                "plotlyServerURL": "https://plot.ly"
              },
              "data": [
                {
                  "mode": "markers",
                  "name": "Mean crabs with satellites",
                  "type": "scatter",
                  "x": [
                    22.7875,
                    24.142857142857142,
                    25.06153846153846,
                    26.025641025641026,
                    27.144000000000002,
                    28.12608695652174,
                    29.03333333333333,
                    30.69090909090909
                  ],
                  "y": [
                    0.3125,
                    0.38095238095238093,
                    0.6153846153846154,
                    0.5897435897435898,
                    0.72,
                    0.8260869565217391,
                    0.9166666666666666,
                    1
                  ]
                },
                {
                  "mode": "lines",
                  "name": "LR",
                  "type": "scatter",
                  "x": [
                    21,
                    21.255102040816325,
                    21.510204081632654,
                    21.76530612244898,
                    22.020408163265305,
                    22.275510204081634,
                    22.53061224489796,
                    22.785714285714285,
                    23.040816326530614,
                    23.29591836734694,
                    23.551020408163264,
                    23.806122448979593,
                    24.06122448979592,
                    24.316326530612244,
                    24.571428571428573,
                    24.8265306122449,
                    25.081632653061224,
                    25.336734693877553,
                    25.591836734693878,
                    25.846938775510203,
                    26.10204081632653,
                    26.357142857142858,
                    26.612244897959183,
                    26.867346938775512,
                    27.122448979591837,
                    27.377551020408163,
                    27.632653061224488,
                    27.887755102040817,
                    28.142857142857142,
                    28.39795918367347,
                    28.653061224489797,
                    28.908163265306122,
                    29.163265306122447,
                    29.418367346938776,
                    29.6734693877551,
                    29.92857142857143,
                    30.183673469387756,
                    30.43877551020408,
                    30.693877551020407,
                    30.948979591836736,
                    31.20408163265306,
                    31.45918367346939,
                    31.714285714285715,
                    31.96938775510204,
                    32.224489795918366,
                    32.4795918367347,
                    32.734693877551024,
                    32.98979591836735,
                    33.244897959183675,
                    33.5
                  ],
                  "y": [
                    0.1318483559126762,
                    0.1468951720099944,
                    0.1633360896096971,
                    0.1812262227932416,
                    0.20060602777671552,
                    0.22149761425046152,
                    0.2439010778698609,
                    0.2677910821821804,
                    0.29311395720606775,
                    0.3197856028821221,
                    0.3476904802688719,
                    0.37668193502275715,
                    0.4065840234818431,
                    0.4371949041848435,
                    0.46829172594602875,
                    0.4996368027266313,
                    0.5309847345395408,
                    0.5620900321524683,
                    0.5927147476665191,
                    0.622635612391172,
                    0.6516502379231914,
                    0.6795820369118609,
                    0.7062836505301309,
                    0.731638810547565,
                    0.7555626960148043,
                    0.7780009527454125,
                    0.7989276188232244,
                    0.818342238515102,
                    0.8362664530121292,
                    0.8527403359382251,
                    0.8678187029502578,
                    0.8815675764690787,
                    0.8940609359123746,
                    0.9053778362021618,
                    0.9155999362636609,
                    0.9248094464092043,
                    0.9330874792124659,
                    0.9405127720816212,
                    0.9471607400543317,
                    0.9531028129673201,
                    0.9584060107140805,
                    0.9631327125586125,
                    0.9673405803966453,
                    0.9710826006535841,
                    0.9744072145998316,
                    0.9773585118525359,
                    0.9799764664688156,
                    0.9822971991813798,
                    0.9843532529254027,
                    0.9861738718519965
                  ]
                }
              ],
              "layout": {
                "height": 1000,
                "template": {
                  "data": {
                    "bar": [
                      {
                        "error_x": {
                          "color": "rgb(36,36,36)"
                        },
                        "error_y": {
                          "color": "rgb(36,36,36)"
                        },
                        "marker": {
                          "line": {
                            "color": "white",
                            "width": 0.5
                          },
                          "pattern": {
                            "fillmode": "overlay",
                            "size": 10,
                            "solidity": 0.2
                          }
                        },
                        "type": "bar"
                      }
                    ],
                    "barpolar": [
                      {
                        "marker": {
                          "line": {
                            "color": "white",
                            "width": 0.5
                          },
                          "pattern": {
                            "fillmode": "overlay",
                            "size": 10,
                            "solidity": 0.2
                          }
                        },
                        "type": "barpolar"
                      }
                    ],
                    "carpet": [
                      {
                        "aaxis": {
                          "endlinecolor": "rgb(36,36,36)",
                          "gridcolor": "white",
                          "linecolor": "white",
                          "minorgridcolor": "white",
                          "startlinecolor": "rgb(36,36,36)"
                        },
                        "baxis": {
                          "endlinecolor": "rgb(36,36,36)",
                          "gridcolor": "white",
                          "linecolor": "white",
                          "minorgridcolor": "white",
                          "startlinecolor": "rgb(36,36,36)"
                        },
                        "type": "carpet"
                      }
                    ],
                    "choropleth": [
                      {
                        "colorbar": {
                          "outlinewidth": 1,
                          "tickcolor": "rgb(36,36,36)",
                          "ticks": "outside"
                        },
                        "type": "choropleth"
                      }
                    ],
                    "contour": [
                      {
                        "colorbar": {
                          "outlinewidth": 1,
                          "tickcolor": "rgb(36,36,36)",
                          "ticks": "outside"
                        },
                        "colorscale": [
                          [
                            0,
                            "#440154"
                          ],
                          [
                            0.1111111111111111,
                            "#482878"
                          ],
                          [
                            0.2222222222222222,
                            "#3e4989"
                          ],
                          [
                            0.3333333333333333,
                            "#31688e"
                          ],
                          [
                            0.4444444444444444,
                            "#26828e"
                          ],
                          [
                            0.5555555555555556,
                            "#1f9e89"
                          ],
                          [
                            0.6666666666666666,
                            "#35b779"
                          ],
                          [
                            0.7777777777777778,
                            "#6ece58"
                          ],
                          [
                            0.8888888888888888,
                            "#b5de2b"
                          ],
                          [
                            1,
                            "#fde725"
                          ]
                        ],
                        "type": "contour"
                      }
                    ],
                    "contourcarpet": [
                      {
                        "colorbar": {
                          "outlinewidth": 1,
                          "tickcolor": "rgb(36,36,36)",
                          "ticks": "outside"
                        },
                        "type": "contourcarpet"
                      }
                    ],
                    "heatmap": [
                      {
                        "colorbar": {
                          "outlinewidth": 1,
                          "tickcolor": "rgb(36,36,36)",
                          "ticks": "outside"
                        },
                        "colorscale": [
                          [
                            0,
                            "#440154"
                          ],
                          [
                            0.1111111111111111,
                            "#482878"
                          ],
                          [
                            0.2222222222222222,
                            "#3e4989"
                          ],
                          [
                            0.3333333333333333,
                            "#31688e"
                          ],
                          [
                            0.4444444444444444,
                            "#26828e"
                          ],
                          [
                            0.5555555555555556,
                            "#1f9e89"
                          ],
                          [
                            0.6666666666666666,
                            "#35b779"
                          ],
                          [
                            0.7777777777777778,
                            "#6ece58"
                          ],
                          [
                            0.8888888888888888,
                            "#b5de2b"
                          ],
                          [
                            1,
                            "#fde725"
                          ]
                        ],
                        "type": "heatmap"
                      }
                    ],
                    "heatmapgl": [
                      {
                        "colorbar": {
                          "outlinewidth": 1,
                          "tickcolor": "rgb(36,36,36)",
                          "ticks": "outside"
                        },
                        "colorscale": [
                          [
                            0,
                            "#440154"
                          ],
                          [
                            0.1111111111111111,
                            "#482878"
                          ],
                          [
                            0.2222222222222222,
                            "#3e4989"
                          ],
                          [
                            0.3333333333333333,
                            "#31688e"
                          ],
                          [
                            0.4444444444444444,
                            "#26828e"
                          ],
                          [
                            0.5555555555555556,
                            "#1f9e89"
                          ],
                          [
                            0.6666666666666666,
                            "#35b779"
                          ],
                          [
                            0.7777777777777778,
                            "#6ece58"
                          ],
                          [
                            0.8888888888888888,
                            "#b5de2b"
                          ],
                          [
                            1,
                            "#fde725"
                          ]
                        ],
                        "type": "heatmapgl"
                      }
                    ],
                    "histogram": [
                      {
                        "marker": {
                          "line": {
                            "color": "white",
                            "width": 0.6
                          }
                        },
                        "type": "histogram"
                      }
                    ],
                    "histogram2d": [
                      {
                        "colorbar": {
                          "outlinewidth": 1,
                          "tickcolor": "rgb(36,36,36)",
                          "ticks": "outside"
                        },
                        "colorscale": [
                          [
                            0,
                            "#440154"
                          ],
                          [
                            0.1111111111111111,
                            "#482878"
                          ],
                          [
                            0.2222222222222222,
                            "#3e4989"
                          ],
                          [
                            0.3333333333333333,
                            "#31688e"
                          ],
                          [
                            0.4444444444444444,
                            "#26828e"
                          ],
                          [
                            0.5555555555555556,
                            "#1f9e89"
                          ],
                          [
                            0.6666666666666666,
                            "#35b779"
                          ],
                          [
                            0.7777777777777778,
                            "#6ece58"
                          ],
                          [
                            0.8888888888888888,
                            "#b5de2b"
                          ],
                          [
                            1,
                            "#fde725"
                          ]
                        ],
                        "type": "histogram2d"
                      }
                    ],
                    "histogram2dcontour": [
                      {
                        "colorbar": {
                          "outlinewidth": 1,
                          "tickcolor": "rgb(36,36,36)",
                          "ticks": "outside"
                        },
                        "colorscale": [
                          [
                            0,
                            "#440154"
                          ],
                          [
                            0.1111111111111111,
                            "#482878"
                          ],
                          [
                            0.2222222222222222,
                            "#3e4989"
                          ],
                          [
                            0.3333333333333333,
                            "#31688e"
                          ],
                          [
                            0.4444444444444444,
                            "#26828e"
                          ],
                          [
                            0.5555555555555556,
                            "#1f9e89"
                          ],
                          [
                            0.6666666666666666,
                            "#35b779"
                          ],
                          [
                            0.7777777777777778,
                            "#6ece58"
                          ],
                          [
                            0.8888888888888888,
                            "#b5de2b"
                          ],
                          [
                            1,
                            "#fde725"
                          ]
                        ],
                        "type": "histogram2dcontour"
                      }
                    ],
                    "mesh3d": [
                      {
                        "colorbar": {
                          "outlinewidth": 1,
                          "tickcolor": "rgb(36,36,36)",
                          "ticks": "outside"
                        },
                        "type": "mesh3d"
                      }
                    ],
                    "parcoords": [
                      {
                        "line": {
                          "colorbar": {
                            "outlinewidth": 1,
                            "tickcolor": "rgb(36,36,36)",
                            "ticks": "outside"
                          }
                        },
                        "type": "parcoords"
                      }
                    ],
                    "pie": [
                      {
                        "automargin": true,
                        "type": "pie"
                      }
                    ],
                    "scatter": [
                      {
                        "fillpattern": {
                          "fillmode": "overlay",
                          "size": 10,
                          "solidity": 0.2
                        },
                        "type": "scatter"
                      }
                    ],
                    "scatter3d": [
                      {
                        "line": {
                          "colorbar": {
                            "outlinewidth": 1,
                            "tickcolor": "rgb(36,36,36)",
                            "ticks": "outside"
                          }
                        },
                        "marker": {
                          "colorbar": {
                            "outlinewidth": 1,
                            "tickcolor": "rgb(36,36,36)",
                            "ticks": "outside"
                          }
                        },
                        "type": "scatter3d"
                      }
                    ],
                    "scattercarpet": [
                      {
                        "marker": {
                          "colorbar": {
                            "outlinewidth": 1,
                            "tickcolor": "rgb(36,36,36)",
                            "ticks": "outside"
                          }
                        },
                        "type": "scattercarpet"
                      }
                    ],
                    "scattergeo": [
                      {
                        "marker": {
                          "colorbar": {
                            "outlinewidth": 1,
                            "tickcolor": "rgb(36,36,36)",
                            "ticks": "outside"
                          }
                        },
                        "type": "scattergeo"
                      }
                    ],
                    "scattergl": [
                      {
                        "marker": {
                          "colorbar": {
                            "outlinewidth": 1,
                            "tickcolor": "rgb(36,36,36)",
                            "ticks": "outside"
                          }
                        },
                        "type": "scattergl"
                      }
                    ],
                    "scattermapbox": [
                      {
                        "marker": {
                          "colorbar": {
                            "outlinewidth": 1,
                            "tickcolor": "rgb(36,36,36)",
                            "ticks": "outside"
                          }
                        },
                        "type": "scattermapbox"
                      }
                    ],
                    "scatterpolar": [
                      {
                        "marker": {
                          "colorbar": {
                            "outlinewidth": 1,
                            "tickcolor": "rgb(36,36,36)",
                            "ticks": "outside"
                          }
                        },
                        "type": "scatterpolar"
                      }
                    ],
                    "scatterpolargl": [
                      {
                        "marker": {
                          "colorbar": {
                            "outlinewidth": 1,
                            "tickcolor": "rgb(36,36,36)",
                            "ticks": "outside"
                          }
                        },
                        "type": "scatterpolargl"
                      }
                    ],
                    "scatterternary": [
                      {
                        "marker": {
                          "colorbar": {
                            "outlinewidth": 1,
                            "tickcolor": "rgb(36,36,36)",
                            "ticks": "outside"
                          }
                        },
                        "type": "scatterternary"
                      }
                    ],
                    "surface": [
                      {
                        "colorbar": {
                          "outlinewidth": 1,
                          "tickcolor": "rgb(36,36,36)",
                          "ticks": "outside"
                        },
                        "colorscale": [
                          [
                            0,
                            "#440154"
                          ],
                          [
                            0.1111111111111111,
                            "#482878"
                          ],
                          [
                            0.2222222222222222,
                            "#3e4989"
                          ],
                          [
                            0.3333333333333333,
                            "#31688e"
                          ],
                          [
                            0.4444444444444444,
                            "#26828e"
                          ],
                          [
                            0.5555555555555556,
                            "#1f9e89"
                          ],
                          [
                            0.6666666666666666,
                            "#35b779"
                          ],
                          [
                            0.7777777777777778,
                            "#6ece58"
                          ],
                          [
                            0.8888888888888888,
                            "#b5de2b"
                          ],
                          [
                            1,
                            "#fde725"
                          ]
                        ],
                        "type": "surface"
                      }
                    ],
                    "table": [
                      {
                        "cells": {
                          "fill": {
                            "color": "rgb(237,237,237)"
                          },
                          "line": {
                            "color": "white"
                          }
                        },
                        "header": {
                          "fill": {
                            "color": "rgb(217,217,217)"
                          },
                          "line": {
                            "color": "white"
                          }
                        },
                        "type": "table"
                      }
                    ]
                  },
                  "layout": {
                    "annotationdefaults": {
                      "arrowhead": 0,
                      "arrowwidth": 1
                    },
                    "autotypenumbers": "strict",
                    "coloraxis": {
                      "colorbar": {
                        "outlinewidth": 1,
                        "tickcolor": "rgb(36,36,36)",
                        "ticks": "outside"
                      }
                    },
                    "colorscale": {
                      "diverging": [
                        [
                          0,
                          "rgb(103,0,31)"
                        ],
                        [
                          0.1,
                          "rgb(178,24,43)"
                        ],
                        [
                          0.2,
                          "rgb(214,96,77)"
                        ],
                        [
                          0.3,
                          "rgb(244,165,130)"
                        ],
                        [
                          0.4,
                          "rgb(253,219,199)"
                        ],
                        [
                          0.5,
                          "rgb(247,247,247)"
                        ],
                        [
                          0.6,
                          "rgb(209,229,240)"
                        ],
                        [
                          0.7,
                          "rgb(146,197,222)"
                        ],
                        [
                          0.8,
                          "rgb(67,147,195)"
                        ],
                        [
                          0.9,
                          "rgb(33,102,172)"
                        ],
                        [
                          1,
                          "rgb(5,48,97)"
                        ]
                      ],
                      "sequential": [
                        [
                          0,
                          "#440154"
                        ],
                        [
                          0.1111111111111111,
                          "#482878"
                        ],
                        [
                          0.2222222222222222,
                          "#3e4989"
                        ],
                        [
                          0.3333333333333333,
                          "#31688e"
                        ],
                        [
                          0.4444444444444444,
                          "#26828e"
                        ],
                        [
                          0.5555555555555556,
                          "#1f9e89"
                        ],
                        [
                          0.6666666666666666,
                          "#35b779"
                        ],
                        [
                          0.7777777777777778,
                          "#6ece58"
                        ],
                        [
                          0.8888888888888888,
                          "#b5de2b"
                        ],
                        [
                          1,
                          "#fde725"
                        ]
                      ],
                      "sequentialminus": [
                        [
                          0,
                          "#440154"
                        ],
                        [
                          0.1111111111111111,
                          "#482878"
                        ],
                        [
                          0.2222222222222222,
                          "#3e4989"
                        ],
                        [
                          0.3333333333333333,
                          "#31688e"
                        ],
                        [
                          0.4444444444444444,
                          "#26828e"
                        ],
                        [
                          0.5555555555555556,
                          "#1f9e89"
                        ],
                        [
                          0.6666666666666666,
                          "#35b779"
                        ],
                        [
                          0.7777777777777778,
                          "#6ece58"
                        ],
                        [
                          0.8888888888888888,
                          "#b5de2b"
                        ],
                        [
                          1,
                          "#fde725"
                        ]
                      ]
                    },
                    "colorway": [
                      "#1F77B4",
                      "#FF7F0E",
                      "#2CA02C",
                      "#D62728",
                      "#9467BD",
                      "#8C564B",
                      "#E377C2",
                      "#7F7F7F",
                      "#BCBD22",
                      "#17BECF"
                    ],
                    "font": {
                      "color": "rgb(36,36,36)"
                    },
                    "geo": {
                      "bgcolor": "white",
                      "lakecolor": "white",
                      "landcolor": "white",
                      "showlakes": true,
                      "showland": true,
                      "subunitcolor": "white"
                    },
                    "hoverlabel": {
                      "align": "left"
                    },
                    "hovermode": "closest",
                    "mapbox": {
                      "style": "light"
                    },
                    "paper_bgcolor": "white",
                    "plot_bgcolor": "white",
                    "polar": {
                      "angularaxis": {
                        "gridcolor": "rgb(232,232,232)",
                        "linecolor": "rgb(36,36,36)",
                        "showgrid": false,
                        "showline": true,
                        "ticks": "outside"
                      },
                      "bgcolor": "white",
                      "radialaxis": {
                        "gridcolor": "rgb(232,232,232)",
                        "linecolor": "rgb(36,36,36)",
                        "showgrid": false,
                        "showline": true,
                        "ticks": "outside"
                      }
                    },
                    "scene": {
                      "xaxis": {
                        "backgroundcolor": "white",
                        "gridcolor": "rgb(232,232,232)",
                        "gridwidth": 2,
                        "linecolor": "rgb(36,36,36)",
                        "showbackground": true,
                        "showgrid": false,
                        "showline": true,
                        "ticks": "outside",
                        "zeroline": false,
                        "zerolinecolor": "rgb(36,36,36)"
                      },
                      "yaxis": {
                        "backgroundcolor": "white",
                        "gridcolor": "rgb(232,232,232)",
                        "gridwidth": 2,
                        "linecolor": "rgb(36,36,36)",
                        "showbackground": true,
                        "showgrid": false,
                        "showline": true,
                        "ticks": "outside",
                        "zeroline": false,
                        "zerolinecolor": "rgb(36,36,36)"
                      },
                      "zaxis": {
                        "backgroundcolor": "white",
                        "gridcolor": "rgb(232,232,232)",
                        "gridwidth": 2,
                        "linecolor": "rgb(36,36,36)",
                        "showbackground": true,
                        "showgrid": false,
                        "showline": true,
                        "ticks": "outside",
                        "zeroline": false,
                        "zerolinecolor": "rgb(36,36,36)"
                      }
                    },
                    "shapedefaults": {
                      "fillcolor": "black",
                      "line": {
                        "width": 0
                      },
                      "opacity": 0.3
                    },
                    "ternary": {
                      "aaxis": {
                        "gridcolor": "rgb(232,232,232)",
                        "linecolor": "rgb(36,36,36)",
                        "showgrid": false,
                        "showline": true,
                        "ticks": "outside"
                      },
                      "baxis": {
                        "gridcolor": "rgb(232,232,232)",
                        "linecolor": "rgb(36,36,36)",
                        "showgrid": false,
                        "showline": true,
                        "ticks": "outside"
                      },
                      "bgcolor": "white",
                      "caxis": {
                        "gridcolor": "rgb(232,232,232)",
                        "linecolor": "rgb(36,36,36)",
                        "showgrid": false,
                        "showline": true,
                        "ticks": "outside"
                      }
                    },
                    "title": {
                      "x": 0.05
                    },
                    "xaxis": {
                      "automargin": true,
                      "gridcolor": "rgb(232,232,232)",
                      "linecolor": "rgb(36,36,36)",
                      "showgrid": false,
                      "showline": true,
                      "ticks": "outside",
                      "title": {
                        "standoff": 15
                      },
                      "zeroline": false,
                      "zerolinecolor": "rgb(36,36,36)"
                    },
                    "yaxis": {
                      "automargin": true,
                      "gridcolor": "rgb(232,232,232)",
                      "linecolor": "rgb(36,36,36)",
                      "showgrid": false,
                      "showline": true,
                      "ticks": "outside",
                      "title": {
                        "standoff": 15
                      },
                      "zeroline": false,
                      "zerolinecolor": "rgb(36,36,36)"
                    }
                  }
                },
                "title": {
                  "text": "LR by width"
                },
                "width": 1000,
                "xaxis": {
                  "title": {
                    "text": "Width"
                  }
                },
                "yaxis": {
                  "title": {
                    "text": "Probability"
                  }
                }
              }
            }
          },
          "metadata": {},
          "output_type": "display_data"
        }
      ],
      "source": [
        "data_widths = data[[\"width\",\"y\"]].groupby(by=(lambda x : max(0, min(math.ceil(data[\"width\"].loc[x] - 23.5), 7)))).mean()\n",
        "X = data['width'].values\n",
        "X = np.reshape(X, (-1, 1))\n",
        "lr = LogisticRegression().fit(X, data['y'].values)\n",
        "\n",
        "fig = go.Figure()\n",
        "fig.add_trace(\n",
        "    go.Scatter(\n",
        "        x = data_widths[\"width\"], \n",
        "        y = data_widths[\"y\"],\n",
        "        mode=\"markers\",\n",
        "        name=\"Mean crabs with satellites\"\n",
        "    )\n",
        ")\n",
        "\n",
        "x = np.reshape(np.linspace(min(X[:, 0]), max(X[:, 0])), (-1, 1))\n",
        "fig.add_trace(\n",
        "    go.Scatter(\n",
        "        x=x[:, 0], \n",
        "        y=lr.predict_proba(x)[:, 1],\n",
        "        mode=\"lines\",\n",
        "        name=\"LR\"\n",
        "    )\n",
        ")\n",
        "fig.update_layout(\n",
        "    template=\"simple_white\",\n",
        "    title=\"LR by width\",\n",
        "    width=1000,\n",
        "    height=1000,\n",
        "    xaxis_title=\"Width\",\n",
        "    yaxis_title=\"Probability\"\n",
        ")\n",
        "fig.show()"
      ]
    },
    {
      "cell_type": "code",
      "execution_count": 317,
      "metadata": {},
      "outputs": [
        {
          "data": {
            "text/plain": [
              "0.7052023121387283"
            ]
          },
          "execution_count": 317,
          "metadata": {},
          "output_type": "execute_result"
        }
      ],
      "source": [
        "lr.score(X, data['y'].values)"
      ]
    },
    {
      "attachments": {},
      "cell_type": "markdown",
      "metadata": {},
      "source": [
        "En la gráfica anterior realizamos el modelo descrito en el libro tomando en cuenta intervalos del ancho de los cangrejos así como el promedio de su etiqueta. Donde podemos observar que el estimar una sigmoide parece ser una buena idea."
      ]
    },
    {
      "cell_type": "code",
      "execution_count": 318,
      "metadata": {},
      "outputs": [
        {
          "data": {
            "text/html": [
              "<div>\n",
              "<style scoped>\n",
              "    .dataframe tbody tr th:only-of-type {\n",
              "        vertical-align: middle;\n",
              "    }\n",
              "\n",
              "    .dataframe tbody tr th {\n",
              "        vertical-align: top;\n",
              "    }\n",
              "\n",
              "    .dataframe thead th {\n",
              "        text-align: right;\n",
              "    }\n",
              "</style>\n",
              "<table border=\"1\" class=\"dataframe\">\n",
              "  <thead>\n",
              "    <tr style=\"text-align: right;\">\n",
              "      <th></th>\n",
              "      <th>predictores</th>\n",
              "      <th>score</th>\n",
              "    </tr>\n",
              "  </thead>\n",
              "  <tbody>\n",
              "    <tr>\n",
              "      <th>0</th>\n",
              "      <td>weight</td>\n",
              "      <td>0.682081</td>\n",
              "    </tr>\n",
              "    <tr>\n",
              "      <th>1</th>\n",
              "      <td>width</td>\n",
              "      <td>0.705202</td>\n",
              "    </tr>\n",
              "    <tr>\n",
              "      <th>2</th>\n",
              "      <td>width+weight</td>\n",
              "      <td>0.647399</td>\n",
              "    </tr>\n",
              "    <tr>\n",
              "      <th>3</th>\n",
              "      <td>spine</td>\n",
              "      <td>0.641618</td>\n",
              "    </tr>\n",
              "    <tr>\n",
              "      <th>4</th>\n",
              "      <td>spine+weight</td>\n",
              "      <td>0.687861</td>\n",
              "    </tr>\n",
              "    <tr>\n",
              "      <th>5</th>\n",
              "      <td>spine+width</td>\n",
              "      <td>0.699422</td>\n",
              "    </tr>\n",
              "    <tr>\n",
              "      <th>6</th>\n",
              "      <td>spine+width+weight</td>\n",
              "      <td>0.653179</td>\n",
              "    </tr>\n",
              "    <tr>\n",
              "      <th>7</th>\n",
              "      <td>color</td>\n",
              "      <td>0.687861</td>\n",
              "    </tr>\n",
              "    <tr>\n",
              "      <th>8</th>\n",
              "      <td>color+weight</td>\n",
              "      <td>0.722543</td>\n",
              "    </tr>\n",
              "    <tr>\n",
              "      <th>9</th>\n",
              "      <td>color+width</td>\n",
              "      <td>0.722543</td>\n",
              "    </tr>\n",
              "    <tr>\n",
              "      <th>10</th>\n",
              "      <td>color+width+weight</td>\n",
              "      <td>0.710983</td>\n",
              "    </tr>\n",
              "    <tr>\n",
              "      <th>11</th>\n",
              "      <td>color+spine</td>\n",
              "      <td>0.670520</td>\n",
              "    </tr>\n",
              "    <tr>\n",
              "      <th>12</th>\n",
              "      <td>color+spine+weight</td>\n",
              "      <td>0.716763</td>\n",
              "    </tr>\n",
              "    <tr>\n",
              "      <th>13</th>\n",
              "      <td>color+spine+width</td>\n",
              "      <td>0.734104</td>\n",
              "    </tr>\n",
              "    <tr>\n",
              "      <th>14</th>\n",
              "      <td>color+spine+width+weight</td>\n",
              "      <td>0.687861</td>\n",
              "    </tr>\n",
              "  </tbody>\n",
              "</table>\n",
              "</div>"
            ],
            "text/plain": [
              "                 predictores     score\n",
              "0                     weight  0.682081\n",
              "1                      width  0.705202\n",
              "2               width+weight  0.647399\n",
              "3                      spine  0.641618\n",
              "4               spine+weight  0.687861\n",
              "5                spine+width  0.699422\n",
              "6         spine+width+weight  0.653179\n",
              "7                      color  0.687861\n",
              "8               color+weight  0.722543\n",
              "9                color+width  0.722543\n",
              "10        color+width+weight  0.710983\n",
              "11               color+spine  0.670520\n",
              "12        color+spine+weight  0.716763\n",
              "13         color+spine+width  0.734104\n",
              "14  color+spine+width+weight  0.687861"
            ]
          },
          "execution_count": 318,
          "metadata": {},
          "output_type": "execute_result"
        }
      ],
      "source": [
        "X = data[['color', 'spine', 'width', 'weight']].values\n",
        "predictors_score = pd.DataFrame(columns=['predictores','score'])\n",
        "for i in range(1,16):\n",
        "    index = np.array(np.where(np.array(list(bin(i))[2:])=='1')).flatten() + 4 - len(list(bin(i))[2:])\n",
        "    XX = X[:,index]\n",
        "    XX = np.reshape(XX, (-1, bin(i).count(\"1\")))\n",
        "    lr = LogisticRegression().fit(XX, data['y'].values)\n",
        "    predictors = ''\n",
        "    for j in index:\n",
        "        predictors += '+' + ['color', 'spine', 'width', 'weight'][j]\n",
        "    predictors_score.loc[len(predictors_score)] = [predictors[1:], lr.score(XX, data['y'].values)]\n",
        "predictors_score"
      ]
    },
    {
      "attachments": {},
      "cell_type": "markdown",
      "metadata": {},
      "source": [
        "Ahora después de hacer regresión logística con todas las posibles combinaciones de predictores. Podemos observar primero que en general todos están en una probabilidad buena (arriba de 0.5), el color y el width parecen ser caracteristicas relacionadas con los satelites, y podemos ver como el poder predictivo de todos juntos empeora esto puede ser por considerar carácteristicas que son poco relacionadas con lo que se intenta predecir."
      ]
    },
    {
      "attachments": {},
      "cell_type": "markdown",
      "metadata": {},
      "source": [
        "## E-mail SPAM\n",
        "\n",
        "### Problema\n",
        "\n",
        "Considera los datos spam de: http://search.r-project.org/library/kernlab/html/spam.html.  Busca y discute modelos RL y compáralos con el clasificador LDA.\n",
        "\n",
        "### Solución"
      ]
    },
    {
      "cell_type": "code",
      "execution_count": 319,
      "metadata": {},
      "outputs": [
        {
          "data": {
            "text/html": [
              "<div>\n",
              "<style scoped>\n",
              "    .dataframe tbody tr th:only-of-type {\n",
              "        vertical-align: middle;\n",
              "    }\n",
              "\n",
              "    .dataframe tbody tr th {\n",
              "        vertical-align: top;\n",
              "    }\n",
              "\n",
              "    .dataframe thead th {\n",
              "        text-align: right;\n",
              "    }\n",
              "</style>\n",
              "<table border=\"1\" class=\"dataframe\">\n",
              "  <thead>\n",
              "    <tr style=\"text-align: right;\">\n",
              "      <th></th>\n",
              "      <th>word_freq_make</th>\n",
              "      <th>word_freq_address</th>\n",
              "      <th>word_freq_all</th>\n",
              "      <th>word_freq_3d</th>\n",
              "      <th>word_freq_our</th>\n",
              "      <th>word_freq_over</th>\n",
              "      <th>word_freq_remove</th>\n",
              "      <th>word_freq_internet</th>\n",
              "      <th>word_freq_order</th>\n",
              "      <th>word_freq_mail</th>\n",
              "      <th>...</th>\n",
              "      <th>char_freq_;</th>\n",
              "      <th>char_freq_(</th>\n",
              "      <th>char_freq_[</th>\n",
              "      <th>char_freq_!</th>\n",
              "      <th>char_freq_$</th>\n",
              "      <th>char_freq_#</th>\n",
              "      <th>capital_run_length_average</th>\n",
              "      <th>capital_run_length_longest</th>\n",
              "      <th>capital_run_length_total</th>\n",
              "      <th>spam</th>\n",
              "    </tr>\n",
              "  </thead>\n",
              "  <tbody>\n",
              "    <tr>\n",
              "      <th>0</th>\n",
              "      <td>0.00</td>\n",
              "      <td>0.64</td>\n",
              "      <td>0.64</td>\n",
              "      <td>0.0</td>\n",
              "      <td>0.32</td>\n",
              "      <td>0.00</td>\n",
              "      <td>0.00</td>\n",
              "      <td>0.00</td>\n",
              "      <td>0.00</td>\n",
              "      <td>0.00</td>\n",
              "      <td>...</td>\n",
              "      <td>0.000</td>\n",
              "      <td>0.000</td>\n",
              "      <td>0.0</td>\n",
              "      <td>0.778</td>\n",
              "      <td>0.000</td>\n",
              "      <td>0.000</td>\n",
              "      <td>3.756</td>\n",
              "      <td>61</td>\n",
              "      <td>278</td>\n",
              "      <td>1</td>\n",
              "    </tr>\n",
              "    <tr>\n",
              "      <th>1</th>\n",
              "      <td>0.21</td>\n",
              "      <td>0.28</td>\n",
              "      <td>0.50</td>\n",
              "      <td>0.0</td>\n",
              "      <td>0.14</td>\n",
              "      <td>0.28</td>\n",
              "      <td>0.21</td>\n",
              "      <td>0.07</td>\n",
              "      <td>0.00</td>\n",
              "      <td>0.94</td>\n",
              "      <td>...</td>\n",
              "      <td>0.000</td>\n",
              "      <td>0.132</td>\n",
              "      <td>0.0</td>\n",
              "      <td>0.372</td>\n",
              "      <td>0.180</td>\n",
              "      <td>0.048</td>\n",
              "      <td>5.114</td>\n",
              "      <td>101</td>\n",
              "      <td>1028</td>\n",
              "      <td>1</td>\n",
              "    </tr>\n",
              "    <tr>\n",
              "      <th>2</th>\n",
              "      <td>0.06</td>\n",
              "      <td>0.00</td>\n",
              "      <td>0.71</td>\n",
              "      <td>0.0</td>\n",
              "      <td>1.23</td>\n",
              "      <td>0.19</td>\n",
              "      <td>0.19</td>\n",
              "      <td>0.12</td>\n",
              "      <td>0.64</td>\n",
              "      <td>0.25</td>\n",
              "      <td>...</td>\n",
              "      <td>0.010</td>\n",
              "      <td>0.143</td>\n",
              "      <td>0.0</td>\n",
              "      <td>0.276</td>\n",
              "      <td>0.184</td>\n",
              "      <td>0.010</td>\n",
              "      <td>9.821</td>\n",
              "      <td>485</td>\n",
              "      <td>2259</td>\n",
              "      <td>1</td>\n",
              "    </tr>\n",
              "    <tr>\n",
              "      <th>3</th>\n",
              "      <td>0.00</td>\n",
              "      <td>0.00</td>\n",
              "      <td>0.00</td>\n",
              "      <td>0.0</td>\n",
              "      <td>0.63</td>\n",
              "      <td>0.00</td>\n",
              "      <td>0.31</td>\n",
              "      <td>0.63</td>\n",
              "      <td>0.31</td>\n",
              "      <td>0.63</td>\n",
              "      <td>...</td>\n",
              "      <td>0.000</td>\n",
              "      <td>0.137</td>\n",
              "      <td>0.0</td>\n",
              "      <td>0.137</td>\n",
              "      <td>0.000</td>\n",
              "      <td>0.000</td>\n",
              "      <td>3.537</td>\n",
              "      <td>40</td>\n",
              "      <td>191</td>\n",
              "      <td>1</td>\n",
              "    </tr>\n",
              "    <tr>\n",
              "      <th>4</th>\n",
              "      <td>0.00</td>\n",
              "      <td>0.00</td>\n",
              "      <td>0.00</td>\n",
              "      <td>0.0</td>\n",
              "      <td>0.63</td>\n",
              "      <td>0.00</td>\n",
              "      <td>0.31</td>\n",
              "      <td>0.63</td>\n",
              "      <td>0.31</td>\n",
              "      <td>0.63</td>\n",
              "      <td>...</td>\n",
              "      <td>0.000</td>\n",
              "      <td>0.135</td>\n",
              "      <td>0.0</td>\n",
              "      <td>0.135</td>\n",
              "      <td>0.000</td>\n",
              "      <td>0.000</td>\n",
              "      <td>3.537</td>\n",
              "      <td>40</td>\n",
              "      <td>191</td>\n",
              "      <td>1</td>\n",
              "    </tr>\n",
              "    <tr>\n",
              "      <th>...</th>\n",
              "      <td>...</td>\n",
              "      <td>...</td>\n",
              "      <td>...</td>\n",
              "      <td>...</td>\n",
              "      <td>...</td>\n",
              "      <td>...</td>\n",
              "      <td>...</td>\n",
              "      <td>...</td>\n",
              "      <td>...</td>\n",
              "      <td>...</td>\n",
              "      <td>...</td>\n",
              "      <td>...</td>\n",
              "      <td>...</td>\n",
              "      <td>...</td>\n",
              "      <td>...</td>\n",
              "      <td>...</td>\n",
              "      <td>...</td>\n",
              "      <td>...</td>\n",
              "      <td>...</td>\n",
              "      <td>...</td>\n",
              "      <td>...</td>\n",
              "    </tr>\n",
              "    <tr>\n",
              "      <th>4596</th>\n",
              "      <td>0.31</td>\n",
              "      <td>0.00</td>\n",
              "      <td>0.62</td>\n",
              "      <td>0.0</td>\n",
              "      <td>0.00</td>\n",
              "      <td>0.31</td>\n",
              "      <td>0.00</td>\n",
              "      <td>0.00</td>\n",
              "      <td>0.00</td>\n",
              "      <td>0.00</td>\n",
              "      <td>...</td>\n",
              "      <td>0.000</td>\n",
              "      <td>0.232</td>\n",
              "      <td>0.0</td>\n",
              "      <td>0.000</td>\n",
              "      <td>0.000</td>\n",
              "      <td>0.000</td>\n",
              "      <td>1.142</td>\n",
              "      <td>3</td>\n",
              "      <td>88</td>\n",
              "      <td>0</td>\n",
              "    </tr>\n",
              "    <tr>\n",
              "      <th>4597</th>\n",
              "      <td>0.00</td>\n",
              "      <td>0.00</td>\n",
              "      <td>0.00</td>\n",
              "      <td>0.0</td>\n",
              "      <td>0.00</td>\n",
              "      <td>0.00</td>\n",
              "      <td>0.00</td>\n",
              "      <td>0.00</td>\n",
              "      <td>0.00</td>\n",
              "      <td>0.00</td>\n",
              "      <td>...</td>\n",
              "      <td>0.000</td>\n",
              "      <td>0.000</td>\n",
              "      <td>0.0</td>\n",
              "      <td>0.353</td>\n",
              "      <td>0.000</td>\n",
              "      <td>0.000</td>\n",
              "      <td>1.555</td>\n",
              "      <td>4</td>\n",
              "      <td>14</td>\n",
              "      <td>0</td>\n",
              "    </tr>\n",
              "    <tr>\n",
              "      <th>4598</th>\n",
              "      <td>0.30</td>\n",
              "      <td>0.00</td>\n",
              "      <td>0.30</td>\n",
              "      <td>0.0</td>\n",
              "      <td>0.00</td>\n",
              "      <td>0.00</td>\n",
              "      <td>0.00</td>\n",
              "      <td>0.00</td>\n",
              "      <td>0.00</td>\n",
              "      <td>0.00</td>\n",
              "      <td>...</td>\n",
              "      <td>0.102</td>\n",
              "      <td>0.718</td>\n",
              "      <td>0.0</td>\n",
              "      <td>0.000</td>\n",
              "      <td>0.000</td>\n",
              "      <td>0.000</td>\n",
              "      <td>1.404</td>\n",
              "      <td>6</td>\n",
              "      <td>118</td>\n",
              "      <td>0</td>\n",
              "    </tr>\n",
              "    <tr>\n",
              "      <th>4599</th>\n",
              "      <td>0.96</td>\n",
              "      <td>0.00</td>\n",
              "      <td>0.00</td>\n",
              "      <td>0.0</td>\n",
              "      <td>0.32</td>\n",
              "      <td>0.00</td>\n",
              "      <td>0.00</td>\n",
              "      <td>0.00</td>\n",
              "      <td>0.00</td>\n",
              "      <td>0.00</td>\n",
              "      <td>...</td>\n",
              "      <td>0.000</td>\n",
              "      <td>0.057</td>\n",
              "      <td>0.0</td>\n",
              "      <td>0.000</td>\n",
              "      <td>0.000</td>\n",
              "      <td>0.000</td>\n",
              "      <td>1.147</td>\n",
              "      <td>5</td>\n",
              "      <td>78</td>\n",
              "      <td>0</td>\n",
              "    </tr>\n",
              "    <tr>\n",
              "      <th>4600</th>\n",
              "      <td>0.00</td>\n",
              "      <td>0.00</td>\n",
              "      <td>0.65</td>\n",
              "      <td>0.0</td>\n",
              "      <td>0.00</td>\n",
              "      <td>0.00</td>\n",
              "      <td>0.00</td>\n",
              "      <td>0.00</td>\n",
              "      <td>0.00</td>\n",
              "      <td>0.00</td>\n",
              "      <td>...</td>\n",
              "      <td>0.000</td>\n",
              "      <td>0.000</td>\n",
              "      <td>0.0</td>\n",
              "      <td>0.125</td>\n",
              "      <td>0.000</td>\n",
              "      <td>0.000</td>\n",
              "      <td>1.250</td>\n",
              "      <td>5</td>\n",
              "      <td>40</td>\n",
              "      <td>0</td>\n",
              "    </tr>\n",
              "  </tbody>\n",
              "</table>\n",
              "<p>4601 rows × 58 columns</p>\n",
              "</div>"
            ],
            "text/plain": [
              "      word_freq_make  word_freq_address  word_freq_all  word_freq_3d   \n",
              "0               0.00               0.64           0.64           0.0  \\\n",
              "1               0.21               0.28           0.50           0.0   \n",
              "2               0.06               0.00           0.71           0.0   \n",
              "3               0.00               0.00           0.00           0.0   \n",
              "4               0.00               0.00           0.00           0.0   \n",
              "...              ...                ...            ...           ...   \n",
              "4596            0.31               0.00           0.62           0.0   \n",
              "4597            0.00               0.00           0.00           0.0   \n",
              "4598            0.30               0.00           0.30           0.0   \n",
              "4599            0.96               0.00           0.00           0.0   \n",
              "4600            0.00               0.00           0.65           0.0   \n",
              "\n",
              "      word_freq_our  word_freq_over  word_freq_remove  word_freq_internet   \n",
              "0              0.32            0.00              0.00                0.00  \\\n",
              "1              0.14            0.28              0.21                0.07   \n",
              "2              1.23            0.19              0.19                0.12   \n",
              "3              0.63            0.00              0.31                0.63   \n",
              "4              0.63            0.00              0.31                0.63   \n",
              "...             ...             ...               ...                 ...   \n",
              "4596           0.00            0.31              0.00                0.00   \n",
              "4597           0.00            0.00              0.00                0.00   \n",
              "4598           0.00            0.00              0.00                0.00   \n",
              "4599           0.32            0.00              0.00                0.00   \n",
              "4600           0.00            0.00              0.00                0.00   \n",
              "\n",
              "      word_freq_order  word_freq_mail  ...  char_freq_;  char_freq_(   \n",
              "0                0.00            0.00  ...        0.000        0.000  \\\n",
              "1                0.00            0.94  ...        0.000        0.132   \n",
              "2                0.64            0.25  ...        0.010        0.143   \n",
              "3                0.31            0.63  ...        0.000        0.137   \n",
              "4                0.31            0.63  ...        0.000        0.135   \n",
              "...               ...             ...  ...          ...          ...   \n",
              "4596             0.00            0.00  ...        0.000        0.232   \n",
              "4597             0.00            0.00  ...        0.000        0.000   \n",
              "4598             0.00            0.00  ...        0.102        0.718   \n",
              "4599             0.00            0.00  ...        0.000        0.057   \n",
              "4600             0.00            0.00  ...        0.000        0.000   \n",
              "\n",
              "      char_freq_[  char_freq_!  char_freq_$  char_freq_#   \n",
              "0             0.0        0.778        0.000        0.000  \\\n",
              "1             0.0        0.372        0.180        0.048   \n",
              "2             0.0        0.276        0.184        0.010   \n",
              "3             0.0        0.137        0.000        0.000   \n",
              "4             0.0        0.135        0.000        0.000   \n",
              "...           ...          ...          ...          ...   \n",
              "4596          0.0        0.000        0.000        0.000   \n",
              "4597          0.0        0.353        0.000        0.000   \n",
              "4598          0.0        0.000        0.000        0.000   \n",
              "4599          0.0        0.000        0.000        0.000   \n",
              "4600          0.0        0.125        0.000        0.000   \n",
              "\n",
              "      capital_run_length_average  capital_run_length_longest   \n",
              "0                          3.756                          61  \\\n",
              "1                          5.114                         101   \n",
              "2                          9.821                         485   \n",
              "3                          3.537                          40   \n",
              "4                          3.537                          40   \n",
              "...                          ...                         ...   \n",
              "4596                       1.142                           3   \n",
              "4597                       1.555                           4   \n",
              "4598                       1.404                           6   \n",
              "4599                       1.147                           5   \n",
              "4600                       1.250                           5   \n",
              "\n",
              "      capital_run_length_total  spam  \n",
              "0                          278     1  \n",
              "1                         1028     1  \n",
              "2                         2259     1  \n",
              "3                          191     1  \n",
              "4                          191     1  \n",
              "...                        ...   ...  \n",
              "4596                        88     0  \n",
              "4597                        14     0  \n",
              "4598                       118     0  \n",
              "4599                        78     0  \n",
              "4600                        40     0  \n",
              "\n",
              "[4601 rows x 58 columns]"
            ]
          },
          "execution_count": 319,
          "metadata": {},
          "output_type": "execute_result"
        }
      ],
      "source": [
        "data = pd.read_csv(\"spambase.data\")\n",
        "data"
      ]
    },
    {
      "cell_type": "code",
      "execution_count": 320,
      "metadata": {},
      "outputs": [
        {
          "data": {
            "application/vnd.plotly.v1+json": {
              "config": {
                "plotlyServerURL": "https://plot.ly"
              },
              "data": [
                {
                  "coloraxis": "coloraxis",
                  "type": "heatmap",
                  "x": [
                    "No Spam",
                    "Spam"
                  ],
                  "xaxis": "x",
                  "y": [
                    "No Spam",
                    "Spam"
                  ],
                  "yaxis": "y",
                  "z": [
                    [
                      2666,
                      122
                    ],
                    [
                      198,
                      1615
                    ]
                  ]
                },
                {
                  "coloraxis": "coloraxis",
                  "type": "heatmap",
                  "x": [
                    "No Spam",
                    "Spam"
                  ],
                  "xaxis": "x2",
                  "y": [
                    "No Spam",
                    "Spam"
                  ],
                  "yaxis": "y2",
                  "z": [
                    [
                      2633,
                      155
                    ],
                    [
                      233,
                      1580
                    ]
                  ]
                },
                {
                  "coloraxis": "coloraxis",
                  "type": "heatmap",
                  "x": [
                    "No Spam",
                    "Spam"
                  ],
                  "xaxis": "x3",
                  "y": [
                    "No Spam",
                    "Spam"
                  ],
                  "yaxis": "y3",
                  "z": [
                    [
                      2647,
                      141
                    ],
                    [
                      704,
                      1109
                    ]
                  ]
                },
                {
                  "coloraxis": "coloraxis",
                  "type": "heatmap",
                  "x": [
                    "No Spam",
                    "Spam"
                  ],
                  "xaxis": "x4",
                  "y": [
                    "No Spam",
                    "Spam"
                  ],
                  "yaxis": "y4",
                  "z": [
                    [
                      2591,
                      197
                    ],
                    [
                      1015,
                      798
                    ]
                  ]
                },
                {
                  "coloraxis": "coloraxis",
                  "type": "heatmap",
                  "x": [
                    "No Spam",
                    "Spam"
                  ],
                  "xaxis": "x5",
                  "y": [
                    "No Spam",
                    "Spam"
                  ],
                  "yaxis": "y5",
                  "z": [
                    [
                      2663,
                      125
                    ],
                    [
                      387,
                      1426
                    ]
                  ]
                }
              ],
              "layout": {
                "annotations": [
                  {
                    "font": {
                      "size": 16
                    },
                    "showarrow": false,
                    "text": "LR-All",
                    "x": 0.08399999999999999,
                    "xanchor": "center",
                    "xref": "paper",
                    "y": 1,
                    "yanchor": "bottom",
                    "yref": "paper"
                  },
                  {
                    "font": {
                      "size": 16
                    },
                    "showarrow": false,
                    "text": "LR-Freq_Name",
                    "x": 0.292,
                    "xanchor": "center",
                    "xref": "paper",
                    "y": 1,
                    "yanchor": "bottom",
                    "yref": "paper"
                  },
                  {
                    "font": {
                      "size": 16
                    },
                    "showarrow": false,
                    "text": "LR-Freq_Symbol",
                    "x": 0.5,
                    "xanchor": "center",
                    "xref": "paper",
                    "y": 1,
                    "yanchor": "bottom",
                    "yref": "paper"
                  },
                  {
                    "font": {
                      "size": 16
                    },
                    "showarrow": false,
                    "text": "Freq_Cap_letters",
                    "x": 0.708,
                    "xanchor": "center",
                    "xref": "paper",
                    "y": 1,
                    "yanchor": "bottom",
                    "yref": "paper"
                  },
                  {
                    "font": {
                      "size": 16
                    },
                    "showarrow": false,
                    "text": "LDA-All",
                    "x": 0.9159999999999999,
                    "xanchor": "center",
                    "xref": "paper",
                    "y": 1,
                    "yanchor": "bottom",
                    "yref": "paper"
                  }
                ],
                "height": 450,
                "template": {
                  "data": {
                    "bar": [
                      {
                        "error_x": {
                          "color": "rgb(36,36,36)"
                        },
                        "error_y": {
                          "color": "rgb(36,36,36)"
                        },
                        "marker": {
                          "line": {
                            "color": "white",
                            "width": 0.5
                          },
                          "pattern": {
                            "fillmode": "overlay",
                            "size": 10,
                            "solidity": 0.2
                          }
                        },
                        "type": "bar"
                      }
                    ],
                    "barpolar": [
                      {
                        "marker": {
                          "line": {
                            "color": "white",
                            "width": 0.5
                          },
                          "pattern": {
                            "fillmode": "overlay",
                            "size": 10,
                            "solidity": 0.2
                          }
                        },
                        "type": "barpolar"
                      }
                    ],
                    "carpet": [
                      {
                        "aaxis": {
                          "endlinecolor": "rgb(36,36,36)",
                          "gridcolor": "white",
                          "linecolor": "white",
                          "minorgridcolor": "white",
                          "startlinecolor": "rgb(36,36,36)"
                        },
                        "baxis": {
                          "endlinecolor": "rgb(36,36,36)",
                          "gridcolor": "white",
                          "linecolor": "white",
                          "minorgridcolor": "white",
                          "startlinecolor": "rgb(36,36,36)"
                        },
                        "type": "carpet"
                      }
                    ],
                    "choropleth": [
                      {
                        "colorbar": {
                          "outlinewidth": 1,
                          "tickcolor": "rgb(36,36,36)",
                          "ticks": "outside"
                        },
                        "type": "choropleth"
                      }
                    ],
                    "contour": [
                      {
                        "colorbar": {
                          "outlinewidth": 1,
                          "tickcolor": "rgb(36,36,36)",
                          "ticks": "outside"
                        },
                        "colorscale": [
                          [
                            0,
                            "#440154"
                          ],
                          [
                            0.1111111111111111,
                            "#482878"
                          ],
                          [
                            0.2222222222222222,
                            "#3e4989"
                          ],
                          [
                            0.3333333333333333,
                            "#31688e"
                          ],
                          [
                            0.4444444444444444,
                            "#26828e"
                          ],
                          [
                            0.5555555555555556,
                            "#1f9e89"
                          ],
                          [
                            0.6666666666666666,
                            "#35b779"
                          ],
                          [
                            0.7777777777777778,
                            "#6ece58"
                          ],
                          [
                            0.8888888888888888,
                            "#b5de2b"
                          ],
                          [
                            1,
                            "#fde725"
                          ]
                        ],
                        "type": "contour"
                      }
                    ],
                    "contourcarpet": [
                      {
                        "colorbar": {
                          "outlinewidth": 1,
                          "tickcolor": "rgb(36,36,36)",
                          "ticks": "outside"
                        },
                        "type": "contourcarpet"
                      }
                    ],
                    "heatmap": [
                      {
                        "colorbar": {
                          "outlinewidth": 1,
                          "tickcolor": "rgb(36,36,36)",
                          "ticks": "outside"
                        },
                        "colorscale": [
                          [
                            0,
                            "#440154"
                          ],
                          [
                            0.1111111111111111,
                            "#482878"
                          ],
                          [
                            0.2222222222222222,
                            "#3e4989"
                          ],
                          [
                            0.3333333333333333,
                            "#31688e"
                          ],
                          [
                            0.4444444444444444,
                            "#26828e"
                          ],
                          [
                            0.5555555555555556,
                            "#1f9e89"
                          ],
                          [
                            0.6666666666666666,
                            "#35b779"
                          ],
                          [
                            0.7777777777777778,
                            "#6ece58"
                          ],
                          [
                            0.8888888888888888,
                            "#b5de2b"
                          ],
                          [
                            1,
                            "#fde725"
                          ]
                        ],
                        "type": "heatmap"
                      }
                    ],
                    "heatmapgl": [
                      {
                        "colorbar": {
                          "outlinewidth": 1,
                          "tickcolor": "rgb(36,36,36)",
                          "ticks": "outside"
                        },
                        "colorscale": [
                          [
                            0,
                            "#440154"
                          ],
                          [
                            0.1111111111111111,
                            "#482878"
                          ],
                          [
                            0.2222222222222222,
                            "#3e4989"
                          ],
                          [
                            0.3333333333333333,
                            "#31688e"
                          ],
                          [
                            0.4444444444444444,
                            "#26828e"
                          ],
                          [
                            0.5555555555555556,
                            "#1f9e89"
                          ],
                          [
                            0.6666666666666666,
                            "#35b779"
                          ],
                          [
                            0.7777777777777778,
                            "#6ece58"
                          ],
                          [
                            0.8888888888888888,
                            "#b5de2b"
                          ],
                          [
                            1,
                            "#fde725"
                          ]
                        ],
                        "type": "heatmapgl"
                      }
                    ],
                    "histogram": [
                      {
                        "marker": {
                          "line": {
                            "color": "white",
                            "width": 0.6
                          }
                        },
                        "type": "histogram"
                      }
                    ],
                    "histogram2d": [
                      {
                        "colorbar": {
                          "outlinewidth": 1,
                          "tickcolor": "rgb(36,36,36)",
                          "ticks": "outside"
                        },
                        "colorscale": [
                          [
                            0,
                            "#440154"
                          ],
                          [
                            0.1111111111111111,
                            "#482878"
                          ],
                          [
                            0.2222222222222222,
                            "#3e4989"
                          ],
                          [
                            0.3333333333333333,
                            "#31688e"
                          ],
                          [
                            0.4444444444444444,
                            "#26828e"
                          ],
                          [
                            0.5555555555555556,
                            "#1f9e89"
                          ],
                          [
                            0.6666666666666666,
                            "#35b779"
                          ],
                          [
                            0.7777777777777778,
                            "#6ece58"
                          ],
                          [
                            0.8888888888888888,
                            "#b5de2b"
                          ],
                          [
                            1,
                            "#fde725"
                          ]
                        ],
                        "type": "histogram2d"
                      }
                    ],
                    "histogram2dcontour": [
                      {
                        "colorbar": {
                          "outlinewidth": 1,
                          "tickcolor": "rgb(36,36,36)",
                          "ticks": "outside"
                        },
                        "colorscale": [
                          [
                            0,
                            "#440154"
                          ],
                          [
                            0.1111111111111111,
                            "#482878"
                          ],
                          [
                            0.2222222222222222,
                            "#3e4989"
                          ],
                          [
                            0.3333333333333333,
                            "#31688e"
                          ],
                          [
                            0.4444444444444444,
                            "#26828e"
                          ],
                          [
                            0.5555555555555556,
                            "#1f9e89"
                          ],
                          [
                            0.6666666666666666,
                            "#35b779"
                          ],
                          [
                            0.7777777777777778,
                            "#6ece58"
                          ],
                          [
                            0.8888888888888888,
                            "#b5de2b"
                          ],
                          [
                            1,
                            "#fde725"
                          ]
                        ],
                        "type": "histogram2dcontour"
                      }
                    ],
                    "mesh3d": [
                      {
                        "colorbar": {
                          "outlinewidth": 1,
                          "tickcolor": "rgb(36,36,36)",
                          "ticks": "outside"
                        },
                        "type": "mesh3d"
                      }
                    ],
                    "parcoords": [
                      {
                        "line": {
                          "colorbar": {
                            "outlinewidth": 1,
                            "tickcolor": "rgb(36,36,36)",
                            "ticks": "outside"
                          }
                        },
                        "type": "parcoords"
                      }
                    ],
                    "pie": [
                      {
                        "automargin": true,
                        "type": "pie"
                      }
                    ],
                    "scatter": [
                      {
                        "fillpattern": {
                          "fillmode": "overlay",
                          "size": 10,
                          "solidity": 0.2
                        },
                        "type": "scatter"
                      }
                    ],
                    "scatter3d": [
                      {
                        "line": {
                          "colorbar": {
                            "outlinewidth": 1,
                            "tickcolor": "rgb(36,36,36)",
                            "ticks": "outside"
                          }
                        },
                        "marker": {
                          "colorbar": {
                            "outlinewidth": 1,
                            "tickcolor": "rgb(36,36,36)",
                            "ticks": "outside"
                          }
                        },
                        "type": "scatter3d"
                      }
                    ],
                    "scattercarpet": [
                      {
                        "marker": {
                          "colorbar": {
                            "outlinewidth": 1,
                            "tickcolor": "rgb(36,36,36)",
                            "ticks": "outside"
                          }
                        },
                        "type": "scattercarpet"
                      }
                    ],
                    "scattergeo": [
                      {
                        "marker": {
                          "colorbar": {
                            "outlinewidth": 1,
                            "tickcolor": "rgb(36,36,36)",
                            "ticks": "outside"
                          }
                        },
                        "type": "scattergeo"
                      }
                    ],
                    "scattergl": [
                      {
                        "marker": {
                          "colorbar": {
                            "outlinewidth": 1,
                            "tickcolor": "rgb(36,36,36)",
                            "ticks": "outside"
                          }
                        },
                        "type": "scattergl"
                      }
                    ],
                    "scattermapbox": [
                      {
                        "marker": {
                          "colorbar": {
                            "outlinewidth": 1,
                            "tickcolor": "rgb(36,36,36)",
                            "ticks": "outside"
                          }
                        },
                        "type": "scattermapbox"
                      }
                    ],
                    "scatterpolar": [
                      {
                        "marker": {
                          "colorbar": {
                            "outlinewidth": 1,
                            "tickcolor": "rgb(36,36,36)",
                            "ticks": "outside"
                          }
                        },
                        "type": "scatterpolar"
                      }
                    ],
                    "scatterpolargl": [
                      {
                        "marker": {
                          "colorbar": {
                            "outlinewidth": 1,
                            "tickcolor": "rgb(36,36,36)",
                            "ticks": "outside"
                          }
                        },
                        "type": "scatterpolargl"
                      }
                    ],
                    "scatterternary": [
                      {
                        "marker": {
                          "colorbar": {
                            "outlinewidth": 1,
                            "tickcolor": "rgb(36,36,36)",
                            "ticks": "outside"
                          }
                        },
                        "type": "scatterternary"
                      }
                    ],
                    "surface": [
                      {
                        "colorbar": {
                          "outlinewidth": 1,
                          "tickcolor": "rgb(36,36,36)",
                          "ticks": "outside"
                        },
                        "colorscale": [
                          [
                            0,
                            "#440154"
                          ],
                          [
                            0.1111111111111111,
                            "#482878"
                          ],
                          [
                            0.2222222222222222,
                            "#3e4989"
                          ],
                          [
                            0.3333333333333333,
                            "#31688e"
                          ],
                          [
                            0.4444444444444444,
                            "#26828e"
                          ],
                          [
                            0.5555555555555556,
                            "#1f9e89"
                          ],
                          [
                            0.6666666666666666,
                            "#35b779"
                          ],
                          [
                            0.7777777777777778,
                            "#6ece58"
                          ],
                          [
                            0.8888888888888888,
                            "#b5de2b"
                          ],
                          [
                            1,
                            "#fde725"
                          ]
                        ],
                        "type": "surface"
                      }
                    ],
                    "table": [
                      {
                        "cells": {
                          "fill": {
                            "color": "rgb(237,237,237)"
                          },
                          "line": {
                            "color": "white"
                          }
                        },
                        "header": {
                          "fill": {
                            "color": "rgb(217,217,217)"
                          },
                          "line": {
                            "color": "white"
                          }
                        },
                        "type": "table"
                      }
                    ]
                  },
                  "layout": {
                    "annotationdefaults": {
                      "arrowhead": 0,
                      "arrowwidth": 1
                    },
                    "autotypenumbers": "strict",
                    "coloraxis": {
                      "colorbar": {
                        "outlinewidth": 1,
                        "tickcolor": "rgb(36,36,36)",
                        "ticks": "outside"
                      }
                    },
                    "colorscale": {
                      "diverging": [
                        [
                          0,
                          "rgb(103,0,31)"
                        ],
                        [
                          0.1,
                          "rgb(178,24,43)"
                        ],
                        [
                          0.2,
                          "rgb(214,96,77)"
                        ],
                        [
                          0.3,
                          "rgb(244,165,130)"
                        ],
                        [
                          0.4,
                          "rgb(253,219,199)"
                        ],
                        [
                          0.5,
                          "rgb(247,247,247)"
                        ],
                        [
                          0.6,
                          "rgb(209,229,240)"
                        ],
                        [
                          0.7,
                          "rgb(146,197,222)"
                        ],
                        [
                          0.8,
                          "rgb(67,147,195)"
                        ],
                        [
                          0.9,
                          "rgb(33,102,172)"
                        ],
                        [
                          1,
                          "rgb(5,48,97)"
                        ]
                      ],
                      "sequential": [
                        [
                          0,
                          "#440154"
                        ],
                        [
                          0.1111111111111111,
                          "#482878"
                        ],
                        [
                          0.2222222222222222,
                          "#3e4989"
                        ],
                        [
                          0.3333333333333333,
                          "#31688e"
                        ],
                        [
                          0.4444444444444444,
                          "#26828e"
                        ],
                        [
                          0.5555555555555556,
                          "#1f9e89"
                        ],
                        [
                          0.6666666666666666,
                          "#35b779"
                        ],
                        [
                          0.7777777777777778,
                          "#6ece58"
                        ],
                        [
                          0.8888888888888888,
                          "#b5de2b"
                        ],
                        [
                          1,
                          "#fde725"
                        ]
                      ],
                      "sequentialminus": [
                        [
                          0,
                          "#440154"
                        ],
                        [
                          0.1111111111111111,
                          "#482878"
                        ],
                        [
                          0.2222222222222222,
                          "#3e4989"
                        ],
                        [
                          0.3333333333333333,
                          "#31688e"
                        ],
                        [
                          0.4444444444444444,
                          "#26828e"
                        ],
                        [
                          0.5555555555555556,
                          "#1f9e89"
                        ],
                        [
                          0.6666666666666666,
                          "#35b779"
                        ],
                        [
                          0.7777777777777778,
                          "#6ece58"
                        ],
                        [
                          0.8888888888888888,
                          "#b5de2b"
                        ],
                        [
                          1,
                          "#fde725"
                        ]
                      ]
                    },
                    "colorway": [
                      "#1F77B4",
                      "#FF7F0E",
                      "#2CA02C",
                      "#D62728",
                      "#9467BD",
                      "#8C564B",
                      "#E377C2",
                      "#7F7F7F",
                      "#BCBD22",
                      "#17BECF"
                    ],
                    "font": {
                      "color": "rgb(36,36,36)"
                    },
                    "geo": {
                      "bgcolor": "white",
                      "lakecolor": "white",
                      "landcolor": "white",
                      "showlakes": true,
                      "showland": true,
                      "subunitcolor": "white"
                    },
                    "hoverlabel": {
                      "align": "left"
                    },
                    "hovermode": "closest",
                    "mapbox": {
                      "style": "light"
                    },
                    "paper_bgcolor": "white",
                    "plot_bgcolor": "white",
                    "polar": {
                      "angularaxis": {
                        "gridcolor": "rgb(232,232,232)",
                        "linecolor": "rgb(36,36,36)",
                        "showgrid": false,
                        "showline": true,
                        "ticks": "outside"
                      },
                      "bgcolor": "white",
                      "radialaxis": {
                        "gridcolor": "rgb(232,232,232)",
                        "linecolor": "rgb(36,36,36)",
                        "showgrid": false,
                        "showline": true,
                        "ticks": "outside"
                      }
                    },
                    "scene": {
                      "xaxis": {
                        "backgroundcolor": "white",
                        "gridcolor": "rgb(232,232,232)",
                        "gridwidth": 2,
                        "linecolor": "rgb(36,36,36)",
                        "showbackground": true,
                        "showgrid": false,
                        "showline": true,
                        "ticks": "outside",
                        "zeroline": false,
                        "zerolinecolor": "rgb(36,36,36)"
                      },
                      "yaxis": {
                        "backgroundcolor": "white",
                        "gridcolor": "rgb(232,232,232)",
                        "gridwidth": 2,
                        "linecolor": "rgb(36,36,36)",
                        "showbackground": true,
                        "showgrid": false,
                        "showline": true,
                        "ticks": "outside",
                        "zeroline": false,
                        "zerolinecolor": "rgb(36,36,36)"
                      },
                      "zaxis": {
                        "backgroundcolor": "white",
                        "gridcolor": "rgb(232,232,232)",
                        "gridwidth": 2,
                        "linecolor": "rgb(36,36,36)",
                        "showbackground": true,
                        "showgrid": false,
                        "showline": true,
                        "ticks": "outside",
                        "zeroline": false,
                        "zerolinecolor": "rgb(36,36,36)"
                      }
                    },
                    "shapedefaults": {
                      "fillcolor": "black",
                      "line": {
                        "width": 0
                      },
                      "opacity": 0.3
                    },
                    "ternary": {
                      "aaxis": {
                        "gridcolor": "rgb(232,232,232)",
                        "linecolor": "rgb(36,36,36)",
                        "showgrid": false,
                        "showline": true,
                        "ticks": "outside"
                      },
                      "baxis": {
                        "gridcolor": "rgb(232,232,232)",
                        "linecolor": "rgb(36,36,36)",
                        "showgrid": false,
                        "showline": true,
                        "ticks": "outside"
                      },
                      "bgcolor": "white",
                      "caxis": {
                        "gridcolor": "rgb(232,232,232)",
                        "linecolor": "rgb(36,36,36)",
                        "showgrid": false,
                        "showline": true,
                        "ticks": "outside"
                      }
                    },
                    "title": {
                      "x": 0.05
                    },
                    "xaxis": {
                      "automargin": true,
                      "gridcolor": "rgb(232,232,232)",
                      "linecolor": "rgb(36,36,36)",
                      "showgrid": false,
                      "showline": true,
                      "ticks": "outside",
                      "title": {
                        "standoff": 15
                      },
                      "zeroline": false,
                      "zerolinecolor": "rgb(36,36,36)"
                    },
                    "yaxis": {
                      "automargin": true,
                      "gridcolor": "rgb(232,232,232)",
                      "linecolor": "rgb(36,36,36)",
                      "showgrid": false,
                      "showline": true,
                      "ticks": "outside",
                      "title": {
                        "standoff": 15
                      },
                      "zeroline": false,
                      "zerolinecolor": "rgb(36,36,36)"
                    }
                  }
                },
                "title": {
                  "text": "Confusion matrix"
                },
                "width": 1800,
                "xaxis": {
                  "anchor": "y",
                  "domain": [
                    0,
                    0.16799999999999998
                  ],
                  "title": {
                    "text": "Predict"
                  }
                },
                "xaxis2": {
                  "anchor": "y2",
                  "domain": [
                    0.208,
                    0.376
                  ]
                },
                "xaxis3": {
                  "anchor": "y3",
                  "domain": [
                    0.416,
                    0.584
                  ]
                },
                "xaxis4": {
                  "anchor": "y4",
                  "domain": [
                    0.624,
                    0.792
                  ]
                },
                "xaxis5": {
                  "anchor": "y5",
                  "domain": [
                    0.832,
                    1
                  ]
                },
                "yaxis": {
                  "anchor": "x",
                  "domain": [
                    0,
                    1
                  ],
                  "title": {
                    "text": "True"
                  }
                },
                "yaxis2": {
                  "anchor": "x2",
                  "domain": [
                    0,
                    1
                  ]
                },
                "yaxis3": {
                  "anchor": "x3",
                  "domain": [
                    0,
                    1
                  ]
                },
                "yaxis4": {
                  "anchor": "x4",
                  "domain": [
                    0,
                    1
                  ]
                },
                "yaxis5": {
                  "anchor": "x5",
                  "domain": [
                    0,
                    1
                  ]
                }
              }
            }
          },
          "metadata": {},
          "output_type": "display_data"
        },
        {
          "data": {
            "text/html": [
              "<div>\n",
              "<style scoped>\n",
              "    .dataframe tbody tr th:only-of-type {\n",
              "        vertical-align: middle;\n",
              "    }\n",
              "\n",
              "    .dataframe tbody tr th {\n",
              "        vertical-align: top;\n",
              "    }\n",
              "\n",
              "    .dataframe thead th {\n",
              "        text-align: right;\n",
              "    }\n",
              "</style>\n",
              "<table border=\"1\" class=\"dataframe\">\n",
              "  <thead>\n",
              "    <tr style=\"text-align: right;\">\n",
              "      <th></th>\n",
              "      <th>Method</th>\n",
              "      <th>Score</th>\n",
              "    </tr>\n",
              "  </thead>\n",
              "  <tbody>\n",
              "    <tr>\n",
              "      <th>0</th>\n",
              "      <td>LR-All</td>\n",
              "      <td>0.930450</td>\n",
              "    </tr>\n",
              "    <tr>\n",
              "      <th>1</th>\n",
              "      <td>LR-Freq_Name</td>\n",
              "      <td>0.915671</td>\n",
              "    </tr>\n",
              "    <tr>\n",
              "      <th>2</th>\n",
              "      <td>LR-Freq_Symbol</td>\n",
              "      <td>0.816344</td>\n",
              "    </tr>\n",
              "    <tr>\n",
              "      <th>3</th>\n",
              "      <td>Freq_Cap_letters</td>\n",
              "      <td>0.736579</td>\n",
              "    </tr>\n",
              "    <tr>\n",
              "      <th>4</th>\n",
              "      <td>LDA-All</td>\n",
              "      <td>0.888720</td>\n",
              "    </tr>\n",
              "  </tbody>\n",
              "</table>\n",
              "</div>"
            ],
            "text/plain": [
              "             Method     Score\n",
              "0            LR-All  0.930450\n",
              "1      LR-Freq_Name  0.915671\n",
              "2    LR-Freq_Symbol  0.816344\n",
              "3  Freq_Cap_letters  0.736579\n",
              "4           LDA-All  0.888720"
            ]
          },
          "execution_count": 320,
          "metadata": {},
          "output_type": "execute_result"
        }
      ],
      "source": [
        "clasf_score = pd.DataFrame(columns=[\"Method\",\"Score\"])\n",
        "fig = make_subplots(rows=1,cols=5,subplot_titles=(\"LR-All\", \"LR-Freq_Name\", \"LR-Freq_Symbol\", \"Freq_Cap_letters\", \"LDA-All\"))\n",
        "\n",
        "data_norm = preprocessing.StandardScaler().fit_transform(data.iloc[:,:-1].values)\n",
        "lr = LogisticRegression().fit(data_norm, data[\"spam\"].values)\n",
        "clasf_score.loc[len(clasf_score)] = [\"LR-All\", lr.score(data_norm, data[\"spam\"].values)]\n",
        "conf_mat = confusion_matrix(data[\"spam\"].values, lr.predict(data_norm))\n",
        "fig.add_trace(\n",
        "    go.Heatmap(\n",
        "        z = conf_mat,\n",
        "        x = ['No Spam', 'Spam'],\n",
        "        y = ['No Spam', 'Spam'],\n",
        "        coloraxis=\"coloraxis\"\n",
        "    ),\n",
        "    row=1,\n",
        "    col=1\n",
        ")\n",
        "\n",
        "data_norm = preprocessing.StandardScaler().fit_transform(data.iloc[:,:47].values)\n",
        "lr = LogisticRegression().fit(data_norm, data[\"spam\"].values)\n",
        "clasf_score.loc[len(clasf_score)] = [\"LR-Freq_Name\", lr.score(data_norm, data[\"spam\"].values)]\n",
        "conf_mat = confusion_matrix(data[\"spam\"].values, lr.predict(data_norm))\n",
        "fig.add_trace(\n",
        "    go.Heatmap(\n",
        "        z = conf_mat,\n",
        "        x = ['No Spam', 'Spam'],\n",
        "        y = ['No Spam', 'Spam'],\n",
        "        coloraxis=\"coloraxis\"\n",
        "    ),\n",
        "    row=1,\n",
        "    col=2\n",
        ")\n",
        "\n",
        "data_norm = preprocessing.StandardScaler().fit_transform(data.iloc[:,48:53].values)\n",
        "lr = LogisticRegression().fit(data_norm, data[\"spam\"].values)\n",
        "clasf_score.loc[len(clasf_score)] = [\"LR-Freq_Symbol\", lr.score(data_norm, data[\"spam\"].values)]\n",
        "conf_mat = confusion_matrix(data[\"spam\"].values, lr.predict(data_norm))\n",
        "fig.add_trace(\n",
        "    go.Heatmap(\n",
        "        z = conf_mat,\n",
        "        x = ['No Spam', 'Spam'],\n",
        "        y = ['No Spam', 'Spam'],\n",
        "        coloraxis=\"coloraxis\"\n",
        "    ),\n",
        "    row=1,\n",
        "    col=3\n",
        ")\n",
        "\n",
        "data_norm = preprocessing.StandardScaler().fit_transform(data.iloc[:,53:56].values)\n",
        "lr = LogisticRegression().fit(data_norm, data[\"spam\"].values)\n",
        "clasf_score.loc[len(clasf_score)] = [\"Freq_Cap_letters\", lr.score(data_norm, data[\"spam\"].values)]\n",
        "conf_mat = confusion_matrix(data[\"spam\"].values, lr.predict(data_norm))\n",
        "fig.add_trace(\n",
        "    go.Heatmap(\n",
        "        z = conf_mat,\n",
        "        x = ['No Spam', 'Spam'],\n",
        "        y = ['No Spam', 'Spam'],\n",
        "        coloraxis=\"coloraxis\"\n",
        "    ),\n",
        "    row=1,\n",
        "    col=4\n",
        ")\n",
        "\n",
        "data_norm = preprocessing.StandardScaler().fit_transform(data.iloc[:,:-1].values)\n",
        "lr = LinearDiscriminantAnalysis().fit(data_norm, data[\"spam\"].values)\n",
        "clasf_score.loc[len(clasf_score)] = [\"LDA-All\", lr.score(data_norm, data[\"spam\"].values)]\n",
        "conf_mat = confusion_matrix(data[\"spam\"].values, lr.predict(data_norm))\n",
        "fig.add_trace(\n",
        "    go.Heatmap(\n",
        "        z = conf_mat,\n",
        "        x = ['No Spam', 'Spam'],\n",
        "        y = ['No Spam', 'Spam'],\n",
        "        coloraxis=\"coloraxis\"\n",
        "    ),\n",
        "    row=1,\n",
        "    col=5\n",
        ")\n",
        "\n",
        "fig.update_layout(\n",
        "    template=\"simple_white\",\n",
        "    title=\"Confusion matrix\",\n",
        "    width=1800,\n",
        "    height=450,\n",
        "    xaxis_title=\"Predict\",\n",
        "    yaxis_title=\"True\"\n",
        ")\n",
        "fig.show()\n",
        "\n",
        "clasf_score"
      ]
    },
    {
      "attachments": {},
      "cell_type": "markdown",
      "metadata": {},
      "source": [
        "Podemos observar como el poder predictivo de la regresión logística con todas las características es el mejor. El clasificar correctamente un correo como no spam parece ser una tarea dificil, puesto que todos hacen un trabajo bastante bueno; en cambio el clasificar correctamente un correo como spam es más dificl pero a pesar de ello la regresión logística es el que mejor despeño tuvo. Son pocas las veces en que la regresión logística clasifica incorrectamente un correo. Por último podemos notar como para la regresión logística tienen desmpeños muy similares el tomar en cuenta todas las características y solo las frecuencias en el nombre del correo, con lo que indica que hay una mayor relación con esta caráteristica y la clasificación de correos spam que el resto.\n",
        "\n",
        "En los scores podemos notar en efecto como el la regresión logística tanto considerando todos las caraterísticas como solo la frecuencia del nombre, son las mejores. Aunque el LDA no hace un mal desempeño."
      ]
    },
    {
      "attachments": {},
      "cell_type": "markdown",
      "metadata": {
        "id": "CscJc9SDubC1"
      },
      "source": [
        "## Feedataorward Neural networks with sklearn\n",
        "\n",
        "We generate data from the model Y=f(X) + $\\epsilon$   with f(X) a polynomial of degree 7"
      ]
    },
    {
      "cell_type": "code",
      "execution_count": 321,
      "metadata": {
        "id": "BYatUIc9aAQH"
      },
      "outputs": [],
      "source": [
        "x = np.random.uniform(0, 2, size=300)\n",
        "x.sort()\n",
        "y_true=0.2*x**5 - x**3 + 0.03*x**7\n",
        "y = y_true + 0.5 * np.random.normal(size=300)"
      ]
    },
    {
      "attachments": {},
      "cell_type": "markdown",
      "metadata": {
        "id": "ber1js1MwCQc"
      },
      "source": [
        "We adjust a NN with one hidden layer; alpha refers to the constant of the L2 regularization term (in class we called it lambda).\n",
        "\n",
        "Different solvers are available; the solver lbfgs is recommended for small data sets (see help)"
      ]
    },
    {
      "cell_type": "code",
      "execution_count": 322,
      "metadata": {
        "colab": {
          "base_uri": "https://localhost:8080/",
          "height": 74
        },
        "id": "TotDAPtXb6FX",
        "outputId": "67cca5dd-0533-43f7-dae9-3d3ba86df3c4"
      },
      "outputs": [
        {
          "data": {
            "application/vnd.plotly.v1+json": {
              "config": {
                "plotlyServerURL": "https://plot.ly"
              },
              "data": [
                {
                  "mode": "markers",
                  "name": "train_data",
                  "type": "scatter",
                  "x": [
                    0.004714759968180049,
                    0.005105270933564832,
                    0.034427906340712244,
                    0.042671918967729594,
                    0.045144342143295324,
                    0.047401631807490796,
                    0.057076136571773795,
                    0.06266809966185205,
                    0.07024430159160633,
                    0.08096877800743396,
                    0.08878097326652346,
                    0.09068980938198679,
                    0.10135093423556074,
                    0.10217943693890974,
                    0.10968375935140351,
                    0.11106944375556305,
                    0.11963614986312465,
                    0.1203994663562804,
                    0.12144919496251716,
                    0.12696919248079674,
                    0.12903907998544417,
                    0.14609020467016887,
                    0.14735696790405628,
                    0.14837381570326102,
                    0.1516108594825074,
                    0.15309908926994154,
                    0.17403785033969554,
                    0.17935096145820895,
                    0.19233738944730727,
                    0.19271966161871634,
                    0.19397038395522048,
                    0.20226783128489956,
                    0.22694319770707994,
                    0.23211998944899004,
                    0.23377332163092213,
                    0.23710582970477012,
                    0.24918160523350275,
                    0.26151503963950895,
                    0.2661392076223925,
                    0.27104393263776205,
                    0.27369410865259414,
                    0.27575337427980284,
                    0.2768545616392648,
                    0.2825898265271154,
                    0.2971690419385118,
                    0.30722848841350214,
                    0.31266491183686806,
                    0.32227274464187894,
                    0.32242659290754827,
                    0.32842459432037563,
                    0.3551621858667202,
                    0.3578084281399716,
                    0.3641540432969341,
                    0.36926929880244175,
                    0.3738037638209655,
                    0.39908677422300265,
                    0.4045639967081156,
                    0.4166852450226779,
                    0.42438091205005146,
                    0.42570882520126263,
                    0.42778627350031484,
                    0.43172937269574296,
                    0.4337877626017781,
                    0.44101111603752097,
                    0.4445861538476654,
                    0.46568570744655746,
                    0.47139576144892525,
                    0.47392776892550126,
                    0.4769499503109782,
                    0.4769810271922921,
                    0.47742135780319606,
                    0.4869877176180153,
                    0.4932652981295871,
                    0.49531615583572286,
                    0.49565655700776,
                    0.5054441367274896,
                    0.5096406862182699,
                    0.5116723697624708,
                    0.51481481889041,
                    0.5200408938241587,
                    0.5217440800312632,
                    0.522079100235346,
                    0.5254541148399829,
                    0.5360082063103557,
                    0.5380618231565812,
                    0.5427080446752726,
                    0.5614799090859663,
                    0.5711711660686716,
                    0.5716861134160633,
                    0.5814226057373237,
                    0.5885586348201113,
                    0.593209684236768,
                    0.5933365906602497,
                    0.5943872460559698,
                    0.599513157885452,
                    0.6151944107779448,
                    0.6175790358480286,
                    0.6179887133815063,
                    0.6225526400213652,
                    0.6347507281014628,
                    0.6390952968161374,
                    0.6425899289356438,
                    0.6565308641878185,
                    0.656880857801126,
                    0.6646377320286332,
                    0.6744513445982285,
                    0.6765061215598531,
                    0.6887022409169747,
                    0.6916236625030512,
                    0.6990616556352987,
                    0.7026255960216821,
                    0.7040045565897584,
                    0.7051909179902529,
                    0.7097798489395022,
                    0.7196725315391992,
                    0.7266251994553263,
                    0.7330688155871243,
                    0.7615672859784237,
                    0.7701597346347888,
                    0.7823445084249707,
                    0.7853700080212067,
                    0.7976350797342335,
                    0.7987644968251566,
                    0.8170097785484483,
                    0.8224111162739502,
                    0.8339002142891798,
                    0.8404856404649113,
                    0.8406186489925576,
                    0.8431344399805643,
                    0.852943785011135,
                    0.8630634125972294,
                    0.8687113209469883,
                    0.8737917641886919,
                    0.8746224200195927,
                    0.8752604124992487,
                    0.8930378568354393,
                    0.8951841716242601,
                    0.9053388098806519,
                    0.9135444324475621,
                    0.915811417654024,
                    0.9161244169761198,
                    0.92201323888558,
                    0.9261876942444796,
                    0.9287086566043727,
                    0.9287294699518347,
                    0.9301511080233764,
                    0.9308374578088987,
                    0.9414192462099564,
                    0.9418698020564809,
                    0.9594453425722616,
                    0.9675622666063337,
                    0.9738297259900635,
                    0.9894980586158673,
                    1.0141481602254832,
                    1.0285203219463521,
                    1.034739317582537,
                    1.0508305539235432,
                    1.0521211550431302,
                    1.0527348717091642,
                    1.0663950477681927,
                    1.0685872761590278,
                    1.0744350609227995,
                    1.076090528808014,
                    1.0862116920190141,
                    1.086796382048472,
                    1.0922248314414693,
                    1.0933367560424407,
                    1.0985785679923603,
                    1.1114749135224902,
                    1.1120472741704108,
                    1.114841987853759,
                    1.1161903621976472,
                    1.1230984245694993,
                    1.1339113530877247,
                    1.1545658579524016,
                    1.1546261134140479,
                    1.1567204575527334,
                    1.1681705291806435,
                    1.175502307462904,
                    1.1780232133923874,
                    1.178522495689818,
                    1.1791494605217312,
                    1.1837042450818858,
                    1.1860084393397787,
                    1.1862506387973193,
                    1.1937711718516961,
                    1.1960126909498674,
                    1.2064748434493273,
                    1.208619764136978,
                    1.2178024747430678,
                    1.2198011074271007,
                    1.2216587536225583,
                    1.2260755799808716,
                    1.2343392334845087,
                    1.2416320905160318,
                    1.2483673916732105,
                    1.260111303842802,
                    1.263176490316066,
                    1.273572467806244,
                    1.3012869027931107,
                    1.305188743067422,
                    1.3094068740569509,
                    1.337552626228867,
                    1.3447902878007376,
                    1.345594037871381,
                    1.3460842540686881,
                    1.352216169760434,
                    1.3539255299433408,
                    1.3555318062421755,
                    1.3623805676951883,
                    1.3663481482759932,
                    1.3671173714072693,
                    1.386083194018829,
                    1.3909627165636995,
                    1.3979491763960759,
                    1.3985593196943327,
                    1.401141960494687,
                    1.4022082789861807,
                    1.4030790270108424,
                    1.4050242146181189,
                    1.4089472053194676,
                    1.4238517058473557,
                    1.4244337131607665,
                    1.4363885768197928,
                    1.4375299835595252,
                    1.4496775681084286,
                    1.4565991469921888,
                    1.4712540431389356,
                    1.480395906765039,
                    1.5120610250828908,
                    1.5122840561368993,
                    1.5220862510971487,
                    1.523195035974053,
                    1.5236837358658888,
                    1.5477392594011685,
                    1.5502515048102807,
                    1.5530906385760233,
                    1.5636688898864326,
                    1.5784117649786487,
                    1.5811013037023882,
                    1.59018396970051,
                    1.5948220486327946,
                    1.6001414869303727,
                    1.605505801916242,
                    1.6113132027297188,
                    1.6141022997004348,
                    1.6221128494590742,
                    1.6339254565403774,
                    1.637718120801238,
                    1.643581442310602,
                    1.6448060333275403,
                    1.6473339279467396,
                    1.658473266074391,
                    1.664468508297506,
                    1.665490592599914,
                    1.6746629440990075,
                    1.6747813729848349,
                    1.6829769555288896,
                    1.6861604342264875,
                    1.6867260433200582,
                    1.698442233550036,
                    1.7111799910741896,
                    1.7143861018991668,
                    1.7288323331509716,
                    1.7369257389739399,
                    1.7457950126146282,
                    1.751101151099048,
                    1.7517679600734586,
                    1.768519481868157,
                    1.7854472456345647,
                    1.8127042033892151,
                    1.823254642441494,
                    1.829705346527962,
                    1.8309215047043388,
                    1.8327845488622754,
                    1.8472710595242643,
                    1.8499843578141877,
                    1.8566733913630462,
                    1.8636491017659755,
                    1.8675109822635065,
                    1.8765433719139546,
                    1.8878805527028617,
                    1.8981951780817026,
                    1.9002518038388108,
                    1.909288818262184,
                    1.9105558853272386,
                    1.92506647336175,
                    1.9352843174408412,
                    1.9396997447214233,
                    1.9453932448615356,
                    1.952929757625264,
                    1.9703663320860603,
                    1.9714099430422813,
                    1.972205543758984,
                    1.973627951843793,
                    1.977922662982867,
                    1.9887586159507,
                    1.9932809007893912,
                    1.9956779432353908,
                    1.9995298475432923
                  ],
                  "y": [
                    -0.24763603310599644,
                    -0.34108756956545055,
                    0.6191684560041358,
                    1.2187726212923773,
                    0.899302353815232,
                    0.8226413929924344,
                    -0.03198371627166303,
                    -0.3755429513755604,
                    -0.17444993321100016,
                    -0.26638112513657813,
                    -0.11433970699929837,
                    0.3762880276095683,
                    -0.3013982227499913,
                    0.0836195078473091,
                    -0.9601631256137273,
                    0.23073088956439555,
                    -0.30863290702105417,
                    -0.2857560821626097,
                    -0.527456839205721,
                    -0.1889363772262181,
                    -0.7395017303565921,
                    -0.19234713256958794,
                    -0.3340673400364001,
                    -0.5380857607016416,
                    0.20023175779093347,
                    1.2971899053890672,
                    -0.009889003973646305,
                    -1.2683352392111404,
                    0.11280610678458862,
                    -1.797631661970156,
                    -0.16298080275670226,
                    -0.5806087021441009,
                    -0.04628568283268915,
                    0.12855886331265776,
                    -0.5087174310169067,
                    0.30248039255722536,
                    -0.7202773986457963,
                    0.015171318424412553,
                    0.3835712866765106,
                    0.054941097787593055,
                    0.18237612616098375,
                    -0.13730873552580586,
                    -0.4924346938684104,
                    -0.04890448845131657,
                    -0.00754878701926957,
                    -0.00812362885072239,
                    0.20304456371337196,
                    -0.13584886346986302,
                    -0.7616531544853651,
                    0.06388646805276428,
                    -0.2947928956312962,
                    0.19923214641397924,
                    0.7030400717871371,
                    -0.09066671668848511,
                    0.43100120308662027,
                    0.41338532293692787,
                    -0.6641787320012238,
                    0.828782392323399,
                    0.059526351485796575,
                    0.0981103166232045,
                    -0.05369550770474402,
                    0.10091045535089556,
                    0.36189570456268094,
                    -1.095457466534508,
                    -0.14248940259987186,
                    0.48756886904425445,
                    0.1931655211440802,
                    -0.40479859100872834,
                    -0.002104425754518191,
                    -0.12627691387553996,
                    0.14637900090603345,
                    0.8858055978611367,
                    -0.2792404690003513,
                    -0.8444386539399136,
                    -0.69721980425293,
                    -0.5679639854969047,
                    -0.014413514506085301,
                    -0.24964946202363097,
                    0.04103195946211974,
                    -0.13783552317271425,
                    -0.18904467642329395,
                    0.3072406649916928,
                    -0.07404268667217985,
                    -0.9603673246996447,
                    0.6447111984848133,
                    0.6324526202962688,
                    -0.23665554596389654,
                    -0.5836923586718135,
                    -1.1921129808110977,
                    -0.11759913818213663,
                    -0.25354371442158974,
                    -0.0349029938634309,
                    0.13721495328307448,
                    -0.5050595628189464,
                    -0.09232500309051835,
                    -0.10167251390336109,
                    -1.0967052725330135,
                    -1.5837300836598718,
                    -0.10718456005004587,
                    0.0430101461980231,
                    -0.8536735540988043,
                    -0.1645323054232976,
                    -0.8637286474309198,
                    0.31981800482488637,
                    0.09101756084989121,
                    -1.3267514760916421,
                    0.21427564024219514,
                    0.18507872631530675,
                    -0.6550091615829199,
                    -0.1685058770378427,
                    -0.8496902288470127,
                    -0.6204547256950113,
                    0.43744316382282344,
                    -0.6487016439697939,
                    -1.0136299048626545,
                    -0.049124445462901345,
                    -1.042174679448611,
                    -0.7400562984544257,
                    -0.1975601223562385,
                    -0.004806334509354582,
                    -0.6235180239924092,
                    -0.5484884261837832,
                    -0.17241330909432567,
                    -0.03036505093348818,
                    0.05675295919435841,
                    -0.9868384686727381,
                    -0.4472351112970661,
                    -0.10261066393121154,
                    -0.12063947127878305,
                    -1.6363760114005612,
                    -1.218130901552296,
                    0.059189634884027176,
                    -0.6887783570182766,
                    -0.3825049457001509,
                    -1.387101295135239,
                    -0.4082107324719395,
                    -1.2056340145412787,
                    -1.0012091724329175,
                    0.029425980597293067,
                    -0.7002655352854128,
                    -0.3583699579412822,
                    -0.8250104410751484,
                    -0.04351982225852613,
                    -0.3809850376235045,
                    -0.07134224911012355,
                    -0.7045582018775383,
                    0.14153587604226336,
                    -1.0300458920015658,
                    -0.3980046749365553,
                    -0.6475350147844553,
                    -0.9697109260543689,
                    0.09010280891722011,
                    -0.4339385791108788,
                    0.09690001513307522,
                    -0.9212059889381603,
                    0.04262552283415255,
                    -0.7829669235035995,
                    -0.06635781024187626,
                    -0.2743828172189344,
                    -1.3459358226785012,
                    -0.9741657687478251,
                    -1.2899547759402152,
                    -0.8976024796490932,
                    -0.41036291663218927,
                    -1.2804008397113473,
                    -0.7610141269425439,
                    -1.7479189253248313,
                    -1.2068096719655599,
                    -1.141113888810238,
                    -0.6575001169933118,
                    -0.6636409211484184,
                    -1.0018845877157727,
                    -0.6424105696865481,
                    -0.8507483347398013,
                    -1.6663129822165659,
                    -0.23348333198033744,
                    -0.6673130188465879,
                    0.013808379635616097,
                    -1.1609918950867064,
                    -1.658230227515324,
                    -0.20900573300344727,
                    -1.9464800547940642,
                    -0.8806328196564588,
                    -0.9660977167083757,
                    -0.7208425778285833,
                    -0.6071660110036058,
                    -1.277704899481095,
                    -1.2015102382766631,
                    -0.29940621678409873,
                    -1.1685793816134353,
                    -1.4035741032411706,
                    -0.4703379315957371,
                    -1.361974219623074,
                    -0.8393689844123668,
                    -0.8966093090124498,
                    -0.6128874558453608,
                    -0.8806850511273985,
                    -1.823074552470427,
                    -1.3746554471767927,
                    -0.46489847082077873,
                    -0.8892692765818146,
                    -0.9264187432184816,
                    -1.1164370636881094,
                    -0.5066344127174214,
                    -2.3442206099349665,
                    -0.5380687894967758,
                    -1.6822207859388079,
                    -1.6344532501069875,
                    -1.3211849153667499,
                    -1.857949430401896,
                    -1.5697381201464102,
                    -1.9970753093599134,
                    -0.39724608598580347,
                    -1.566859617344006,
                    -0.9165995823590556,
                    -1.124200512907342,
                    -1.622559270614615,
                    -0.5240170263168807,
                    -0.656209584042555,
                    -1.121834343238888,
                    -0.9948890308301852,
                    -1.4327443682946943,
                    -1.9638590446128497,
                    -1.5024517899232177,
                    -1.7326173308739028,
                    -1.3554547396998136,
                    -1.2630773113459282,
                    -1.3520433083757768,
                    -0.9880044437024742,
                    -1.994787505028525,
                    -1.8012743160873146,
                    -1.3840389850918555,
                    -0.8235001045159667,
                    -2.5497987675355933,
                    -0.4034817044131035,
                    -1.2562042320484004,
                    -1.0969803214785356,
                    -2.233273400582011,
                    -0.7922909166779677,
                    -1.1286460244086223,
                    -1.4882604073637036,
                    -0.4245031341030514,
                    -1.0506499313320006,
                    -0.8382159035487222,
                    -0.482422276879758,
                    -0.9175257220584955,
                    -2.1050060560493846,
                    -1.4497457235116549,
                    -1.2126771897196302,
                    -1.4186468337699407,
                    -1.106547432792241,
                    -0.9523517764964392,
                    -1.264014466308101,
                    -1.7254313009818285,
                    -1.214370358209351,
                    -0.6466594729122841,
                    -1.856019692904864,
                    -1.0753880911933615,
                    -0.5902304620332586,
                    -1.5549743889774803,
                    0.40152742686035126,
                    -1.0769260491540513,
                    -0.6887033164769901,
                    -0.4759668248853912,
                    -0.12422760693272894,
                    -0.7540211727199863,
                    -0.8535534168676259,
                    -0.06558171599238821,
                    -0.011512606118767366,
                    -0.17725244670438453,
                    -0.03832579852139335,
                    0.18470702555874066,
                    -0.7586056966095449,
                    -0.1632797323494195,
                    -0.1321575615848172,
                    1.0610543620079513,
                    0.5715848351202506,
                    0.7813863335928029,
                    0.016525575715079066,
                    0.27166729826157254,
                    0.3006618723680034,
                    0.42809690103575937,
                    0.7060137027350585,
                    1.1354053930850165,
                    1.2775632955097525,
                    0.9905650834294045,
                    0.6396745597360496,
                    0.9026869820743768,
                    0.8615019615356618,
                    1.5956954819403633,
                    1.5564893767455956,
                    1.442806472894028,
                    1.209803210914542,
                    1.6992707810285097,
                    0.5358296093751216,
                    3.106565940269521,
                    1.544724905434904,
                    1.6930500690386316,
                    2.151138944693513,
                    2.0639107243134758
                  ]
                },
                {
                  "name": "Verdadero valor",
                  "type": "scatter",
                  "x": [
                    0.004714759968180049,
                    0.005105270933564832,
                    0.034427906340712244,
                    0.042671918967729594,
                    0.045144342143295324,
                    0.047401631807490796,
                    0.057076136571773795,
                    0.06266809966185205,
                    0.07024430159160633,
                    0.08096877800743396,
                    0.08878097326652346,
                    0.09068980938198679,
                    0.10135093423556074,
                    0.10217943693890974,
                    0.10968375935140351,
                    0.11106944375556305,
                    0.11963614986312465,
                    0.1203994663562804,
                    0.12144919496251716,
                    0.12696919248079674,
                    0.12903907998544417,
                    0.14609020467016887,
                    0.14735696790405628,
                    0.14837381570326102,
                    0.1516108594825074,
                    0.15309908926994154,
                    0.17403785033969554,
                    0.17935096145820895,
                    0.19233738944730727,
                    0.19271966161871634,
                    0.19397038395522048,
                    0.20226783128489956,
                    0.22694319770707994,
                    0.23211998944899004,
                    0.23377332163092213,
                    0.23710582970477012,
                    0.24918160523350275,
                    0.26151503963950895,
                    0.2661392076223925,
                    0.27104393263776205,
                    0.27369410865259414,
                    0.27575337427980284,
                    0.2768545616392648,
                    0.2825898265271154,
                    0.2971690419385118,
                    0.30722848841350214,
                    0.31266491183686806,
                    0.32227274464187894,
                    0.32242659290754827,
                    0.32842459432037563,
                    0.3551621858667202,
                    0.3578084281399716,
                    0.3641540432969341,
                    0.36926929880244175,
                    0.3738037638209655,
                    0.39908677422300265,
                    0.4045639967081156,
                    0.4166852450226779,
                    0.42438091205005146,
                    0.42570882520126263,
                    0.42778627350031484,
                    0.43172937269574296,
                    0.4337877626017781,
                    0.44101111603752097,
                    0.4445861538476654,
                    0.46568570744655746,
                    0.47139576144892525,
                    0.47392776892550126,
                    0.4769499503109782,
                    0.4769810271922921,
                    0.47742135780319606,
                    0.4869877176180153,
                    0.4932652981295871,
                    0.49531615583572286,
                    0.49565655700776,
                    0.5054441367274896,
                    0.5096406862182699,
                    0.5116723697624708,
                    0.51481481889041,
                    0.5200408938241587,
                    0.5217440800312632,
                    0.522079100235346,
                    0.5254541148399829,
                    0.5360082063103557,
                    0.5380618231565812,
                    0.5427080446752726,
                    0.5614799090859663,
                    0.5711711660686716,
                    0.5716861134160633,
                    0.5814226057373237,
                    0.5885586348201113,
                    0.593209684236768,
                    0.5933365906602497,
                    0.5943872460559698,
                    0.599513157885452,
                    0.6151944107779448,
                    0.6175790358480286,
                    0.6179887133815063,
                    0.6225526400213652,
                    0.6347507281014628,
                    0.6390952968161374,
                    0.6425899289356438,
                    0.6565308641878185,
                    0.656880857801126,
                    0.6646377320286332,
                    0.6744513445982285,
                    0.6765061215598531,
                    0.6887022409169747,
                    0.6916236625030512,
                    0.6990616556352987,
                    0.7026255960216821,
                    0.7040045565897584,
                    0.7051909179902529,
                    0.7097798489395022,
                    0.7196725315391992,
                    0.7266251994553263,
                    0.7330688155871243,
                    0.7615672859784237,
                    0.7701597346347888,
                    0.7823445084249707,
                    0.7853700080212067,
                    0.7976350797342335,
                    0.7987644968251566,
                    0.8170097785484483,
                    0.8224111162739502,
                    0.8339002142891798,
                    0.8404856404649113,
                    0.8406186489925576,
                    0.8431344399805643,
                    0.852943785011135,
                    0.8630634125972294,
                    0.8687113209469883,
                    0.8737917641886919,
                    0.8746224200195927,
                    0.8752604124992487,
                    0.8930378568354393,
                    0.8951841716242601,
                    0.9053388098806519,
                    0.9135444324475621,
                    0.915811417654024,
                    0.9161244169761198,
                    0.92201323888558,
                    0.9261876942444796,
                    0.9287086566043727,
                    0.9287294699518347,
                    0.9301511080233764,
                    0.9308374578088987,
                    0.9414192462099564,
                    0.9418698020564809,
                    0.9594453425722616,
                    0.9675622666063337,
                    0.9738297259900635,
                    0.9894980586158673,
                    1.0141481602254832,
                    1.0285203219463521,
                    1.034739317582537,
                    1.0508305539235432,
                    1.0521211550431302,
                    1.0527348717091642,
                    1.0663950477681927,
                    1.0685872761590278,
                    1.0744350609227995,
                    1.076090528808014,
                    1.0862116920190141,
                    1.086796382048472,
                    1.0922248314414693,
                    1.0933367560424407,
                    1.0985785679923603,
                    1.1114749135224902,
                    1.1120472741704108,
                    1.114841987853759,
                    1.1161903621976472,
                    1.1230984245694993,
                    1.1339113530877247,
                    1.1545658579524016,
                    1.1546261134140479,
                    1.1567204575527334,
                    1.1681705291806435,
                    1.175502307462904,
                    1.1780232133923874,
                    1.178522495689818,
                    1.1791494605217312,
                    1.1837042450818858,
                    1.1860084393397787,
                    1.1862506387973193,
                    1.1937711718516961,
                    1.1960126909498674,
                    1.2064748434493273,
                    1.208619764136978,
                    1.2178024747430678,
                    1.2198011074271007,
                    1.2216587536225583,
                    1.2260755799808716,
                    1.2343392334845087,
                    1.2416320905160318,
                    1.2483673916732105,
                    1.260111303842802,
                    1.263176490316066,
                    1.273572467806244,
                    1.3012869027931107,
                    1.305188743067422,
                    1.3094068740569509,
                    1.337552626228867,
                    1.3447902878007376,
                    1.345594037871381,
                    1.3460842540686881,
                    1.352216169760434,
                    1.3539255299433408,
                    1.3555318062421755,
                    1.3623805676951883,
                    1.3663481482759932,
                    1.3671173714072693,
                    1.386083194018829,
                    1.3909627165636995,
                    1.3979491763960759,
                    1.3985593196943327,
                    1.401141960494687,
                    1.4022082789861807,
                    1.4030790270108424,
                    1.4050242146181189,
                    1.4089472053194676,
                    1.4238517058473557,
                    1.4244337131607665,
                    1.4363885768197928,
                    1.4375299835595252,
                    1.4496775681084286,
                    1.4565991469921888,
                    1.4712540431389356,
                    1.480395906765039,
                    1.5120610250828908,
                    1.5122840561368993,
                    1.5220862510971487,
                    1.523195035974053,
                    1.5236837358658888,
                    1.5477392594011685,
                    1.5502515048102807,
                    1.5530906385760233,
                    1.5636688898864326,
                    1.5784117649786487,
                    1.5811013037023882,
                    1.59018396970051,
                    1.5948220486327946,
                    1.6001414869303727,
                    1.605505801916242,
                    1.6113132027297188,
                    1.6141022997004348,
                    1.6221128494590742,
                    1.6339254565403774,
                    1.637718120801238,
                    1.643581442310602,
                    1.6448060333275403,
                    1.6473339279467396,
                    1.658473266074391,
                    1.664468508297506,
                    1.665490592599914,
                    1.6746629440990075,
                    1.6747813729848349,
                    1.6829769555288896,
                    1.6861604342264875,
                    1.6867260433200582,
                    1.698442233550036,
                    1.7111799910741896,
                    1.7143861018991668,
                    1.7288323331509716,
                    1.7369257389739399,
                    1.7457950126146282,
                    1.751101151099048,
                    1.7517679600734586,
                    1.768519481868157,
                    1.7854472456345647,
                    1.8127042033892151,
                    1.823254642441494,
                    1.829705346527962,
                    1.8309215047043388,
                    1.8327845488622754,
                    1.8472710595242643,
                    1.8499843578141877,
                    1.8566733913630462,
                    1.8636491017659755,
                    1.8675109822635065,
                    1.8765433719139546,
                    1.8878805527028617,
                    1.8981951780817026,
                    1.9002518038388108,
                    1.909288818262184,
                    1.9105558853272386,
                    1.92506647336175,
                    1.9352843174408412,
                    1.9396997447214233,
                    1.9453932448615356,
                    1.952929757625264,
                    1.9703663320860603,
                    1.9714099430422813,
                    1.972205543758984,
                    1.973627951843793,
                    1.977922662982867,
                    1.9887586159507,
                    1.9932809007893912,
                    1.9956779432353908,
                    1.9995298475432923
                  ],
                  "y": [
                    -1.048037521464242e-7,
                    -1.3306202254195196e-7,
                    -0.00004079705892516293,
                    -0.00007767267963496576,
                    -0.00009196718141463499,
                    -0.00010645954446762943,
                    -0.00018581489139886417,
                    -0.0002459224183677727,
                    -0.0003462614815342126,
                    -0.0005301299960037626,
                    -0.0006986726245554947,
                    -0.0007446627210347447,
                    -0.0010389359109758218,
                    -0.0010645873023727064,
                    -0.0013163727213431847,
                    -0.0013668125283742406,
                    -0.0017074171135776355,
                    -0.0017402434275346444,
                    -0.0017860681424153742,
                    -0.002040277055639699,
                    -0.0021414672703133145,
                    -0.0031045566717795175,
                    -0.0031857793441795244,
                    -0.0032519888793630285,
                    -0.0034688289462506184,
                    -0.0035716585067048293,
                    -0.005239383882962686,
                    -0.005731846654742912,
                    -0.0070623300914000615,
                    -0.0071043100966992736,
                    -0.007242813647803142,
                    -0.008207109959322868,
                    -0.011566977125890459,
                    -0.012370693917088192,
                    -0.012634921013989348,
                    -0.01317875097083822,
                    -0.015278126747494063,
                    -0.017637902278478296,
                    -0.018580784879975356,
                    -0.019616398816584012,
                    -0.020191399561373655,
                    -0.02064574320548894,
                    -0.020891429197353453,
                    -0.022202038178863764,
                    -0.02577319389124262,
                    -0.028443903495880822,
                    -0.0299595333566638,
                    -0.032765065179274175,
                    -0.03281132661167491,
                    -0.034648201469956896,
                    -0.0436486149032604,
                    -0.04461360903592574,
                    -0.046983600718794497,
                    -0.0489521664934365,
                    -0.050741078957934505,
                    -0.06148955187726166,
                    -0.06399505967626976,
                    -0.06976991460035714,
                    -0.07360325371365581,
                    -0.07427798260126468,
                    -0.07534144370894977,
                    -0.07738650690563915,
                    -0.07846795893820557,
                    -0.08233887531011715,
                    -0.08429866492539205,
                    -0.09646739066030882,
                    -0.09994013142904118,
                    -0.10150484859466213,
                    -0.10339252424016426,
                    -0.10341204864016296,
                    -0.10368894008569661,
                    -0.10981971830855962,
                    -0.11396328403775674,
                    -0.11533779714608168,
                    -0.11556693450463633,
                    -0.12227713973006733,
                    -0.12522669573123715,
                    -0.12667038119842405,
                    -0.12892361116940734,
                    -0.13272551323436999,
                    -0.13397935300268357,
                    -0.1342268436981667,
                    -0.13673583670667383,
                    -0.14476752389491793,
                    -0.14636319255084557,
                    -0.15001301736131287,
                    -0.16532324316265815,
                    -0.17358394768578753,
                    -0.17402971625996153,
                    -0.18258844966055185,
                    -0.18901885359149312,
                    -0.1932819764515984,
                    -0.19339909549209222,
                    -0.19437034962061492,
                    -0.1991505798256387,
                    -0.2142050695313525,
                    -0.2165513787797818,
                    -0.21695599033848748,
                    -0.22149356774710852,
                    -0.23389247196824484,
                    -0.23840397715688222,
                    -0.2420692691249498,
                    -0.2570137703053755,
                    -0.25739559806544815,
                    -0.2659414076978575,
                    -0.2769815681636325,
                    -0.2793254176778416,
                    -0.29346666741868493,
                    -0.2969121743230094,
                    -0.3057856362479531,
                    -0.31008873638856777,
                    -0.31176259980055104,
                    -0.3132066474806907,
                    -0.3188268718998696,
                    -0.33112890683062735,
                    -0.339926298376882,
                    -0.34819050365844745,
                    -0.38600447284549416,
                    -0.397803768205594,
                    -0.4148459790734999,
                    -0.4191332803868451,
                    -0.43673730838906993,
                    -0.4383762413855447,
                    -0.4652625059027495,
                    -0.47336764487905836,
                    -0.4908238437772362,
                    -0.500959543940053,
                    -0.5011652200831873,
                    -0.5050625945630468,
                    -0.5203864590581626,
                    -0.5364033473330446,
                    -0.5454322268711644,
                    -0.5536075688331151,
                    -0.554949010213138,
                    -0.5559802188282819,
                    -0.5850225481260138,
                    -0.5885680763723037,
                    -0.6054523794632787,
                    -0.6192242603718058,
                    -0.6230485912046276,
                    -0.6235772635505971,
                    -0.6335528680947806,
                    -0.6406571655207707,
                    -0.6449603377656807,
                    -0.6449959050526423,
                    -0.6474268295739979,
                    -0.6486015263383176,
                    -0.666798718912389,
                    -0.6675770343706097,
                    -0.6981469736790527,
                    -0.71239350252888,
                    -0.7234444082031131,
                    -0.7512446821256126,
                    -0.7953933815645391,
                    -0.8213034081080777,
                    -0.8325409295013521,
                    -0.8616594736317208,
                    -0.8639962966504937,
                    -0.865107540198671,
                    -0.889837267020816,
                    -0.893803705089414,
                    -0.9043784622204751,
                    -0.9073702633448805,
                    -0.9256380849671847,
                    -0.9266919572549507,
                    -0.9364674413043342,
                    -0.938467627406951,
                    -0.947885867182945,
                    -0.9709669123375062,
                    -0.9719878717719748,
                    -0.9769683616969695,
                    -0.9793684812469382,
                    -0.991634004227587,
                    -1.0107173397866025,
                    -1.0466962227486392,
                    -1.0468001413827053,
                    -1.0504079911680284,
                    -1.0699831975255876,
                    -1.0823745943868515,
                    -1.0866073911132546,
                    -1.0874439800219544,
                    -1.0884936847873457,
                    -1.0960914491596954,
                    -1.0999157358269684,
                    -1.1003169456875541,
                    -1.1126997056107106,
                    -1.1163613760507944,
                    -1.1332647799148068,
                    -1.136690541589554,
                    -1.1511945068666904,
                    -1.1543152146744686,
                    -1.157203811060784,
                    -1.1640245668386258,
                    -1.1766003187478247,
                    -1.187487764997265,
                    -1.1973576384208167,
                    -1.2141157775499978,
                    -1.2183906582395796,
                    -1.2325670992630011,
                    -1.267708376457098,
                    -1.2723193112354088,
                    -1.2772040299424576,
                    -1.3069543251082778,
                    -1.3137470420681714,
                    -1.3144783600547827,
                    -1.3149221071805945,
                    -1.3203242058321296,
                    -1.3217803994841701,
                    -1.3231287107451264,
                    -1.3286557365859832,
                    -1.3316898635389096,
                    -1.3322636007368003,
                    -1.3448616505058217,
                    -1.347602844815745,
                    -1.3511542486940415,
                    -1.3514431275052137,
                    -1.352627480823342,
                    -1.3530982285998525,
                    -1.3534746747555673,
                    -1.354289619061055,
                    -1.35582277058173,
                    -1.3602603131724804,
                    -1.3603877712719736,
                    -1.3622135928596482,
                    -1.362307366546328,
                    -1.3624044943103026,
                    -1.3617025730278125,
                    -1.358317833642761,
                    -1.354845915948626,
                    -1.3341356984913477,
                    -1.3339394910689053,
                    -1.3245840018698751,
                    -1.323434371110885,
                    -1.3229216895820732,
                    -1.293021449002431,
                    -1.2893542566489953,
                    -1.285081591928199,
                    -1.2679411031833103,
                    -1.2407344583432107,
                    -1.2353409232463919,
                    -1.2161158402132939,
                    -1.2056856894564185,
                    -1.1932023137748269,
                    -1.180040321037184,
                    -1.1651303142408604,
                    -1.157721578411799,
                    -1.1355320234887163,
                    -1.1002840243506,
                    -1.0883120884231239,
                    -1.0691630673351904,
                    -1.0650642975513072,
                    -1.0564935954993198,
                    -1.016937829653616,
                    -0.9944171362360195,
                    -0.99049013825776,
                    -0.9540872686590438,
                    -0.9536034425687685,
                    -0.9192508877108261,
                    -0.9054388041516701,
                    -0.9029570689108002,
                    -0.849637789425457,
                    -0.7874261381268033,
                    -0.7710517552024878,
                    -0.6935934923550726,
                    -0.647500400243282,
                    -0.5946956615687813,
                    -0.5619336526485272,
                    -0.5577536490418884,
                    -0.4480368139169939,
                    -0.3276669302071802,
                    -0.11261814522776104,
                    -0.021988377761143596,
                    0.035538018102855506,
                    0.04656619391066119,
                    0.06357369768299259,
                    0.20057201527603086,
                    0.2271838809129445,
                    0.294100003532896,
                    0.365898761965437,
                    0.40654604882012224,
                    0.504156933005389,
                    0.631822981969576,
                    0.7530846509001927,
                    0.777856942039667,
                    0.8890920397076001,
                    0.9050017624837552,
                    1.0928162971823907,
                    1.2314008641143945,
                    1.29294594026155,
                    1.3738079936101522,
                    1.4834860477614757,
                    1.7490625768381944,
                    1.7654926382718292,
                    1.7780593680168124,
                    1.8006157769656355,
                    1.8694178442190865,
                    2.0477278989152787,
                    2.124173323610231,
                    2.1651848061831758,
                    2.2318072053490434
                  ]
                },
                {
                  "name": "LR",
                  "type": "scatter",
                  "x": [
                    0.004714759968180049,
                    0.005105270933564832,
                    0.034427906340712244,
                    0.042671918967729594,
                    0.045144342143295324,
                    0.047401631807490796,
                    0.057076136571773795,
                    0.06266809966185205,
                    0.07024430159160633,
                    0.08096877800743396,
                    0.08878097326652346,
                    0.09068980938198679,
                    0.10135093423556074,
                    0.10217943693890974,
                    0.10968375935140351,
                    0.11106944375556305,
                    0.11963614986312465,
                    0.1203994663562804,
                    0.12144919496251716,
                    0.12696919248079674,
                    0.12903907998544417,
                    0.14609020467016887,
                    0.14735696790405628,
                    0.14837381570326102,
                    0.1516108594825074,
                    0.15309908926994154,
                    0.17403785033969554,
                    0.17935096145820895,
                    0.19233738944730727,
                    0.19271966161871634,
                    0.19397038395522048,
                    0.20226783128489956,
                    0.22694319770707994,
                    0.23211998944899004,
                    0.23377332163092213,
                    0.23710582970477012,
                    0.24918160523350275,
                    0.26151503963950895,
                    0.2661392076223925,
                    0.27104393263776205,
                    0.27369410865259414,
                    0.27575337427980284,
                    0.2768545616392648,
                    0.2825898265271154,
                    0.2971690419385118,
                    0.30722848841350214,
                    0.31266491183686806,
                    0.32227274464187894,
                    0.32242659290754827,
                    0.32842459432037563,
                    0.3551621858667202,
                    0.3578084281399716,
                    0.3641540432969341,
                    0.36926929880244175,
                    0.3738037638209655,
                    0.39908677422300265,
                    0.4045639967081156,
                    0.4166852450226779,
                    0.42438091205005146,
                    0.42570882520126263,
                    0.42778627350031484,
                    0.43172937269574296,
                    0.4337877626017781,
                    0.44101111603752097,
                    0.4445861538476654,
                    0.46568570744655746,
                    0.47139576144892525,
                    0.47392776892550126,
                    0.4769499503109782,
                    0.4769810271922921,
                    0.47742135780319606,
                    0.4869877176180153,
                    0.4932652981295871,
                    0.49531615583572286,
                    0.49565655700776,
                    0.5054441367274896,
                    0.5096406862182699,
                    0.5116723697624708,
                    0.51481481889041,
                    0.5200408938241587,
                    0.5217440800312632,
                    0.522079100235346,
                    0.5254541148399829,
                    0.5360082063103557,
                    0.5380618231565812,
                    0.5427080446752726,
                    0.5614799090859663,
                    0.5711711660686716,
                    0.5716861134160633,
                    0.5814226057373237,
                    0.5885586348201113,
                    0.593209684236768,
                    0.5933365906602497,
                    0.5943872460559698,
                    0.599513157885452,
                    0.6151944107779448,
                    0.6175790358480286,
                    0.6179887133815063,
                    0.6225526400213652,
                    0.6347507281014628,
                    0.6390952968161374,
                    0.6425899289356438,
                    0.6565308641878185,
                    0.656880857801126,
                    0.6646377320286332,
                    0.6744513445982285,
                    0.6765061215598531,
                    0.6887022409169747,
                    0.6916236625030512,
                    0.6990616556352987,
                    0.7026255960216821,
                    0.7040045565897584,
                    0.7051909179902529,
                    0.7097798489395022,
                    0.7196725315391992,
                    0.7266251994553263,
                    0.7330688155871243,
                    0.7615672859784237,
                    0.7701597346347888,
                    0.7823445084249707,
                    0.7853700080212067,
                    0.7976350797342335,
                    0.7987644968251566,
                    0.8170097785484483,
                    0.8224111162739502,
                    0.8339002142891798,
                    0.8404856404649113,
                    0.8406186489925576,
                    0.8431344399805643,
                    0.852943785011135,
                    0.8630634125972294,
                    0.8687113209469883,
                    0.8737917641886919,
                    0.8746224200195927,
                    0.8752604124992487,
                    0.8930378568354393,
                    0.8951841716242601,
                    0.9053388098806519,
                    0.9135444324475621,
                    0.915811417654024,
                    0.9161244169761198,
                    0.92201323888558,
                    0.9261876942444796,
                    0.9287086566043727,
                    0.9287294699518347,
                    0.9301511080233764,
                    0.9308374578088987,
                    0.9414192462099564,
                    0.9418698020564809,
                    0.9594453425722616,
                    0.9675622666063337,
                    0.9738297259900635,
                    0.9894980586158673,
                    1.0141481602254832,
                    1.0285203219463521,
                    1.034739317582537,
                    1.0508305539235432,
                    1.0521211550431302,
                    1.0527348717091642,
                    1.0663950477681927,
                    1.0685872761590278,
                    1.0744350609227995,
                    1.076090528808014,
                    1.0862116920190141,
                    1.086796382048472,
                    1.0922248314414693,
                    1.0933367560424407,
                    1.0985785679923603,
                    1.1114749135224902,
                    1.1120472741704108,
                    1.114841987853759,
                    1.1161903621976472,
                    1.1230984245694993,
                    1.1339113530877247,
                    1.1545658579524016,
                    1.1546261134140479,
                    1.1567204575527334,
                    1.1681705291806435,
                    1.175502307462904,
                    1.1780232133923874,
                    1.178522495689818,
                    1.1791494605217312,
                    1.1837042450818858,
                    1.1860084393397787,
                    1.1862506387973193,
                    1.1937711718516961,
                    1.1960126909498674,
                    1.2064748434493273,
                    1.208619764136978,
                    1.2178024747430678,
                    1.2198011074271007,
                    1.2216587536225583,
                    1.2260755799808716,
                    1.2343392334845087,
                    1.2416320905160318,
                    1.2483673916732105,
                    1.260111303842802,
                    1.263176490316066,
                    1.273572467806244,
                    1.3012869027931107,
                    1.305188743067422,
                    1.3094068740569509,
                    1.337552626228867,
                    1.3447902878007376,
                    1.345594037871381,
                    1.3460842540686881,
                    1.352216169760434,
                    1.3539255299433408,
                    1.3555318062421755,
                    1.3623805676951883,
                    1.3663481482759932,
                    1.3671173714072693,
                    1.386083194018829,
                    1.3909627165636995,
                    1.3979491763960759,
                    1.3985593196943327,
                    1.401141960494687,
                    1.4022082789861807,
                    1.4030790270108424,
                    1.4050242146181189,
                    1.4089472053194676,
                    1.4238517058473557,
                    1.4244337131607665,
                    1.4363885768197928,
                    1.4375299835595252,
                    1.4496775681084286,
                    1.4565991469921888,
                    1.4712540431389356,
                    1.480395906765039,
                    1.5120610250828908,
                    1.5122840561368993,
                    1.5220862510971487,
                    1.523195035974053,
                    1.5236837358658888,
                    1.5477392594011685,
                    1.5502515048102807,
                    1.5530906385760233,
                    1.5636688898864326,
                    1.5784117649786487,
                    1.5811013037023882,
                    1.59018396970051,
                    1.5948220486327946,
                    1.6001414869303727,
                    1.605505801916242,
                    1.6113132027297188,
                    1.6141022997004348,
                    1.6221128494590742,
                    1.6339254565403774,
                    1.637718120801238,
                    1.643581442310602,
                    1.6448060333275403,
                    1.6473339279467396,
                    1.658473266074391,
                    1.664468508297506,
                    1.665490592599914,
                    1.6746629440990075,
                    1.6747813729848349,
                    1.6829769555288896,
                    1.6861604342264875,
                    1.6867260433200582,
                    1.698442233550036,
                    1.7111799910741896,
                    1.7143861018991668,
                    1.7288323331509716,
                    1.7369257389739399,
                    1.7457950126146282,
                    1.751101151099048,
                    1.7517679600734586,
                    1.768519481868157,
                    1.7854472456345647,
                    1.8127042033892151,
                    1.823254642441494,
                    1.829705346527962,
                    1.8309215047043388,
                    1.8327845488622754,
                    1.8472710595242643,
                    1.8499843578141877,
                    1.8566733913630462,
                    1.8636491017659755,
                    1.8675109822635065,
                    1.8765433719139546,
                    1.8878805527028617,
                    1.8981951780817026,
                    1.9002518038388108,
                    1.909288818262184,
                    1.9105558853272386,
                    1.92506647336175,
                    1.9352843174408412,
                    1.9396997447214233,
                    1.9453932448615356,
                    1.952929757625264,
                    1.9703663320860603,
                    1.9714099430422813,
                    1.972205543758984,
                    1.973627951843793,
                    1.977922662982867,
                    1.9887586159507,
                    1.9932809007893912,
                    1.9956779432353908,
                    1.9995298475432923
                  ],
                  "y": [
                    0.21907017124271455,
                    0.21868853161830515,
                    0.19003202628195393,
                    0.18197529507212806,
                    0.17955903858833544,
                    0.17735302837099098,
                    0.16789830189245958,
                    0.16243337290819504,
                    0.1550292815632428,
                    0.14454843591711963,
                    0.13691371236576444,
                    0.13504823978564318,
                    0.12462930652756832,
                    0.12381962513945233,
                    0.11648578040573465,
                    0.11513157496100135,
                    0.10675948098385302,
                    0.10601350495353667,
                    0.10498762330993028,
                    0.09959302503652001,
                    0.09757015971425265,
                    0.08090638994274446,
                    0.07966840410457365,
                    0.07867465630600368,
                    0.07551114930719827,
                    0.0740567280298059,
                    0.053593638338155,
                    0.04840122657140178,
                    0.03570981470468215,
                    0.03533622671138392,
                    0.03411391736528646,
                    0.026004965343087605,
                    0.0018901557519495071,
                    -0.0031690334415666044,
                    -0.004784806438654421,
                    -0.008041609044410869,
                    -0.019843055983774782,
                    -0.0318963084954893,
                    -0.03641542803020226,
                    -0.04120873110902412,
                    -0.04379870237377492,
                    -0.04581118711860643,
                    -0.04688735851331938,
                    -0.052492333870477914,
                    -0.06674034938598439,
                    -0.07657127275247966,
                    -0.08188419550581294,
                    -0.09127376462962111,
                    -0.09142411788351268,
                    -0.09728586111046056,
                    -0.12341604771170722,
                    -0.1260021745987263,
                    -0.1322036347363671,
                    -0.13720268562845206,
                    -0.14163414000479158,
                    -0.1663427895666416,
                    -0.17169558453863676,
                    -0.18354147124651643,
                    -0.19106231376884164,
                    -0.19236006036547426,
                    -0.1943903147215762,
                    -0.1982438374887714,
                    -0.20025546640641867,
                    -0.20731472501000336,
                    -0.21080854773983493,
                    -0.2314287771941741,
                    -0.23700911438821137,
                    -0.23948360158067317,
                    -0.2424371272715904,
                    -0.24246749817116342,
                    -0.2428978256750165,
                    -0.2522468639615276,
                    -0.25838183501482614,
                    -0.2603861028435519,
                    -0.2607187710320531,
                    -0.27028400371233374,
                    -0.2743852190774261,
                    -0.27637074832872965,
                    -0.2794418096079667,
                    -0.2845491624140024,
                    -0.2862136568891769,
                    -0.28654106635059495,
                    -0.2898394098550323,
                    -0.300153741235607,
                    -0.30216070552430363,
                    -0.3067013775988139,
                    -0.32504679659642477,
                    -0.33451789472879945,
                    -0.3350211438809856,
                    -0.34453644972875175,
                    -0.35151036774982547,
                    -0.35605575804566225,
                    -0.35617978150232865,
                    -0.35720656888129554,
                    -0.36221603401482483,
                    -0.37754105173423813,
                    -0.37987150464534736,
                    -0.3802718754258496,
                    -0.38473212213607244,
                    -0.39665310302019297,
                    -0.40089897501729066,
                    -0.40431421865384287,
                    -0.4179384539894677,
                    -0.4182804967052123,
                    -0.4258611559675032,
                    -0.4354518301025081,
                    -0.43745992815195756,
                    -0.44937898503710194,
                    -0.4522340399156528,
                    -0.4595030621889391,
                    -0.4629860395981238,
                    -0.46433367395393965,
                    -0.46549308446844506,
                    -0.469977767458543,
                    -0.47964571536884737,
                    -0.4864404376874214,
                    -0.49273767248581013,
                    -0.5205887355811507,
                    -0.5289859873068075,
                    -0.5408939563652622,
                    -0.5438507248862621,
                    -0.5558371677183924,
                    -0.5569409275422821,
                    -0.5747717263708001,
                    -0.5800503604773564,
                    -0.5912784576115948,
                    -0.597714280917609,
                    -0.5978442678553213,
                    -0.6003029069534751,
                    -0.6098894104962707,
                    -0.6197791478236372,
                    -0.6252987511443067,
                    -0.630263780612002,
                    -0.6310755662145029,
                    -0.6316990652501078,
                    -0.649072654677294,
                    -0.6511702110648852,
                    -0.6610941637158847,
                    -0.6691133769827609,
                    -0.6713288624861748,
                    -0.6716347513198118,
                    -0.6773897953030739,
                    -0.6814694184545305,
                    -0.683933111445147,
                    -0.6839534519702859,
                    -0.6853427943134216,
                    -0.686013552109177,
                    -0.6963549512219309,
                    -0.6967952716720189,
                    -0.7139715439813301,
                    -0.721904073703417,
                    -0.728029153553214,
                    -0.7433415445190548,
                    -0.7674316632450644,
                    -0.7814773287635406,
                    -0.7875550458295741,
                    -0.8032807332949696,
                    -0.8045420154872787,
                    -0.8051417901893467,
                    -0.8184916444127381,
                    -0.820634071370896,
                    -0.8263490104601692,
                    -0.8279668706432028,
                    -0.8378581087102779,
                    -0.8384295161815594,
                    -0.8437346460526847,
                    -0.8448213107681477,
                    -0.8499440430883958,
                    -0.8625474189232136,
                    -0.8631067771027823,
                    -0.865838002535571,
                    -0.8671557455025498,
                    -0.8739068755928088,
                    -0.8844741639514995,
                    -0.904659454961533,
                    -0.9047183415839042,
                    -0.9067651079523813,
                    -0.9179550652720714,
                    -0.9251202856062362,
                    -0.9275839234483882,
                    -0.9280718634176983,
                    -0.9286845853235572,
                    -0.9331358976371202,
                    -0.9353877469040937,
                    -0.9356244442524426,
                    -0.9429741313665971,
                    -0.9451647292820446,
                    -0.9553892102936459,
                    -0.9574854042502361,
                    -0.9664595087886507,
                    -0.9684127380049254,
                    -0.9702281835600086,
                    -0.9745446717047219,
                    -0.9826205976041749,
                    -0.9897477808719568,
                    -0.9963300744097889,
                    -1.0078071970177875,
                    -1.0108027508385282,
                    -1.020962560156053,
                    -1.0480473989867942,
                    -1.0518606001227049,
                    -1.0559829067139237,
                    -1.0834892643830463,
                    -1.090562506081043,
                    -1.0913479971485671,
                    -1.0918270769747478,
                    -1.0978196923144932,
                    -1.0994902205096233,
                    -1.101060006604567,
                    -1.107753182930657,
                    -1.1116306309331145,
                    -1.1123823794188903,
                    -1.130917350417576,
                    -1.135686023557092,
                    -1.1425137701320116,
                    -1.1431100526434443,
                    -1.1456340229090642,
                    -1.1466761175611104,
                    -1.1475270845723946,
                    -1.1494280828378693,
                    -1.1532619539209685,
                    -1.1678278649648623,
                    -1.1683966506640662,
                    -1.1800799325206768,
                    -1.18119540962135,
                    -1.1930670342763632,
                    -1.1998313738203477,
                    -1.2141533508119062,
                    -1.2230875363019953,
                    -1.2540333097446696,
                    -1.2542512741431828,
                    -1.2638307900456969,
                    -1.2649143863630359,
                    -1.2653919843300612,
                    -1.2889010321692433,
                    -1.2913562062343589,
                    -1.294130842646772,
                    -1.304468785021906,
                    -1.2798781190340325,
                    -1.2753912868005708,
                    -1.260239097986025,
                    -1.2525016068426433,
                    -1.243627435592824,
                    -1.234678398653295,
                    -1.2249901822567262,
                    -1.2203372616350574,
                    -1.2069736344273263,
                    -1.1872672120041097,
                    -1.1809400867963102,
                    -1.1711585805063462,
                    -1.1691156523272088,
                    -1.164898483427537,
                    -1.1463152442536906,
                    -1.1363136607789288,
                    -1.134608565123349,
                    -1.116800627720627,
                    -1.1163848946508752,
                    -1.0443537086993269,
                    -1.0163740319759897,
                    -1.0114028790036675,
                    -0.9084289796302425,
                    -0.7964764988503399,
                    -0.7682979077733094,
                    -0.6413296071526569,
                    -0.5701964537603361,
                    -0.492244178023574,
                    -0.44560838945827275,
                    -0.43974778811223203,
                    -0.2925182292044761,
                    -0.1437396750428075,
                    0.09582243260132195,
                    0.1885505146817108,
                    0.24524591996696188,
                    0.2559347656768889,
                    0.2723091090326957,
                    0.39963142643266814,
                    0.42347867537556727,
                    0.4822687644783574,
                    0.5435784638763286,
                    0.5775206315894685,
                    0.656906538160615,
                    0.756549313740356,
                    0.8472048233374645,
                    0.8652805603820379,
                    0.9447071142022052,
                    0.9558433994532285,
                    1.0833773335038916,
                    1.1731822297509238,
                    1.2119895344768228,
                    1.2620298546664346,
                    1.3282684605379078,
                    1.4815189650704452,
                    1.4906912887935535,
                    1.4976838440982245,
                    1.5101854255951084,
                    1.547931753026818,
                    1.6431692243056464,
                    1.6829157028773105,
                    1.7039833710171308,
                    1.7378378577412406
                  ]
                }
              ],
              "layout": {
                "height": 1000,
                "sliders": [
                  {
                    "currentvalue": {
                      "prefix": "\\sigma = "
                    },
                    "transition": {
                      "duration": 0.01
                    }
                  }
                ],
                "template": {
                  "data": {
                    "bar": [
                      {
                        "error_x": {
                          "color": "rgb(36,36,36)"
                        },
                        "error_y": {
                          "color": "rgb(36,36,36)"
                        },
                        "marker": {
                          "line": {
                            "color": "white",
                            "width": 0.5
                          },
                          "pattern": {
                            "fillmode": "overlay",
                            "size": 10,
                            "solidity": 0.2
                          }
                        },
                        "type": "bar"
                      }
                    ],
                    "barpolar": [
                      {
                        "marker": {
                          "line": {
                            "color": "white",
                            "width": 0.5
                          },
                          "pattern": {
                            "fillmode": "overlay",
                            "size": 10,
                            "solidity": 0.2
                          }
                        },
                        "type": "barpolar"
                      }
                    ],
                    "carpet": [
                      {
                        "aaxis": {
                          "endlinecolor": "rgb(36,36,36)",
                          "gridcolor": "white",
                          "linecolor": "white",
                          "minorgridcolor": "white",
                          "startlinecolor": "rgb(36,36,36)"
                        },
                        "baxis": {
                          "endlinecolor": "rgb(36,36,36)",
                          "gridcolor": "white",
                          "linecolor": "white",
                          "minorgridcolor": "white",
                          "startlinecolor": "rgb(36,36,36)"
                        },
                        "type": "carpet"
                      }
                    ],
                    "choropleth": [
                      {
                        "colorbar": {
                          "outlinewidth": 1,
                          "tickcolor": "rgb(36,36,36)",
                          "ticks": "outside"
                        },
                        "type": "choropleth"
                      }
                    ],
                    "contour": [
                      {
                        "colorbar": {
                          "outlinewidth": 1,
                          "tickcolor": "rgb(36,36,36)",
                          "ticks": "outside"
                        },
                        "colorscale": [
                          [
                            0,
                            "#440154"
                          ],
                          [
                            0.1111111111111111,
                            "#482878"
                          ],
                          [
                            0.2222222222222222,
                            "#3e4989"
                          ],
                          [
                            0.3333333333333333,
                            "#31688e"
                          ],
                          [
                            0.4444444444444444,
                            "#26828e"
                          ],
                          [
                            0.5555555555555556,
                            "#1f9e89"
                          ],
                          [
                            0.6666666666666666,
                            "#35b779"
                          ],
                          [
                            0.7777777777777778,
                            "#6ece58"
                          ],
                          [
                            0.8888888888888888,
                            "#b5de2b"
                          ],
                          [
                            1,
                            "#fde725"
                          ]
                        ],
                        "type": "contour"
                      }
                    ],
                    "contourcarpet": [
                      {
                        "colorbar": {
                          "outlinewidth": 1,
                          "tickcolor": "rgb(36,36,36)",
                          "ticks": "outside"
                        },
                        "type": "contourcarpet"
                      }
                    ],
                    "heatmap": [
                      {
                        "colorbar": {
                          "outlinewidth": 1,
                          "tickcolor": "rgb(36,36,36)",
                          "ticks": "outside"
                        },
                        "colorscale": [
                          [
                            0,
                            "#440154"
                          ],
                          [
                            0.1111111111111111,
                            "#482878"
                          ],
                          [
                            0.2222222222222222,
                            "#3e4989"
                          ],
                          [
                            0.3333333333333333,
                            "#31688e"
                          ],
                          [
                            0.4444444444444444,
                            "#26828e"
                          ],
                          [
                            0.5555555555555556,
                            "#1f9e89"
                          ],
                          [
                            0.6666666666666666,
                            "#35b779"
                          ],
                          [
                            0.7777777777777778,
                            "#6ece58"
                          ],
                          [
                            0.8888888888888888,
                            "#b5de2b"
                          ],
                          [
                            1,
                            "#fde725"
                          ]
                        ],
                        "type": "heatmap"
                      }
                    ],
                    "heatmapgl": [
                      {
                        "colorbar": {
                          "outlinewidth": 1,
                          "tickcolor": "rgb(36,36,36)",
                          "ticks": "outside"
                        },
                        "colorscale": [
                          [
                            0,
                            "#440154"
                          ],
                          [
                            0.1111111111111111,
                            "#482878"
                          ],
                          [
                            0.2222222222222222,
                            "#3e4989"
                          ],
                          [
                            0.3333333333333333,
                            "#31688e"
                          ],
                          [
                            0.4444444444444444,
                            "#26828e"
                          ],
                          [
                            0.5555555555555556,
                            "#1f9e89"
                          ],
                          [
                            0.6666666666666666,
                            "#35b779"
                          ],
                          [
                            0.7777777777777778,
                            "#6ece58"
                          ],
                          [
                            0.8888888888888888,
                            "#b5de2b"
                          ],
                          [
                            1,
                            "#fde725"
                          ]
                        ],
                        "type": "heatmapgl"
                      }
                    ],
                    "histogram": [
                      {
                        "marker": {
                          "line": {
                            "color": "white",
                            "width": 0.6
                          }
                        },
                        "type": "histogram"
                      }
                    ],
                    "histogram2d": [
                      {
                        "colorbar": {
                          "outlinewidth": 1,
                          "tickcolor": "rgb(36,36,36)",
                          "ticks": "outside"
                        },
                        "colorscale": [
                          [
                            0,
                            "#440154"
                          ],
                          [
                            0.1111111111111111,
                            "#482878"
                          ],
                          [
                            0.2222222222222222,
                            "#3e4989"
                          ],
                          [
                            0.3333333333333333,
                            "#31688e"
                          ],
                          [
                            0.4444444444444444,
                            "#26828e"
                          ],
                          [
                            0.5555555555555556,
                            "#1f9e89"
                          ],
                          [
                            0.6666666666666666,
                            "#35b779"
                          ],
                          [
                            0.7777777777777778,
                            "#6ece58"
                          ],
                          [
                            0.8888888888888888,
                            "#b5de2b"
                          ],
                          [
                            1,
                            "#fde725"
                          ]
                        ],
                        "type": "histogram2d"
                      }
                    ],
                    "histogram2dcontour": [
                      {
                        "colorbar": {
                          "outlinewidth": 1,
                          "tickcolor": "rgb(36,36,36)",
                          "ticks": "outside"
                        },
                        "colorscale": [
                          [
                            0,
                            "#440154"
                          ],
                          [
                            0.1111111111111111,
                            "#482878"
                          ],
                          [
                            0.2222222222222222,
                            "#3e4989"
                          ],
                          [
                            0.3333333333333333,
                            "#31688e"
                          ],
                          [
                            0.4444444444444444,
                            "#26828e"
                          ],
                          [
                            0.5555555555555556,
                            "#1f9e89"
                          ],
                          [
                            0.6666666666666666,
                            "#35b779"
                          ],
                          [
                            0.7777777777777778,
                            "#6ece58"
                          ],
                          [
                            0.8888888888888888,
                            "#b5de2b"
                          ],
                          [
                            1,
                            "#fde725"
                          ]
                        ],
                        "type": "histogram2dcontour"
                      }
                    ],
                    "mesh3d": [
                      {
                        "colorbar": {
                          "outlinewidth": 1,
                          "tickcolor": "rgb(36,36,36)",
                          "ticks": "outside"
                        },
                        "type": "mesh3d"
                      }
                    ],
                    "parcoords": [
                      {
                        "line": {
                          "colorbar": {
                            "outlinewidth": 1,
                            "tickcolor": "rgb(36,36,36)",
                            "ticks": "outside"
                          }
                        },
                        "type": "parcoords"
                      }
                    ],
                    "pie": [
                      {
                        "automargin": true,
                        "type": "pie"
                      }
                    ],
                    "scatter": [
                      {
                        "fillpattern": {
                          "fillmode": "overlay",
                          "size": 10,
                          "solidity": 0.2
                        },
                        "type": "scatter"
                      }
                    ],
                    "scatter3d": [
                      {
                        "line": {
                          "colorbar": {
                            "outlinewidth": 1,
                            "tickcolor": "rgb(36,36,36)",
                            "ticks": "outside"
                          }
                        },
                        "marker": {
                          "colorbar": {
                            "outlinewidth": 1,
                            "tickcolor": "rgb(36,36,36)",
                            "ticks": "outside"
                          }
                        },
                        "type": "scatter3d"
                      }
                    ],
                    "scattercarpet": [
                      {
                        "marker": {
                          "colorbar": {
                            "outlinewidth": 1,
                            "tickcolor": "rgb(36,36,36)",
                            "ticks": "outside"
                          }
                        },
                        "type": "scattercarpet"
                      }
                    ],
                    "scattergeo": [
                      {
                        "marker": {
                          "colorbar": {
                            "outlinewidth": 1,
                            "tickcolor": "rgb(36,36,36)",
                            "ticks": "outside"
                          }
                        },
                        "type": "scattergeo"
                      }
                    ],
                    "scattergl": [
                      {
                        "marker": {
                          "colorbar": {
                            "outlinewidth": 1,
                            "tickcolor": "rgb(36,36,36)",
                            "ticks": "outside"
                          }
                        },
                        "type": "scattergl"
                      }
                    ],
                    "scattermapbox": [
                      {
                        "marker": {
                          "colorbar": {
                            "outlinewidth": 1,
                            "tickcolor": "rgb(36,36,36)",
                            "ticks": "outside"
                          }
                        },
                        "type": "scattermapbox"
                      }
                    ],
                    "scatterpolar": [
                      {
                        "marker": {
                          "colorbar": {
                            "outlinewidth": 1,
                            "tickcolor": "rgb(36,36,36)",
                            "ticks": "outside"
                          }
                        },
                        "type": "scatterpolar"
                      }
                    ],
                    "scatterpolargl": [
                      {
                        "marker": {
                          "colorbar": {
                            "outlinewidth": 1,
                            "tickcolor": "rgb(36,36,36)",
                            "ticks": "outside"
                          }
                        },
                        "type": "scatterpolargl"
                      }
                    ],
                    "scatterternary": [
                      {
                        "marker": {
                          "colorbar": {
                            "outlinewidth": 1,
                            "tickcolor": "rgb(36,36,36)",
                            "ticks": "outside"
                          }
                        },
                        "type": "scatterternary"
                      }
                    ],
                    "surface": [
                      {
                        "colorbar": {
                          "outlinewidth": 1,
                          "tickcolor": "rgb(36,36,36)",
                          "ticks": "outside"
                        },
                        "colorscale": [
                          [
                            0,
                            "#440154"
                          ],
                          [
                            0.1111111111111111,
                            "#482878"
                          ],
                          [
                            0.2222222222222222,
                            "#3e4989"
                          ],
                          [
                            0.3333333333333333,
                            "#31688e"
                          ],
                          [
                            0.4444444444444444,
                            "#26828e"
                          ],
                          [
                            0.5555555555555556,
                            "#1f9e89"
                          ],
                          [
                            0.6666666666666666,
                            "#35b779"
                          ],
                          [
                            0.7777777777777778,
                            "#6ece58"
                          ],
                          [
                            0.8888888888888888,
                            "#b5de2b"
                          ],
                          [
                            1,
                            "#fde725"
                          ]
                        ],
                        "type": "surface"
                      }
                    ],
                    "table": [
                      {
                        "cells": {
                          "fill": {
                            "color": "rgb(237,237,237)"
                          },
                          "line": {
                            "color": "white"
                          }
                        },
                        "header": {
                          "fill": {
                            "color": "rgb(217,217,217)"
                          },
                          "line": {
                            "color": "white"
                          }
                        },
                        "type": "table"
                      }
                    ]
                  },
                  "layout": {
                    "annotationdefaults": {
                      "arrowhead": 0,
                      "arrowwidth": 1
                    },
                    "autotypenumbers": "strict",
                    "coloraxis": {
                      "colorbar": {
                        "outlinewidth": 1,
                        "tickcolor": "rgb(36,36,36)",
                        "ticks": "outside"
                      }
                    },
                    "colorscale": {
                      "diverging": [
                        [
                          0,
                          "rgb(103,0,31)"
                        ],
                        [
                          0.1,
                          "rgb(178,24,43)"
                        ],
                        [
                          0.2,
                          "rgb(214,96,77)"
                        ],
                        [
                          0.3,
                          "rgb(244,165,130)"
                        ],
                        [
                          0.4,
                          "rgb(253,219,199)"
                        ],
                        [
                          0.5,
                          "rgb(247,247,247)"
                        ],
                        [
                          0.6,
                          "rgb(209,229,240)"
                        ],
                        [
                          0.7,
                          "rgb(146,197,222)"
                        ],
                        [
                          0.8,
                          "rgb(67,147,195)"
                        ],
                        [
                          0.9,
                          "rgb(33,102,172)"
                        ],
                        [
                          1,
                          "rgb(5,48,97)"
                        ]
                      ],
                      "sequential": [
                        [
                          0,
                          "#440154"
                        ],
                        [
                          0.1111111111111111,
                          "#482878"
                        ],
                        [
                          0.2222222222222222,
                          "#3e4989"
                        ],
                        [
                          0.3333333333333333,
                          "#31688e"
                        ],
                        [
                          0.4444444444444444,
                          "#26828e"
                        ],
                        [
                          0.5555555555555556,
                          "#1f9e89"
                        ],
                        [
                          0.6666666666666666,
                          "#35b779"
                        ],
                        [
                          0.7777777777777778,
                          "#6ece58"
                        ],
                        [
                          0.8888888888888888,
                          "#b5de2b"
                        ],
                        [
                          1,
                          "#fde725"
                        ]
                      ],
                      "sequentialminus": [
                        [
                          0,
                          "#440154"
                        ],
                        [
                          0.1111111111111111,
                          "#482878"
                        ],
                        [
                          0.2222222222222222,
                          "#3e4989"
                        ],
                        [
                          0.3333333333333333,
                          "#31688e"
                        ],
                        [
                          0.4444444444444444,
                          "#26828e"
                        ],
                        [
                          0.5555555555555556,
                          "#1f9e89"
                        ],
                        [
                          0.6666666666666666,
                          "#35b779"
                        ],
                        [
                          0.7777777777777778,
                          "#6ece58"
                        ],
                        [
                          0.8888888888888888,
                          "#b5de2b"
                        ],
                        [
                          1,
                          "#fde725"
                        ]
                      ]
                    },
                    "colorway": [
                      "#1F77B4",
                      "#FF7F0E",
                      "#2CA02C",
                      "#D62728",
                      "#9467BD",
                      "#8C564B",
                      "#E377C2",
                      "#7F7F7F",
                      "#BCBD22",
                      "#17BECF"
                    ],
                    "font": {
                      "color": "rgb(36,36,36)"
                    },
                    "geo": {
                      "bgcolor": "white",
                      "lakecolor": "white",
                      "landcolor": "white",
                      "showlakes": true,
                      "showland": true,
                      "subunitcolor": "white"
                    },
                    "hoverlabel": {
                      "align": "left"
                    },
                    "hovermode": "closest",
                    "mapbox": {
                      "style": "light"
                    },
                    "paper_bgcolor": "white",
                    "plot_bgcolor": "white",
                    "polar": {
                      "angularaxis": {
                        "gridcolor": "rgb(232,232,232)",
                        "linecolor": "rgb(36,36,36)",
                        "showgrid": false,
                        "showline": true,
                        "ticks": "outside"
                      },
                      "bgcolor": "white",
                      "radialaxis": {
                        "gridcolor": "rgb(232,232,232)",
                        "linecolor": "rgb(36,36,36)",
                        "showgrid": false,
                        "showline": true,
                        "ticks": "outside"
                      }
                    },
                    "scene": {
                      "xaxis": {
                        "backgroundcolor": "white",
                        "gridcolor": "rgb(232,232,232)",
                        "gridwidth": 2,
                        "linecolor": "rgb(36,36,36)",
                        "showbackground": true,
                        "showgrid": false,
                        "showline": true,
                        "ticks": "outside",
                        "zeroline": false,
                        "zerolinecolor": "rgb(36,36,36)"
                      },
                      "yaxis": {
                        "backgroundcolor": "white",
                        "gridcolor": "rgb(232,232,232)",
                        "gridwidth": 2,
                        "linecolor": "rgb(36,36,36)",
                        "showbackground": true,
                        "showgrid": false,
                        "showline": true,
                        "ticks": "outside",
                        "zeroline": false,
                        "zerolinecolor": "rgb(36,36,36)"
                      },
                      "zaxis": {
                        "backgroundcolor": "white",
                        "gridcolor": "rgb(232,232,232)",
                        "gridwidth": 2,
                        "linecolor": "rgb(36,36,36)",
                        "showbackground": true,
                        "showgrid": false,
                        "showline": true,
                        "ticks": "outside",
                        "zeroline": false,
                        "zerolinecolor": "rgb(36,36,36)"
                      }
                    },
                    "shapedefaults": {
                      "fillcolor": "black",
                      "line": {
                        "width": 0
                      },
                      "opacity": 0.3
                    },
                    "ternary": {
                      "aaxis": {
                        "gridcolor": "rgb(232,232,232)",
                        "linecolor": "rgb(36,36,36)",
                        "showgrid": false,
                        "showline": true,
                        "ticks": "outside"
                      },
                      "baxis": {
                        "gridcolor": "rgb(232,232,232)",
                        "linecolor": "rgb(36,36,36)",
                        "showgrid": false,
                        "showline": true,
                        "ticks": "outside"
                      },
                      "bgcolor": "white",
                      "caxis": {
                        "gridcolor": "rgb(232,232,232)",
                        "linecolor": "rgb(36,36,36)",
                        "showgrid": false,
                        "showline": true,
                        "ticks": "outside"
                      }
                    },
                    "title": {
                      "x": 0.05
                    },
                    "xaxis": {
                      "automargin": true,
                      "gridcolor": "rgb(232,232,232)",
                      "linecolor": "rgb(36,36,36)",
                      "showgrid": false,
                      "showline": true,
                      "ticks": "outside",
                      "title": {
                        "standoff": 15
                      },
                      "zeroline": false,
                      "zerolinecolor": "rgb(36,36,36)"
                    },
                    "yaxis": {
                      "automargin": true,
                      "gridcolor": "rgb(232,232,232)",
                      "linecolor": "rgb(36,36,36)",
                      "showgrid": false,
                      "showline": true,
                      "ticks": "outside",
                      "title": {
                        "standoff": 15
                      },
                      "zeroline": false,
                      "zerolinecolor": "rgb(36,36,36)"
                    }
                  }
                },
                "title": {
                  "text": "LR"
                },
                "width": 1000
              }
            }
          },
          "metadata": {},
          "output_type": "display_data"
        }
      ],
      "source": [
        "mlp = MLPRegressor(hidden_layer_sizes=(10),solver=\"lbfgs\",max_iter=200 ,alpha=0)\n",
        "mlp.fit(x.reshape(-1, 1),y)\n",
        "pn=mlp.predict(x.reshape(-1, 1))\n",
        "fig = go.Figure()\n",
        "fig.add_scatter(\n",
        "    x = x,\n",
        "    y = y,\n",
        "    name = \"train_data\",\n",
        "    mode=\"markers\"\n",
        ")\n",
        "fig.add_scatter(\n",
        "    x = x,\n",
        "    y = y_true,\n",
        "    name = \"Verdadero valor\",\n",
        ")\n",
        "fig.add_scatter(\n",
        "    x = x,\n",
        "    y = pn,\n",
        "    name = \"LR\",\n",
        ")\n",
        "fig.update_layout(\n",
        "    template=\"simple_white\",\n",
        "    title=\"LR\",\n",
        "    width=1000,\n",
        "    height=1000,\n",
        "    sliders=[{\"transition\":dict(duration=0.01),'currentvalue':{\"prefix\": r\"\\sigma = \"},}]\n",
        ")\n",
        "fig.show()"
      ]
    },
    {
      "attachments": {},
      "cell_type": "markdown",
      "metadata": {
        "id": "zZoYh2JQwHO1"
      },
      "source": [
        "# **Excercices**"
      ]
    },
    {
      "attachments": {},
      "cell_type": "markdown",
      "metadata": {
        "id": "Vi15fGjuu6Zv"
      },
      "source": [
        "Experiment 1:  show how different runs of the algoritm lead to different solutions"
      ]
    },
    {
      "cell_type": "code",
      "execution_count": 323,
      "metadata": {
        "id": "BKBBpxJqvKNW"
      },
      "outputs": [
        {
          "data": {
            "application/vnd.plotly.v1+json": {
              "config": {
                "plotlyServerURL": "https://plot.ly"
              },
              "data": [
                {
                  "mode": "markers",
                  "name": "train_data",
                  "type": "scatter",
                  "x": [
                    0.004714759968180049,
                    0.005105270933564832,
                    0.034427906340712244,
                    0.042671918967729594,
                    0.045144342143295324,
                    0.047401631807490796,
                    0.057076136571773795,
                    0.06266809966185205,
                    0.07024430159160633,
                    0.08096877800743396,
                    0.08878097326652346,
                    0.09068980938198679,
                    0.10135093423556074,
                    0.10217943693890974,
                    0.10968375935140351,
                    0.11106944375556305,
                    0.11963614986312465,
                    0.1203994663562804,
                    0.12144919496251716,
                    0.12696919248079674,
                    0.12903907998544417,
                    0.14609020467016887,
                    0.14735696790405628,
                    0.14837381570326102,
                    0.1516108594825074,
                    0.15309908926994154,
                    0.17403785033969554,
                    0.17935096145820895,
                    0.19233738944730727,
                    0.19271966161871634,
                    0.19397038395522048,
                    0.20226783128489956,
                    0.22694319770707994,
                    0.23211998944899004,
                    0.23377332163092213,
                    0.23710582970477012,
                    0.24918160523350275,
                    0.26151503963950895,
                    0.2661392076223925,
                    0.27104393263776205,
                    0.27369410865259414,
                    0.27575337427980284,
                    0.2768545616392648,
                    0.2825898265271154,
                    0.2971690419385118,
                    0.30722848841350214,
                    0.31266491183686806,
                    0.32227274464187894,
                    0.32242659290754827,
                    0.32842459432037563,
                    0.3551621858667202,
                    0.3578084281399716,
                    0.3641540432969341,
                    0.36926929880244175,
                    0.3738037638209655,
                    0.39908677422300265,
                    0.4045639967081156,
                    0.4166852450226779,
                    0.42438091205005146,
                    0.42570882520126263,
                    0.42778627350031484,
                    0.43172937269574296,
                    0.4337877626017781,
                    0.44101111603752097,
                    0.4445861538476654,
                    0.46568570744655746,
                    0.47139576144892525,
                    0.47392776892550126,
                    0.4769499503109782,
                    0.4769810271922921,
                    0.47742135780319606,
                    0.4869877176180153,
                    0.4932652981295871,
                    0.49531615583572286,
                    0.49565655700776,
                    0.5054441367274896,
                    0.5096406862182699,
                    0.5116723697624708,
                    0.51481481889041,
                    0.5200408938241587,
                    0.5217440800312632,
                    0.522079100235346,
                    0.5254541148399829,
                    0.5360082063103557,
                    0.5380618231565812,
                    0.5427080446752726,
                    0.5614799090859663,
                    0.5711711660686716,
                    0.5716861134160633,
                    0.5814226057373237,
                    0.5885586348201113,
                    0.593209684236768,
                    0.5933365906602497,
                    0.5943872460559698,
                    0.599513157885452,
                    0.6151944107779448,
                    0.6175790358480286,
                    0.6179887133815063,
                    0.6225526400213652,
                    0.6347507281014628,
                    0.6390952968161374,
                    0.6425899289356438,
                    0.6565308641878185,
                    0.656880857801126,
                    0.6646377320286332,
                    0.6744513445982285,
                    0.6765061215598531,
                    0.6887022409169747,
                    0.6916236625030512,
                    0.6990616556352987,
                    0.7026255960216821,
                    0.7040045565897584,
                    0.7051909179902529,
                    0.7097798489395022,
                    0.7196725315391992,
                    0.7266251994553263,
                    0.7330688155871243,
                    0.7615672859784237,
                    0.7701597346347888,
                    0.7823445084249707,
                    0.7853700080212067,
                    0.7976350797342335,
                    0.7987644968251566,
                    0.8170097785484483,
                    0.8224111162739502,
                    0.8339002142891798,
                    0.8404856404649113,
                    0.8406186489925576,
                    0.8431344399805643,
                    0.852943785011135,
                    0.8630634125972294,
                    0.8687113209469883,
                    0.8737917641886919,
                    0.8746224200195927,
                    0.8752604124992487,
                    0.8930378568354393,
                    0.8951841716242601,
                    0.9053388098806519,
                    0.9135444324475621,
                    0.915811417654024,
                    0.9161244169761198,
                    0.92201323888558,
                    0.9261876942444796,
                    0.9287086566043727,
                    0.9287294699518347,
                    0.9301511080233764,
                    0.9308374578088987,
                    0.9414192462099564,
                    0.9418698020564809,
                    0.9594453425722616,
                    0.9675622666063337,
                    0.9738297259900635,
                    0.9894980586158673,
                    1.0141481602254832,
                    1.0285203219463521,
                    1.034739317582537,
                    1.0508305539235432,
                    1.0521211550431302,
                    1.0527348717091642,
                    1.0663950477681927,
                    1.0685872761590278,
                    1.0744350609227995,
                    1.076090528808014,
                    1.0862116920190141,
                    1.086796382048472,
                    1.0922248314414693,
                    1.0933367560424407,
                    1.0985785679923603,
                    1.1114749135224902,
                    1.1120472741704108,
                    1.114841987853759,
                    1.1161903621976472,
                    1.1230984245694993,
                    1.1339113530877247,
                    1.1545658579524016,
                    1.1546261134140479,
                    1.1567204575527334,
                    1.1681705291806435,
                    1.175502307462904,
                    1.1780232133923874,
                    1.178522495689818,
                    1.1791494605217312,
                    1.1837042450818858,
                    1.1860084393397787,
                    1.1862506387973193,
                    1.1937711718516961,
                    1.1960126909498674,
                    1.2064748434493273,
                    1.208619764136978,
                    1.2178024747430678,
                    1.2198011074271007,
                    1.2216587536225583,
                    1.2260755799808716,
                    1.2343392334845087,
                    1.2416320905160318,
                    1.2483673916732105,
                    1.260111303842802,
                    1.263176490316066,
                    1.273572467806244,
                    1.3012869027931107,
                    1.305188743067422,
                    1.3094068740569509,
                    1.337552626228867,
                    1.3447902878007376,
                    1.345594037871381,
                    1.3460842540686881,
                    1.352216169760434,
                    1.3539255299433408,
                    1.3555318062421755,
                    1.3623805676951883,
                    1.3663481482759932,
                    1.3671173714072693,
                    1.386083194018829,
                    1.3909627165636995,
                    1.3979491763960759,
                    1.3985593196943327,
                    1.401141960494687,
                    1.4022082789861807,
                    1.4030790270108424,
                    1.4050242146181189,
                    1.4089472053194676,
                    1.4238517058473557,
                    1.4244337131607665,
                    1.4363885768197928,
                    1.4375299835595252,
                    1.4496775681084286,
                    1.4565991469921888,
                    1.4712540431389356,
                    1.480395906765039,
                    1.5120610250828908,
                    1.5122840561368993,
                    1.5220862510971487,
                    1.523195035974053,
                    1.5236837358658888,
                    1.5477392594011685,
                    1.5502515048102807,
                    1.5530906385760233,
                    1.5636688898864326,
                    1.5784117649786487,
                    1.5811013037023882,
                    1.59018396970051,
                    1.5948220486327946,
                    1.6001414869303727,
                    1.605505801916242,
                    1.6113132027297188,
                    1.6141022997004348,
                    1.6221128494590742,
                    1.6339254565403774,
                    1.637718120801238,
                    1.643581442310602,
                    1.6448060333275403,
                    1.6473339279467396,
                    1.658473266074391,
                    1.664468508297506,
                    1.665490592599914,
                    1.6746629440990075,
                    1.6747813729848349,
                    1.6829769555288896,
                    1.6861604342264875,
                    1.6867260433200582,
                    1.698442233550036,
                    1.7111799910741896,
                    1.7143861018991668,
                    1.7288323331509716,
                    1.7369257389739399,
                    1.7457950126146282,
                    1.751101151099048,
                    1.7517679600734586,
                    1.768519481868157,
                    1.7854472456345647,
                    1.8127042033892151,
                    1.823254642441494,
                    1.829705346527962,
                    1.8309215047043388,
                    1.8327845488622754,
                    1.8472710595242643,
                    1.8499843578141877,
                    1.8566733913630462,
                    1.8636491017659755,
                    1.8675109822635065,
                    1.8765433719139546,
                    1.8878805527028617,
                    1.8981951780817026,
                    1.9002518038388108,
                    1.909288818262184,
                    1.9105558853272386,
                    1.92506647336175,
                    1.9352843174408412,
                    1.9396997447214233,
                    1.9453932448615356,
                    1.952929757625264,
                    1.9703663320860603,
                    1.9714099430422813,
                    1.972205543758984,
                    1.973627951843793,
                    1.977922662982867,
                    1.9887586159507,
                    1.9932809007893912,
                    1.9956779432353908,
                    1.9995298475432923
                  ],
                  "y": [
                    -0.24763603310599644,
                    -0.34108756956545055,
                    0.6191684560041358,
                    1.2187726212923773,
                    0.899302353815232,
                    0.8226413929924344,
                    -0.03198371627166303,
                    -0.3755429513755604,
                    -0.17444993321100016,
                    -0.26638112513657813,
                    -0.11433970699929837,
                    0.3762880276095683,
                    -0.3013982227499913,
                    0.0836195078473091,
                    -0.9601631256137273,
                    0.23073088956439555,
                    -0.30863290702105417,
                    -0.2857560821626097,
                    -0.527456839205721,
                    -0.1889363772262181,
                    -0.7395017303565921,
                    -0.19234713256958794,
                    -0.3340673400364001,
                    -0.5380857607016416,
                    0.20023175779093347,
                    1.2971899053890672,
                    -0.009889003973646305,
                    -1.2683352392111404,
                    0.11280610678458862,
                    -1.797631661970156,
                    -0.16298080275670226,
                    -0.5806087021441009,
                    -0.04628568283268915,
                    0.12855886331265776,
                    -0.5087174310169067,
                    0.30248039255722536,
                    -0.7202773986457963,
                    0.015171318424412553,
                    0.3835712866765106,
                    0.054941097787593055,
                    0.18237612616098375,
                    -0.13730873552580586,
                    -0.4924346938684104,
                    -0.04890448845131657,
                    -0.00754878701926957,
                    -0.00812362885072239,
                    0.20304456371337196,
                    -0.13584886346986302,
                    -0.7616531544853651,
                    0.06388646805276428,
                    -0.2947928956312962,
                    0.19923214641397924,
                    0.7030400717871371,
                    -0.09066671668848511,
                    0.43100120308662027,
                    0.41338532293692787,
                    -0.6641787320012238,
                    0.828782392323399,
                    0.059526351485796575,
                    0.0981103166232045,
                    -0.05369550770474402,
                    0.10091045535089556,
                    0.36189570456268094,
                    -1.095457466534508,
                    -0.14248940259987186,
                    0.48756886904425445,
                    0.1931655211440802,
                    -0.40479859100872834,
                    -0.002104425754518191,
                    -0.12627691387553996,
                    0.14637900090603345,
                    0.8858055978611367,
                    -0.2792404690003513,
                    -0.8444386539399136,
                    -0.69721980425293,
                    -0.5679639854969047,
                    -0.014413514506085301,
                    -0.24964946202363097,
                    0.04103195946211974,
                    -0.13783552317271425,
                    -0.18904467642329395,
                    0.3072406649916928,
                    -0.07404268667217985,
                    -0.9603673246996447,
                    0.6447111984848133,
                    0.6324526202962688,
                    -0.23665554596389654,
                    -0.5836923586718135,
                    -1.1921129808110977,
                    -0.11759913818213663,
                    -0.25354371442158974,
                    -0.0349029938634309,
                    0.13721495328307448,
                    -0.5050595628189464,
                    -0.09232500309051835,
                    -0.10167251390336109,
                    -1.0967052725330135,
                    -1.5837300836598718,
                    -0.10718456005004587,
                    0.0430101461980231,
                    -0.8536735540988043,
                    -0.1645323054232976,
                    -0.8637286474309198,
                    0.31981800482488637,
                    0.09101756084989121,
                    -1.3267514760916421,
                    0.21427564024219514,
                    0.18507872631530675,
                    -0.6550091615829199,
                    -0.1685058770378427,
                    -0.8496902288470127,
                    -0.6204547256950113,
                    0.43744316382282344,
                    -0.6487016439697939,
                    -1.0136299048626545,
                    -0.049124445462901345,
                    -1.042174679448611,
                    -0.7400562984544257,
                    -0.1975601223562385,
                    -0.004806334509354582,
                    -0.6235180239924092,
                    -0.5484884261837832,
                    -0.17241330909432567,
                    -0.03036505093348818,
                    0.05675295919435841,
                    -0.9868384686727381,
                    -0.4472351112970661,
                    -0.10261066393121154,
                    -0.12063947127878305,
                    -1.6363760114005612,
                    -1.218130901552296,
                    0.059189634884027176,
                    -0.6887783570182766,
                    -0.3825049457001509,
                    -1.387101295135239,
                    -0.4082107324719395,
                    -1.2056340145412787,
                    -1.0012091724329175,
                    0.029425980597293067,
                    -0.7002655352854128,
                    -0.3583699579412822,
                    -0.8250104410751484,
                    -0.04351982225852613,
                    -0.3809850376235045,
                    -0.07134224911012355,
                    -0.7045582018775383,
                    0.14153587604226336,
                    -1.0300458920015658,
                    -0.3980046749365553,
                    -0.6475350147844553,
                    -0.9697109260543689,
                    0.09010280891722011,
                    -0.4339385791108788,
                    0.09690001513307522,
                    -0.9212059889381603,
                    0.04262552283415255,
                    -0.7829669235035995,
                    -0.06635781024187626,
                    -0.2743828172189344,
                    -1.3459358226785012,
                    -0.9741657687478251,
                    -1.2899547759402152,
                    -0.8976024796490932,
                    -0.41036291663218927,
                    -1.2804008397113473,
                    -0.7610141269425439,
                    -1.7479189253248313,
                    -1.2068096719655599,
                    -1.141113888810238,
                    -0.6575001169933118,
                    -0.6636409211484184,
                    -1.0018845877157727,
                    -0.6424105696865481,
                    -0.8507483347398013,
                    -1.6663129822165659,
                    -0.23348333198033744,
                    -0.6673130188465879,
                    0.013808379635616097,
                    -1.1609918950867064,
                    -1.658230227515324,
                    -0.20900573300344727,
                    -1.9464800547940642,
                    -0.8806328196564588,
                    -0.9660977167083757,
                    -0.7208425778285833,
                    -0.6071660110036058,
                    -1.277704899481095,
                    -1.2015102382766631,
                    -0.29940621678409873,
                    -1.1685793816134353,
                    -1.4035741032411706,
                    -0.4703379315957371,
                    -1.361974219623074,
                    -0.8393689844123668,
                    -0.8966093090124498,
                    -0.6128874558453608,
                    -0.8806850511273985,
                    -1.823074552470427,
                    -1.3746554471767927,
                    -0.46489847082077873,
                    -0.8892692765818146,
                    -0.9264187432184816,
                    -1.1164370636881094,
                    -0.5066344127174214,
                    -2.3442206099349665,
                    -0.5380687894967758,
                    -1.6822207859388079,
                    -1.6344532501069875,
                    -1.3211849153667499,
                    -1.857949430401896,
                    -1.5697381201464102,
                    -1.9970753093599134,
                    -0.39724608598580347,
                    -1.566859617344006,
                    -0.9165995823590556,
                    -1.124200512907342,
                    -1.622559270614615,
                    -0.5240170263168807,
                    -0.656209584042555,
                    -1.121834343238888,
                    -0.9948890308301852,
                    -1.4327443682946943,
                    -1.9638590446128497,
                    -1.5024517899232177,
                    -1.7326173308739028,
                    -1.3554547396998136,
                    -1.2630773113459282,
                    -1.3520433083757768,
                    -0.9880044437024742,
                    -1.994787505028525,
                    -1.8012743160873146,
                    -1.3840389850918555,
                    -0.8235001045159667,
                    -2.5497987675355933,
                    -0.4034817044131035,
                    -1.2562042320484004,
                    -1.0969803214785356,
                    -2.233273400582011,
                    -0.7922909166779677,
                    -1.1286460244086223,
                    -1.4882604073637036,
                    -0.4245031341030514,
                    -1.0506499313320006,
                    -0.8382159035487222,
                    -0.482422276879758,
                    -0.9175257220584955,
                    -2.1050060560493846,
                    -1.4497457235116549,
                    -1.2126771897196302,
                    -1.4186468337699407,
                    -1.106547432792241,
                    -0.9523517764964392,
                    -1.264014466308101,
                    -1.7254313009818285,
                    -1.214370358209351,
                    -0.6466594729122841,
                    -1.856019692904864,
                    -1.0753880911933615,
                    -0.5902304620332586,
                    -1.5549743889774803,
                    0.40152742686035126,
                    -1.0769260491540513,
                    -0.6887033164769901,
                    -0.4759668248853912,
                    -0.12422760693272894,
                    -0.7540211727199863,
                    -0.8535534168676259,
                    -0.06558171599238821,
                    -0.011512606118767366,
                    -0.17725244670438453,
                    -0.03832579852139335,
                    0.18470702555874066,
                    -0.7586056966095449,
                    -0.1632797323494195,
                    -0.1321575615848172,
                    1.0610543620079513,
                    0.5715848351202506,
                    0.7813863335928029,
                    0.016525575715079066,
                    0.27166729826157254,
                    0.3006618723680034,
                    0.42809690103575937,
                    0.7060137027350585,
                    1.1354053930850165,
                    1.2775632955097525,
                    0.9905650834294045,
                    0.6396745597360496,
                    0.9026869820743768,
                    0.8615019615356618,
                    1.5956954819403633,
                    1.5564893767455956,
                    1.442806472894028,
                    1.209803210914542,
                    1.6992707810285097,
                    0.5358296093751216,
                    3.106565940269521,
                    1.544724905434904,
                    1.6930500690386316,
                    2.151138944693513,
                    2.0639107243134758
                  ]
                },
                {
                  "name": "Verdadero valor",
                  "type": "scatter",
                  "x": [
                    0.004714759968180049,
                    0.005105270933564832,
                    0.034427906340712244,
                    0.042671918967729594,
                    0.045144342143295324,
                    0.047401631807490796,
                    0.057076136571773795,
                    0.06266809966185205,
                    0.07024430159160633,
                    0.08096877800743396,
                    0.08878097326652346,
                    0.09068980938198679,
                    0.10135093423556074,
                    0.10217943693890974,
                    0.10968375935140351,
                    0.11106944375556305,
                    0.11963614986312465,
                    0.1203994663562804,
                    0.12144919496251716,
                    0.12696919248079674,
                    0.12903907998544417,
                    0.14609020467016887,
                    0.14735696790405628,
                    0.14837381570326102,
                    0.1516108594825074,
                    0.15309908926994154,
                    0.17403785033969554,
                    0.17935096145820895,
                    0.19233738944730727,
                    0.19271966161871634,
                    0.19397038395522048,
                    0.20226783128489956,
                    0.22694319770707994,
                    0.23211998944899004,
                    0.23377332163092213,
                    0.23710582970477012,
                    0.24918160523350275,
                    0.26151503963950895,
                    0.2661392076223925,
                    0.27104393263776205,
                    0.27369410865259414,
                    0.27575337427980284,
                    0.2768545616392648,
                    0.2825898265271154,
                    0.2971690419385118,
                    0.30722848841350214,
                    0.31266491183686806,
                    0.32227274464187894,
                    0.32242659290754827,
                    0.32842459432037563,
                    0.3551621858667202,
                    0.3578084281399716,
                    0.3641540432969341,
                    0.36926929880244175,
                    0.3738037638209655,
                    0.39908677422300265,
                    0.4045639967081156,
                    0.4166852450226779,
                    0.42438091205005146,
                    0.42570882520126263,
                    0.42778627350031484,
                    0.43172937269574296,
                    0.4337877626017781,
                    0.44101111603752097,
                    0.4445861538476654,
                    0.46568570744655746,
                    0.47139576144892525,
                    0.47392776892550126,
                    0.4769499503109782,
                    0.4769810271922921,
                    0.47742135780319606,
                    0.4869877176180153,
                    0.4932652981295871,
                    0.49531615583572286,
                    0.49565655700776,
                    0.5054441367274896,
                    0.5096406862182699,
                    0.5116723697624708,
                    0.51481481889041,
                    0.5200408938241587,
                    0.5217440800312632,
                    0.522079100235346,
                    0.5254541148399829,
                    0.5360082063103557,
                    0.5380618231565812,
                    0.5427080446752726,
                    0.5614799090859663,
                    0.5711711660686716,
                    0.5716861134160633,
                    0.5814226057373237,
                    0.5885586348201113,
                    0.593209684236768,
                    0.5933365906602497,
                    0.5943872460559698,
                    0.599513157885452,
                    0.6151944107779448,
                    0.6175790358480286,
                    0.6179887133815063,
                    0.6225526400213652,
                    0.6347507281014628,
                    0.6390952968161374,
                    0.6425899289356438,
                    0.6565308641878185,
                    0.656880857801126,
                    0.6646377320286332,
                    0.6744513445982285,
                    0.6765061215598531,
                    0.6887022409169747,
                    0.6916236625030512,
                    0.6990616556352987,
                    0.7026255960216821,
                    0.7040045565897584,
                    0.7051909179902529,
                    0.7097798489395022,
                    0.7196725315391992,
                    0.7266251994553263,
                    0.7330688155871243,
                    0.7615672859784237,
                    0.7701597346347888,
                    0.7823445084249707,
                    0.7853700080212067,
                    0.7976350797342335,
                    0.7987644968251566,
                    0.8170097785484483,
                    0.8224111162739502,
                    0.8339002142891798,
                    0.8404856404649113,
                    0.8406186489925576,
                    0.8431344399805643,
                    0.852943785011135,
                    0.8630634125972294,
                    0.8687113209469883,
                    0.8737917641886919,
                    0.8746224200195927,
                    0.8752604124992487,
                    0.8930378568354393,
                    0.8951841716242601,
                    0.9053388098806519,
                    0.9135444324475621,
                    0.915811417654024,
                    0.9161244169761198,
                    0.92201323888558,
                    0.9261876942444796,
                    0.9287086566043727,
                    0.9287294699518347,
                    0.9301511080233764,
                    0.9308374578088987,
                    0.9414192462099564,
                    0.9418698020564809,
                    0.9594453425722616,
                    0.9675622666063337,
                    0.9738297259900635,
                    0.9894980586158673,
                    1.0141481602254832,
                    1.0285203219463521,
                    1.034739317582537,
                    1.0508305539235432,
                    1.0521211550431302,
                    1.0527348717091642,
                    1.0663950477681927,
                    1.0685872761590278,
                    1.0744350609227995,
                    1.076090528808014,
                    1.0862116920190141,
                    1.086796382048472,
                    1.0922248314414693,
                    1.0933367560424407,
                    1.0985785679923603,
                    1.1114749135224902,
                    1.1120472741704108,
                    1.114841987853759,
                    1.1161903621976472,
                    1.1230984245694993,
                    1.1339113530877247,
                    1.1545658579524016,
                    1.1546261134140479,
                    1.1567204575527334,
                    1.1681705291806435,
                    1.175502307462904,
                    1.1780232133923874,
                    1.178522495689818,
                    1.1791494605217312,
                    1.1837042450818858,
                    1.1860084393397787,
                    1.1862506387973193,
                    1.1937711718516961,
                    1.1960126909498674,
                    1.2064748434493273,
                    1.208619764136978,
                    1.2178024747430678,
                    1.2198011074271007,
                    1.2216587536225583,
                    1.2260755799808716,
                    1.2343392334845087,
                    1.2416320905160318,
                    1.2483673916732105,
                    1.260111303842802,
                    1.263176490316066,
                    1.273572467806244,
                    1.3012869027931107,
                    1.305188743067422,
                    1.3094068740569509,
                    1.337552626228867,
                    1.3447902878007376,
                    1.345594037871381,
                    1.3460842540686881,
                    1.352216169760434,
                    1.3539255299433408,
                    1.3555318062421755,
                    1.3623805676951883,
                    1.3663481482759932,
                    1.3671173714072693,
                    1.386083194018829,
                    1.3909627165636995,
                    1.3979491763960759,
                    1.3985593196943327,
                    1.401141960494687,
                    1.4022082789861807,
                    1.4030790270108424,
                    1.4050242146181189,
                    1.4089472053194676,
                    1.4238517058473557,
                    1.4244337131607665,
                    1.4363885768197928,
                    1.4375299835595252,
                    1.4496775681084286,
                    1.4565991469921888,
                    1.4712540431389356,
                    1.480395906765039,
                    1.5120610250828908,
                    1.5122840561368993,
                    1.5220862510971487,
                    1.523195035974053,
                    1.5236837358658888,
                    1.5477392594011685,
                    1.5502515048102807,
                    1.5530906385760233,
                    1.5636688898864326,
                    1.5784117649786487,
                    1.5811013037023882,
                    1.59018396970051,
                    1.5948220486327946,
                    1.6001414869303727,
                    1.605505801916242,
                    1.6113132027297188,
                    1.6141022997004348,
                    1.6221128494590742,
                    1.6339254565403774,
                    1.637718120801238,
                    1.643581442310602,
                    1.6448060333275403,
                    1.6473339279467396,
                    1.658473266074391,
                    1.664468508297506,
                    1.665490592599914,
                    1.6746629440990075,
                    1.6747813729848349,
                    1.6829769555288896,
                    1.6861604342264875,
                    1.6867260433200582,
                    1.698442233550036,
                    1.7111799910741896,
                    1.7143861018991668,
                    1.7288323331509716,
                    1.7369257389739399,
                    1.7457950126146282,
                    1.751101151099048,
                    1.7517679600734586,
                    1.768519481868157,
                    1.7854472456345647,
                    1.8127042033892151,
                    1.823254642441494,
                    1.829705346527962,
                    1.8309215047043388,
                    1.8327845488622754,
                    1.8472710595242643,
                    1.8499843578141877,
                    1.8566733913630462,
                    1.8636491017659755,
                    1.8675109822635065,
                    1.8765433719139546,
                    1.8878805527028617,
                    1.8981951780817026,
                    1.9002518038388108,
                    1.909288818262184,
                    1.9105558853272386,
                    1.92506647336175,
                    1.9352843174408412,
                    1.9396997447214233,
                    1.9453932448615356,
                    1.952929757625264,
                    1.9703663320860603,
                    1.9714099430422813,
                    1.972205543758984,
                    1.973627951843793,
                    1.977922662982867,
                    1.9887586159507,
                    1.9932809007893912,
                    1.9956779432353908,
                    1.9995298475432923
                  ],
                  "y": [
                    -1.048037521464242e-7,
                    -1.3306202254195196e-7,
                    -0.00004079705892516293,
                    -0.00007767267963496576,
                    -0.00009196718141463499,
                    -0.00010645954446762943,
                    -0.00018581489139886417,
                    -0.0002459224183677727,
                    -0.0003462614815342126,
                    -0.0005301299960037626,
                    -0.0006986726245554947,
                    -0.0007446627210347447,
                    -0.0010389359109758218,
                    -0.0010645873023727064,
                    -0.0013163727213431847,
                    -0.0013668125283742406,
                    -0.0017074171135776355,
                    -0.0017402434275346444,
                    -0.0017860681424153742,
                    -0.002040277055639699,
                    -0.0021414672703133145,
                    -0.0031045566717795175,
                    -0.0031857793441795244,
                    -0.0032519888793630285,
                    -0.0034688289462506184,
                    -0.0035716585067048293,
                    -0.005239383882962686,
                    -0.005731846654742912,
                    -0.0070623300914000615,
                    -0.0071043100966992736,
                    -0.007242813647803142,
                    -0.008207109959322868,
                    -0.011566977125890459,
                    -0.012370693917088192,
                    -0.012634921013989348,
                    -0.01317875097083822,
                    -0.015278126747494063,
                    -0.017637902278478296,
                    -0.018580784879975356,
                    -0.019616398816584012,
                    -0.020191399561373655,
                    -0.02064574320548894,
                    -0.020891429197353453,
                    -0.022202038178863764,
                    -0.02577319389124262,
                    -0.028443903495880822,
                    -0.0299595333566638,
                    -0.032765065179274175,
                    -0.03281132661167491,
                    -0.034648201469956896,
                    -0.0436486149032604,
                    -0.04461360903592574,
                    -0.046983600718794497,
                    -0.0489521664934365,
                    -0.050741078957934505,
                    -0.06148955187726166,
                    -0.06399505967626976,
                    -0.06976991460035714,
                    -0.07360325371365581,
                    -0.07427798260126468,
                    -0.07534144370894977,
                    -0.07738650690563915,
                    -0.07846795893820557,
                    -0.08233887531011715,
                    -0.08429866492539205,
                    -0.09646739066030882,
                    -0.09994013142904118,
                    -0.10150484859466213,
                    -0.10339252424016426,
                    -0.10341204864016296,
                    -0.10368894008569661,
                    -0.10981971830855962,
                    -0.11396328403775674,
                    -0.11533779714608168,
                    -0.11556693450463633,
                    -0.12227713973006733,
                    -0.12522669573123715,
                    -0.12667038119842405,
                    -0.12892361116940734,
                    -0.13272551323436999,
                    -0.13397935300268357,
                    -0.1342268436981667,
                    -0.13673583670667383,
                    -0.14476752389491793,
                    -0.14636319255084557,
                    -0.15001301736131287,
                    -0.16532324316265815,
                    -0.17358394768578753,
                    -0.17402971625996153,
                    -0.18258844966055185,
                    -0.18901885359149312,
                    -0.1932819764515984,
                    -0.19339909549209222,
                    -0.19437034962061492,
                    -0.1991505798256387,
                    -0.2142050695313525,
                    -0.2165513787797818,
                    -0.21695599033848748,
                    -0.22149356774710852,
                    -0.23389247196824484,
                    -0.23840397715688222,
                    -0.2420692691249498,
                    -0.2570137703053755,
                    -0.25739559806544815,
                    -0.2659414076978575,
                    -0.2769815681636325,
                    -0.2793254176778416,
                    -0.29346666741868493,
                    -0.2969121743230094,
                    -0.3057856362479531,
                    -0.31008873638856777,
                    -0.31176259980055104,
                    -0.3132066474806907,
                    -0.3188268718998696,
                    -0.33112890683062735,
                    -0.339926298376882,
                    -0.34819050365844745,
                    -0.38600447284549416,
                    -0.397803768205594,
                    -0.4148459790734999,
                    -0.4191332803868451,
                    -0.43673730838906993,
                    -0.4383762413855447,
                    -0.4652625059027495,
                    -0.47336764487905836,
                    -0.4908238437772362,
                    -0.500959543940053,
                    -0.5011652200831873,
                    -0.5050625945630468,
                    -0.5203864590581626,
                    -0.5364033473330446,
                    -0.5454322268711644,
                    -0.5536075688331151,
                    -0.554949010213138,
                    -0.5559802188282819,
                    -0.5850225481260138,
                    -0.5885680763723037,
                    -0.6054523794632787,
                    -0.6192242603718058,
                    -0.6230485912046276,
                    -0.6235772635505971,
                    -0.6335528680947806,
                    -0.6406571655207707,
                    -0.6449603377656807,
                    -0.6449959050526423,
                    -0.6474268295739979,
                    -0.6486015263383176,
                    -0.666798718912389,
                    -0.6675770343706097,
                    -0.6981469736790527,
                    -0.71239350252888,
                    -0.7234444082031131,
                    -0.7512446821256126,
                    -0.7953933815645391,
                    -0.8213034081080777,
                    -0.8325409295013521,
                    -0.8616594736317208,
                    -0.8639962966504937,
                    -0.865107540198671,
                    -0.889837267020816,
                    -0.893803705089414,
                    -0.9043784622204751,
                    -0.9073702633448805,
                    -0.9256380849671847,
                    -0.9266919572549507,
                    -0.9364674413043342,
                    -0.938467627406951,
                    -0.947885867182945,
                    -0.9709669123375062,
                    -0.9719878717719748,
                    -0.9769683616969695,
                    -0.9793684812469382,
                    -0.991634004227587,
                    -1.0107173397866025,
                    -1.0466962227486392,
                    -1.0468001413827053,
                    -1.0504079911680284,
                    -1.0699831975255876,
                    -1.0823745943868515,
                    -1.0866073911132546,
                    -1.0874439800219544,
                    -1.0884936847873457,
                    -1.0960914491596954,
                    -1.0999157358269684,
                    -1.1003169456875541,
                    -1.1126997056107106,
                    -1.1163613760507944,
                    -1.1332647799148068,
                    -1.136690541589554,
                    -1.1511945068666904,
                    -1.1543152146744686,
                    -1.157203811060784,
                    -1.1640245668386258,
                    -1.1766003187478247,
                    -1.187487764997265,
                    -1.1973576384208167,
                    -1.2141157775499978,
                    -1.2183906582395796,
                    -1.2325670992630011,
                    -1.267708376457098,
                    -1.2723193112354088,
                    -1.2772040299424576,
                    -1.3069543251082778,
                    -1.3137470420681714,
                    -1.3144783600547827,
                    -1.3149221071805945,
                    -1.3203242058321296,
                    -1.3217803994841701,
                    -1.3231287107451264,
                    -1.3286557365859832,
                    -1.3316898635389096,
                    -1.3322636007368003,
                    -1.3448616505058217,
                    -1.347602844815745,
                    -1.3511542486940415,
                    -1.3514431275052137,
                    -1.352627480823342,
                    -1.3530982285998525,
                    -1.3534746747555673,
                    -1.354289619061055,
                    -1.35582277058173,
                    -1.3602603131724804,
                    -1.3603877712719736,
                    -1.3622135928596482,
                    -1.362307366546328,
                    -1.3624044943103026,
                    -1.3617025730278125,
                    -1.358317833642761,
                    -1.354845915948626,
                    -1.3341356984913477,
                    -1.3339394910689053,
                    -1.3245840018698751,
                    -1.323434371110885,
                    -1.3229216895820732,
                    -1.293021449002431,
                    -1.2893542566489953,
                    -1.285081591928199,
                    -1.2679411031833103,
                    -1.2407344583432107,
                    -1.2353409232463919,
                    -1.2161158402132939,
                    -1.2056856894564185,
                    -1.1932023137748269,
                    -1.180040321037184,
                    -1.1651303142408604,
                    -1.157721578411799,
                    -1.1355320234887163,
                    -1.1002840243506,
                    -1.0883120884231239,
                    -1.0691630673351904,
                    -1.0650642975513072,
                    -1.0564935954993198,
                    -1.016937829653616,
                    -0.9944171362360195,
                    -0.99049013825776,
                    -0.9540872686590438,
                    -0.9536034425687685,
                    -0.9192508877108261,
                    -0.9054388041516701,
                    -0.9029570689108002,
                    -0.849637789425457,
                    -0.7874261381268033,
                    -0.7710517552024878,
                    -0.6935934923550726,
                    -0.647500400243282,
                    -0.5946956615687813,
                    -0.5619336526485272,
                    -0.5577536490418884,
                    -0.4480368139169939,
                    -0.3276669302071802,
                    -0.11261814522776104,
                    -0.021988377761143596,
                    0.035538018102855506,
                    0.04656619391066119,
                    0.06357369768299259,
                    0.20057201527603086,
                    0.2271838809129445,
                    0.294100003532896,
                    0.365898761965437,
                    0.40654604882012224,
                    0.504156933005389,
                    0.631822981969576,
                    0.7530846509001927,
                    0.777856942039667,
                    0.8890920397076001,
                    0.9050017624837552,
                    1.0928162971823907,
                    1.2314008641143945,
                    1.29294594026155,
                    1.3738079936101522,
                    1.4834860477614757,
                    1.7490625768381944,
                    1.7654926382718292,
                    1.7780593680168124,
                    1.8006157769656355,
                    1.8694178442190865,
                    2.0477278989152787,
                    2.124173323610231,
                    2.1651848061831758,
                    2.2318072053490434
                  ]
                },
                {
                  "name": "LR1",
                  "type": "scatter",
                  "x": [
                    0.004714759968180049,
                    0.005105270933564832,
                    0.034427906340712244,
                    0.042671918967729594,
                    0.045144342143295324,
                    0.047401631807490796,
                    0.057076136571773795,
                    0.06266809966185205,
                    0.07024430159160633,
                    0.08096877800743396,
                    0.08878097326652346,
                    0.09068980938198679,
                    0.10135093423556074,
                    0.10217943693890974,
                    0.10968375935140351,
                    0.11106944375556305,
                    0.11963614986312465,
                    0.1203994663562804,
                    0.12144919496251716,
                    0.12696919248079674,
                    0.12903907998544417,
                    0.14609020467016887,
                    0.14735696790405628,
                    0.14837381570326102,
                    0.1516108594825074,
                    0.15309908926994154,
                    0.17403785033969554,
                    0.17935096145820895,
                    0.19233738944730727,
                    0.19271966161871634,
                    0.19397038395522048,
                    0.20226783128489956,
                    0.22694319770707994,
                    0.23211998944899004,
                    0.23377332163092213,
                    0.23710582970477012,
                    0.24918160523350275,
                    0.26151503963950895,
                    0.2661392076223925,
                    0.27104393263776205,
                    0.27369410865259414,
                    0.27575337427980284,
                    0.2768545616392648,
                    0.2825898265271154,
                    0.2971690419385118,
                    0.30722848841350214,
                    0.31266491183686806,
                    0.32227274464187894,
                    0.32242659290754827,
                    0.32842459432037563,
                    0.3551621858667202,
                    0.3578084281399716,
                    0.3641540432969341,
                    0.36926929880244175,
                    0.3738037638209655,
                    0.39908677422300265,
                    0.4045639967081156,
                    0.4166852450226779,
                    0.42438091205005146,
                    0.42570882520126263,
                    0.42778627350031484,
                    0.43172937269574296,
                    0.4337877626017781,
                    0.44101111603752097,
                    0.4445861538476654,
                    0.46568570744655746,
                    0.47139576144892525,
                    0.47392776892550126,
                    0.4769499503109782,
                    0.4769810271922921,
                    0.47742135780319606,
                    0.4869877176180153,
                    0.4932652981295871,
                    0.49531615583572286,
                    0.49565655700776,
                    0.5054441367274896,
                    0.5096406862182699,
                    0.5116723697624708,
                    0.51481481889041,
                    0.5200408938241587,
                    0.5217440800312632,
                    0.522079100235346,
                    0.5254541148399829,
                    0.5360082063103557,
                    0.5380618231565812,
                    0.5427080446752726,
                    0.5614799090859663,
                    0.5711711660686716,
                    0.5716861134160633,
                    0.5814226057373237,
                    0.5885586348201113,
                    0.593209684236768,
                    0.5933365906602497,
                    0.5943872460559698,
                    0.599513157885452,
                    0.6151944107779448,
                    0.6175790358480286,
                    0.6179887133815063,
                    0.6225526400213652,
                    0.6347507281014628,
                    0.6390952968161374,
                    0.6425899289356438,
                    0.6565308641878185,
                    0.656880857801126,
                    0.6646377320286332,
                    0.6744513445982285,
                    0.6765061215598531,
                    0.6887022409169747,
                    0.6916236625030512,
                    0.6990616556352987,
                    0.7026255960216821,
                    0.7040045565897584,
                    0.7051909179902529,
                    0.7097798489395022,
                    0.7196725315391992,
                    0.7266251994553263,
                    0.7330688155871243,
                    0.7615672859784237,
                    0.7701597346347888,
                    0.7823445084249707,
                    0.7853700080212067,
                    0.7976350797342335,
                    0.7987644968251566,
                    0.8170097785484483,
                    0.8224111162739502,
                    0.8339002142891798,
                    0.8404856404649113,
                    0.8406186489925576,
                    0.8431344399805643,
                    0.852943785011135,
                    0.8630634125972294,
                    0.8687113209469883,
                    0.8737917641886919,
                    0.8746224200195927,
                    0.8752604124992487,
                    0.8930378568354393,
                    0.8951841716242601,
                    0.9053388098806519,
                    0.9135444324475621,
                    0.915811417654024,
                    0.9161244169761198,
                    0.92201323888558,
                    0.9261876942444796,
                    0.9287086566043727,
                    0.9287294699518347,
                    0.9301511080233764,
                    0.9308374578088987,
                    0.9414192462099564,
                    0.9418698020564809,
                    0.9594453425722616,
                    0.9675622666063337,
                    0.9738297259900635,
                    0.9894980586158673,
                    1.0141481602254832,
                    1.0285203219463521,
                    1.034739317582537,
                    1.0508305539235432,
                    1.0521211550431302,
                    1.0527348717091642,
                    1.0663950477681927,
                    1.0685872761590278,
                    1.0744350609227995,
                    1.076090528808014,
                    1.0862116920190141,
                    1.086796382048472,
                    1.0922248314414693,
                    1.0933367560424407,
                    1.0985785679923603,
                    1.1114749135224902,
                    1.1120472741704108,
                    1.114841987853759,
                    1.1161903621976472,
                    1.1230984245694993,
                    1.1339113530877247,
                    1.1545658579524016,
                    1.1546261134140479,
                    1.1567204575527334,
                    1.1681705291806435,
                    1.175502307462904,
                    1.1780232133923874,
                    1.178522495689818,
                    1.1791494605217312,
                    1.1837042450818858,
                    1.1860084393397787,
                    1.1862506387973193,
                    1.1937711718516961,
                    1.1960126909498674,
                    1.2064748434493273,
                    1.208619764136978,
                    1.2178024747430678,
                    1.2198011074271007,
                    1.2216587536225583,
                    1.2260755799808716,
                    1.2343392334845087,
                    1.2416320905160318,
                    1.2483673916732105,
                    1.260111303842802,
                    1.263176490316066,
                    1.273572467806244,
                    1.3012869027931107,
                    1.305188743067422,
                    1.3094068740569509,
                    1.337552626228867,
                    1.3447902878007376,
                    1.345594037871381,
                    1.3460842540686881,
                    1.352216169760434,
                    1.3539255299433408,
                    1.3555318062421755,
                    1.3623805676951883,
                    1.3663481482759932,
                    1.3671173714072693,
                    1.386083194018829,
                    1.3909627165636995,
                    1.3979491763960759,
                    1.3985593196943327,
                    1.401141960494687,
                    1.4022082789861807,
                    1.4030790270108424,
                    1.4050242146181189,
                    1.4089472053194676,
                    1.4238517058473557,
                    1.4244337131607665,
                    1.4363885768197928,
                    1.4375299835595252,
                    1.4496775681084286,
                    1.4565991469921888,
                    1.4712540431389356,
                    1.480395906765039,
                    1.5120610250828908,
                    1.5122840561368993,
                    1.5220862510971487,
                    1.523195035974053,
                    1.5236837358658888,
                    1.5477392594011685,
                    1.5502515048102807,
                    1.5530906385760233,
                    1.5636688898864326,
                    1.5784117649786487,
                    1.5811013037023882,
                    1.59018396970051,
                    1.5948220486327946,
                    1.6001414869303727,
                    1.605505801916242,
                    1.6113132027297188,
                    1.6141022997004348,
                    1.6221128494590742,
                    1.6339254565403774,
                    1.637718120801238,
                    1.643581442310602,
                    1.6448060333275403,
                    1.6473339279467396,
                    1.658473266074391,
                    1.664468508297506,
                    1.665490592599914,
                    1.6746629440990075,
                    1.6747813729848349,
                    1.6829769555288896,
                    1.6861604342264875,
                    1.6867260433200582,
                    1.698442233550036,
                    1.7111799910741896,
                    1.7143861018991668,
                    1.7288323331509716,
                    1.7369257389739399,
                    1.7457950126146282,
                    1.751101151099048,
                    1.7517679600734586,
                    1.768519481868157,
                    1.7854472456345647,
                    1.8127042033892151,
                    1.823254642441494,
                    1.829705346527962,
                    1.8309215047043388,
                    1.8327845488622754,
                    1.8472710595242643,
                    1.8499843578141877,
                    1.8566733913630462,
                    1.8636491017659755,
                    1.8675109822635065,
                    1.8765433719139546,
                    1.8878805527028617,
                    1.8981951780817026,
                    1.9002518038388108,
                    1.909288818262184,
                    1.9105558853272386,
                    1.92506647336175,
                    1.9352843174408412,
                    1.9396997447214233,
                    1.9453932448615356,
                    1.952929757625264,
                    1.9703663320860603,
                    1.9714099430422813,
                    1.972205543758984,
                    1.973627951843793,
                    1.977922662982867,
                    1.9887586159507,
                    1.9932809007893912,
                    1.9956779432353908,
                    1.9995298475432923
                  ],
                  "y": [
                    0.22023981412760052,
                    0.21985725077861873,
                    0.19113138493442583,
                    0.18305515312738252,
                    0.1806330483109082,
                    0.17842169864315793,
                    0.16894408784491244,
                    0.16346593148888044,
                    0.15604391920312288,
                    0.14553770560762946,
                    0.1378845028908453,
                    0.136014515101208,
                    0.12557036374715547,
                    0.12475872259766474,
                    0.11740712694878508,
                    0.11604964377090643,
                    0.10765728588917023,
                    0.10690950429059987,
                    0.10588113959224099,
                    0.10047348417625712,
                    0.09844572268942353,
                    0.08174161975375704,
                    0.08050063748160663,
                    0.07950448440537916,
                    0.07633332042085761,
                    0.0748753788468628,
                    0.054362760077038885,
                    0.049157780542064655,
                    0.03643565024816997,
                    0.036061158018552586,
                    0.034835890182020046,
                    0.0267073111667957,
                    0.0025341338361155596,
                    -0.0025373006722979596,
                    -0.004156984503393524,
                    -0.007421669908536321,
                    -0.019251681194575765,
                    -0.03133410752582999,
                    -0.035864165185140795,
                    -0.04066907002530473,
                    -0.04326531008382983,
                    -0.04528266586796703,
                    -0.04636144203927661,
                    -0.05197998373792445,
                    -0.06626248530049783,
                    -0.07611720353762363,
                    -0.08144298574524123,
                    -0.09085528148121402,
                    -0.09100599865170778,
                    -0.09688192970380416,
                    -0.12307536208437053,
                    -0.12566774846019135,
                    -0.13188421867737254,
                    -0.13689536932497637,
                    -0.14133754964024048,
                    -0.16610600427816213,
                    -0.1714717552115792,
                    -0.18334631382861954,
                    -0.1908853598775302,
                    -0.19218624755371572,
                    -0.19422141595888132,
                    -0.1980842658332349,
                    -0.2001007637187353,
                    -0.20717710862631988,
                    -0.21067938784154694,
                    -0.23134952671679931,
                    -0.23694337061785364,
                    -0.23942384708522058,
                    -0.24238452152087753,
                    -0.24241496593049794,
                    -0.24284633500358033,
                    -0.2522180018009921,
                    -0.2583678220029506,
                    -0.2603769409826733,
                    -0.2607104143647676,
                    -0.2702987988351404,
                    -0.27440994082517056,
                    -0.2764002758724202,
                    -0.2794787703807746,
                    -0.28459848507742747,
                    -0.2862670083125878,
                    -0.2865952102393232,
                    -0.2899015370891722,
                    -0.30024083338623586,
                    -0.3022526553524727,
                    -0.306804317717575,
                    -0.32519414016087156,
                    -0.3346881622390827,
                    -0.33519262946082495,
                    -0.3447309662552511,
                    -0.351721764021077,
                    -0.356278156027541,
                    -0.3564024796718892,
                    -0.35743175229786117,
                    -0.3624533423936469,
                    -0.3778154529476254,
                    -0.3801515465115495,
                    -0.3805528863537109,
                    -0.385023928692128,
                    -0.39697376324414513,
                    -0.4012299119946151,
                    -0.4046534219228969,
                    -0.41831063350146236,
                    -0.4186535041010042,
                    -0.42625251167094913,
                    -0.4358663991748115,
                    -0.437879357645965,
                    -0.44982726354213975,
                    -0.4526892288256388,
                    -0.459975845117123,
                    -0.46346725276157374,
                    -0.46481814894580054,
                    -0.46598036570974877,
                    -0.47047590347387047,
                    -0.48016725178729014,
                    -0.48697842012344894,
                    -0.4932908968153765,
                    -0.5212093709176607,
                    -0.5296269474399844,
                    -0.5415637386723742,
                    -0.5445276637870983,
                    -0.5565431187319131,
                    -0.5576495501077261,
                    -0.5755235067898403,
                    -0.5808149173580773,
                    -0.5920701910970751,
                    -0.5985215917377142,
                    -0.5986518932971836,
                    -0.6011164833113504,
                    -0.6107261901284561,
                    -0.6206398646803856,
                    -0.6261728277071649,
                    -0.6311498745845623,
                    -0.631963625041499,
                    -0.63258863320075,
                    -0.6500042738470726,
                    -0.6521069071822756,
                    -0.6620548798729673,
                    -0.6700935029282368,
                    -0.6723143508161354,
                    -0.6726209800263345,
                    -0.6783899535787684,
                    -0.682479451093139,
                    -0.6849491072322629,
                    -0.6849694969898223,
                    -0.6863622021118235,
                    -0.6870345834168239,
                    -0.6974010129610908,
                    -0.6978423991674418,
                    -0.7150602451074569,
                    -0.723011974808172,
                    -0.7291518798658554,
                    -0.7445013331043364,
                    -0.7686497598078567,
                    -0.7827294216033339,
                    -0.7888218492398733,
                    -0.8045855993251152,
                    -0.8058499343381471,
                    -0.806451160741233,
                    -0.8198333270926266,
                    -0.8219809396035953,
                    -0.827709711191734,
                    -0.829331487260622,
                    -0.839246666184666,
                    -0.8398194566966182,
                    -0.8451374271600511,
                    -0.8462267220502567,
                    -0.8513618534858567,
                    -0.8639957346645097,
                    -0.8645564467205158,
                    -0.8672942828401582,
                    -0.8686152152861157,
                    -0.8753826858828675,
                    -0.8859755514177873,
                    -0.9062096991191333,
                    -0.9062687282713084,
                    -0.9083204486546951,
                    -0.9195374902651352,
                    -0.9267200533741882,
                    -0.9291896542313646,
                    -0.9296787752157247,
                    -0.930292980160147,
                    -0.9347550664769967,
                    -0.9370123661436924,
                    -0.9372496363968004,
                    -0.9446171127711849,
                    -0.946813012832936,
                    -0.957062241286246,
                    -0.9591635088928019,
                    -0.9681593344485188,
                    -0.9701172912813947,
                    -0.9719371309600505,
                    -0.9762640667782096,
                    -0.9843595397339082,
                    -0.9915039737112631,
                    -0.9981021991018155,
                    -1.0096071010584602,
                    -1.0126099053492692,
                    -1.0227943055764503,
                    -1.0499447008368399,
                    -1.053767131485008,
                    -1.057899415750593,
                    -1.0854723500980041,
                    -1.09256271194483,
                    -1.0933501042232177,
                    -1.093830343619267,
                    -1.0998374635484007,
                    -1.1015120351076,
                    -1.103085620729368,
                    -1.1097949972900496,
                    -1.1136818303085594,
                    -1.1144353983343005,
                    -1.1330152315723327,
                    -1.1377954468586267,
                    -1.1446397193833864,
                    -1.1452374451433018,
                    -1.1477675244531798,
                    -1.1488121414021175,
                    -1.1496651681029313,
                    -1.151570767564663,
                    -1.1554139181897765,
                    -1.1700150847184323,
                    -1.1705852471125429,
                    -1.1822968073078148,
                    -1.1834149843210313,
                    -1.1953153431816042,
                    -1.202096055204386,
                    -1.2164526972601477,
                    -1.22540850714705,
                    -1.2564291820662417,
                    -1.2566476740280859,
                    -1.2569303207797784,
                    -1.2564211098077838,
                    -1.2561966737137147,
                    -1.2451491416122291,
                    -1.243995389470303,
                    -1.242691513403276,
                    -1.2378334370135466,
                    -1.2310627514530936,
                    -1.2298275771138147,
                    -1.2256563503253326,
                    -1.22352630622887,
                    -1.2210833469115148,
                    -1.218619777913652,
                    -1.215952721143136,
                    -1.214671824542696,
                    -1.2109929686042946,
                    -1.2055680126376727,
                    -1.2038262263859387,
                    -1.2011334879593136,
                    -1.2005710928590378,
                    -1.1994101537959647,
                    -1.1942943975176177,
                    -1.1915410743226804,
                    -1.1910716807081654,
                    -1.1196445284567536,
                    -1.1186016787354176,
                    -1.0464338042125938,
                    -1.018401032904472,
                    -1.0134204466100438,
                    -0.9102511426761909,
                    -0.7980862194673937,
                    -0.7698541563432076,
                    -0.6426449190859722,
                    -0.5713767825313629,
                    -0.4932765835803936,
                    -0.44655229835894616,
                    -0.4406805758624329,
                    -0.2931716323007427,
                    -0.14411075409236096,
                    0.09590594960595777,
                    0.1888099936556249,
                    0.2456129848516324,
                    0.25632211384897574,
                    0.27272752936370126,
                    0.4002914551869299,
                    0.4241839569679333,
                    0.4830856068797076,
                    0.5445116483307026,
                    0.5785182251261667,
                    0.6580547753873367,
                    0.7578866343452979,
                    0.8487141729722014,
                    0.8668242107616513,
                    0.9464014854045695,
                    0.9575589030098863,
                    1.0853348470502089,
                    1.1753101581924967,
                    1.2141911041456128,
                    1.2643263814731986,
                    1.3306906825523164,
                    1.4842319971605658,
                    1.4934217263999898,
                    1.5004275508651352,
                    1.5129528555195553,
                    1.5507708108546925,
                    1.6461890059511528,
                    1.6860109079380823,
                    1.7071185543486818,
                    1.7410372837705699
                  ]
                },
                {
                  "name": "LR2",
                  "type": "scatter",
                  "x": [
                    0.004714759968180049,
                    0.005105270933564832,
                    0.034427906340712244,
                    0.042671918967729594,
                    0.045144342143295324,
                    0.047401631807490796,
                    0.057076136571773795,
                    0.06266809966185205,
                    0.07024430159160633,
                    0.08096877800743396,
                    0.08878097326652346,
                    0.09068980938198679,
                    0.10135093423556074,
                    0.10217943693890974,
                    0.10968375935140351,
                    0.11106944375556305,
                    0.11963614986312465,
                    0.1203994663562804,
                    0.12144919496251716,
                    0.12696919248079674,
                    0.12903907998544417,
                    0.14609020467016887,
                    0.14735696790405628,
                    0.14837381570326102,
                    0.1516108594825074,
                    0.15309908926994154,
                    0.17403785033969554,
                    0.17935096145820895,
                    0.19233738944730727,
                    0.19271966161871634,
                    0.19397038395522048,
                    0.20226783128489956,
                    0.22694319770707994,
                    0.23211998944899004,
                    0.23377332163092213,
                    0.23710582970477012,
                    0.24918160523350275,
                    0.26151503963950895,
                    0.2661392076223925,
                    0.27104393263776205,
                    0.27369410865259414,
                    0.27575337427980284,
                    0.2768545616392648,
                    0.2825898265271154,
                    0.2971690419385118,
                    0.30722848841350214,
                    0.31266491183686806,
                    0.32227274464187894,
                    0.32242659290754827,
                    0.32842459432037563,
                    0.3551621858667202,
                    0.3578084281399716,
                    0.3641540432969341,
                    0.36926929880244175,
                    0.3738037638209655,
                    0.39908677422300265,
                    0.4045639967081156,
                    0.4166852450226779,
                    0.42438091205005146,
                    0.42570882520126263,
                    0.42778627350031484,
                    0.43172937269574296,
                    0.4337877626017781,
                    0.44101111603752097,
                    0.4445861538476654,
                    0.46568570744655746,
                    0.47139576144892525,
                    0.47392776892550126,
                    0.4769499503109782,
                    0.4769810271922921,
                    0.47742135780319606,
                    0.4869877176180153,
                    0.4932652981295871,
                    0.49531615583572286,
                    0.49565655700776,
                    0.5054441367274896,
                    0.5096406862182699,
                    0.5116723697624708,
                    0.51481481889041,
                    0.5200408938241587,
                    0.5217440800312632,
                    0.522079100235346,
                    0.5254541148399829,
                    0.5360082063103557,
                    0.5380618231565812,
                    0.5427080446752726,
                    0.5614799090859663,
                    0.5711711660686716,
                    0.5716861134160633,
                    0.5814226057373237,
                    0.5885586348201113,
                    0.593209684236768,
                    0.5933365906602497,
                    0.5943872460559698,
                    0.599513157885452,
                    0.6151944107779448,
                    0.6175790358480286,
                    0.6179887133815063,
                    0.6225526400213652,
                    0.6347507281014628,
                    0.6390952968161374,
                    0.6425899289356438,
                    0.6565308641878185,
                    0.656880857801126,
                    0.6646377320286332,
                    0.6744513445982285,
                    0.6765061215598531,
                    0.6887022409169747,
                    0.6916236625030512,
                    0.6990616556352987,
                    0.7026255960216821,
                    0.7040045565897584,
                    0.7051909179902529,
                    0.7097798489395022,
                    0.7196725315391992,
                    0.7266251994553263,
                    0.7330688155871243,
                    0.7615672859784237,
                    0.7701597346347888,
                    0.7823445084249707,
                    0.7853700080212067,
                    0.7976350797342335,
                    0.7987644968251566,
                    0.8170097785484483,
                    0.8224111162739502,
                    0.8339002142891798,
                    0.8404856404649113,
                    0.8406186489925576,
                    0.8431344399805643,
                    0.852943785011135,
                    0.8630634125972294,
                    0.8687113209469883,
                    0.8737917641886919,
                    0.8746224200195927,
                    0.8752604124992487,
                    0.8930378568354393,
                    0.8951841716242601,
                    0.9053388098806519,
                    0.9135444324475621,
                    0.915811417654024,
                    0.9161244169761198,
                    0.92201323888558,
                    0.9261876942444796,
                    0.9287086566043727,
                    0.9287294699518347,
                    0.9301511080233764,
                    0.9308374578088987,
                    0.9414192462099564,
                    0.9418698020564809,
                    0.9594453425722616,
                    0.9675622666063337,
                    0.9738297259900635,
                    0.9894980586158673,
                    1.0141481602254832,
                    1.0285203219463521,
                    1.034739317582537,
                    1.0508305539235432,
                    1.0521211550431302,
                    1.0527348717091642,
                    1.0663950477681927,
                    1.0685872761590278,
                    1.0744350609227995,
                    1.076090528808014,
                    1.0862116920190141,
                    1.086796382048472,
                    1.0922248314414693,
                    1.0933367560424407,
                    1.0985785679923603,
                    1.1114749135224902,
                    1.1120472741704108,
                    1.114841987853759,
                    1.1161903621976472,
                    1.1230984245694993,
                    1.1339113530877247,
                    1.1545658579524016,
                    1.1546261134140479,
                    1.1567204575527334,
                    1.1681705291806435,
                    1.175502307462904,
                    1.1780232133923874,
                    1.178522495689818,
                    1.1791494605217312,
                    1.1837042450818858,
                    1.1860084393397787,
                    1.1862506387973193,
                    1.1937711718516961,
                    1.1960126909498674,
                    1.2064748434493273,
                    1.208619764136978,
                    1.2178024747430678,
                    1.2198011074271007,
                    1.2216587536225583,
                    1.2260755799808716,
                    1.2343392334845087,
                    1.2416320905160318,
                    1.2483673916732105,
                    1.260111303842802,
                    1.263176490316066,
                    1.273572467806244,
                    1.3012869027931107,
                    1.305188743067422,
                    1.3094068740569509,
                    1.337552626228867,
                    1.3447902878007376,
                    1.345594037871381,
                    1.3460842540686881,
                    1.352216169760434,
                    1.3539255299433408,
                    1.3555318062421755,
                    1.3623805676951883,
                    1.3663481482759932,
                    1.3671173714072693,
                    1.386083194018829,
                    1.3909627165636995,
                    1.3979491763960759,
                    1.3985593196943327,
                    1.401141960494687,
                    1.4022082789861807,
                    1.4030790270108424,
                    1.4050242146181189,
                    1.4089472053194676,
                    1.4238517058473557,
                    1.4244337131607665,
                    1.4363885768197928,
                    1.4375299835595252,
                    1.4496775681084286,
                    1.4565991469921888,
                    1.4712540431389356,
                    1.480395906765039,
                    1.5120610250828908,
                    1.5122840561368993,
                    1.5220862510971487,
                    1.523195035974053,
                    1.5236837358658888,
                    1.5477392594011685,
                    1.5502515048102807,
                    1.5530906385760233,
                    1.5636688898864326,
                    1.5784117649786487,
                    1.5811013037023882,
                    1.59018396970051,
                    1.5948220486327946,
                    1.6001414869303727,
                    1.605505801916242,
                    1.6113132027297188,
                    1.6141022997004348,
                    1.6221128494590742,
                    1.6339254565403774,
                    1.637718120801238,
                    1.643581442310602,
                    1.6448060333275403,
                    1.6473339279467396,
                    1.658473266074391,
                    1.664468508297506,
                    1.665490592599914,
                    1.6746629440990075,
                    1.6747813729848349,
                    1.6829769555288896,
                    1.6861604342264875,
                    1.6867260433200582,
                    1.698442233550036,
                    1.7111799910741896,
                    1.7143861018991668,
                    1.7288323331509716,
                    1.7369257389739399,
                    1.7457950126146282,
                    1.751101151099048,
                    1.7517679600734586,
                    1.768519481868157,
                    1.7854472456345647,
                    1.8127042033892151,
                    1.823254642441494,
                    1.829705346527962,
                    1.8309215047043388,
                    1.8327845488622754,
                    1.8472710595242643,
                    1.8499843578141877,
                    1.8566733913630462,
                    1.8636491017659755,
                    1.8675109822635065,
                    1.8765433719139546,
                    1.8878805527028617,
                    1.8981951780817026,
                    1.9002518038388108,
                    1.909288818262184,
                    1.9105558853272386,
                    1.92506647336175,
                    1.9352843174408412,
                    1.9396997447214233,
                    1.9453932448615356,
                    1.952929757625264,
                    1.9703663320860603,
                    1.9714099430422813,
                    1.972205543758984,
                    1.973627951843793,
                    1.977922662982867,
                    1.9887586159507,
                    1.9932809007893912,
                    1.9956779432353908,
                    1.9995298475432923
                  ],
                  "y": [
                    -0.08075160014116456,
                    -0.08072603861235628,
                    -0.07880667793845086,
                    -0.0782670527167828,
                    -0.07810521624654232,
                    -0.07795746168932371,
                    -0.07732420128396678,
                    -0.07695817026745067,
                    -0.0764622576784344,
                    -0.07576026967514027,
                    -0.07524890975987564,
                    -0.07512396379502295,
                    -0.074426122571019,
                    -0.07437189158240054,
                    -0.07388068398380554,
                    -0.07378998176298301,
                    -0.0732292341160048,
                    -0.07317926999653279,
                    -0.07311055830752222,
                    -0.07274923791426469,
                    -0.07261375006944215,
                    -0.07149764103929268,
                    -0.07141472299660867,
                    -0.0713481635741684,
                    -0.07113627762178609,
                    -0.0710388631265313,
                    -0.06966828254946078,
                    -0.06932050424115488,
                    -0.06847045652782091,
                    -0.06844543428263794,
                    -0.0683635662229185,
                    -0.06782044334609472,
                    -0.06620527720337543,
                    -0.06586642190103076,
                    -0.06575820036068114,
                    -0.06554006563801229,
                    -0.06474962615892421,
                    -0.06394232119999455,
                    -0.06363963878237966,
                    -0.06331859204902379,
                    -0.06314512047830201,
                    -0.06301032790569971,
                    -0.06293824790050895,
                    -0.06256283683232589,
                    -0.06160853063411098,
                    -0.06095007324454693,
                    -0.060594223329262675,
                    -0.059965327045169214,
                    -0.059955256657335365,
                    -0.059562647743642394,
                    -0.05781249530964683,
                    -0.05763928122836193,
                    -0.05722391869307408,
                    -0.05688909134492093,
                    -0.05659228058037291,
                    -0.05493734011510387,
                    -0.054578819631042386,
                    -0.0537854036569807,
                    -0.05845569543490203,
                    -0.05996545821610022,
                    -0.06232740042513063,
                    -0.06681048307432258,
                    -0.06915075695932105,
                    -0.07736330471726438,
                    -0.08142792221292616,
                    -0.10541693135440866,
                    -0.11190894252512651,
                    -0.11478769302651415,
                    -0.11822374377249911,
                    -0.11825907644370703,
                    -0.11875970765378119,
                    -0.1296361222647735,
                    -0.1367733792485617,
                    -0.13910508944469369,
                    -0.13949210648699717,
                    -0.15062003572346816,
                    -0.1553912771445325,
                    -0.15770118739386518,
                    -0.1612739758182009,
                    -0.1672157299303052,
                    -0.16915215713007337,
                    -0.1695330563135875,
                    -0.1733702586422443,
                    -0.185369668751854,
                    -0.18770451593553172,
                    -0.19298700923392476,
                    -0.21432956630937072,
                    -0.2253479819957951,
                    -0.2259334482506179,
                    -0.23700329398010078,
                    -0.24511655884603822,
                    -0.25040454119366107,
                    -0.250548826680022,
                    -0.25174336294233424,
                    -0.25757123722221165,
                    -0.2753999423284501,
                    -0.27811112729912457,
                    -0.2785769076792435,
                    -0.28376583631564767,
                    -0.2976343783722646,
                    -0.3025739093497166,
                    -0.3065471100844155,
                    -0.3223971716337175,
                    -0.3227950947437854,
                    -0.3316142257211703,
                    -0.3427717528479697,
                    -0.3451079190177935,
                    -0.358974222746796,
                    -0.36229571525165194,
                    -0.37075229630714523,
                    -0.3748042966543539,
                    -0.376372097485697,
                    -0.3777209238648038,
                    -0.38293828099869875,
                    -0.3941857063153358,
                    -0.40209049981800193,
                    -0.40941652999041356,
                    -0.441817692580462,
                    -0.45158682482296,
                    -0.46544022927863193,
                    -0.4688800526441588,
                    -0.4828247513348547,
                    -0.4841088352275169,
                    -0.5048526973190803,
                    -0.5109937153963586,
                    -0.5240561755106432,
                    -0.5315434357500481,
                    -0.5316946589866274,
                    -0.5345549722499616,
                    -0.5457076474242213,
                    -0.5572130964629134,
                    -0.5636344515118534,
                    -0.569410630557386,
                    -0.5703550396524653,
                    -0.571080401322082,
                    -0.5912923585416641,
                    -0.593732598087406,
                    -0.6052778522947659,
                    -0.6146071849674486,
                    -0.6171846200106375,
                    -0.617540482686302,
                    -0.6242357429417618,
                    -0.6289818645739562,
                    -0.6318480573971059,
                    -0.631871721005921,
                    -0.6334880437652746,
                    -0.6342683849796984,
                    -0.6462992849462041,
                    -0.6468115416757301,
                    -0.6667939455746303,
                    -0.6760224329898477,
                    -0.6831481828188894,
                    -0.7009621983064935,
                    -0.728987981415127,
                    -0.7453283232753882,
                    -0.7523989725414046,
                    -0.7706938058360018,
                    -0.7721611469297682,
                    -0.7728589083607278,
                    -0.788389762452897,
                    -0.7908822031892133,
                    -0.7975308065114612,
                    -0.7994129806553691,
                    -0.810920175613459,
                    -0.8115849353864968,
                    -0.8177567779092465,
                    -0.8190209738218437,
                    -0.8249806200387741,
                    -0.8396430416565588,
                    -0.8402937836142421,
                    -0.8434712163396998,
                    -0.8450042423494715,
                    -0.8528583218498551,
                    -0.8651520151668324,
                    -0.8886350288566358,
                    -0.8887035359372941,
                    -0.8910846877684389,
                    -0.90410277706901,
                    -0.9124385977967866,
                    -0.9153047264617244,
                    -0.9158723824332653,
                    -0.9165852062858477,
                    -0.9217637408903332,
                    -0.9243834805382489,
                    -0.9246588477384967,
                    -0.9332092720564664,
                    -0.9357577535627128,
                    -0.9476526342184961,
                    -0.9500912887493913,
                    -0.9605315157257877,
                    -0.9628038490006607,
                    -0.9649158885447964,
                    -0.9699375724107284,
                    -0.9793328830039918,
                    -0.9876244524524525,
                    -0.9952821121405073,
                    -1.0086342816578713,
                    -1.0121192267768686,
                    -1.0239388701583096,
                    -1.0554486284636169,
                    -1.059884802033374,
                    -1.064680580408187,
                    -1.0966807221638617,
                    -1.104909537470156,
                    -1.1058233562247461,
                    -1.1063807045488887,
                    -1.1133523488016754,
                    -1.1152957954656844,
                    -1.1171220415346304,
                    -1.1249086992159942,
                    -1.1294196158274004,
                    -1.1302941793882613,
                    -1.151857256060572,
                    -1.1574049995417952,
                    -1.1653482125581247,
                    -1.1660419112703229,
                    -1.1689782290212407,
                    -1.1701905733450333,
                    -1.1711805650159768,
                    -1.173392134235873,
                    -1.177852354655017,
                    -1.1947979358843521,
                    -1.1954596455596957,
                    -1.2090516550900126,
                    -1.2103493705409702,
                    -1.224160492914946,
                    -1.2320299399313386,
                    -1.2486917349775737,
                    -1.2590855212284973,
                    -1.295086984919793,
                    -1.2953405587202231,
                    -1.3064851046655153,
                    -1.3077457308879297,
                    -1.3083013552577887,
                    -1.3356511364408974,
                    -1.3385074185798713,
                    -1.3417353544478545,
                    -1.3537622329406598,
                    -1.370524055113877,
                    -1.3735819098086584,
                    -1.3839083916764743,
                    -1.3891816273107742,
                    -1.395229530331569,
                    -1.4013284556301853,
                    -1.4079311446657519,
                    -1.411102191503942,
                    -1.4201329663251046,
                    -1.3578168997925524,
                    -1.3378091303993327,
                    -1.3068778439555802,
                    -1.3004176531813125,
                    -1.2870820323320729,
                    -1.2283177196690338,
                    -1.1965073503419759,
                    -1.1866835984063018,
                    -1.0985236437121535,
                    -1.0973853657896324,
                    -1.0186136150725527,
                    -0.9880156448816193,
                    -0.9825792993524802,
                    -0.8699692669126042,
                    -0.7703195890712389,
                    -0.7452376329361012,
                    -0.6322222824519521,
                    -0.568906177389676,
                    -0.499520325012643,
                    -0.45800949148924675,
                    -0.4527929302536249,
                    -0.32174289555795355,
                    -0.18931408962045948,
                    0.023921776542808804,
                    0.10645967493800201,
                    0.15692464192450784,
                    0.16643885640381706,
                    0.18101377112078554,
                    0.2943442343550964,
                    0.3155708333108227,
                    0.36790029265199564,
                    0.4224724743041821,
                    0.4526846293187874,
                    0.5261319463079994,
                    0.6504632571781888,
                    0.7635805231338479,
                    0.7861348936702015,
                    0.8852410004291404,
                    0.899136528082082,
                    1.0582696022933802,
                    1.170325498046902,
                    1.218748106106915,
                    1.2811869389208357,
                    1.36383751394043,
                    1.5550589648603634,
                    1.5665039193549082,
                    1.5752290232302637,
                    1.5908281271935425,
                    1.6379268791383237,
                    1.75676138148097,
                    1.8063558629126333,
                    1.8326434766564481,
                    1.8748861047722953
                  ]
                },
                {
                  "name": "LR3",
                  "type": "scatter",
                  "x": [
                    0.004714759968180049,
                    0.005105270933564832,
                    0.034427906340712244,
                    0.042671918967729594,
                    0.045144342143295324,
                    0.047401631807490796,
                    0.057076136571773795,
                    0.06266809966185205,
                    0.07024430159160633,
                    0.08096877800743396,
                    0.08878097326652346,
                    0.09068980938198679,
                    0.10135093423556074,
                    0.10217943693890974,
                    0.10968375935140351,
                    0.11106944375556305,
                    0.11963614986312465,
                    0.1203994663562804,
                    0.12144919496251716,
                    0.12696919248079674,
                    0.12903907998544417,
                    0.14609020467016887,
                    0.14735696790405628,
                    0.14837381570326102,
                    0.1516108594825074,
                    0.15309908926994154,
                    0.17403785033969554,
                    0.17935096145820895,
                    0.19233738944730727,
                    0.19271966161871634,
                    0.19397038395522048,
                    0.20226783128489956,
                    0.22694319770707994,
                    0.23211998944899004,
                    0.23377332163092213,
                    0.23710582970477012,
                    0.24918160523350275,
                    0.26151503963950895,
                    0.2661392076223925,
                    0.27104393263776205,
                    0.27369410865259414,
                    0.27575337427980284,
                    0.2768545616392648,
                    0.2825898265271154,
                    0.2971690419385118,
                    0.30722848841350214,
                    0.31266491183686806,
                    0.32227274464187894,
                    0.32242659290754827,
                    0.32842459432037563,
                    0.3551621858667202,
                    0.3578084281399716,
                    0.3641540432969341,
                    0.36926929880244175,
                    0.3738037638209655,
                    0.39908677422300265,
                    0.4045639967081156,
                    0.4166852450226779,
                    0.42438091205005146,
                    0.42570882520126263,
                    0.42778627350031484,
                    0.43172937269574296,
                    0.4337877626017781,
                    0.44101111603752097,
                    0.4445861538476654,
                    0.46568570744655746,
                    0.47139576144892525,
                    0.47392776892550126,
                    0.4769499503109782,
                    0.4769810271922921,
                    0.47742135780319606,
                    0.4869877176180153,
                    0.4932652981295871,
                    0.49531615583572286,
                    0.49565655700776,
                    0.5054441367274896,
                    0.5096406862182699,
                    0.5116723697624708,
                    0.51481481889041,
                    0.5200408938241587,
                    0.5217440800312632,
                    0.522079100235346,
                    0.5254541148399829,
                    0.5360082063103557,
                    0.5380618231565812,
                    0.5427080446752726,
                    0.5614799090859663,
                    0.5711711660686716,
                    0.5716861134160633,
                    0.5814226057373237,
                    0.5885586348201113,
                    0.593209684236768,
                    0.5933365906602497,
                    0.5943872460559698,
                    0.599513157885452,
                    0.6151944107779448,
                    0.6175790358480286,
                    0.6179887133815063,
                    0.6225526400213652,
                    0.6347507281014628,
                    0.6390952968161374,
                    0.6425899289356438,
                    0.6565308641878185,
                    0.656880857801126,
                    0.6646377320286332,
                    0.6744513445982285,
                    0.6765061215598531,
                    0.6887022409169747,
                    0.6916236625030512,
                    0.6990616556352987,
                    0.7026255960216821,
                    0.7040045565897584,
                    0.7051909179902529,
                    0.7097798489395022,
                    0.7196725315391992,
                    0.7266251994553263,
                    0.7330688155871243,
                    0.7615672859784237,
                    0.7701597346347888,
                    0.7823445084249707,
                    0.7853700080212067,
                    0.7976350797342335,
                    0.7987644968251566,
                    0.8170097785484483,
                    0.8224111162739502,
                    0.8339002142891798,
                    0.8404856404649113,
                    0.8406186489925576,
                    0.8431344399805643,
                    0.852943785011135,
                    0.8630634125972294,
                    0.8687113209469883,
                    0.8737917641886919,
                    0.8746224200195927,
                    0.8752604124992487,
                    0.8930378568354393,
                    0.8951841716242601,
                    0.9053388098806519,
                    0.9135444324475621,
                    0.915811417654024,
                    0.9161244169761198,
                    0.92201323888558,
                    0.9261876942444796,
                    0.9287086566043727,
                    0.9287294699518347,
                    0.9301511080233764,
                    0.9308374578088987,
                    0.9414192462099564,
                    0.9418698020564809,
                    0.9594453425722616,
                    0.9675622666063337,
                    0.9738297259900635,
                    0.9894980586158673,
                    1.0141481602254832,
                    1.0285203219463521,
                    1.034739317582537,
                    1.0508305539235432,
                    1.0521211550431302,
                    1.0527348717091642,
                    1.0663950477681927,
                    1.0685872761590278,
                    1.0744350609227995,
                    1.076090528808014,
                    1.0862116920190141,
                    1.086796382048472,
                    1.0922248314414693,
                    1.0933367560424407,
                    1.0985785679923603,
                    1.1114749135224902,
                    1.1120472741704108,
                    1.114841987853759,
                    1.1161903621976472,
                    1.1230984245694993,
                    1.1339113530877247,
                    1.1545658579524016,
                    1.1546261134140479,
                    1.1567204575527334,
                    1.1681705291806435,
                    1.175502307462904,
                    1.1780232133923874,
                    1.178522495689818,
                    1.1791494605217312,
                    1.1837042450818858,
                    1.1860084393397787,
                    1.1862506387973193,
                    1.1937711718516961,
                    1.1960126909498674,
                    1.2064748434493273,
                    1.208619764136978,
                    1.2178024747430678,
                    1.2198011074271007,
                    1.2216587536225583,
                    1.2260755799808716,
                    1.2343392334845087,
                    1.2416320905160318,
                    1.2483673916732105,
                    1.260111303842802,
                    1.263176490316066,
                    1.273572467806244,
                    1.3012869027931107,
                    1.305188743067422,
                    1.3094068740569509,
                    1.337552626228867,
                    1.3447902878007376,
                    1.345594037871381,
                    1.3460842540686881,
                    1.352216169760434,
                    1.3539255299433408,
                    1.3555318062421755,
                    1.3623805676951883,
                    1.3663481482759932,
                    1.3671173714072693,
                    1.386083194018829,
                    1.3909627165636995,
                    1.3979491763960759,
                    1.3985593196943327,
                    1.401141960494687,
                    1.4022082789861807,
                    1.4030790270108424,
                    1.4050242146181189,
                    1.4089472053194676,
                    1.4238517058473557,
                    1.4244337131607665,
                    1.4363885768197928,
                    1.4375299835595252,
                    1.4496775681084286,
                    1.4565991469921888,
                    1.4712540431389356,
                    1.480395906765039,
                    1.5120610250828908,
                    1.5122840561368993,
                    1.5220862510971487,
                    1.523195035974053,
                    1.5236837358658888,
                    1.5477392594011685,
                    1.5502515048102807,
                    1.5530906385760233,
                    1.5636688898864326,
                    1.5784117649786487,
                    1.5811013037023882,
                    1.59018396970051,
                    1.5948220486327946,
                    1.6001414869303727,
                    1.605505801916242,
                    1.6113132027297188,
                    1.6141022997004348,
                    1.6221128494590742,
                    1.6339254565403774,
                    1.637718120801238,
                    1.643581442310602,
                    1.6448060333275403,
                    1.6473339279467396,
                    1.658473266074391,
                    1.664468508297506,
                    1.665490592599914,
                    1.6746629440990075,
                    1.6747813729848349,
                    1.6829769555288896,
                    1.6861604342264875,
                    1.6867260433200582,
                    1.698442233550036,
                    1.7111799910741896,
                    1.7143861018991668,
                    1.7288323331509716,
                    1.7369257389739399,
                    1.7457950126146282,
                    1.751101151099048,
                    1.7517679600734586,
                    1.768519481868157,
                    1.7854472456345647,
                    1.8127042033892151,
                    1.823254642441494,
                    1.829705346527962,
                    1.8309215047043388,
                    1.8327845488622754,
                    1.8472710595242643,
                    1.8499843578141877,
                    1.8566733913630462,
                    1.8636491017659755,
                    1.8675109822635065,
                    1.8765433719139546,
                    1.8878805527028617,
                    1.8981951780817026,
                    1.9002518038388108,
                    1.909288818262184,
                    1.9105558853272386,
                    1.92506647336175,
                    1.9352843174408412,
                    1.9396997447214233,
                    1.9453932448615356,
                    1.952929757625264,
                    1.9703663320860603,
                    1.9714099430422813,
                    1.972205543758984,
                    1.973627951843793,
                    1.977922662982867,
                    1.9887586159507,
                    1.9932809007893912,
                    1.9956779432353908,
                    1.9995298475432923
                  ],
                  "y": [
                    0.19895481958577232,
                    0.1985877767428038,
                    0.17102731258896386,
                    0.16327873162630824,
                    0.160954891038409,
                    0.15883325531191061,
                    0.14974014897750576,
                    0.14448424014960648,
                    0.1373633371745503,
                    0.1272833582189385,
                    0.11994064415482508,
                    0.11814652133450865,
                    0.10812608676964969,
                    0.10734737371265612,
                    0.10029403058791153,
                    0.09899162018655772,
                    0.09093973831047014,
                    0.09022229403728166,
                    0.08923564985534721,
                    0.08404738176076981,
                    0.08210188608542507,
                    0.06607546471739678,
                    0.06488482880714552,
                    0.0639290894293314,
                    0.06088657882946269,
                    0.05948778560573853,
                    0.039807359004379594,
                    0.034813544277499164,
                    0.02260754784810859,
                    0.02224824868107106,
                    0.021072689675442624,
                    0.013273885218655912,
                    -0.00991859193486766,
                    -0.014784279525827781,
                    -0.01633825316093368,
                    -0.019470491039159432,
                    -0.03082056152117091,
                    -0.04241280662877195,
                    -0.04675908090337311,
                    -0.05136905187268048,
                    -0.05385996307639662,
                    -0.05579547520598116,
                    -0.056830485679143394,
                    -0.062221084448988384,
                    -0.07592414824791827,
                    -0.08537906286019292,
                    -0.09048877932340865,
                    -0.09951922041241273,
                    -0.09966382302238397,
                    -0.10530136891952427,
                    -0.13043213984584517,
                    -0.1329193537098671,
                    -0.13888362317743685,
                    -0.14369147260978732,
                    -0.14795343470373346,
                    -0.1717170389027155,
                    -0.17686510256982935,
                    -0.1882579131079931,
                    -0.19549110181367535,
                    -0.1967392127796648,
                    -0.19869181487638926,
                    -0.20239794983055323,
                    -0.2043326388662488,
                    -0.21112189810819876,
                    -0.21448209067094132,
                    -0.23431364682371947,
                    -0.2396805497798702,
                    -0.24206039389437373,
                    -0.244900954457376,
                    -0.24493016374438484,
                    -0.24534403227458862,
                    -0.2543354927316113,
                    -0.26023581615956093,
                    -0.26216342564996864,
                    -0.2624833700945791,
                    -0.27168275603901937,
                    -0.2756271099555257,
                    -0.2775366975732282,
                    -0.28049029827600563,
                    -0.285402307339207,
                    -0.287003138975124,
                    -0.28731802582609167,
                    -0.2904902157653055,
                    -0.3004100492184286,
                    -0.3023402520358167,
                    -0.30670725451832476,
                    -0.3243510061459688,
                    -0.33345985795853117,
                    -0.3339438590625194,
                    -0.343095227753576,
                    -0.3498024104813939,
                    -0.35417395072481506,
                    -0.3542932305878523,
                    -0.3552807458629876,
                    -0.3600986112175373,
                    -0.37483748452240756,
                    -0.37707880331425025,
                    -0.377463860892441,
                    -0.38175351408397934,
                    -0.3932185466299615,
                    -0.3973020244163918,
                    -0.40058664334382404,
                    -0.4136897850278388,
                    -0.4140187454469726,
                    -0.4213094630487384,
                    -0.4305333173745362,
                    -0.4324646105891013,
                    -0.4439277927243594,
                    -0.44667364874252924,
                    -0.4536646487072815,
                    -0.4570144107563435,
                    -0.4583105013968445,
                    -0.45942556729722617,
                    -0.4637387221407502,
                    -0.4730368947090934,
                    -0.4795717355313909,
                    -0.4856281165133757,
                    -0.5124139446203277,
                    -0.5204900220226247,
                    -0.5319425404134206,
                    -0.5347862197761969,
                    -0.5463142105109162,
                    -0.5473757542233731,
                    -0.56452456864368,
                    -0.5696013079169239,
                    -0.5803999578203873,
                    -0.5865896266388241,
                    -0.5867146418943578,
                    -0.5890792440653692,
                    -0.598299087313899,
                    -0.6078105663970097,
                    -0.6131190584017823,
                    -0.617894187645945,
                    -0.6186749244362725,
                    -0.6192745761599947,
                    -0.6359836683193933,
                    -0.6380009983096484,
                    -0.647545384064016,
                    -0.6552578820532025,
                    -0.6573886306592689,
                    -0.6576828199937887,
                    -0.66321774763213,
                    -0.6671413351843156,
                    -0.6695107979487737,
                    -0.6695303604986156,
                    -0.6708665638980177,
                    -0.6715116668499941,
                    -0.6814575327607978,
                    -0.6818810120315052,
                    -0.6984003339697872,
                    -0.7060294638475867,
                    -0.7119202743863566,
                    -0.7266470038800721,
                    -0.749815734533618,
                    -0.7633241877275846,
                    -0.7691694469931343,
                    -0.7842936654069801,
                    -0.7855067066428512,
                    -0.7860835414307203,
                    -0.7989227964084031,
                    -0.8009832807797332,
                    -0.8064796374381126,
                    -0.8080356184294106,
                    -0.8175485408526093,
                    -0.8180980933868285,
                    -0.823200315026503,
                    -0.8242454174765843,
                    -0.8291722178252225,
                    -0.8412935453854334,
                    -0.8418315094838531,
                    -0.844458272229448,
                    -0.8457256147535661,
                    -0.8522185306435719,
                    -0.8623816460895986,
                    -0.8817948991289037,
                    -0.8818515334821164,
                    -0.8838200160471582,
                    -0.8945819848906204,
                    -0.9014731530863306,
                    -0.903842562811617,
                    -0.9043118402715014,
                    -0.9049011270643064,
                    -0.9091821875779873,
                    -0.9113479091226703,
                    -0.9115755533768425,
                    -0.9186441329497549,
                    -0.9207509458571733,
                    -0.9305843654979974,
                    -0.9326003851668986,
                    -0.9412312521739116,
                    -0.9431097751538603,
                    -0.9448557843603844,
                    -0.9490071773996456,
                    -0.9567742189020348,
                    -0.9636288048560443,
                    -0.9699593417784688,
                    -0.9809974925408992,
                    -0.9838784737606376,
                    -0.9936496952413757,
                    -1.0196986052862513,
                    -1.0233659608128272,
                    -1.0273305992676904,
                    -1.0537849060871887,
                    -1.0605876136044174,
                    -1.061343061561364,
                    -1.0618038177569074,
                    -1.0675672302288826,
                    -1.0691738648097402,
                    -1.07068361042914,
                    -1.0771207891445957,
                    -1.08084993425234,
                    -1.0815729301986963,
                    -1.0993989839273652,
                    -1.1039852669922556,
                    -1.1105518689739284,
                    -1.1111253451389058,
                    -1.113552779720146,
                    -1.1145550168026364,
                    -1.11537343640877,
                    -1.1172017261439338,
                    -1.1208889610428139,
                    -1.1348977616443319,
                    -1.135444792682839,
                    -1.1466812176072618,
                    -1.1477430687050965,
                    -1.1589710271287306,
                    -1.1653686117365925,
                    -1.1789140671294671,
                    -1.1873638510593665,
                    -1.216631779224097,
                    -1.2168379258363315,
                    -1.2258980510843562,
                    -1.2269228960194556,
                    -1.227374599158057,
                    -1.2496090126766897,
                    -1.2519310699457642,
                    -1.2545552686704209,
                    -1.264332699354676,
                    -1.2779594732959345,
                    -1.280445401987958,
                    -1.288840469813345,
                    -1.2931274255622496,
                    -1.2980441587450358,
                    -1.3030023712514103,
                    -1.3083701260194958,
                    -1.3109480759568362,
                    -1.318352191505764,
                    -1.3292705317444884,
                    -1.3327760744689958,
                    -1.3381955164878194,
                    -1.339327400523595,
                    -1.3416639222880193,
                    -1.2848380017027066,
                    -1.232501775293453,
                    -1.22357936090727,
                    -1.1435081566261536,
                    -1.1424743166658335,
                    -1.0709299407059043,
                    -1.0431393601611951,
                    -1.0382018039326715,
                    -0.9359238372200247,
                    -0.8247279694100496,
                    -0.7967398188425519,
                    -0.6706296132131848,
                    -0.5999772018827954,
                    -0.5225517541577628,
                    -0.4762311461248223,
                    -0.47041015271742936,
                    -0.32417562128070365,
                    -0.1764025632272197,
                    0.06154050215465734,
                    0.1536418962948609,
                    0.20995413473400837,
                    0.2205807144684535,
                    0.23775958955819188,
                    0.37133772085921257,
                    0.3963566728820227,
                    0.45803533536427543,
                    0.5223574058657214,
                    0.5579672771594073,
                    0.6412537053988421,
                    0.7457922971508013,
                    0.8409020454762477,
                    0.8598659099864829,
                    0.9431949826238326,
                    0.954878434542116,
                    1.088678579998459,
                    1.1828959212103443,
                    1.2236099715981503,
                    1.2761089568281727,
                    1.3456021091127055,
                    1.506382374775694,
                    1.516005368510345,
                    1.5233414937843068,
                    1.536457323976236,
                    1.5760582673518189,
                    1.6759751059944625,
                    1.7176744752945086,
                    1.7397772754826863,
                    1.775295157697754
                  ]
                },
                {
                  "name": "LR4",
                  "type": "scatter",
                  "x": [
                    0.004714759968180049,
                    0.005105270933564832,
                    0.034427906340712244,
                    0.042671918967729594,
                    0.045144342143295324,
                    0.047401631807490796,
                    0.057076136571773795,
                    0.06266809966185205,
                    0.07024430159160633,
                    0.08096877800743396,
                    0.08878097326652346,
                    0.09068980938198679,
                    0.10135093423556074,
                    0.10217943693890974,
                    0.10968375935140351,
                    0.11106944375556305,
                    0.11963614986312465,
                    0.1203994663562804,
                    0.12144919496251716,
                    0.12696919248079674,
                    0.12903907998544417,
                    0.14609020467016887,
                    0.14735696790405628,
                    0.14837381570326102,
                    0.1516108594825074,
                    0.15309908926994154,
                    0.17403785033969554,
                    0.17935096145820895,
                    0.19233738944730727,
                    0.19271966161871634,
                    0.19397038395522048,
                    0.20226783128489956,
                    0.22694319770707994,
                    0.23211998944899004,
                    0.23377332163092213,
                    0.23710582970477012,
                    0.24918160523350275,
                    0.26151503963950895,
                    0.2661392076223925,
                    0.27104393263776205,
                    0.27369410865259414,
                    0.27575337427980284,
                    0.2768545616392648,
                    0.2825898265271154,
                    0.2971690419385118,
                    0.30722848841350214,
                    0.31266491183686806,
                    0.32227274464187894,
                    0.32242659290754827,
                    0.32842459432037563,
                    0.3551621858667202,
                    0.3578084281399716,
                    0.3641540432969341,
                    0.36926929880244175,
                    0.3738037638209655,
                    0.39908677422300265,
                    0.4045639967081156,
                    0.4166852450226779,
                    0.42438091205005146,
                    0.42570882520126263,
                    0.42778627350031484,
                    0.43172937269574296,
                    0.4337877626017781,
                    0.44101111603752097,
                    0.4445861538476654,
                    0.46568570744655746,
                    0.47139576144892525,
                    0.47392776892550126,
                    0.4769499503109782,
                    0.4769810271922921,
                    0.47742135780319606,
                    0.4869877176180153,
                    0.4932652981295871,
                    0.49531615583572286,
                    0.49565655700776,
                    0.5054441367274896,
                    0.5096406862182699,
                    0.5116723697624708,
                    0.51481481889041,
                    0.5200408938241587,
                    0.5217440800312632,
                    0.522079100235346,
                    0.5254541148399829,
                    0.5360082063103557,
                    0.5380618231565812,
                    0.5427080446752726,
                    0.5614799090859663,
                    0.5711711660686716,
                    0.5716861134160633,
                    0.5814226057373237,
                    0.5885586348201113,
                    0.593209684236768,
                    0.5933365906602497,
                    0.5943872460559698,
                    0.599513157885452,
                    0.6151944107779448,
                    0.6175790358480286,
                    0.6179887133815063,
                    0.6225526400213652,
                    0.6347507281014628,
                    0.6390952968161374,
                    0.6425899289356438,
                    0.6565308641878185,
                    0.656880857801126,
                    0.6646377320286332,
                    0.6744513445982285,
                    0.6765061215598531,
                    0.6887022409169747,
                    0.6916236625030512,
                    0.6990616556352987,
                    0.7026255960216821,
                    0.7040045565897584,
                    0.7051909179902529,
                    0.7097798489395022,
                    0.7196725315391992,
                    0.7266251994553263,
                    0.7330688155871243,
                    0.7615672859784237,
                    0.7701597346347888,
                    0.7823445084249707,
                    0.7853700080212067,
                    0.7976350797342335,
                    0.7987644968251566,
                    0.8170097785484483,
                    0.8224111162739502,
                    0.8339002142891798,
                    0.8404856404649113,
                    0.8406186489925576,
                    0.8431344399805643,
                    0.852943785011135,
                    0.8630634125972294,
                    0.8687113209469883,
                    0.8737917641886919,
                    0.8746224200195927,
                    0.8752604124992487,
                    0.8930378568354393,
                    0.8951841716242601,
                    0.9053388098806519,
                    0.9135444324475621,
                    0.915811417654024,
                    0.9161244169761198,
                    0.92201323888558,
                    0.9261876942444796,
                    0.9287086566043727,
                    0.9287294699518347,
                    0.9301511080233764,
                    0.9308374578088987,
                    0.9414192462099564,
                    0.9418698020564809,
                    0.9594453425722616,
                    0.9675622666063337,
                    0.9738297259900635,
                    0.9894980586158673,
                    1.0141481602254832,
                    1.0285203219463521,
                    1.034739317582537,
                    1.0508305539235432,
                    1.0521211550431302,
                    1.0527348717091642,
                    1.0663950477681927,
                    1.0685872761590278,
                    1.0744350609227995,
                    1.076090528808014,
                    1.0862116920190141,
                    1.086796382048472,
                    1.0922248314414693,
                    1.0933367560424407,
                    1.0985785679923603,
                    1.1114749135224902,
                    1.1120472741704108,
                    1.114841987853759,
                    1.1161903621976472,
                    1.1230984245694993,
                    1.1339113530877247,
                    1.1545658579524016,
                    1.1546261134140479,
                    1.1567204575527334,
                    1.1681705291806435,
                    1.175502307462904,
                    1.1780232133923874,
                    1.178522495689818,
                    1.1791494605217312,
                    1.1837042450818858,
                    1.1860084393397787,
                    1.1862506387973193,
                    1.1937711718516961,
                    1.1960126909498674,
                    1.2064748434493273,
                    1.208619764136978,
                    1.2178024747430678,
                    1.2198011074271007,
                    1.2216587536225583,
                    1.2260755799808716,
                    1.2343392334845087,
                    1.2416320905160318,
                    1.2483673916732105,
                    1.260111303842802,
                    1.263176490316066,
                    1.273572467806244,
                    1.3012869027931107,
                    1.305188743067422,
                    1.3094068740569509,
                    1.337552626228867,
                    1.3447902878007376,
                    1.345594037871381,
                    1.3460842540686881,
                    1.352216169760434,
                    1.3539255299433408,
                    1.3555318062421755,
                    1.3623805676951883,
                    1.3663481482759932,
                    1.3671173714072693,
                    1.386083194018829,
                    1.3909627165636995,
                    1.3979491763960759,
                    1.3985593196943327,
                    1.401141960494687,
                    1.4022082789861807,
                    1.4030790270108424,
                    1.4050242146181189,
                    1.4089472053194676,
                    1.4238517058473557,
                    1.4244337131607665,
                    1.4363885768197928,
                    1.4375299835595252,
                    1.4496775681084286,
                    1.4565991469921888,
                    1.4712540431389356,
                    1.480395906765039,
                    1.5120610250828908,
                    1.5122840561368993,
                    1.5220862510971487,
                    1.523195035974053,
                    1.5236837358658888,
                    1.5477392594011685,
                    1.5502515048102807,
                    1.5530906385760233,
                    1.5636688898864326,
                    1.5784117649786487,
                    1.5811013037023882,
                    1.59018396970051,
                    1.5948220486327946,
                    1.6001414869303727,
                    1.605505801916242,
                    1.6113132027297188,
                    1.6141022997004348,
                    1.6221128494590742,
                    1.6339254565403774,
                    1.637718120801238,
                    1.643581442310602,
                    1.6448060333275403,
                    1.6473339279467396,
                    1.658473266074391,
                    1.664468508297506,
                    1.665490592599914,
                    1.6746629440990075,
                    1.6747813729848349,
                    1.6829769555288896,
                    1.6861604342264875,
                    1.6867260433200582,
                    1.698442233550036,
                    1.7111799910741896,
                    1.7143861018991668,
                    1.7288323331509716,
                    1.7369257389739399,
                    1.7457950126146282,
                    1.751101151099048,
                    1.7517679600734586,
                    1.768519481868157,
                    1.7854472456345647,
                    1.8127042033892151,
                    1.823254642441494,
                    1.829705346527962,
                    1.8309215047043388,
                    1.8327845488622754,
                    1.8472710595242643,
                    1.8499843578141877,
                    1.8566733913630462,
                    1.8636491017659755,
                    1.8675109822635065,
                    1.8765433719139546,
                    1.8878805527028617,
                    1.8981951780817026,
                    1.9002518038388108,
                    1.909288818262184,
                    1.9105558853272386,
                    1.92506647336175,
                    1.9352843174408412,
                    1.9396997447214233,
                    1.9453932448615356,
                    1.952929757625264,
                    1.9703663320860603,
                    1.9714099430422813,
                    1.972205543758984,
                    1.973627951843793,
                    1.977922662982867,
                    1.9887586159507,
                    1.9932809007893912,
                    1.9956779432353908,
                    1.9995298475432923
                  ],
                  "y": [
                    0.4836605373620251,
                    0.4815155101347375,
                    0.3204499911109635,
                    0.2751558250248398,
                    0.2614322053637328,
                    0.24890272209302955,
                    0.19520268194347912,
                    0.1641635073533103,
                    0.12227018629546516,
                    0.11230858219487949,
                    0.10505209774658164,
                    0.10327904431834112,
                    0.0933762853452782,
                    0.0926067171531364,
                    0.08563620539872607,
                    0.08434908993430401,
                    0.07639176583000573,
                    0.07568274690792798,
                    0.07470768944283268,
                    0.06958035009485863,
                    0.06765770146805528,
                    0.05181948736854869,
                    0.05064283376459899,
                    0.04969831817115722,
                    0.04669153748230537,
                    0.045309171073141474,
                    0.02585986277629093,
                    0.02092469322088686,
                    0.00886203866394153,
                    0.008506958948852006,
                    0.007345205192964777,
                    -0.0003620135223276755,
                    -0.023282128388913303,
                    -0.0280906754773258,
                    -0.029626399927135783,
                    -0.03272185417650819,
                    -0.04393863440526813,
                    -0.05539474526695054,
                    -0.059689978801343635,
                    -0.06424581229203596,
                    -0.06670747132628962,
                    -0.06862025364971913,
                    -0.06964310941350371,
                    -0.07497040335397642,
                    -0.08851254437740375,
                    -0.09785642461635158,
                    -0.10290613480889599,
                    -0.11183052635559809,
                    -0.11197343081589484,
                    -0.11754477184482859,
                    -0.1423804180116539,
                    -0.1448384231261466,
                    -0.15073265082709852,
                    -0.1554840389828911,
                    -0.15969595046192975,
                    -0.1831804853082626,
                    -0.1882680923719513,
                    -0.19952711073637142,
                    -0.20667535604404508,
                    -0.20790880974186354,
                    -0.20983848133534933,
                    -0.21350109306492815,
                    -0.21541306196052146,
                    -0.2221225911175173,
                    -0.2254433230514996,
                    -0.24504198610055372,
                    -0.25034586250058455,
                    -0.25269775876883616,
                    -0.2555049610335436,
                    -0.25553382729949004,
                    -0.25594283553906116,
                    -0.26482870422523774,
                    -0.27065973684082767,
                    -0.2725647093302124,
                    -0.27288089648748715,
                    -0.2819722488752885,
                    -0.28587028202812137,
                    -0.2877574442857691,
                    -0.29067635919639123,
                    -0.29553068377798164,
                    -0.2971127159487761,
                    -0.2974239049065761,
                    -0.30055884203744254,
                    -0.3103621813141344,
                    -0.31226971667560033,
                    -0.31658543499491776,
                    -0.33402198613630985,
                    -0.34302386758539294,
                    -0.34350218479254524,
                    -0.3525460838205383,
                    -0.3591745003340123,
                    -0.3634947031247626,
                    -0.36361258221736836,
                    -0.36458850054591574,
                    -0.3693497870013078,
                    -0.3839155734378097,
                    -0.3861305711640801,
                    -0.3865111067948348,
                    -0.3907503841793516,
                    -0.4020807764079857,
                    -0.4061162996209884,
                    -0.4093623454233124,
                    -0.4223116095542099,
                    -0.4226367068063541,
                    -0.42984180541596917,
                    -0.438957338839173,
                    -0.4408659517926736,
                    -0.4521945153409934,
                    -0.45490812522953616,
                    -0.46181702595470187,
                    -0.4651274498663862,
                    -0.4664083197864528,
                    -0.46751029084161067,
                    -0.4717727938850138,
                    -0.4809617727898985,
                    -0.4874198713056521,
                    -0.49340512880376286,
                    -0.519876395885063,
                    -0.5278576313739163,
                    -0.5391756564081169,
                    -0.5419859408467778,
                    -0.5533785519107748,
                    -0.5544276293191226,
                    -0.5713750555788253,
                    -0.5763921758510651,
                    -0.5870640111428749,
                    -0.5931809912035,
                    -0.5933045383346673,
                    -0.595641371654136,
                    -0.6047529411044086,
                    -0.6141527215458393,
                    -0.6193988729471012,
                    -0.6241179251662552,
                    -0.6248894933258939,
                    -0.625482103002589,
                    -0.6419949709068953,
                    -0.6439886102578956,
                    -0.6534209109290572,
                    -0.6610428367220762,
                    -0.6631485627503761,
                    -0.663439297254286,
                    -0.6689092251282784,
                    -0.6727867357878736,
                    -0.6751283726201103,
                    -0.6751477054359385,
                    -0.6764682170482472,
                    -0.6771057441938888,
                    -0.6869348102144897,
                    -0.6873533163302459,
                    -0.7036786425917394,
                    -0.711218179311929,
                    -0.7170398107535481,
                    -0.7315935959904887,
                    -0.7544902432255847,
                    -0.7678400590656982,
                    -0.7736166741682831,
                    -0.7885632803896852,
                    -0.7897620762009336,
                    -0.7903321368938685,
                    -0.8030206132882554,
                    -0.805056900234193,
                    -0.8104887100889084,
                    -0.8120264183213939,
                    -0.8214276251529626,
                    -0.8219707239830751,
                    -0.8270130273680034,
                    -0.828045856592956,
                    -0.8329147987576078,
                    -0.8448937787594613,
                    -0.8454254252432873,
                    -0.8480213404384513,
                    -0.8492737998474156,
                    -0.8556904657789088,
                    -0.8657342300514075,
                    -0.8849195023554204,
                    -0.884975471619609,
                    -0.8869208371881521,
                    -0.8975564221862484,
                    -0.9043666635229153,
                    -0.90670824793885,
                    -0.9071720144099182,
                    -0.9077543808768986,
                    -0.9119851664922023,
                    -0.9141254547522517,
                    -0.9143504256520765,
                    -0.9213359949244864,
                    -0.9234180663444902,
                    -0.9331360066148222,
                    -0.9351283510323101,
                    -0.9436578609199096,
                    -0.9455143233492964,
                    -0.9472398281889394,
                    -0.9513424690878103,
                    -0.9590182978589188,
                    -0.9657923865596993,
                    -0.9720485804310388,
                    -0.9829571039886931,
                    -0.9858042522276587,
                    -0.995460724765838,
                    -1.021203727827808,
                    -1.0248280155384002,
                    -1.028746095016865,
                    -1.054889734051414,
                    -1.0616125535530379,
                    -1.0623591298602757,
                    -1.0628144751369963,
                    -1.0685102046188772,
                    -1.0700979715873697,
                    -1.0715899874159032,
                    -1.0779515707257978,
                    -1.0816369223878,
                    -1.0823514277866346,
                    -1.0999681401530799,
                    -1.104500563919724,
                    -1.1109900506057202,
                    -1.111556792117958,
                    -1.1139557199713668,
                    -1.1149461872208195,
                    -1.1157549956657946,
                    -1.1175618147676056,
                    -1.1212057483958682,
                    -1.1350500357828706,
                    -1.1355906427286122,
                    -1.1466951120034001,
                    -1.1477553261917772,
                    -1.1590388073952056,
                    -1.1654680283583168,
                    -1.1790804666619406,
                    -1.187572035168765,
                    -1.2169846946078064,
                    -1.217191860624684,
                    -1.2262967886160125,
                    -1.2273267014572715,
                    -1.2277806382890284,
                    -1.2501250020229295,
                    -1.2524585419738536,
                    -1.255095717484001,
                    -1.264921498020501,
                    -1.278615656996538,
                    -1.2811138787222687,
                    -1.2895504605508838,
                    -1.2938586154965663,
                    -1.2987996621550093,
                    -1.3037823932542376,
                    -1.3091766918208236,
                    -1.3117673898412368,
                    -1.3192081190880138,
                    -1.3301804510301234,
                    -1.3337033288274367,
                    -1.3286955410450254,
                    -1.3179673085057444,
                    -1.2958212687794592,
                    -1.1982332511358913,
                    -1.1457109381275026,
                    -1.1367567992196435,
                    -1.0564008938984295,
                    -1.055363378018476,
                    -0.9835646189949769,
                    -0.9556752263085353,
                    -0.9507201141133392,
                    -0.8480784880332171,
                    -0.7364872523815293,
                    -0.7083995871926576,
                    -0.5818453288795387,
                    -0.5243265818136358,
                    -0.4612938464787435,
                    -0.4235838336537512,
                    -0.41884491192174567,
                    -0.2997940986851426,
                    -0.17949075745045517,
                    0.014220776750208053,
                    0.08920132864099273,
                    0.13504561531862436,
                    0.14368868797174938,
                    0.15692909232523355,
                    0.2598827759610898,
                    0.27916582211819074,
                    0.3267038842428245,
                    0.37627932022707133,
                    0.40372518571250504,
                    0.47785569458664634,
                    0.6102359254213172,
                    0.7306761401491388,
                    0.7546906281894894,
                    0.8602126338536276,
                    0.875007725656261,
                    1.0444427050679805,
                    1.163752838954728,
                    1.2153102140659269,
                    1.2817911917303895,
                    1.369792372793587,
                    1.5733930558085967,
                    1.5855789300447483,
                    1.5948688768569554,
                    1.6114778305390156,
                    1.6616256461683796,
                    1.7881532178728805,
                    1.8409583307129123,
                    1.8689477434452582,
                    1.9139250610806946
                  ]
                },
                {
                  "name": "LR5",
                  "type": "scatter",
                  "x": [
                    0.004714759968180049,
                    0.005105270933564832,
                    0.034427906340712244,
                    0.042671918967729594,
                    0.045144342143295324,
                    0.047401631807490796,
                    0.057076136571773795,
                    0.06266809966185205,
                    0.07024430159160633,
                    0.08096877800743396,
                    0.08878097326652346,
                    0.09068980938198679,
                    0.10135093423556074,
                    0.10217943693890974,
                    0.10968375935140351,
                    0.11106944375556305,
                    0.11963614986312465,
                    0.1203994663562804,
                    0.12144919496251716,
                    0.12696919248079674,
                    0.12903907998544417,
                    0.14609020467016887,
                    0.14735696790405628,
                    0.14837381570326102,
                    0.1516108594825074,
                    0.15309908926994154,
                    0.17403785033969554,
                    0.17935096145820895,
                    0.19233738944730727,
                    0.19271966161871634,
                    0.19397038395522048,
                    0.20226783128489956,
                    0.22694319770707994,
                    0.23211998944899004,
                    0.23377332163092213,
                    0.23710582970477012,
                    0.24918160523350275,
                    0.26151503963950895,
                    0.2661392076223925,
                    0.27104393263776205,
                    0.27369410865259414,
                    0.27575337427980284,
                    0.2768545616392648,
                    0.2825898265271154,
                    0.2971690419385118,
                    0.30722848841350214,
                    0.31266491183686806,
                    0.32227274464187894,
                    0.32242659290754827,
                    0.32842459432037563,
                    0.3551621858667202,
                    0.3578084281399716,
                    0.3641540432969341,
                    0.36926929880244175,
                    0.3738037638209655,
                    0.39908677422300265,
                    0.4045639967081156,
                    0.4166852450226779,
                    0.42438091205005146,
                    0.42570882520126263,
                    0.42778627350031484,
                    0.43172937269574296,
                    0.4337877626017781,
                    0.44101111603752097,
                    0.4445861538476654,
                    0.46568570744655746,
                    0.47139576144892525,
                    0.47392776892550126,
                    0.4769499503109782,
                    0.4769810271922921,
                    0.47742135780319606,
                    0.4869877176180153,
                    0.4932652981295871,
                    0.49531615583572286,
                    0.49565655700776,
                    0.5054441367274896,
                    0.5096406862182699,
                    0.5116723697624708,
                    0.51481481889041,
                    0.5200408938241587,
                    0.5217440800312632,
                    0.522079100235346,
                    0.5254541148399829,
                    0.5360082063103557,
                    0.5380618231565812,
                    0.5427080446752726,
                    0.5614799090859663,
                    0.5711711660686716,
                    0.5716861134160633,
                    0.5814226057373237,
                    0.5885586348201113,
                    0.593209684236768,
                    0.5933365906602497,
                    0.5943872460559698,
                    0.599513157885452,
                    0.6151944107779448,
                    0.6175790358480286,
                    0.6179887133815063,
                    0.6225526400213652,
                    0.6347507281014628,
                    0.6390952968161374,
                    0.6425899289356438,
                    0.6565308641878185,
                    0.656880857801126,
                    0.6646377320286332,
                    0.6744513445982285,
                    0.6765061215598531,
                    0.6887022409169747,
                    0.6916236625030512,
                    0.6990616556352987,
                    0.7026255960216821,
                    0.7040045565897584,
                    0.7051909179902529,
                    0.7097798489395022,
                    0.7196725315391992,
                    0.7266251994553263,
                    0.7330688155871243,
                    0.7615672859784237,
                    0.7701597346347888,
                    0.7823445084249707,
                    0.7853700080212067,
                    0.7976350797342335,
                    0.7987644968251566,
                    0.8170097785484483,
                    0.8224111162739502,
                    0.8339002142891798,
                    0.8404856404649113,
                    0.8406186489925576,
                    0.8431344399805643,
                    0.852943785011135,
                    0.8630634125972294,
                    0.8687113209469883,
                    0.8737917641886919,
                    0.8746224200195927,
                    0.8752604124992487,
                    0.8930378568354393,
                    0.8951841716242601,
                    0.9053388098806519,
                    0.9135444324475621,
                    0.915811417654024,
                    0.9161244169761198,
                    0.92201323888558,
                    0.9261876942444796,
                    0.9287086566043727,
                    0.9287294699518347,
                    0.9301511080233764,
                    0.9308374578088987,
                    0.9414192462099564,
                    0.9418698020564809,
                    0.9594453425722616,
                    0.9675622666063337,
                    0.9738297259900635,
                    0.9894980586158673,
                    1.0141481602254832,
                    1.0285203219463521,
                    1.034739317582537,
                    1.0508305539235432,
                    1.0521211550431302,
                    1.0527348717091642,
                    1.0663950477681927,
                    1.0685872761590278,
                    1.0744350609227995,
                    1.076090528808014,
                    1.0862116920190141,
                    1.086796382048472,
                    1.0922248314414693,
                    1.0933367560424407,
                    1.0985785679923603,
                    1.1114749135224902,
                    1.1120472741704108,
                    1.114841987853759,
                    1.1161903621976472,
                    1.1230984245694993,
                    1.1339113530877247,
                    1.1545658579524016,
                    1.1546261134140479,
                    1.1567204575527334,
                    1.1681705291806435,
                    1.175502307462904,
                    1.1780232133923874,
                    1.178522495689818,
                    1.1791494605217312,
                    1.1837042450818858,
                    1.1860084393397787,
                    1.1862506387973193,
                    1.1937711718516961,
                    1.1960126909498674,
                    1.2064748434493273,
                    1.208619764136978,
                    1.2178024747430678,
                    1.2198011074271007,
                    1.2216587536225583,
                    1.2260755799808716,
                    1.2343392334845087,
                    1.2416320905160318,
                    1.2483673916732105,
                    1.260111303842802,
                    1.263176490316066,
                    1.273572467806244,
                    1.3012869027931107,
                    1.305188743067422,
                    1.3094068740569509,
                    1.337552626228867,
                    1.3447902878007376,
                    1.345594037871381,
                    1.3460842540686881,
                    1.352216169760434,
                    1.3539255299433408,
                    1.3555318062421755,
                    1.3623805676951883,
                    1.3663481482759932,
                    1.3671173714072693,
                    1.386083194018829,
                    1.3909627165636995,
                    1.3979491763960759,
                    1.3985593196943327,
                    1.401141960494687,
                    1.4022082789861807,
                    1.4030790270108424,
                    1.4050242146181189,
                    1.4089472053194676,
                    1.4238517058473557,
                    1.4244337131607665,
                    1.4363885768197928,
                    1.4375299835595252,
                    1.4496775681084286,
                    1.4565991469921888,
                    1.4712540431389356,
                    1.480395906765039,
                    1.5120610250828908,
                    1.5122840561368993,
                    1.5220862510971487,
                    1.523195035974053,
                    1.5236837358658888,
                    1.5477392594011685,
                    1.5502515048102807,
                    1.5530906385760233,
                    1.5636688898864326,
                    1.5784117649786487,
                    1.5811013037023882,
                    1.59018396970051,
                    1.5948220486327946,
                    1.6001414869303727,
                    1.605505801916242,
                    1.6113132027297188,
                    1.6141022997004348,
                    1.6221128494590742,
                    1.6339254565403774,
                    1.637718120801238,
                    1.643581442310602,
                    1.6448060333275403,
                    1.6473339279467396,
                    1.658473266074391,
                    1.664468508297506,
                    1.665490592599914,
                    1.6746629440990075,
                    1.6747813729848349,
                    1.6829769555288896,
                    1.6861604342264875,
                    1.6867260433200582,
                    1.698442233550036,
                    1.7111799910741896,
                    1.7143861018991668,
                    1.7288323331509716,
                    1.7369257389739399,
                    1.7457950126146282,
                    1.751101151099048,
                    1.7517679600734586,
                    1.768519481868157,
                    1.7854472456345647,
                    1.8127042033892151,
                    1.823254642441494,
                    1.829705346527962,
                    1.8309215047043388,
                    1.8327845488622754,
                    1.8472710595242643,
                    1.8499843578141877,
                    1.8566733913630462,
                    1.8636491017659755,
                    1.8675109822635065,
                    1.8765433719139546,
                    1.8878805527028617,
                    1.8981951780817026,
                    1.9002518038388108,
                    1.909288818262184,
                    1.9105558853272386,
                    1.92506647336175,
                    1.9352843174408412,
                    1.9396997447214233,
                    1.9453932448615356,
                    1.952929757625264,
                    1.9703663320860603,
                    1.9714099430422813,
                    1.972205543758984,
                    1.973627951843793,
                    1.977922662982867,
                    1.9887586159507,
                    1.9932809007893912,
                    1.9956779432353908,
                    1.9995298475432923
                  ],
                  "y": [
                    -0.08335046348617477,
                    -0.08331758125836104,
                    -0.08084852491161919,
                    -0.08015435361982616,
                    -0.07994616796227184,
                    -0.07975609720995268,
                    -0.078941474067859,
                    -0.07847061352730415,
                    -0.07783267395607797,
                    -0.07692963996229414,
                    -0.0762718290248182,
                    -0.07611109913610477,
                    -0.07521339953927021,
                    -0.07514363705613757,
                    -0.07451174996197653,
                    -0.07439507106101255,
                    -0.07367372798281195,
                    -0.07360945437964393,
                    -0.07352106399311843,
                    -0.07305626317568618,
                    -0.07288197226324165,
                    -0.07144621497071517,
                    -0.07133954959909973,
                    -0.07125392787794689,
                    -0.07098135880709587,
                    -0.07085604526855975,
                    -0.06909293700102707,
                    -0.0686455566565949,
                    -0.06755205936336824,
                    -0.06751987086741974,
                    -0.06741455618884194,
                    -0.06671588553026582,
                    -0.06463814356652621,
                    -0.06420224173408016,
                    -0.06406302606467011,
                    -0.06378241860575472,
                    -0.06276560105859184,
                    -0.061727087839215565,
                    -0.06133771863184361,
                    -0.0609247256569601,
                    -0.060701572662062185,
                    -0.06052817614446109,
                    -0.06043545277218986,
                    -0.05995252577824905,
                    -0.058724910871123435,
                    -0.05787787444963826,
                    -0.05742011082878156,
                    -0.056611101671307694,
                    -0.05659814717279451,
                    -0.05609309695304184,
                    -0.053841709272928966,
                    -0.053618887511205714,
                    -0.053084567141984805,
                    -0.052653846850451845,
                    -0.0522720309093671,
                    -0.05014312344825008,
                    -0.0496819244205498,
                    -0.04866127792455959,
                    -0.055663406749114845,
                    -0.05718452608970533,
                    -0.059564235021635985,
                    -0.06408103978598535,
                    -0.06643891740297449,
                    -0.07471324061832048,
                    -0.07880843249995324,
                    -0.10297788893453154,
                    -0.10951873354541301,
                    -0.11241913824403861,
                    -0.11588103524538156,
                    -0.11591663369183765,
                    -0.11642103069091043,
                    -0.12737925858412597,
                    -0.13457020259997274,
                    -0.13691945211132595,
                    -0.13730938032754483,
                    -0.148521014759867,
                    -0.15332814584999072,
                    -0.15565543143355842,
                    -0.159255094665277,
                    -0.16524154313884626,
                    -0.16719253630273706,
                    -0.16757630064113083,
                    -0.17144236672023125,
                    -0.18353203737625529,
                    -0.18588444747183042,
                    -0.1912066761178103,
                    -0.21270977365698746,
                    -0.22381107076936332,
                    -0.22440094094934374,
                    -0.23555405496577814,
                    -0.2437283484750669,
                    -0.2490561074593545,
                    -0.2492014782729708,
                    -0.25040499993496207,
                    -0.25627671196287255,
                    -0.27423952605030477,
                    -0.27697110477655906,
                    -0.2774403887948776,
                    -0.28266834897781123,
                    -0.2966412113445558,
                    -0.3016178978789037,
                    -0.3056209853552057,
                    -0.321590272366681,
                    -0.32199118868699883,
                    -0.3308766578904838,
                    -0.34211811285089205,
                    -0.3444718518541367,
                    -0.35844245905638317,
                    -0.36178893610011637,
                    -0.3703091282514797,
                    -0.37439160807743443,
                    -0.3759712020351413,
                    -0.3773301743968326,
                    -0.38258677691874526,
                    -0.3939188062905442,
                    -0.4018830602978777,
                    -0.4092641974697473,
                    -0.44190908426066017,
                    -0.45175170071664406,
                    -0.46570931161616835,
                    -0.4691750096150066,
                    -0.48322460147227453,
                    -0.4845183443492311,
                    -0.5054182434717823,
                    -0.5116054547904058,
                    -0.5247661718003747,
                    -0.532309751825017,
                    -0.5324621125751773,
                    -0.5353439413493333,
                    -0.546580507860417,
                    -0.5581725018298586,
                    -0.5646421588378229,
                    -0.5704617867755982,
                    -0.571413299793302,
                    -0.5721441176928547,
                    -0.5925081109113773,
                    -0.5949667061390044,
                    -0.6065988046948548,
                    -0.6159983133726094,
                    -0.6185951360934601,
                    -0.6189536755973407,
                    -0.6256992981492399,
                    -0.6304811204973823,
                    -0.6333688730578843,
                    -0.6333927146663042,
                    -0.6350211955379409,
                    -0.6358074065429419,
                    -0.6479288039251463,
                    -0.6484449138917803,
                    -0.6685776270707282,
                    -0.6778755319247242,
                    -0.6850548822280641,
                    -0.7030028962003473,
                    -0.7312394915467447,
                    -0.7477027467978653,
                    -0.7548265820672281,
                    -0.7732590305974603,
                    -0.7747374091512093,
                    -0.7754404192008467,
                    -0.7910880976505316,
                    -0.793599286730367,
                    -0.8002979013917783,
                    -0.8021942334038752,
                    -0.8137879864256624,
                    -0.8144577465762025,
                    -0.8206760142043028,
                    -0.8219497195021783,
                    -0.8279541946664529,
                    -0.8427269082214978,
                    -0.843382545113527,
                    -0.8465838787483938,
                    -0.8481284363054703,
                    -0.8560415948356391,
                    -0.8684277623214375,
                    -0.8920874171650742,
                    -0.8921564395616085,
                    -0.8945555026120058,
                    -0.9076715150473639,
                    -0.916070038501926,
                    -0.9189577264216132,
                    -0.9195296523479007,
                    -0.9202478381199325,
                    -0.9254653260861864,
                    -0.928104771630469,
                    -0.9283822101653684,
                    -0.9369969514759193,
                    -0.9395646028689507,
                    -0.9515489577920276,
                    -0.954005956082196,
                    -0.9645247153016746,
                    -0.9668141412537001,
                    -0.968942067732407,
                    -0.9740015251159961,
                    -0.9834675080056579,
                    -0.9918214473191538,
                    -0.9995367085510666,
                    -1.0129893141819912,
                    -1.0165004733438283,
                    -1.028409025051619,
                    -1.060155802341694,
                    -1.0646253451726668,
                    -1.069457197785516,
                    -1.1016980472304676,
                    -1.1099887603599972,
                    -1.1109094529341628,
                    -1.1114709936780844,
                    -1.1184950792103934,
                    -1.1204531446395096,
                    -1.12229312788108,
                    -1.1301383574397805,
                    -1.1346832055356888,
                    -1.135564347635341,
                    -1.1572896235378654,
                    -1.162879097600292,
                    -1.1708820601160213,
                    -1.1715809768867933,
                    -1.1745393818605179,
                    -1.1757608455376873,
                    -1.176758284007128,
                    -1.178986488831974,
                    -1.183480259394707,
                    -1.200553306675046,
                    -1.201219993784807,
                    -1.2149142435249214,
                    -1.2162217204978725,
                    -1.230136731266418,
                    -1.238065372908311,
                    -1.2548524993426196,
                    -1.265324468505681,
                    -1.301596738157835,
                    -1.3018522193611768,
                    -1.3130805954945668,
                    -1.3143507042507572,
                    -1.3149105080726697,
                    -1.3424660165516475,
                    -1.3453437838789952,
                    -1.3485960005451645,
                    -1.3607133462038132,
                    -1.3776012521773529,
                    -1.3806821083057947,
                    -1.391086266816663,
                    -1.3963991681616408,
                    -1.4024925640046924,
                    -1.4086373659193234,
                    -1.415289720923025,
                    -1.4184846206354569,
                    -1.4276606741714244,
                    -1.44119196955605,
                    -1.4192815192810664,
                    -1.3682535076930187,
                    -1.3575959913853877,
                    -1.335595929523548,
                    -1.238651173184813,
                    -1.186475066323597,
                    -1.1775799495294823,
                    -1.0977537182989647,
                    -1.0967230413100422,
                    -1.0253975510805002,
                    -0.9976919941513945,
                    -0.9927695440802323,
                    -0.8908044906769269,
                    -0.7799488199602221,
                    -0.7520462974619745,
                    -0.6263219184485789,
                    -0.5558856639362494,
                    -0.4786970947281999,
                    -0.4325182018194061,
                    -0.4267150173924747,
                    -0.2809278817404187,
                    -0.1336069265015798,
                    0.10360816633238541,
                    0.19542778177712106,
                    0.25156773629772033,
                    0.2621518622778392,
                    0.27836578449383886,
                    0.40444071194745834,
                    0.42805432691960593,
                    0.48626844342317127,
                    0.5469774853385836,
                    0.5805871181149794,
                    0.6591952727274667,
                    0.7578618377023191,
                    0.8476291858713131,
                    0.8655278330456803,
                    0.9441762366818728,
                    0.9552034185915085,
                    1.0814878894655453,
                    1.1704129578316609,
                    1.2088400633690062,
                    1.2583901333527514,
                    1.323979792733837,
                    1.4757288861820386,
                    1.4848113476985039,
                    1.4917353962137572,
                    1.5041144984203545,
                    1.5414910211680803,
                    1.6357954410650672,
                    1.6751525192646228,
                    1.696013785275051,
                    1.7295365960821552
                  ]
                }
              ],
              "layout": {
                "height": 1000,
                "sliders": [
                  {
                    "currentvalue": {
                      "prefix": "\\sigma = "
                    },
                    "transition": {
                      "duration": 0.01
                    }
                  }
                ],
                "template": {
                  "data": {
                    "bar": [
                      {
                        "error_x": {
                          "color": "rgb(36,36,36)"
                        },
                        "error_y": {
                          "color": "rgb(36,36,36)"
                        },
                        "marker": {
                          "line": {
                            "color": "white",
                            "width": 0.5
                          },
                          "pattern": {
                            "fillmode": "overlay",
                            "size": 10,
                            "solidity": 0.2
                          }
                        },
                        "type": "bar"
                      }
                    ],
                    "barpolar": [
                      {
                        "marker": {
                          "line": {
                            "color": "white",
                            "width": 0.5
                          },
                          "pattern": {
                            "fillmode": "overlay",
                            "size": 10,
                            "solidity": 0.2
                          }
                        },
                        "type": "barpolar"
                      }
                    ],
                    "carpet": [
                      {
                        "aaxis": {
                          "endlinecolor": "rgb(36,36,36)",
                          "gridcolor": "white",
                          "linecolor": "white",
                          "minorgridcolor": "white",
                          "startlinecolor": "rgb(36,36,36)"
                        },
                        "baxis": {
                          "endlinecolor": "rgb(36,36,36)",
                          "gridcolor": "white",
                          "linecolor": "white",
                          "minorgridcolor": "white",
                          "startlinecolor": "rgb(36,36,36)"
                        },
                        "type": "carpet"
                      }
                    ],
                    "choropleth": [
                      {
                        "colorbar": {
                          "outlinewidth": 1,
                          "tickcolor": "rgb(36,36,36)",
                          "ticks": "outside"
                        },
                        "type": "choropleth"
                      }
                    ],
                    "contour": [
                      {
                        "colorbar": {
                          "outlinewidth": 1,
                          "tickcolor": "rgb(36,36,36)",
                          "ticks": "outside"
                        },
                        "colorscale": [
                          [
                            0,
                            "#440154"
                          ],
                          [
                            0.1111111111111111,
                            "#482878"
                          ],
                          [
                            0.2222222222222222,
                            "#3e4989"
                          ],
                          [
                            0.3333333333333333,
                            "#31688e"
                          ],
                          [
                            0.4444444444444444,
                            "#26828e"
                          ],
                          [
                            0.5555555555555556,
                            "#1f9e89"
                          ],
                          [
                            0.6666666666666666,
                            "#35b779"
                          ],
                          [
                            0.7777777777777778,
                            "#6ece58"
                          ],
                          [
                            0.8888888888888888,
                            "#b5de2b"
                          ],
                          [
                            1,
                            "#fde725"
                          ]
                        ],
                        "type": "contour"
                      }
                    ],
                    "contourcarpet": [
                      {
                        "colorbar": {
                          "outlinewidth": 1,
                          "tickcolor": "rgb(36,36,36)",
                          "ticks": "outside"
                        },
                        "type": "contourcarpet"
                      }
                    ],
                    "heatmap": [
                      {
                        "colorbar": {
                          "outlinewidth": 1,
                          "tickcolor": "rgb(36,36,36)",
                          "ticks": "outside"
                        },
                        "colorscale": [
                          [
                            0,
                            "#440154"
                          ],
                          [
                            0.1111111111111111,
                            "#482878"
                          ],
                          [
                            0.2222222222222222,
                            "#3e4989"
                          ],
                          [
                            0.3333333333333333,
                            "#31688e"
                          ],
                          [
                            0.4444444444444444,
                            "#26828e"
                          ],
                          [
                            0.5555555555555556,
                            "#1f9e89"
                          ],
                          [
                            0.6666666666666666,
                            "#35b779"
                          ],
                          [
                            0.7777777777777778,
                            "#6ece58"
                          ],
                          [
                            0.8888888888888888,
                            "#b5de2b"
                          ],
                          [
                            1,
                            "#fde725"
                          ]
                        ],
                        "type": "heatmap"
                      }
                    ],
                    "heatmapgl": [
                      {
                        "colorbar": {
                          "outlinewidth": 1,
                          "tickcolor": "rgb(36,36,36)",
                          "ticks": "outside"
                        },
                        "colorscale": [
                          [
                            0,
                            "#440154"
                          ],
                          [
                            0.1111111111111111,
                            "#482878"
                          ],
                          [
                            0.2222222222222222,
                            "#3e4989"
                          ],
                          [
                            0.3333333333333333,
                            "#31688e"
                          ],
                          [
                            0.4444444444444444,
                            "#26828e"
                          ],
                          [
                            0.5555555555555556,
                            "#1f9e89"
                          ],
                          [
                            0.6666666666666666,
                            "#35b779"
                          ],
                          [
                            0.7777777777777778,
                            "#6ece58"
                          ],
                          [
                            0.8888888888888888,
                            "#b5de2b"
                          ],
                          [
                            1,
                            "#fde725"
                          ]
                        ],
                        "type": "heatmapgl"
                      }
                    ],
                    "histogram": [
                      {
                        "marker": {
                          "line": {
                            "color": "white",
                            "width": 0.6
                          }
                        },
                        "type": "histogram"
                      }
                    ],
                    "histogram2d": [
                      {
                        "colorbar": {
                          "outlinewidth": 1,
                          "tickcolor": "rgb(36,36,36)",
                          "ticks": "outside"
                        },
                        "colorscale": [
                          [
                            0,
                            "#440154"
                          ],
                          [
                            0.1111111111111111,
                            "#482878"
                          ],
                          [
                            0.2222222222222222,
                            "#3e4989"
                          ],
                          [
                            0.3333333333333333,
                            "#31688e"
                          ],
                          [
                            0.4444444444444444,
                            "#26828e"
                          ],
                          [
                            0.5555555555555556,
                            "#1f9e89"
                          ],
                          [
                            0.6666666666666666,
                            "#35b779"
                          ],
                          [
                            0.7777777777777778,
                            "#6ece58"
                          ],
                          [
                            0.8888888888888888,
                            "#b5de2b"
                          ],
                          [
                            1,
                            "#fde725"
                          ]
                        ],
                        "type": "histogram2d"
                      }
                    ],
                    "histogram2dcontour": [
                      {
                        "colorbar": {
                          "outlinewidth": 1,
                          "tickcolor": "rgb(36,36,36)",
                          "ticks": "outside"
                        },
                        "colorscale": [
                          [
                            0,
                            "#440154"
                          ],
                          [
                            0.1111111111111111,
                            "#482878"
                          ],
                          [
                            0.2222222222222222,
                            "#3e4989"
                          ],
                          [
                            0.3333333333333333,
                            "#31688e"
                          ],
                          [
                            0.4444444444444444,
                            "#26828e"
                          ],
                          [
                            0.5555555555555556,
                            "#1f9e89"
                          ],
                          [
                            0.6666666666666666,
                            "#35b779"
                          ],
                          [
                            0.7777777777777778,
                            "#6ece58"
                          ],
                          [
                            0.8888888888888888,
                            "#b5de2b"
                          ],
                          [
                            1,
                            "#fde725"
                          ]
                        ],
                        "type": "histogram2dcontour"
                      }
                    ],
                    "mesh3d": [
                      {
                        "colorbar": {
                          "outlinewidth": 1,
                          "tickcolor": "rgb(36,36,36)",
                          "ticks": "outside"
                        },
                        "type": "mesh3d"
                      }
                    ],
                    "parcoords": [
                      {
                        "line": {
                          "colorbar": {
                            "outlinewidth": 1,
                            "tickcolor": "rgb(36,36,36)",
                            "ticks": "outside"
                          }
                        },
                        "type": "parcoords"
                      }
                    ],
                    "pie": [
                      {
                        "automargin": true,
                        "type": "pie"
                      }
                    ],
                    "scatter": [
                      {
                        "fillpattern": {
                          "fillmode": "overlay",
                          "size": 10,
                          "solidity": 0.2
                        },
                        "type": "scatter"
                      }
                    ],
                    "scatter3d": [
                      {
                        "line": {
                          "colorbar": {
                            "outlinewidth": 1,
                            "tickcolor": "rgb(36,36,36)",
                            "ticks": "outside"
                          }
                        },
                        "marker": {
                          "colorbar": {
                            "outlinewidth": 1,
                            "tickcolor": "rgb(36,36,36)",
                            "ticks": "outside"
                          }
                        },
                        "type": "scatter3d"
                      }
                    ],
                    "scattercarpet": [
                      {
                        "marker": {
                          "colorbar": {
                            "outlinewidth": 1,
                            "tickcolor": "rgb(36,36,36)",
                            "ticks": "outside"
                          }
                        },
                        "type": "scattercarpet"
                      }
                    ],
                    "scattergeo": [
                      {
                        "marker": {
                          "colorbar": {
                            "outlinewidth": 1,
                            "tickcolor": "rgb(36,36,36)",
                            "ticks": "outside"
                          }
                        },
                        "type": "scattergeo"
                      }
                    ],
                    "scattergl": [
                      {
                        "marker": {
                          "colorbar": {
                            "outlinewidth": 1,
                            "tickcolor": "rgb(36,36,36)",
                            "ticks": "outside"
                          }
                        },
                        "type": "scattergl"
                      }
                    ],
                    "scattermapbox": [
                      {
                        "marker": {
                          "colorbar": {
                            "outlinewidth": 1,
                            "tickcolor": "rgb(36,36,36)",
                            "ticks": "outside"
                          }
                        },
                        "type": "scattermapbox"
                      }
                    ],
                    "scatterpolar": [
                      {
                        "marker": {
                          "colorbar": {
                            "outlinewidth": 1,
                            "tickcolor": "rgb(36,36,36)",
                            "ticks": "outside"
                          }
                        },
                        "type": "scatterpolar"
                      }
                    ],
                    "scatterpolargl": [
                      {
                        "marker": {
                          "colorbar": {
                            "outlinewidth": 1,
                            "tickcolor": "rgb(36,36,36)",
                            "ticks": "outside"
                          }
                        },
                        "type": "scatterpolargl"
                      }
                    ],
                    "scatterternary": [
                      {
                        "marker": {
                          "colorbar": {
                            "outlinewidth": 1,
                            "tickcolor": "rgb(36,36,36)",
                            "ticks": "outside"
                          }
                        },
                        "type": "scatterternary"
                      }
                    ],
                    "surface": [
                      {
                        "colorbar": {
                          "outlinewidth": 1,
                          "tickcolor": "rgb(36,36,36)",
                          "ticks": "outside"
                        },
                        "colorscale": [
                          [
                            0,
                            "#440154"
                          ],
                          [
                            0.1111111111111111,
                            "#482878"
                          ],
                          [
                            0.2222222222222222,
                            "#3e4989"
                          ],
                          [
                            0.3333333333333333,
                            "#31688e"
                          ],
                          [
                            0.4444444444444444,
                            "#26828e"
                          ],
                          [
                            0.5555555555555556,
                            "#1f9e89"
                          ],
                          [
                            0.6666666666666666,
                            "#35b779"
                          ],
                          [
                            0.7777777777777778,
                            "#6ece58"
                          ],
                          [
                            0.8888888888888888,
                            "#b5de2b"
                          ],
                          [
                            1,
                            "#fde725"
                          ]
                        ],
                        "type": "surface"
                      }
                    ],
                    "table": [
                      {
                        "cells": {
                          "fill": {
                            "color": "rgb(237,237,237)"
                          },
                          "line": {
                            "color": "white"
                          }
                        },
                        "header": {
                          "fill": {
                            "color": "rgb(217,217,217)"
                          },
                          "line": {
                            "color": "white"
                          }
                        },
                        "type": "table"
                      }
                    ]
                  },
                  "layout": {
                    "annotationdefaults": {
                      "arrowhead": 0,
                      "arrowwidth": 1
                    },
                    "autotypenumbers": "strict",
                    "coloraxis": {
                      "colorbar": {
                        "outlinewidth": 1,
                        "tickcolor": "rgb(36,36,36)",
                        "ticks": "outside"
                      }
                    },
                    "colorscale": {
                      "diverging": [
                        [
                          0,
                          "rgb(103,0,31)"
                        ],
                        [
                          0.1,
                          "rgb(178,24,43)"
                        ],
                        [
                          0.2,
                          "rgb(214,96,77)"
                        ],
                        [
                          0.3,
                          "rgb(244,165,130)"
                        ],
                        [
                          0.4,
                          "rgb(253,219,199)"
                        ],
                        [
                          0.5,
                          "rgb(247,247,247)"
                        ],
                        [
                          0.6,
                          "rgb(209,229,240)"
                        ],
                        [
                          0.7,
                          "rgb(146,197,222)"
                        ],
                        [
                          0.8,
                          "rgb(67,147,195)"
                        ],
                        [
                          0.9,
                          "rgb(33,102,172)"
                        ],
                        [
                          1,
                          "rgb(5,48,97)"
                        ]
                      ],
                      "sequential": [
                        [
                          0,
                          "#440154"
                        ],
                        [
                          0.1111111111111111,
                          "#482878"
                        ],
                        [
                          0.2222222222222222,
                          "#3e4989"
                        ],
                        [
                          0.3333333333333333,
                          "#31688e"
                        ],
                        [
                          0.4444444444444444,
                          "#26828e"
                        ],
                        [
                          0.5555555555555556,
                          "#1f9e89"
                        ],
                        [
                          0.6666666666666666,
                          "#35b779"
                        ],
                        [
                          0.7777777777777778,
                          "#6ece58"
                        ],
                        [
                          0.8888888888888888,
                          "#b5de2b"
                        ],
                        [
                          1,
                          "#fde725"
                        ]
                      ],
                      "sequentialminus": [
                        [
                          0,
                          "#440154"
                        ],
                        [
                          0.1111111111111111,
                          "#482878"
                        ],
                        [
                          0.2222222222222222,
                          "#3e4989"
                        ],
                        [
                          0.3333333333333333,
                          "#31688e"
                        ],
                        [
                          0.4444444444444444,
                          "#26828e"
                        ],
                        [
                          0.5555555555555556,
                          "#1f9e89"
                        ],
                        [
                          0.6666666666666666,
                          "#35b779"
                        ],
                        [
                          0.7777777777777778,
                          "#6ece58"
                        ],
                        [
                          0.8888888888888888,
                          "#b5de2b"
                        ],
                        [
                          1,
                          "#fde725"
                        ]
                      ]
                    },
                    "colorway": [
                      "#1F77B4",
                      "#FF7F0E",
                      "#2CA02C",
                      "#D62728",
                      "#9467BD",
                      "#8C564B",
                      "#E377C2",
                      "#7F7F7F",
                      "#BCBD22",
                      "#17BECF"
                    ],
                    "font": {
                      "color": "rgb(36,36,36)"
                    },
                    "geo": {
                      "bgcolor": "white",
                      "lakecolor": "white",
                      "landcolor": "white",
                      "showlakes": true,
                      "showland": true,
                      "subunitcolor": "white"
                    },
                    "hoverlabel": {
                      "align": "left"
                    },
                    "hovermode": "closest",
                    "mapbox": {
                      "style": "light"
                    },
                    "paper_bgcolor": "white",
                    "plot_bgcolor": "white",
                    "polar": {
                      "angularaxis": {
                        "gridcolor": "rgb(232,232,232)",
                        "linecolor": "rgb(36,36,36)",
                        "showgrid": false,
                        "showline": true,
                        "ticks": "outside"
                      },
                      "bgcolor": "white",
                      "radialaxis": {
                        "gridcolor": "rgb(232,232,232)",
                        "linecolor": "rgb(36,36,36)",
                        "showgrid": false,
                        "showline": true,
                        "ticks": "outside"
                      }
                    },
                    "scene": {
                      "xaxis": {
                        "backgroundcolor": "white",
                        "gridcolor": "rgb(232,232,232)",
                        "gridwidth": 2,
                        "linecolor": "rgb(36,36,36)",
                        "showbackground": true,
                        "showgrid": false,
                        "showline": true,
                        "ticks": "outside",
                        "zeroline": false,
                        "zerolinecolor": "rgb(36,36,36)"
                      },
                      "yaxis": {
                        "backgroundcolor": "white",
                        "gridcolor": "rgb(232,232,232)",
                        "gridwidth": 2,
                        "linecolor": "rgb(36,36,36)",
                        "showbackground": true,
                        "showgrid": false,
                        "showline": true,
                        "ticks": "outside",
                        "zeroline": false,
                        "zerolinecolor": "rgb(36,36,36)"
                      },
                      "zaxis": {
                        "backgroundcolor": "white",
                        "gridcolor": "rgb(232,232,232)",
                        "gridwidth": 2,
                        "linecolor": "rgb(36,36,36)",
                        "showbackground": true,
                        "showgrid": false,
                        "showline": true,
                        "ticks": "outside",
                        "zeroline": false,
                        "zerolinecolor": "rgb(36,36,36)"
                      }
                    },
                    "shapedefaults": {
                      "fillcolor": "black",
                      "line": {
                        "width": 0
                      },
                      "opacity": 0.3
                    },
                    "ternary": {
                      "aaxis": {
                        "gridcolor": "rgb(232,232,232)",
                        "linecolor": "rgb(36,36,36)",
                        "showgrid": false,
                        "showline": true,
                        "ticks": "outside"
                      },
                      "baxis": {
                        "gridcolor": "rgb(232,232,232)",
                        "linecolor": "rgb(36,36,36)",
                        "showgrid": false,
                        "showline": true,
                        "ticks": "outside"
                      },
                      "bgcolor": "white",
                      "caxis": {
                        "gridcolor": "rgb(232,232,232)",
                        "linecolor": "rgb(36,36,36)",
                        "showgrid": false,
                        "showline": true,
                        "ticks": "outside"
                      }
                    },
                    "title": {
                      "x": 0.05
                    },
                    "xaxis": {
                      "automargin": true,
                      "gridcolor": "rgb(232,232,232)",
                      "linecolor": "rgb(36,36,36)",
                      "showgrid": false,
                      "showline": true,
                      "ticks": "outside",
                      "title": {
                        "standoff": 15
                      },
                      "zeroline": false,
                      "zerolinecolor": "rgb(36,36,36)"
                    },
                    "yaxis": {
                      "automargin": true,
                      "gridcolor": "rgb(232,232,232)",
                      "linecolor": "rgb(36,36,36)",
                      "showgrid": false,
                      "showline": true,
                      "ticks": "outside",
                      "title": {
                        "standoff": 15
                      },
                      "zeroline": false,
                      "zerolinecolor": "rgb(36,36,36)"
                    }
                  }
                },
                "title": {
                  "text": "LR"
                },
                "width": 1000
              }
            }
          },
          "metadata": {},
          "output_type": "display_data"
        }
      ],
      "source": [
        "fig = go.Figure()\n",
        "fig.add_scatter(\n",
        "    x = x,\n",
        "    y = y,\n",
        "    name = \"train_data\",\n",
        "    mode=\"markers\"\n",
        ")\n",
        "fig.add_scatter(\n",
        "    x = x,\n",
        "    y = y_true,\n",
        "    name = \"Verdadero valor\",\n",
        ")\n",
        "for i in range(5):\n",
        "    mlp.fit(x.reshape(-1, 1),y)\n",
        "    pn=mlp.predict(x.reshape(-1, 1))\n",
        "    fig.add_scatter(\n",
        "        x = x,\n",
        "        y = pn,\n",
        "        name = \"LR\" + str(i+1),\n",
        "    )\n",
        "fig.update_layout(\n",
        "    template=\"simple_white\",\n",
        "    title=\"LR\",\n",
        "    width=1000,\n",
        "    height=1000,\n",
        "    sliders=[{\"transition\":dict(duration=0.01),'currentvalue':{\"prefix\": r\"\\sigma = \"},}]\n",
        ")\n",
        "fig.show()"
      ]
    },
    {
      "attachments": {},
      "cell_type": "markdown",
      "metadata": {},
      "source": [
        "Se ejecuto 5 veces el mismo código, y en cada una podemos notar como el resultado fue distinto."
      ]
    },
    {
      "attachments": {},
      "cell_type": "markdown",
      "metadata": {
        "id": "9nJviNKvvK-G"
      },
      "source": [
        "Experiment 2:  show how the number of neurons in the hidden layer affects the training error"
      ]
    },
    {
      "cell_type": "code",
      "execution_count": 324,
      "metadata": {
        "id": "FN5Ur-nKvZ91"
      },
      "outputs": [
        {
          "data": {
            "application/vnd.plotly.v1+json": {
              "config": {
                "plotlyServerURL": "https://plot.ly"
              },
              "data": [
                {
                  "name": "1",
                  "type": "box",
                  "y": [
                    0.9855519700916822,
                    0.985546368840449,
                    1.0000406054182098,
                    0.9855548350537043,
                    0.9855459369517741,
                    1.00004060541821,
                    0.8541745112892051,
                    1.0000406054182098,
                    0.8541586009802474,
                    0.9855450870193536
                  ]
                },
                {
                  "name": "2",
                  "type": "box",
                  "y": [
                    0.985547822486031,
                    0.9855450532609241,
                    0.9855464181608895,
                    0.9855457550930872,
                    0.9855439071925779,
                    0.4414445002857249,
                    0.9855404041628448,
                    1.0000406054182098,
                    0.9855516928749943,
                    0.9855463765353705
                  ]
                },
                {
                  "name": "4",
                  "type": "box",
                  "y": [
                    1.0000406054182098,
                    0.04930778996280549,
                    0.048622193409451064,
                    0.0493139941881513,
                    0.05378130700415251,
                    0.8541762067516904,
                    0.8541801174208091,
                    0.04266642418641242,
                    0.9855461992764429,
                    0.049292076334045976
                  ]
                },
                {
                  "name": "8",
                  "type": "box",
                  "y": [
                    0.023642407261683984,
                    0.04617478983544698,
                    0.049299021366007945,
                    0.03848777875422682,
                    0.04522472839060432,
                    0.035666427475066764,
                    0.04436036883916672,
                    0.04930598382515883,
                    0.03983259958040686,
                    0.023558932530290955
                  ]
                },
                {
                  "name": "16",
                  "type": "box",
                  "y": [
                    0.041140409169343584,
                    0.020248948927673482,
                    0.042233040780697007,
                    0.04692470345860078,
                    0.031845047718805586,
                    0.04026105276783576,
                    0.044774435375014576,
                    0.04538343589902882,
                    0.04640856932809889,
                    0.04131768285998472
                  ]
                },
                {
                  "name": "32",
                  "type": "box",
                  "y": [
                    0.03364673144514485,
                    0.013677530958575934,
                    0.03749860674200356,
                    0.039284987092609636,
                    0.025856193123865112,
                    0.01566749109638821,
                    0.04376207969697565,
                    0.03360986026841806,
                    0.029198286434610865,
                    0.017813777291338706
                  ]
                },
                {
                  "name": "64",
                  "type": "box",
                  "y": [
                    0.012801231158175774,
                    0.0332671660242827,
                    0.03642233072929679,
                    0.033454577229053095,
                    0.035142404628407675,
                    0.01570965465544183,
                    0.029995493676539198,
                    0.021556801188730046,
                    0.026756063555651965,
                    0.04360175105086839
                  ]
                },
                {
                  "name": "128",
                  "type": "box",
                  "y": [
                    0.014034594756036078,
                    0.027982366032049177,
                    0.028550198752154032,
                    0.037952093935359255,
                    0.030986572972867443,
                    0.036042584502571806,
                    0.015059796469206632,
                    0.01831535315697197,
                    0.027509065809488753,
                    0.031842544365711545
                  ]
                },
                {
                  "name": "256",
                  "type": "box",
                  "y": [
                    0.026547787659384703,
                    0.01496548663234576,
                    0.029964838363942037,
                    0.03276644390037331,
                    0.017838595195656892,
                    0.016848814161021686,
                    0.016970271556292382,
                    0.014819944565344634,
                    0.016445246131855273,
                    0.03286046660254316
                  ]
                },
                {
                  "name": "512",
                  "type": "box",
                  "y": [
                    0.015980750221086804,
                    0.026510900280449,
                    0.0132331281843856,
                    0.02320833628156216,
                    0.01782239765433946,
                    0.023090785964346328,
                    0.02319096803660825,
                    0.027117544812375494,
                    0.025247357246607427,
                    0.03268224141709897
                  ]
                },
                {
                  "name": "1024",
                  "type": "box",
                  "y": [
                    0.030615577553536832,
                    0.03383611556667654,
                    0.020876605210027543,
                    0.03289062954080424,
                    0.03352903719312039,
                    0.029980305427135923,
                    0.02701099286152564,
                    0.03226952706790609,
                    0.033381707114322645,
                    0.014903773580812518
                  ]
                }
              ],
              "layout": {
                "height": 500,
                "sliders": [
                  {
                    "currentvalue": {
                      "prefix": "\\sigma = "
                    },
                    "transition": {
                      "duration": 0.01
                    }
                  }
                ],
                "template": {
                  "data": {
                    "bar": [
                      {
                        "error_x": {
                          "color": "rgb(36,36,36)"
                        },
                        "error_y": {
                          "color": "rgb(36,36,36)"
                        },
                        "marker": {
                          "line": {
                            "color": "white",
                            "width": 0.5
                          },
                          "pattern": {
                            "fillmode": "overlay",
                            "size": 10,
                            "solidity": 0.2
                          }
                        },
                        "type": "bar"
                      }
                    ],
                    "barpolar": [
                      {
                        "marker": {
                          "line": {
                            "color": "white",
                            "width": 0.5
                          },
                          "pattern": {
                            "fillmode": "overlay",
                            "size": 10,
                            "solidity": 0.2
                          }
                        },
                        "type": "barpolar"
                      }
                    ],
                    "carpet": [
                      {
                        "aaxis": {
                          "endlinecolor": "rgb(36,36,36)",
                          "gridcolor": "white",
                          "linecolor": "white",
                          "minorgridcolor": "white",
                          "startlinecolor": "rgb(36,36,36)"
                        },
                        "baxis": {
                          "endlinecolor": "rgb(36,36,36)",
                          "gridcolor": "white",
                          "linecolor": "white",
                          "minorgridcolor": "white",
                          "startlinecolor": "rgb(36,36,36)"
                        },
                        "type": "carpet"
                      }
                    ],
                    "choropleth": [
                      {
                        "colorbar": {
                          "outlinewidth": 1,
                          "tickcolor": "rgb(36,36,36)",
                          "ticks": "outside"
                        },
                        "type": "choropleth"
                      }
                    ],
                    "contour": [
                      {
                        "colorbar": {
                          "outlinewidth": 1,
                          "tickcolor": "rgb(36,36,36)",
                          "ticks": "outside"
                        },
                        "colorscale": [
                          [
                            0,
                            "#440154"
                          ],
                          [
                            0.1111111111111111,
                            "#482878"
                          ],
                          [
                            0.2222222222222222,
                            "#3e4989"
                          ],
                          [
                            0.3333333333333333,
                            "#31688e"
                          ],
                          [
                            0.4444444444444444,
                            "#26828e"
                          ],
                          [
                            0.5555555555555556,
                            "#1f9e89"
                          ],
                          [
                            0.6666666666666666,
                            "#35b779"
                          ],
                          [
                            0.7777777777777778,
                            "#6ece58"
                          ],
                          [
                            0.8888888888888888,
                            "#b5de2b"
                          ],
                          [
                            1,
                            "#fde725"
                          ]
                        ],
                        "type": "contour"
                      }
                    ],
                    "contourcarpet": [
                      {
                        "colorbar": {
                          "outlinewidth": 1,
                          "tickcolor": "rgb(36,36,36)",
                          "ticks": "outside"
                        },
                        "type": "contourcarpet"
                      }
                    ],
                    "heatmap": [
                      {
                        "colorbar": {
                          "outlinewidth": 1,
                          "tickcolor": "rgb(36,36,36)",
                          "ticks": "outside"
                        },
                        "colorscale": [
                          [
                            0,
                            "#440154"
                          ],
                          [
                            0.1111111111111111,
                            "#482878"
                          ],
                          [
                            0.2222222222222222,
                            "#3e4989"
                          ],
                          [
                            0.3333333333333333,
                            "#31688e"
                          ],
                          [
                            0.4444444444444444,
                            "#26828e"
                          ],
                          [
                            0.5555555555555556,
                            "#1f9e89"
                          ],
                          [
                            0.6666666666666666,
                            "#35b779"
                          ],
                          [
                            0.7777777777777778,
                            "#6ece58"
                          ],
                          [
                            0.8888888888888888,
                            "#b5de2b"
                          ],
                          [
                            1,
                            "#fde725"
                          ]
                        ],
                        "type": "heatmap"
                      }
                    ],
                    "heatmapgl": [
                      {
                        "colorbar": {
                          "outlinewidth": 1,
                          "tickcolor": "rgb(36,36,36)",
                          "ticks": "outside"
                        },
                        "colorscale": [
                          [
                            0,
                            "#440154"
                          ],
                          [
                            0.1111111111111111,
                            "#482878"
                          ],
                          [
                            0.2222222222222222,
                            "#3e4989"
                          ],
                          [
                            0.3333333333333333,
                            "#31688e"
                          ],
                          [
                            0.4444444444444444,
                            "#26828e"
                          ],
                          [
                            0.5555555555555556,
                            "#1f9e89"
                          ],
                          [
                            0.6666666666666666,
                            "#35b779"
                          ],
                          [
                            0.7777777777777778,
                            "#6ece58"
                          ],
                          [
                            0.8888888888888888,
                            "#b5de2b"
                          ],
                          [
                            1,
                            "#fde725"
                          ]
                        ],
                        "type": "heatmapgl"
                      }
                    ],
                    "histogram": [
                      {
                        "marker": {
                          "line": {
                            "color": "white",
                            "width": 0.6
                          }
                        },
                        "type": "histogram"
                      }
                    ],
                    "histogram2d": [
                      {
                        "colorbar": {
                          "outlinewidth": 1,
                          "tickcolor": "rgb(36,36,36)",
                          "ticks": "outside"
                        },
                        "colorscale": [
                          [
                            0,
                            "#440154"
                          ],
                          [
                            0.1111111111111111,
                            "#482878"
                          ],
                          [
                            0.2222222222222222,
                            "#3e4989"
                          ],
                          [
                            0.3333333333333333,
                            "#31688e"
                          ],
                          [
                            0.4444444444444444,
                            "#26828e"
                          ],
                          [
                            0.5555555555555556,
                            "#1f9e89"
                          ],
                          [
                            0.6666666666666666,
                            "#35b779"
                          ],
                          [
                            0.7777777777777778,
                            "#6ece58"
                          ],
                          [
                            0.8888888888888888,
                            "#b5de2b"
                          ],
                          [
                            1,
                            "#fde725"
                          ]
                        ],
                        "type": "histogram2d"
                      }
                    ],
                    "histogram2dcontour": [
                      {
                        "colorbar": {
                          "outlinewidth": 1,
                          "tickcolor": "rgb(36,36,36)",
                          "ticks": "outside"
                        },
                        "colorscale": [
                          [
                            0,
                            "#440154"
                          ],
                          [
                            0.1111111111111111,
                            "#482878"
                          ],
                          [
                            0.2222222222222222,
                            "#3e4989"
                          ],
                          [
                            0.3333333333333333,
                            "#31688e"
                          ],
                          [
                            0.4444444444444444,
                            "#26828e"
                          ],
                          [
                            0.5555555555555556,
                            "#1f9e89"
                          ],
                          [
                            0.6666666666666666,
                            "#35b779"
                          ],
                          [
                            0.7777777777777778,
                            "#6ece58"
                          ],
                          [
                            0.8888888888888888,
                            "#b5de2b"
                          ],
                          [
                            1,
                            "#fde725"
                          ]
                        ],
                        "type": "histogram2dcontour"
                      }
                    ],
                    "mesh3d": [
                      {
                        "colorbar": {
                          "outlinewidth": 1,
                          "tickcolor": "rgb(36,36,36)",
                          "ticks": "outside"
                        },
                        "type": "mesh3d"
                      }
                    ],
                    "parcoords": [
                      {
                        "line": {
                          "colorbar": {
                            "outlinewidth": 1,
                            "tickcolor": "rgb(36,36,36)",
                            "ticks": "outside"
                          }
                        },
                        "type": "parcoords"
                      }
                    ],
                    "pie": [
                      {
                        "automargin": true,
                        "type": "pie"
                      }
                    ],
                    "scatter": [
                      {
                        "fillpattern": {
                          "fillmode": "overlay",
                          "size": 10,
                          "solidity": 0.2
                        },
                        "type": "scatter"
                      }
                    ],
                    "scatter3d": [
                      {
                        "line": {
                          "colorbar": {
                            "outlinewidth": 1,
                            "tickcolor": "rgb(36,36,36)",
                            "ticks": "outside"
                          }
                        },
                        "marker": {
                          "colorbar": {
                            "outlinewidth": 1,
                            "tickcolor": "rgb(36,36,36)",
                            "ticks": "outside"
                          }
                        },
                        "type": "scatter3d"
                      }
                    ],
                    "scattercarpet": [
                      {
                        "marker": {
                          "colorbar": {
                            "outlinewidth": 1,
                            "tickcolor": "rgb(36,36,36)",
                            "ticks": "outside"
                          }
                        },
                        "type": "scattercarpet"
                      }
                    ],
                    "scattergeo": [
                      {
                        "marker": {
                          "colorbar": {
                            "outlinewidth": 1,
                            "tickcolor": "rgb(36,36,36)",
                            "ticks": "outside"
                          }
                        },
                        "type": "scattergeo"
                      }
                    ],
                    "scattergl": [
                      {
                        "marker": {
                          "colorbar": {
                            "outlinewidth": 1,
                            "tickcolor": "rgb(36,36,36)",
                            "ticks": "outside"
                          }
                        },
                        "type": "scattergl"
                      }
                    ],
                    "scattermapbox": [
                      {
                        "marker": {
                          "colorbar": {
                            "outlinewidth": 1,
                            "tickcolor": "rgb(36,36,36)",
                            "ticks": "outside"
                          }
                        },
                        "type": "scattermapbox"
                      }
                    ],
                    "scatterpolar": [
                      {
                        "marker": {
                          "colorbar": {
                            "outlinewidth": 1,
                            "tickcolor": "rgb(36,36,36)",
                            "ticks": "outside"
                          }
                        },
                        "type": "scatterpolar"
                      }
                    ],
                    "scatterpolargl": [
                      {
                        "marker": {
                          "colorbar": {
                            "outlinewidth": 1,
                            "tickcolor": "rgb(36,36,36)",
                            "ticks": "outside"
                          }
                        },
                        "type": "scatterpolargl"
                      }
                    ],
                    "scatterternary": [
                      {
                        "marker": {
                          "colorbar": {
                            "outlinewidth": 1,
                            "tickcolor": "rgb(36,36,36)",
                            "ticks": "outside"
                          }
                        },
                        "type": "scatterternary"
                      }
                    ],
                    "surface": [
                      {
                        "colorbar": {
                          "outlinewidth": 1,
                          "tickcolor": "rgb(36,36,36)",
                          "ticks": "outside"
                        },
                        "colorscale": [
                          [
                            0,
                            "#440154"
                          ],
                          [
                            0.1111111111111111,
                            "#482878"
                          ],
                          [
                            0.2222222222222222,
                            "#3e4989"
                          ],
                          [
                            0.3333333333333333,
                            "#31688e"
                          ],
                          [
                            0.4444444444444444,
                            "#26828e"
                          ],
                          [
                            0.5555555555555556,
                            "#1f9e89"
                          ],
                          [
                            0.6666666666666666,
                            "#35b779"
                          ],
                          [
                            0.7777777777777778,
                            "#6ece58"
                          ],
                          [
                            0.8888888888888888,
                            "#b5de2b"
                          ],
                          [
                            1,
                            "#fde725"
                          ]
                        ],
                        "type": "surface"
                      }
                    ],
                    "table": [
                      {
                        "cells": {
                          "fill": {
                            "color": "rgb(237,237,237)"
                          },
                          "line": {
                            "color": "white"
                          }
                        },
                        "header": {
                          "fill": {
                            "color": "rgb(217,217,217)"
                          },
                          "line": {
                            "color": "white"
                          }
                        },
                        "type": "table"
                      }
                    ]
                  },
                  "layout": {
                    "annotationdefaults": {
                      "arrowhead": 0,
                      "arrowwidth": 1
                    },
                    "autotypenumbers": "strict",
                    "coloraxis": {
                      "colorbar": {
                        "outlinewidth": 1,
                        "tickcolor": "rgb(36,36,36)",
                        "ticks": "outside"
                      }
                    },
                    "colorscale": {
                      "diverging": [
                        [
                          0,
                          "rgb(103,0,31)"
                        ],
                        [
                          0.1,
                          "rgb(178,24,43)"
                        ],
                        [
                          0.2,
                          "rgb(214,96,77)"
                        ],
                        [
                          0.3,
                          "rgb(244,165,130)"
                        ],
                        [
                          0.4,
                          "rgb(253,219,199)"
                        ],
                        [
                          0.5,
                          "rgb(247,247,247)"
                        ],
                        [
                          0.6,
                          "rgb(209,229,240)"
                        ],
                        [
                          0.7,
                          "rgb(146,197,222)"
                        ],
                        [
                          0.8,
                          "rgb(67,147,195)"
                        ],
                        [
                          0.9,
                          "rgb(33,102,172)"
                        ],
                        [
                          1,
                          "rgb(5,48,97)"
                        ]
                      ],
                      "sequential": [
                        [
                          0,
                          "#440154"
                        ],
                        [
                          0.1111111111111111,
                          "#482878"
                        ],
                        [
                          0.2222222222222222,
                          "#3e4989"
                        ],
                        [
                          0.3333333333333333,
                          "#31688e"
                        ],
                        [
                          0.4444444444444444,
                          "#26828e"
                        ],
                        [
                          0.5555555555555556,
                          "#1f9e89"
                        ],
                        [
                          0.6666666666666666,
                          "#35b779"
                        ],
                        [
                          0.7777777777777778,
                          "#6ece58"
                        ],
                        [
                          0.8888888888888888,
                          "#b5de2b"
                        ],
                        [
                          1,
                          "#fde725"
                        ]
                      ],
                      "sequentialminus": [
                        [
                          0,
                          "#440154"
                        ],
                        [
                          0.1111111111111111,
                          "#482878"
                        ],
                        [
                          0.2222222222222222,
                          "#3e4989"
                        ],
                        [
                          0.3333333333333333,
                          "#31688e"
                        ],
                        [
                          0.4444444444444444,
                          "#26828e"
                        ],
                        [
                          0.5555555555555556,
                          "#1f9e89"
                        ],
                        [
                          0.6666666666666666,
                          "#35b779"
                        ],
                        [
                          0.7777777777777778,
                          "#6ece58"
                        ],
                        [
                          0.8888888888888888,
                          "#b5de2b"
                        ],
                        [
                          1,
                          "#fde725"
                        ]
                      ]
                    },
                    "colorway": [
                      "#1F77B4",
                      "#FF7F0E",
                      "#2CA02C",
                      "#D62728",
                      "#9467BD",
                      "#8C564B",
                      "#E377C2",
                      "#7F7F7F",
                      "#BCBD22",
                      "#17BECF"
                    ],
                    "font": {
                      "color": "rgb(36,36,36)"
                    },
                    "geo": {
                      "bgcolor": "white",
                      "lakecolor": "white",
                      "landcolor": "white",
                      "showlakes": true,
                      "showland": true,
                      "subunitcolor": "white"
                    },
                    "hoverlabel": {
                      "align": "left"
                    },
                    "hovermode": "closest",
                    "mapbox": {
                      "style": "light"
                    },
                    "paper_bgcolor": "white",
                    "plot_bgcolor": "white",
                    "polar": {
                      "angularaxis": {
                        "gridcolor": "rgb(232,232,232)",
                        "linecolor": "rgb(36,36,36)",
                        "showgrid": false,
                        "showline": true,
                        "ticks": "outside"
                      },
                      "bgcolor": "white",
                      "radialaxis": {
                        "gridcolor": "rgb(232,232,232)",
                        "linecolor": "rgb(36,36,36)",
                        "showgrid": false,
                        "showline": true,
                        "ticks": "outside"
                      }
                    },
                    "scene": {
                      "xaxis": {
                        "backgroundcolor": "white",
                        "gridcolor": "rgb(232,232,232)",
                        "gridwidth": 2,
                        "linecolor": "rgb(36,36,36)",
                        "showbackground": true,
                        "showgrid": false,
                        "showline": true,
                        "ticks": "outside",
                        "zeroline": false,
                        "zerolinecolor": "rgb(36,36,36)"
                      },
                      "yaxis": {
                        "backgroundcolor": "white",
                        "gridcolor": "rgb(232,232,232)",
                        "gridwidth": 2,
                        "linecolor": "rgb(36,36,36)",
                        "showbackground": true,
                        "showgrid": false,
                        "showline": true,
                        "ticks": "outside",
                        "zeroline": false,
                        "zerolinecolor": "rgb(36,36,36)"
                      },
                      "zaxis": {
                        "backgroundcolor": "white",
                        "gridcolor": "rgb(232,232,232)",
                        "gridwidth": 2,
                        "linecolor": "rgb(36,36,36)",
                        "showbackground": true,
                        "showgrid": false,
                        "showline": true,
                        "ticks": "outside",
                        "zeroline": false,
                        "zerolinecolor": "rgb(36,36,36)"
                      }
                    },
                    "shapedefaults": {
                      "fillcolor": "black",
                      "line": {
                        "width": 0
                      },
                      "opacity": 0.3
                    },
                    "ternary": {
                      "aaxis": {
                        "gridcolor": "rgb(232,232,232)",
                        "linecolor": "rgb(36,36,36)",
                        "showgrid": false,
                        "showline": true,
                        "ticks": "outside"
                      },
                      "baxis": {
                        "gridcolor": "rgb(232,232,232)",
                        "linecolor": "rgb(36,36,36)",
                        "showgrid": false,
                        "showline": true,
                        "ticks": "outside"
                      },
                      "bgcolor": "white",
                      "caxis": {
                        "gridcolor": "rgb(232,232,232)",
                        "linecolor": "rgb(36,36,36)",
                        "showgrid": false,
                        "showline": true,
                        "ticks": "outside"
                      }
                    },
                    "title": {
                      "x": 0.05
                    },
                    "xaxis": {
                      "automargin": true,
                      "gridcolor": "rgb(232,232,232)",
                      "linecolor": "rgb(36,36,36)",
                      "showgrid": false,
                      "showline": true,
                      "ticks": "outside",
                      "title": {
                        "standoff": 15
                      },
                      "zeroline": false,
                      "zerolinecolor": "rgb(36,36,36)"
                    },
                    "yaxis": {
                      "automargin": true,
                      "gridcolor": "rgb(232,232,232)",
                      "linecolor": "rgb(36,36,36)",
                      "showgrid": false,
                      "showline": true,
                      "ticks": "outside",
                      "title": {
                        "standoff": 15
                      },
                      "zeroline": false,
                      "zerolinecolor": "rgb(36,36,36)"
                    }
                  }
                },
                "title": {
                  "text": "LR con diferente cantidad de neuronas"
                },
                "width": 1500
              }
            }
          },
          "metadata": {},
          "output_type": "display_data"
        }
      ],
      "source": [
        "sizes = 2**np.arange(11, dtype=np.int64)\n",
        "errors = []\n",
        "\n",
        "fig = go.Figure()\n",
        "for size in sizes:\n",
        "    tests = []\n",
        "    for t in range(10):\n",
        "        mlp = MLPRegressor(hidden_layer_sizes=(size),solver=\"lbfgs\",max_iter=500 ,alpha=0)\n",
        "        mlp.fit(x.reshape(-1, 1),y)\n",
        "        tests.append(1-mlp.score(x.reshape(-1, 1), y_true))\n",
        "    fig.add_box(\n",
        "        name = str(size),\n",
        "        y = tests,\n",
        "    )\n",
        "fig.update_layout(\n",
        "    template=\"simple_white\",\n",
        "    title=\"LR con diferente cantidad de neuronas\",\n",
        "    width=1500,\n",
        "    height=500,\n",
        "    sliders=[{\"transition\":dict(duration=0.01),'currentvalue':{\"prefix\": r\"\\sigma = \"},}]\n",
        ")\n",
        "fig.show()"
      ]
    },
    {
      "attachments": {},
      "cell_type": "markdown",
      "metadata": {},
      "source": [
        "Podemos notar como al agregar más neuronas la medio va decreciendo así como la varianza de los scores, con ello un mejor resultado en el conjunto de entrenamiento."
      ]
    },
    {
      "attachments": {},
      "cell_type": "markdown",
      "metadata": {
        "id": "eluPzZaevZD2"
      },
      "source": [
        "Experiment 3:  show how the number of neurons in the hidden layer affects the test error (using a new set of data)"
      ]
    },
    {
      "cell_type": "code",
      "execution_count": 325,
      "metadata": {
        "id": "I5vM4rLzvjmP"
      },
      "outputs": [
        {
          "data": {
            "application/vnd.plotly.v1+json": {
              "config": {
                "plotlyServerURL": "https://plot.ly"
              },
              "data": [
                {
                  "name": "1",
                  "type": "box",
                  "y": [
                    1.0000402651011673,
                    0.9722580082694912,
                    1.0000406054182098,
                    0.8496829607601621,
                    0.9722463998752516,
                    1.000039662895197,
                    1.0000406054182098,
                    0.9722456650240797,
                    0.8496963002648412,
                    0.8496852744195428
                  ]
                },
                {
                  "name": "2",
                  "type": "box",
                  "y": [
                    1.0000406054182098,
                    0.8496825377539294,
                    0.9722680988750061,
                    1.0000406054182098,
                    1.0000406054182098,
                    0.8522829190464855,
                    0.06289425225512524,
                    0.9722450752476591,
                    0.08282059131510155,
                    0.8496849508658902
                  ]
                },
                {
                  "name": "4",
                  "type": "box",
                  "y": [
                    0.06504670381949851,
                    0.06289684786343686,
                    0.06246188518133233,
                    0.9722517359522601,
                    0.06289609309288413,
                    0.06250547115983529,
                    0.057026275400548165,
                    0.06289657782795521,
                    0.9722464475517202,
                    0.0629063217085728
                  ]
                },
                {
                  "name": "8",
                  "type": "box",
                  "y": [
                    0.05134512430807181,
                    0.972250132124221,
                    0.06265910303282562,
                    0.03092670533250963,
                    0.06289732889496169,
                    0.055347264933112816,
                    0.03475301940054465,
                    0.062426660825872116,
                    0.06289744144155673,
                    0.06654158682162525
                  ]
                },
                {
                  "name": "16",
                  "type": "box",
                  "y": [
                    0.06287072428436258,
                    0.07735697060458502,
                    0.06569886348452914,
                    0.06282478584252182,
                    0.06562820567912442,
                    0.05010468607420171,
                    0.06565207926468486,
                    0.06635880275762496,
                    0.047071213131053224,
                    0.04864440363846123
                  ]
                },
                {
                  "name": "32",
                  "type": "box",
                  "y": [
                    0.06459098112589401,
                    0.06454382461754649,
                    0.04743590329806424,
                    0.03436454083847229,
                    0.05940229564348387,
                    0.04256336830689933,
                    0.05050702782327543,
                    0.03660473678945442,
                    0.033410498748958184,
                    0.07385734621038043
                  ]
                },
                {
                  "name": "64",
                  "type": "box",
                  "y": [
                    0.05457637450299968,
                    0.05867595929674474,
                    0.0500615509075808,
                    0.04767514992683297,
                    0.0556010407914469,
                    0.03841368218101182,
                    0.06163421580571937,
                    0.050066086625592976,
                    0.05639213865222126,
                    0.04189628537181911
                  ]
                },
                {
                  "name": "128",
                  "type": "box",
                  "y": [
                    0.05149206094365166,
                    0.03561499911524013,
                    0.030227414436368005,
                    0.03490501663981127,
                    0.037739781963550656,
                    0.0312887552515041,
                    0.04562905251899263,
                    0.054457956945135666,
                    0.034004297539517836,
                    0.03561099745281071
                  ]
                },
                {
                  "name": "256",
                  "type": "box",
                  "y": [
                    0.05555360476975524,
                    0.048894710861588475,
                    0.054002743411503795,
                    0.03603439711045531,
                    0.03998842213535869,
                    0.034359872292175075,
                    0.032711497550072965,
                    0.05205774461059265,
                    0.03944225354499864,
                    0.05431481904948565
                  ]
                },
                {
                  "name": "512",
                  "type": "box",
                  "y": [
                    0.03350480581251092,
                    0.034299040401640224,
                    0.05069836751043466,
                    0.046609634662512,
                    0.039169398270236355,
                    0.0515706883216287,
                    0.05186960754954473,
                    0.031183836765073636,
                    0.03925227836542977,
                    0.0446419728233145
                  ]
                },
                {
                  "name": "1024",
                  "type": "box",
                  "y": [
                    0.048714524474036125,
                    0.043137125036649904,
                    0.05311188913132692,
                    0.03751401557087197,
                    0.045439530052996724,
                    0.0333367837202192,
                    0.04746401268643419,
                    0.03285249531636314,
                    0.052360448414548566,
                    0.04746708345887829
                  ]
                }
              ],
              "layout": {
                "height": 500,
                "sliders": [
                  {
                    "currentvalue": {
                      "prefix": "\\sigma = "
                    },
                    "transition": {
                      "duration": 0.01
                    }
                  }
                ],
                "template": {
                  "data": {
                    "bar": [
                      {
                        "error_x": {
                          "color": "rgb(36,36,36)"
                        },
                        "error_y": {
                          "color": "rgb(36,36,36)"
                        },
                        "marker": {
                          "line": {
                            "color": "white",
                            "width": 0.5
                          },
                          "pattern": {
                            "fillmode": "overlay",
                            "size": 10,
                            "solidity": 0.2
                          }
                        },
                        "type": "bar"
                      }
                    ],
                    "barpolar": [
                      {
                        "marker": {
                          "line": {
                            "color": "white",
                            "width": 0.5
                          },
                          "pattern": {
                            "fillmode": "overlay",
                            "size": 10,
                            "solidity": 0.2
                          }
                        },
                        "type": "barpolar"
                      }
                    ],
                    "carpet": [
                      {
                        "aaxis": {
                          "endlinecolor": "rgb(36,36,36)",
                          "gridcolor": "white",
                          "linecolor": "white",
                          "minorgridcolor": "white",
                          "startlinecolor": "rgb(36,36,36)"
                        },
                        "baxis": {
                          "endlinecolor": "rgb(36,36,36)",
                          "gridcolor": "white",
                          "linecolor": "white",
                          "minorgridcolor": "white",
                          "startlinecolor": "rgb(36,36,36)"
                        },
                        "type": "carpet"
                      }
                    ],
                    "choropleth": [
                      {
                        "colorbar": {
                          "outlinewidth": 1,
                          "tickcolor": "rgb(36,36,36)",
                          "ticks": "outside"
                        },
                        "type": "choropleth"
                      }
                    ],
                    "contour": [
                      {
                        "colorbar": {
                          "outlinewidth": 1,
                          "tickcolor": "rgb(36,36,36)",
                          "ticks": "outside"
                        },
                        "colorscale": [
                          [
                            0,
                            "#440154"
                          ],
                          [
                            0.1111111111111111,
                            "#482878"
                          ],
                          [
                            0.2222222222222222,
                            "#3e4989"
                          ],
                          [
                            0.3333333333333333,
                            "#31688e"
                          ],
                          [
                            0.4444444444444444,
                            "#26828e"
                          ],
                          [
                            0.5555555555555556,
                            "#1f9e89"
                          ],
                          [
                            0.6666666666666666,
                            "#35b779"
                          ],
                          [
                            0.7777777777777778,
                            "#6ece58"
                          ],
                          [
                            0.8888888888888888,
                            "#b5de2b"
                          ],
                          [
                            1,
                            "#fde725"
                          ]
                        ],
                        "type": "contour"
                      }
                    ],
                    "contourcarpet": [
                      {
                        "colorbar": {
                          "outlinewidth": 1,
                          "tickcolor": "rgb(36,36,36)",
                          "ticks": "outside"
                        },
                        "type": "contourcarpet"
                      }
                    ],
                    "heatmap": [
                      {
                        "colorbar": {
                          "outlinewidth": 1,
                          "tickcolor": "rgb(36,36,36)",
                          "ticks": "outside"
                        },
                        "colorscale": [
                          [
                            0,
                            "#440154"
                          ],
                          [
                            0.1111111111111111,
                            "#482878"
                          ],
                          [
                            0.2222222222222222,
                            "#3e4989"
                          ],
                          [
                            0.3333333333333333,
                            "#31688e"
                          ],
                          [
                            0.4444444444444444,
                            "#26828e"
                          ],
                          [
                            0.5555555555555556,
                            "#1f9e89"
                          ],
                          [
                            0.6666666666666666,
                            "#35b779"
                          ],
                          [
                            0.7777777777777778,
                            "#6ece58"
                          ],
                          [
                            0.8888888888888888,
                            "#b5de2b"
                          ],
                          [
                            1,
                            "#fde725"
                          ]
                        ],
                        "type": "heatmap"
                      }
                    ],
                    "heatmapgl": [
                      {
                        "colorbar": {
                          "outlinewidth": 1,
                          "tickcolor": "rgb(36,36,36)",
                          "ticks": "outside"
                        },
                        "colorscale": [
                          [
                            0,
                            "#440154"
                          ],
                          [
                            0.1111111111111111,
                            "#482878"
                          ],
                          [
                            0.2222222222222222,
                            "#3e4989"
                          ],
                          [
                            0.3333333333333333,
                            "#31688e"
                          ],
                          [
                            0.4444444444444444,
                            "#26828e"
                          ],
                          [
                            0.5555555555555556,
                            "#1f9e89"
                          ],
                          [
                            0.6666666666666666,
                            "#35b779"
                          ],
                          [
                            0.7777777777777778,
                            "#6ece58"
                          ],
                          [
                            0.8888888888888888,
                            "#b5de2b"
                          ],
                          [
                            1,
                            "#fde725"
                          ]
                        ],
                        "type": "heatmapgl"
                      }
                    ],
                    "histogram": [
                      {
                        "marker": {
                          "line": {
                            "color": "white",
                            "width": 0.6
                          }
                        },
                        "type": "histogram"
                      }
                    ],
                    "histogram2d": [
                      {
                        "colorbar": {
                          "outlinewidth": 1,
                          "tickcolor": "rgb(36,36,36)",
                          "ticks": "outside"
                        },
                        "colorscale": [
                          [
                            0,
                            "#440154"
                          ],
                          [
                            0.1111111111111111,
                            "#482878"
                          ],
                          [
                            0.2222222222222222,
                            "#3e4989"
                          ],
                          [
                            0.3333333333333333,
                            "#31688e"
                          ],
                          [
                            0.4444444444444444,
                            "#26828e"
                          ],
                          [
                            0.5555555555555556,
                            "#1f9e89"
                          ],
                          [
                            0.6666666666666666,
                            "#35b779"
                          ],
                          [
                            0.7777777777777778,
                            "#6ece58"
                          ],
                          [
                            0.8888888888888888,
                            "#b5de2b"
                          ],
                          [
                            1,
                            "#fde725"
                          ]
                        ],
                        "type": "histogram2d"
                      }
                    ],
                    "histogram2dcontour": [
                      {
                        "colorbar": {
                          "outlinewidth": 1,
                          "tickcolor": "rgb(36,36,36)",
                          "ticks": "outside"
                        },
                        "colorscale": [
                          [
                            0,
                            "#440154"
                          ],
                          [
                            0.1111111111111111,
                            "#482878"
                          ],
                          [
                            0.2222222222222222,
                            "#3e4989"
                          ],
                          [
                            0.3333333333333333,
                            "#31688e"
                          ],
                          [
                            0.4444444444444444,
                            "#26828e"
                          ],
                          [
                            0.5555555555555556,
                            "#1f9e89"
                          ],
                          [
                            0.6666666666666666,
                            "#35b779"
                          ],
                          [
                            0.7777777777777778,
                            "#6ece58"
                          ],
                          [
                            0.8888888888888888,
                            "#b5de2b"
                          ],
                          [
                            1,
                            "#fde725"
                          ]
                        ],
                        "type": "histogram2dcontour"
                      }
                    ],
                    "mesh3d": [
                      {
                        "colorbar": {
                          "outlinewidth": 1,
                          "tickcolor": "rgb(36,36,36)",
                          "ticks": "outside"
                        },
                        "type": "mesh3d"
                      }
                    ],
                    "parcoords": [
                      {
                        "line": {
                          "colorbar": {
                            "outlinewidth": 1,
                            "tickcolor": "rgb(36,36,36)",
                            "ticks": "outside"
                          }
                        },
                        "type": "parcoords"
                      }
                    ],
                    "pie": [
                      {
                        "automargin": true,
                        "type": "pie"
                      }
                    ],
                    "scatter": [
                      {
                        "fillpattern": {
                          "fillmode": "overlay",
                          "size": 10,
                          "solidity": 0.2
                        },
                        "type": "scatter"
                      }
                    ],
                    "scatter3d": [
                      {
                        "line": {
                          "colorbar": {
                            "outlinewidth": 1,
                            "tickcolor": "rgb(36,36,36)",
                            "ticks": "outside"
                          }
                        },
                        "marker": {
                          "colorbar": {
                            "outlinewidth": 1,
                            "tickcolor": "rgb(36,36,36)",
                            "ticks": "outside"
                          }
                        },
                        "type": "scatter3d"
                      }
                    ],
                    "scattercarpet": [
                      {
                        "marker": {
                          "colorbar": {
                            "outlinewidth": 1,
                            "tickcolor": "rgb(36,36,36)",
                            "ticks": "outside"
                          }
                        },
                        "type": "scattercarpet"
                      }
                    ],
                    "scattergeo": [
                      {
                        "marker": {
                          "colorbar": {
                            "outlinewidth": 1,
                            "tickcolor": "rgb(36,36,36)",
                            "ticks": "outside"
                          }
                        },
                        "type": "scattergeo"
                      }
                    ],
                    "scattergl": [
                      {
                        "marker": {
                          "colorbar": {
                            "outlinewidth": 1,
                            "tickcolor": "rgb(36,36,36)",
                            "ticks": "outside"
                          }
                        },
                        "type": "scattergl"
                      }
                    ],
                    "scattermapbox": [
                      {
                        "marker": {
                          "colorbar": {
                            "outlinewidth": 1,
                            "tickcolor": "rgb(36,36,36)",
                            "ticks": "outside"
                          }
                        },
                        "type": "scattermapbox"
                      }
                    ],
                    "scatterpolar": [
                      {
                        "marker": {
                          "colorbar": {
                            "outlinewidth": 1,
                            "tickcolor": "rgb(36,36,36)",
                            "ticks": "outside"
                          }
                        },
                        "type": "scatterpolar"
                      }
                    ],
                    "scatterpolargl": [
                      {
                        "marker": {
                          "colorbar": {
                            "outlinewidth": 1,
                            "tickcolor": "rgb(36,36,36)",
                            "ticks": "outside"
                          }
                        },
                        "type": "scatterpolargl"
                      }
                    ],
                    "scatterternary": [
                      {
                        "marker": {
                          "colorbar": {
                            "outlinewidth": 1,
                            "tickcolor": "rgb(36,36,36)",
                            "ticks": "outside"
                          }
                        },
                        "type": "scatterternary"
                      }
                    ],
                    "surface": [
                      {
                        "colorbar": {
                          "outlinewidth": 1,
                          "tickcolor": "rgb(36,36,36)",
                          "ticks": "outside"
                        },
                        "colorscale": [
                          [
                            0,
                            "#440154"
                          ],
                          [
                            0.1111111111111111,
                            "#482878"
                          ],
                          [
                            0.2222222222222222,
                            "#3e4989"
                          ],
                          [
                            0.3333333333333333,
                            "#31688e"
                          ],
                          [
                            0.4444444444444444,
                            "#26828e"
                          ],
                          [
                            0.5555555555555556,
                            "#1f9e89"
                          ],
                          [
                            0.6666666666666666,
                            "#35b779"
                          ],
                          [
                            0.7777777777777778,
                            "#6ece58"
                          ],
                          [
                            0.8888888888888888,
                            "#b5de2b"
                          ],
                          [
                            1,
                            "#fde725"
                          ]
                        ],
                        "type": "surface"
                      }
                    ],
                    "table": [
                      {
                        "cells": {
                          "fill": {
                            "color": "rgb(237,237,237)"
                          },
                          "line": {
                            "color": "white"
                          }
                        },
                        "header": {
                          "fill": {
                            "color": "rgb(217,217,217)"
                          },
                          "line": {
                            "color": "white"
                          }
                        },
                        "type": "table"
                      }
                    ]
                  },
                  "layout": {
                    "annotationdefaults": {
                      "arrowhead": 0,
                      "arrowwidth": 1
                    },
                    "autotypenumbers": "strict",
                    "coloraxis": {
                      "colorbar": {
                        "outlinewidth": 1,
                        "tickcolor": "rgb(36,36,36)",
                        "ticks": "outside"
                      }
                    },
                    "colorscale": {
                      "diverging": [
                        [
                          0,
                          "rgb(103,0,31)"
                        ],
                        [
                          0.1,
                          "rgb(178,24,43)"
                        ],
                        [
                          0.2,
                          "rgb(214,96,77)"
                        ],
                        [
                          0.3,
                          "rgb(244,165,130)"
                        ],
                        [
                          0.4,
                          "rgb(253,219,199)"
                        ],
                        [
                          0.5,
                          "rgb(247,247,247)"
                        ],
                        [
                          0.6,
                          "rgb(209,229,240)"
                        ],
                        [
                          0.7,
                          "rgb(146,197,222)"
                        ],
                        [
                          0.8,
                          "rgb(67,147,195)"
                        ],
                        [
                          0.9,
                          "rgb(33,102,172)"
                        ],
                        [
                          1,
                          "rgb(5,48,97)"
                        ]
                      ],
                      "sequential": [
                        [
                          0,
                          "#440154"
                        ],
                        [
                          0.1111111111111111,
                          "#482878"
                        ],
                        [
                          0.2222222222222222,
                          "#3e4989"
                        ],
                        [
                          0.3333333333333333,
                          "#31688e"
                        ],
                        [
                          0.4444444444444444,
                          "#26828e"
                        ],
                        [
                          0.5555555555555556,
                          "#1f9e89"
                        ],
                        [
                          0.6666666666666666,
                          "#35b779"
                        ],
                        [
                          0.7777777777777778,
                          "#6ece58"
                        ],
                        [
                          0.8888888888888888,
                          "#b5de2b"
                        ],
                        [
                          1,
                          "#fde725"
                        ]
                      ],
                      "sequentialminus": [
                        [
                          0,
                          "#440154"
                        ],
                        [
                          0.1111111111111111,
                          "#482878"
                        ],
                        [
                          0.2222222222222222,
                          "#3e4989"
                        ],
                        [
                          0.3333333333333333,
                          "#31688e"
                        ],
                        [
                          0.4444444444444444,
                          "#26828e"
                        ],
                        [
                          0.5555555555555556,
                          "#1f9e89"
                        ],
                        [
                          0.6666666666666666,
                          "#35b779"
                        ],
                        [
                          0.7777777777777778,
                          "#6ece58"
                        ],
                        [
                          0.8888888888888888,
                          "#b5de2b"
                        ],
                        [
                          1,
                          "#fde725"
                        ]
                      ]
                    },
                    "colorway": [
                      "#1F77B4",
                      "#FF7F0E",
                      "#2CA02C",
                      "#D62728",
                      "#9467BD",
                      "#8C564B",
                      "#E377C2",
                      "#7F7F7F",
                      "#BCBD22",
                      "#17BECF"
                    ],
                    "font": {
                      "color": "rgb(36,36,36)"
                    },
                    "geo": {
                      "bgcolor": "white",
                      "lakecolor": "white",
                      "landcolor": "white",
                      "showlakes": true,
                      "showland": true,
                      "subunitcolor": "white"
                    },
                    "hoverlabel": {
                      "align": "left"
                    },
                    "hovermode": "closest",
                    "mapbox": {
                      "style": "light"
                    },
                    "paper_bgcolor": "white",
                    "plot_bgcolor": "white",
                    "polar": {
                      "angularaxis": {
                        "gridcolor": "rgb(232,232,232)",
                        "linecolor": "rgb(36,36,36)",
                        "showgrid": false,
                        "showline": true,
                        "ticks": "outside"
                      },
                      "bgcolor": "white",
                      "radialaxis": {
                        "gridcolor": "rgb(232,232,232)",
                        "linecolor": "rgb(36,36,36)",
                        "showgrid": false,
                        "showline": true,
                        "ticks": "outside"
                      }
                    },
                    "scene": {
                      "xaxis": {
                        "backgroundcolor": "white",
                        "gridcolor": "rgb(232,232,232)",
                        "gridwidth": 2,
                        "linecolor": "rgb(36,36,36)",
                        "showbackground": true,
                        "showgrid": false,
                        "showline": true,
                        "ticks": "outside",
                        "zeroline": false,
                        "zerolinecolor": "rgb(36,36,36)"
                      },
                      "yaxis": {
                        "backgroundcolor": "white",
                        "gridcolor": "rgb(232,232,232)",
                        "gridwidth": 2,
                        "linecolor": "rgb(36,36,36)",
                        "showbackground": true,
                        "showgrid": false,
                        "showline": true,
                        "ticks": "outside",
                        "zeroline": false,
                        "zerolinecolor": "rgb(36,36,36)"
                      },
                      "zaxis": {
                        "backgroundcolor": "white",
                        "gridcolor": "rgb(232,232,232)",
                        "gridwidth": 2,
                        "linecolor": "rgb(36,36,36)",
                        "showbackground": true,
                        "showgrid": false,
                        "showline": true,
                        "ticks": "outside",
                        "zeroline": false,
                        "zerolinecolor": "rgb(36,36,36)"
                      }
                    },
                    "shapedefaults": {
                      "fillcolor": "black",
                      "line": {
                        "width": 0
                      },
                      "opacity": 0.3
                    },
                    "ternary": {
                      "aaxis": {
                        "gridcolor": "rgb(232,232,232)",
                        "linecolor": "rgb(36,36,36)",
                        "showgrid": false,
                        "showline": true,
                        "ticks": "outside"
                      },
                      "baxis": {
                        "gridcolor": "rgb(232,232,232)",
                        "linecolor": "rgb(36,36,36)",
                        "showgrid": false,
                        "showline": true,
                        "ticks": "outside"
                      },
                      "bgcolor": "white",
                      "caxis": {
                        "gridcolor": "rgb(232,232,232)",
                        "linecolor": "rgb(36,36,36)",
                        "showgrid": false,
                        "showline": true,
                        "ticks": "outside"
                      }
                    },
                    "title": {
                      "x": 0.05
                    },
                    "xaxis": {
                      "automargin": true,
                      "gridcolor": "rgb(232,232,232)",
                      "linecolor": "rgb(36,36,36)",
                      "showgrid": false,
                      "showline": true,
                      "ticks": "outside",
                      "title": {
                        "standoff": 15
                      },
                      "zeroline": false,
                      "zerolinecolor": "rgb(36,36,36)"
                    },
                    "yaxis": {
                      "automargin": true,
                      "gridcolor": "rgb(232,232,232)",
                      "linecolor": "rgb(36,36,36)",
                      "showgrid": false,
                      "showline": true,
                      "ticks": "outside",
                      "title": {
                        "standoff": 15
                      },
                      "zeroline": false,
                      "zerolinecolor": "rgb(36,36,36)"
                    }
                  }
                },
                "title": {
                  "text": "LR con diferente cantidad de neuronas"
                },
                "width": 1500
              }
            }
          },
          "metadata": {},
          "output_type": "display_data"
        }
      ],
      "source": [
        "x_1 = np.random.uniform(0, 2, size=300)\n",
        "x_1.sort()\n",
        "y_true=0.2*x**5 - x**3 + 0.03*x**7\n",
        "errors = []\n",
        "\n",
        "fig = go.Figure()\n",
        "for size in sizes:\n",
        "    tests = []\n",
        "    for t in range(10):\n",
        "        mlp = MLPRegressor(hidden_layer_sizes=(size),solver=\"lbfgs\",max_iter=500 ,alpha=0)\n",
        "        mlp.fit(x.reshape(-1, 1),y)\n",
        "        tests.append(1-mlp.score(x_1.reshape(-1, 1), y_true))\n",
        "    fig.add_box(\n",
        "        name = str(size),\n",
        "        y = tests,\n",
        "    )\n",
        "fig.update_layout(\n",
        "    template=\"simple_white\",\n",
        "    title=\"LR con diferente cantidad de neuronas\",\n",
        "    width=1500,\n",
        "    height=500,\n",
        "    sliders=[{\"transition\":dict(duration=0.01),'currentvalue':{\"prefix\": r\"\\sigma = \"},}]\n",
        ")\n",
        "fig.show()"
      ]
    },
    {
      "attachments": {},
      "cell_type": "markdown",
      "metadata": {},
      "source": [
        "Podemos notar como al agregar más neuronas la medio va decreciendo así como la varianza de los scores, con ello un mejor resultado en el conjunto de prueba."
      ]
    }
  ],
  "metadata": {
    "colab": {
      "provenance": []
    },
    "kernelspec": {
      "display_name": "Python 3",
      "name": "python3"
    },
    "language_info": {
      "codemirror_mode": {
        "name": "ipython",
        "version": 3
      },
      "file_extension": ".py",
      "mimetype": "text/x-python",
      "name": "python",
      "nbconvert_exporter": "python",
      "pygments_lexer": "ipython3",
      "version": "3.11.3"
    }
  },
  "nbformat": 4,
  "nbformat_minor": 0
}
